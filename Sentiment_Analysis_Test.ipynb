{
  "nbformat": 4,
  "nbformat_minor": 0,
  "metadata": {
    "colab": {
      "name": "Sentiment_Analysis_Test.ipynb",
      "provenance": [],
      "authorship_tag": "ABX9TyOeibLGSpHvKeYH5UbMj79n",
      "include_colab_link": true
    },
    "kernelspec": {
      "name": "python3",
      "display_name": "Python 3"
    }
  },
  "cells": [
    {
      "cell_type": "markdown",
      "metadata": {
        "id": "view-in-github",
        "colab_type": "text"
      },
      "source": [
        "<a href=\"https://colab.research.google.com/github/jarodchristiansen/PythonProjects/blob/master/Sentiment_Analysis_Test.ipynb\" target=\"_parent\"><img src=\"https://colab.research.google.com/assets/colab-badge.svg\" alt=\"Open In Colab\"/></a>"
      ]
    },
    {
      "cell_type": "code",
      "metadata": {
        "id": "4xQM1QsFQg5w",
        "colab_type": "code",
        "colab": {
          "base_uri": "https://localhost:8080/",
          "height": 52
        },
        "outputId": "cf2016ef-2a45-42ed-c539-f688ef8f3ce8"
      },
      "source": [
        "import spacy\n",
        "\n",
        "import spacy.cli\n",
        "spacy.cli.download(\"en_core_web_lg\")\n",
        "nlp = spacy.load('en_core_web_lg')"
      ],
      "execution_count": null,
      "outputs": [
        {
          "output_type": "stream",
          "text": [
            "\u001b[38;5;2m✔ Download and installation successful\u001b[0m\n",
            "You can now load the model via spacy.load('en_core_web_lg')\n"
          ],
          "name": "stdout"
        }
      ]
    },
    {
      "cell_type": "code",
      "metadata": {
        "id": "KcbAMZ0lRDUW",
        "colab_type": "code",
        "colab": {}
      },
      "source": [
        "word1 = nlp.vocab['potato'].vector\n",
        "word2 = nlp.vocab['apple'].vector\n",
        "word3 = nlp.vocab['mango'].vector"
      ],
      "execution_count": null,
      "outputs": []
    },
    {
      "cell_type": "code",
      "metadata": {
        "id": "y6V-jOoSRGjG",
        "colab_type": "code",
        "colab": {}
      },
      "source": [
        "from scipy import spatial\n",
        "\n",
        "cosine_sim = lambda x,y: 1 - spatial.distance.cosine(x,y)"
      ],
      "execution_count": null,
      "outputs": []
    },
    {
      "cell_type": "code",
      "metadata": {
        "id": "5PM4nkrqTRJV",
        "colab_type": "code",
        "colab": {}
      },
      "source": [
        "new_vector = word1 - word2 + word3"
      ],
      "execution_count": null,
      "outputs": []
    },
    {
      "cell_type": "code",
      "metadata": {
        "id": "zZ7sHexhSkMg",
        "colab_type": "code",
        "colab": {
          "base_uri": "https://localhost:8080/",
          "height": 35
        },
        "outputId": "8549739a-46ef-4ff4-f1a9-651ce3618bbd"
      },
      "source": [
        "new_vector.shape"
      ],
      "execution_count": null,
      "outputs": [
        {
          "output_type": "execute_result",
          "data": {
            "text/plain": [
              "(300,)"
            ]
          },
          "metadata": {
            "tags": []
          },
          "execution_count": 23
        }
      ]
    },
    {
      "cell_type": "code",
      "metadata": {
        "id": "nvC4iBslTMBM",
        "colab_type": "code",
        "colab": {}
      },
      "source": [
        "computed_sims = []\n",
        "\n",
        "for word in nlp.vocab:\n",
        "    if word.has_vector:\n",
        "       if word.is_lower:\n",
        "        if word.is_alpha:\n",
        "          sim = cosine_sim(new_vector, word.vector)\n",
        "          computed_sims.append((word,sim))"
      ],
      "execution_count": null,
      "outputs": []
    },
    {
      "cell_type": "code",
      "metadata": {
        "id": "VI4MUaCDT3Vz",
        "colab_type": "code",
        "colab": {}
      },
      "source": [
        "computed_sims = sorted(computed_sims, key=lambda item:-item[1])"
      ],
      "execution_count": null,
      "outputs": []
    },
    {
      "cell_type": "code",
      "metadata": {
        "id": "AVPBIABiUpKO",
        "colab_type": "code",
        "colab": {
          "base_uri": "https://localhost:8080/",
          "height": 191
        },
        "outputId": "9864a4d3-e3f1-4796-879d-6b516b5f1323"
      },
      "source": [
        "[w[0].text for w in computed_sims[:10]]"
      ],
      "execution_count": null,
      "outputs": [
        {
          "output_type": "execute_result",
          "data": {
            "text/plain": [
              "['potato',\n",
              " 'mango',\n",
              " 'avocado',\n",
              " 'potatoes',\n",
              " 'salad',\n",
              " 'rice',\n",
              " 'papaya',\n",
              " 'coconut',\n",
              " 'tomato',\n",
              " 'prawn']"
            ]
          },
          "metadata": {
            "tags": []
          },
          "execution_count": 29
        }
      ]
    },
    {
      "cell_type": "code",
      "metadata": {
        "id": "2nNZiz1bUyBp",
        "colab_type": "code",
        "colab": {}
      },
      "source": [
        "def vector_math(a,b,c):\n",
        "    word1 = nlp.vocab[a].vector\n",
        "    word2 = nlp.vocab[b].vector \n",
        "    word3 = nlp.vocab[c].vector\n",
        "    new_vector = word1 - word2 + word3\n",
        "\n",
        "    computed_sims = []\n",
        "\n",
        "    for word in nlp.vocab:\n",
        "      if word.has_vector:\n",
        "       if word.is_lower:\n",
        "        if word.is_alpha:\n",
        "          sim = cosine_sim(new_vector, word.vector)\n",
        "          computed_sims.append((word,sim))\n",
        "    computed_sims = sorted(computed_sims, key=lambda item:-item[1])\n",
        "    return [w[0].text for w in computed_sims[:20]]"
      ],
      "execution_count": null,
      "outputs": []
    },
    {
      "cell_type": "code",
      "metadata": {
        "id": "_eLJBDJDWehB",
        "colab_type": "code",
        "colab": {
          "base_uri": "https://localhost:8080/",
          "height": 364
        },
        "outputId": "240c678f-f69b-45d3-9285-b1479d58f65d"
      },
      "source": [
        "vector_math('King','man','woman')"
      ],
      "execution_count": null,
      "outputs": [
        {
          "output_type": "execute_result",
          "data": {
            "text/plain": [
              "['king',\n",
              " 'queen',\n",
              " 'prince',\n",
              " 'kings',\n",
              " 'princess',\n",
              " 'royal',\n",
              " 'throne',\n",
              " 'queens',\n",
              " 'monarch',\n",
              " 'kingdom',\n",
              " 'empress',\n",
              " 'lady',\n",
              " 'woman',\n",
              " 'princes',\n",
              " 'mother',\n",
              " 'duke',\n",
              " 'emperor',\n",
              " 'reign',\n",
              " 'goddess',\n",
              " 'lord']"
            ]
          },
          "metadata": {
            "tags": []
          },
          "execution_count": 39
        }
      ]
    },
    {
      "cell_type": "code",
      "metadata": {
        "id": "dIyNVULeZ7Vr",
        "colab_type": "code",
        "colab": {
          "base_uri": "https://localhost:8080/",
          "height": 52
        },
        "outputId": "5c636e52-8de8-4cdf-f938-d2123dc5f431"
      },
      "source": [
        "import nltk\n",
        "nltk.download('vader_lexicon')"
      ],
      "execution_count": null,
      "outputs": [
        {
          "output_type": "stream",
          "text": [
            "[nltk_data] Downloading package vader_lexicon to /root/nltk_data...\n"
          ],
          "name": "stdout"
        },
        {
          "output_type": "execute_result",
          "data": {
            "text/plain": [
              "True"
            ]
          },
          "metadata": {
            "tags": []
          },
          "execution_count": 44
        }
      ]
    },
    {
      "cell_type": "code",
      "metadata": {
        "id": "L5aNkt6EWiKv",
        "colab_type": "code",
        "colab": {
          "base_uri": "https://localhost:8080/",
          "height": 35
        },
        "outputId": "0ffa5b6c-f1f5-4997-a6b4-c042554c15a6"
      },
      "source": [
        "from nltk.sentiment.vader import SentimentIntensityAnalyzer\n",
        "\n",
        "sid = SentimentIntensityAnalyzer()\n",
        "\n",
        "\n",
        "\n",
        "review = 'This movie was absolutely awful. The Worst movie I have ever seen'\n",
        "\n",
        "\n",
        "sid.polarity_scores(review)"
      ],
      "execution_count": null,
      "outputs": [
        {
          "output_type": "execute_result",
          "data": {
            "text/plain": [
              "{'compound': -0.8251, 'neg': 0.46, 'neu': 0.54, 'pos': 0.0}"
            ]
          },
          "metadata": {
            "tags": []
          },
          "execution_count": 45
        }
      ]
    },
    {
      "cell_type": "code",
      "metadata": {
        "id": "ismdDE_cZhZy",
        "colab_type": "code",
        "colab": {}
      },
      "source": [
        "def review_rating(string):\n",
        "   scores = sid.polarity_scores(string)\n",
        "\n",
        "   if scores['compound'] == 0:\n",
        "       return \"Neutral\"\n",
        "   elif scores['compound'] > 0:\n",
        "       return \"Positive\"\n",
        "   else:\n",
        "       return \"Negative\""
      ],
      "execution_count": null,
      "outputs": []
    },
    {
      "cell_type": "code",
      "metadata": {
        "id": "jjRcMcU8aCjA",
        "colab_type": "code",
        "colab": {}
      },
      "source": [
        ""
      ],
      "execution_count": null,
      "outputs": []
    }
  ]
}