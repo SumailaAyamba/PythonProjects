{
  "nbformat": 4,
  "nbformat_minor": 0,
  "metadata": {
    "colab": {
      "name": "LSTM_Music_Generation.ipynb",
      "provenance": [],
      "machine_shape": "hm",
      "authorship_tag": "ABX9TyN9J1OSOY8XTFgRuKd5Vaol",
      "include_colab_link": true
    },
    "kernelspec": {
      "name": "python3",
      "display_name": "Python 3"
    }
  },
  "cells": [
    {
      "cell_type": "markdown",
      "metadata": {
        "id": "view-in-github",
        "colab_type": "text"
      },
      "source": [
        "<a href=\"https://colab.research.google.com/github/jarodchristiansen/PythonProjects/blob/master/LSTM_Music_Generation.ipynb\" target=\"_parent\"><img src=\"https://colab.research.google.com/assets/colab-badge.svg\" alt=\"Open In Colab\"/></a>"
      ]
    },
    {
      "cell_type": "code",
      "metadata": {
        "id": "bIpmT5to4Kgs",
        "colab_type": "code",
        "colab": {
          "base_uri": "https://localhost:8080/",
          "height": 193
        },
        "outputId": "0fb8ef84-f47f-4d4d-e7d3-473231522dbd"
      },
      "source": [
        "!pip install youtube-dl\n",
        "!pip install pydub"
      ],
      "execution_count": null,
      "outputs": [
        {
          "output_type": "stream",
          "text": [
            "Collecting youtube-dl\n",
            "\u001b[?25l  Downloading https://files.pythonhosted.org/packages/3c/5c/68ae68dab722157f19fb6ef8c3151b3b4dcca82415deeb50e3e67a9732a7/youtube_dl-2020.5.8-py2.py3-none-any.whl (1.8MB)\n",
            "\u001b[K     |████████████████████████████████| 1.8MB 2.8MB/s \n",
            "\u001b[?25hInstalling collected packages: youtube-dl\n",
            "Successfully installed youtube-dl-2020.5.8\n",
            "Collecting pydub\n",
            "  Downloading https://files.pythonhosted.org/packages/ba/f9/2cd255898c11179a57415937d601ab1e8a14a7c6a8331ff9c365e97e41f6/pydub-0.24.0-py2.py3-none-any.whl\n",
            "Installing collected packages: pydub\n",
            "Successfully installed pydub-0.24.0\n"
          ],
          "name": "stdout"
        }
      ]
    },
    {
      "cell_type": "code",
      "metadata": {
        "id": "wx1aaoFU4wLn",
        "colab_type": "code",
        "colab": {}
      },
      "source": [
        "import youtube_dl"
      ],
      "execution_count": null,
      "outputs": []
    },
    {
      "cell_type": "code",
      "metadata": {
        "id": "UywK8BNA4ioQ",
        "colab_type": "code",
        "colab": {}
      },
      "source": [
        "url = 'https://www.youtube.com/watch?v=OqYCwK4BZK0&list=PLDE50B0B361F9E75D'"
      ],
      "execution_count": null,
      "outputs": []
    },
    {
      "cell_type": "code",
      "metadata": {
        "id": "b6zLJ7Eq4IaM",
        "colab_type": "code",
        "colab": {
          "base_uri": "https://localhost:8080/",
          "height": 1000
        },
        "outputId": "c1675da2-b1be-491d-c705-03d205e1a272"
      },
      "source": [
        "ydl_opts = {\n",
        "    'format': 'bestaudio/best',\n",
        "    'postprocessors': [{\n",
        "        'key': 'FFmpegExtractAudio',\n",
        "        'preferredcodec': 'wav',\n",
        "        'preferredquality': '192',\n",
        "    }],\n",
        "    'outtmpl': '%(title)s.%(etx)s',\n",
        "    'quiet': False\n",
        "}\n",
        "\n",
        "with youtube_dl.YoutubeDL(ydl_opts) as ydl:\n",
        "    ydl.download([url])"
      ],
      "execution_count": null,
      "outputs": [
        {
          "output_type": "stream",
          "text": [
            "[youtube:playlist] Downloading playlist PLDE50B0B361F9E75D - add --no-playlist to just download video OqYCwK4BZK0\n",
            "[youtube:playlist] PLDE50B0B361F9E75D: Downloading webpage\n",
            "[download] Downloading playlist: Blackmill Playlist\n",
            "[youtube:playlist] playlist Blackmill Playlist: Downloading 36 videos\n",
            "[download] Downloading video 1 of 36\n",
            "[youtube] OqYCwK4BZK0: Downloading webpage\n",
            "[download] Blackmill - Rain (Full Version).NA has already been downloaded\n",
            "[download] 100% of 6.53MiB\n",
            "[ffmpeg] Destination: Blackmill - Rain (Full Version).wav\n",
            "Deleting original file Blackmill - Rain (Full Version).NA (pass -k to keep)\n",
            "[download] Downloading video 2 of 36\n",
            "[youtube] Sf7ubB0Ar14: Downloading webpage\n",
            "[download] Destination: Blackmill - Oh Miah (Full Version).NA\n",
            "[download] 100% of 5.38MiB in 00:00\n",
            "[ffmpeg] Destination: Blackmill - Oh Miah (Full Version).wav\n",
            "Deleting original file Blackmill - Oh Miah (Full Version).NA (pass -k to keep)\n",
            "[download] Downloading video 3 of 36\n",
            "[youtube] ADMkaI6YDEM: Downloading webpage\n",
            "[download] Destination: Blackmill - Flesh and bones (Full Version).NA\n",
            "[download] 100% of 4.39MiB in 00:00\n",
            "[ffmpeg] Destination: Blackmill - Flesh and bones (Full Version).wav\n",
            "Deleting original file Blackmill - Flesh and bones (Full Version).NA (pass -k to keep)\n",
            "[download] Downloading video 4 of 36\n",
            "[youtube] 68jCVUurnwg: Downloading webpage\n",
            "[download] Destination: Blackmill - City Lights (Full Version).NA\n",
            "[download] 100% of 4.69MiB in 00:00\n",
            "[ffmpeg] Destination: Blackmill - City Lights (Full Version).wav\n",
            "Deleting original file Blackmill - City Lights (Full Version).NA (pass -k to keep)\n",
            "[download] Downloading video 5 of 36\n",
            "[youtube] em3-CFkl3gY: Downloading webpage\n",
            "[download] Destination: Blackmill - A Reach For Glory (Full Version).NA\n",
            "[download] 100% of 4.30MiB in 00:00\n",
            "[ffmpeg] Destination: Blackmill - A Reach For Glory (Full Version).wav\n",
            "Deleting original file Blackmill - A Reach For Glory (Full Version).NA (pass -k to keep)\n",
            "[download] Downloading video 6 of 36\n",
            "[youtube] 8lLKmJJ68DM: Downloading webpage\n",
            "[download] Destination: Blackmill - Sacred River (Full Version).NA\n",
            "[download] 100% of 6.04MiB in 00:00\n",
            "[ffmpeg] Destination: Blackmill - Sacred River (Full Version).wav\n",
            "Deleting original file Blackmill - Sacred River (Full Version).NA (pass -k to keep)\n",
            "[download] Downloading video 7 of 36\n",
            "[youtube] E9iNcyqvvgA: Downloading webpage\n",
            "[download] Destination: Coldplay - Trouble (Blackmill Chillstep) Free Download!.NA\n",
            "[download] 100% of 3.75MiB in 00:00\n",
            "[ffmpeg] Destination: Coldplay - Trouble (Blackmill Chillstep) Free Download!.wav\n",
            "Deleting original file Coldplay - Trouble (Blackmill Chillstep) Free Download!.NA (pass -k to keep)\n",
            "[download] Downloading video 8 of 36\n",
            "[youtube] VqKjIT1ECZg: Downloading webpage\n",
            "[download] Destination: Blackmill - In The Night Of Wilderness (Full Version).NA\n",
            "[download] 100% of 5.76MiB in 00:00\n",
            "[ffmpeg] Destination: Blackmill - In The Night Of Wilderness (Full Version).wav\n",
            "Deleting original file Blackmill - In The Night Of Wilderness (Full Version).NA (pass -k to keep)\n",
            "[download] Downloading video 9 of 36\n",
            "[youtube] ScLVtsi0cfc: Downloading webpage\n",
            "[download] Destination: Ellie Goulding - Your Song (Blackmill Dubstep Remix) + High Quality Download Link.NA\n",
            "[download] 100% of 4.49MiB in 00:00\n",
            "[ffmpeg] Destination: Ellie Goulding - Your Song (Blackmill Dubstep Remix) + High Quality Download Link.wav\n",
            "Deleting original file Ellie Goulding - Your Song (Blackmill Dubstep Remix) + High Quality Download Link.NA (pass -k to keep)\n",
            "[download] Downloading video 10 of 36\n",
            "[youtube] Zd5aqtFSkRc: Downloading webpage\n",
            "[download] Destination: Calvin Harris - Flashback (Blackmill Dubstep Remix).NA\n",
            "[download] 100% of 4.62MiB in 00:00\n",
            "[ffmpeg] Destination: Calvin Harris - Flashback (Blackmill Dubstep Remix).wav\n",
            "Deleting original file Calvin Harris - Flashback (Blackmill Dubstep Remix).NA (pass -k to keep)\n",
            "[download] Downloading video 11 of 36\n",
            "[youtube] d7agxY4hJeA: Downloading webpage\n",
            "[download] Destination: Blackmill - As Time Goes By (ND Version) 'The Snowman Footage'.NA\n",
            "[download] 100% of 1.69MiB in 00:00\n",
            "[ffmpeg] Destination: Blackmill - As Time Goes By (ND Version) 'The Snowman Footage'.wav\n",
            "Deleting original file Blackmill - As Time Goes By (ND Version) 'The Snowman Footage'.NA (pass -k to keep)\n",
            "[download] Downloading video 12 of 36\n",
            "[youtube] bIZJuigT27Y: Downloading webpage\n"
          ],
          "name": "stdout"
        },
        {
          "output_type": "stream",
          "text": [
            "ERROR: bIZJuigT27Y: YouTube said: This video is no longer available due to a copyright claim by a third party.\n",
            "Sorry about that.\n"
          ],
          "name": "stderr"
        },
        {
          "output_type": "error",
          "ename": "DownloadError",
          "evalue": "ignored",
          "traceback": [
            "\u001b[0;31m---------------------------------------------------------------------------\u001b[0m",
            "\u001b[0;31mExtractorError\u001b[0m                            Traceback (most recent call last)",
            "\u001b[0;32m/usr/local/lib/python3.6/dist-packages/youtube_dl/YoutubeDL.py\u001b[0m in \u001b[0;36mextract_info\u001b[0;34m(self, url, download, ie_key, extra_info, process, force_generic_extractor)\u001b[0m\n\u001b[1;32m    796\u001b[0m             \u001b[0;32mtry\u001b[0m\u001b[0;34m:\u001b[0m\u001b[0;34m\u001b[0m\u001b[0;34m\u001b[0m\u001b[0m\n\u001b[0;32m--> 797\u001b[0;31m                 \u001b[0mie_result\u001b[0m \u001b[0;34m=\u001b[0m \u001b[0mie\u001b[0m\u001b[0;34m.\u001b[0m\u001b[0mextract\u001b[0m\u001b[0;34m(\u001b[0m\u001b[0murl\u001b[0m\u001b[0;34m)\u001b[0m\u001b[0;34m\u001b[0m\u001b[0;34m\u001b[0m\u001b[0m\n\u001b[0m\u001b[1;32m    798\u001b[0m                 \u001b[0;32mif\u001b[0m \u001b[0mie_result\u001b[0m \u001b[0;32mis\u001b[0m \u001b[0;32mNone\u001b[0m\u001b[0;34m:\u001b[0m  \u001b[0;31m# Finished already (backwards compatibility; listformats and friends should be moved here)\u001b[0m\u001b[0;34m\u001b[0m\u001b[0;34m\u001b[0m\u001b[0m\n",
            "\u001b[0;32m/usr/local/lib/python3.6/dist-packages/youtube_dl/extractor/common.py\u001b[0m in \u001b[0;36mextract\u001b[0;34m(self, url)\u001b[0m\n\u001b[1;32m    529\u001b[0m                     \u001b[0mself\u001b[0m\u001b[0;34m.\u001b[0m\u001b[0minitialize\u001b[0m\u001b[0;34m(\u001b[0m\u001b[0;34m)\u001b[0m\u001b[0;34m\u001b[0m\u001b[0;34m\u001b[0m\u001b[0m\n\u001b[0;32m--> 530\u001b[0;31m                     \u001b[0mie_result\u001b[0m \u001b[0;34m=\u001b[0m \u001b[0mself\u001b[0m\u001b[0;34m.\u001b[0m\u001b[0m_real_extract\u001b[0m\u001b[0;34m(\u001b[0m\u001b[0murl\u001b[0m\u001b[0;34m)\u001b[0m\u001b[0;34m\u001b[0m\u001b[0;34m\u001b[0m\u001b[0m\n\u001b[0m\u001b[1;32m    531\u001b[0m                     \u001b[0;32mif\u001b[0m \u001b[0mself\u001b[0m\u001b[0;34m.\u001b[0m\u001b[0m_x_forwarded_for_ip\u001b[0m\u001b[0;34m:\u001b[0m\u001b[0;34m\u001b[0m\u001b[0;34m\u001b[0m\u001b[0m\n",
            "\u001b[0;32m/usr/local/lib/python3.6/dist-packages/youtube_dl/extractor/youtube.py\u001b[0m in \u001b[0;36m_real_extract\u001b[0;34m(self, url)\u001b[0m\n\u001b[1;32m   1819\u001b[0m             raise ExtractorError(\n\u001b[0;32m-> 1820\u001b[0;31m                 'YouTube said: %s' % unavailable_message, expected=True, video_id=video_id)\n\u001b[0m\u001b[1;32m   1821\u001b[0m \u001b[0;34m\u001b[0m\u001b[0m\n",
            "\u001b[0;31mExtractorError\u001b[0m: bIZJuigT27Y: YouTube said: This video is no longer available due to a copyright claim by a third party.\nSorry about that.",
            "\nDuring handling of the above exception, another exception occurred:\n",
            "\u001b[0;31mDownloadError\u001b[0m                             Traceback (most recent call last)",
            "\u001b[0;32m<ipython-input-7-b67958f1767f>\u001b[0m in \u001b[0;36m<module>\u001b[0;34m()\u001b[0m\n\u001b[1;32m     11\u001b[0m \u001b[0;34m\u001b[0m\u001b[0m\n\u001b[1;32m     12\u001b[0m \u001b[0;32mwith\u001b[0m \u001b[0myoutube_dl\u001b[0m\u001b[0;34m.\u001b[0m\u001b[0mYoutubeDL\u001b[0m\u001b[0;34m(\u001b[0m\u001b[0mydl_opts\u001b[0m\u001b[0;34m)\u001b[0m \u001b[0;32mas\u001b[0m \u001b[0mydl\u001b[0m\u001b[0;34m:\u001b[0m\u001b[0;34m\u001b[0m\u001b[0;34m\u001b[0m\u001b[0m\n\u001b[0;32m---> 13\u001b[0;31m     \u001b[0mydl\u001b[0m\u001b[0;34m.\u001b[0m\u001b[0mdownload\u001b[0m\u001b[0;34m(\u001b[0m\u001b[0;34m[\u001b[0m\u001b[0murl\u001b[0m\u001b[0;34m]\u001b[0m\u001b[0;34m)\u001b[0m\u001b[0;34m\u001b[0m\u001b[0;34m\u001b[0m\u001b[0m\n\u001b[0m",
            "\u001b[0;32m/usr/local/lib/python3.6/dist-packages/youtube_dl/YoutubeDL.py\u001b[0m in \u001b[0;36mdownload\u001b[0;34m(self, url_list)\u001b[0m\n\u001b[1;32m   2017\u001b[0m                 \u001b[0;31m# It also downloads the videos\u001b[0m\u001b[0;34m\u001b[0m\u001b[0;34m\u001b[0m\u001b[0;34m\u001b[0m\u001b[0m\n\u001b[1;32m   2018\u001b[0m                 res = self.extract_info(\n\u001b[0;32m-> 2019\u001b[0;31m                     url, force_generic_extractor=self.params.get('force_generic_extractor', False))\n\u001b[0m\u001b[1;32m   2020\u001b[0m             \u001b[0;32mexcept\u001b[0m \u001b[0mUnavailableVideoError\u001b[0m\u001b[0;34m:\u001b[0m\u001b[0;34m\u001b[0m\u001b[0;34m\u001b[0m\u001b[0m\n\u001b[1;32m   2021\u001b[0m                 \u001b[0mself\u001b[0m\u001b[0;34m.\u001b[0m\u001b[0mreport_error\u001b[0m\u001b[0;34m(\u001b[0m\u001b[0;34m'unable to download video'\u001b[0m\u001b[0;34m)\u001b[0m\u001b[0;34m\u001b[0m\u001b[0;34m\u001b[0m\u001b[0m\n",
            "\u001b[0;32m/usr/local/lib/python3.6/dist-packages/youtube_dl/YoutubeDL.py\u001b[0m in \u001b[0;36mextract_info\u001b[0;34m(self, url, download, ie_key, extra_info, process, force_generic_extractor)\u001b[0m\n\u001b[1;32m    806\u001b[0m                 \u001b[0mself\u001b[0m\u001b[0;34m.\u001b[0m\u001b[0madd_default_extra_info\u001b[0m\u001b[0;34m(\u001b[0m\u001b[0mie_result\u001b[0m\u001b[0;34m,\u001b[0m \u001b[0mie\u001b[0m\u001b[0;34m,\u001b[0m \u001b[0murl\u001b[0m\u001b[0;34m)\u001b[0m\u001b[0;34m\u001b[0m\u001b[0;34m\u001b[0m\u001b[0m\n\u001b[1;32m    807\u001b[0m                 \u001b[0;32mif\u001b[0m \u001b[0mprocess\u001b[0m\u001b[0;34m:\u001b[0m\u001b[0;34m\u001b[0m\u001b[0;34m\u001b[0m\u001b[0m\n\u001b[0;32m--> 808\u001b[0;31m                     \u001b[0;32mreturn\u001b[0m \u001b[0mself\u001b[0m\u001b[0;34m.\u001b[0m\u001b[0mprocess_ie_result\u001b[0m\u001b[0;34m(\u001b[0m\u001b[0mie_result\u001b[0m\u001b[0;34m,\u001b[0m \u001b[0mdownload\u001b[0m\u001b[0;34m,\u001b[0m \u001b[0mextra_info\u001b[0m\u001b[0;34m)\u001b[0m\u001b[0;34m\u001b[0m\u001b[0;34m\u001b[0m\u001b[0m\n\u001b[0m\u001b[1;32m    809\u001b[0m                 \u001b[0;32melse\u001b[0m\u001b[0;34m:\u001b[0m\u001b[0;34m\u001b[0m\u001b[0;34m\u001b[0m\u001b[0m\n\u001b[1;32m    810\u001b[0m                     \u001b[0;32mreturn\u001b[0m \u001b[0mie_result\u001b[0m\u001b[0;34m\u001b[0m\u001b[0;34m\u001b[0m\u001b[0m\n",
            "\u001b[0;32m/usr/local/lib/python3.6/dist-packages/youtube_dl/YoutubeDL.py\u001b[0m in \u001b[0;36mprocess_ie_result\u001b[0;34m(self, ie_result, download, extra_info)\u001b[0m\n\u001b[1;32m   1006\u001b[0m                 entry_result = self.process_ie_result(entry,\n\u001b[1;32m   1007\u001b[0m                                                       \u001b[0mdownload\u001b[0m\u001b[0;34m=\u001b[0m\u001b[0mdownload\u001b[0m\u001b[0;34m,\u001b[0m\u001b[0;34m\u001b[0m\u001b[0;34m\u001b[0m\u001b[0m\n\u001b[0;32m-> 1008\u001b[0;31m                                                       extra_info=extra)\n\u001b[0m\u001b[1;32m   1009\u001b[0m                 \u001b[0mplaylist_results\u001b[0m\u001b[0;34m.\u001b[0m\u001b[0mappend\u001b[0m\u001b[0;34m(\u001b[0m\u001b[0mentry_result\u001b[0m\u001b[0;34m)\u001b[0m\u001b[0;34m\u001b[0m\u001b[0;34m\u001b[0m\u001b[0m\n\u001b[1;32m   1010\u001b[0m             \u001b[0mie_result\u001b[0m\u001b[0;34m[\u001b[0m\u001b[0;34m'entries'\u001b[0m\u001b[0;34m]\u001b[0m \u001b[0;34m=\u001b[0m \u001b[0mplaylist_results\u001b[0m\u001b[0;34m\u001b[0m\u001b[0;34m\u001b[0m\u001b[0m\n",
            "\u001b[0;32m/usr/local/lib/python3.6/dist-packages/youtube_dl/YoutubeDL.py\u001b[0m in \u001b[0;36mprocess_ie_result\u001b[0;34m(self, ie_result, download, extra_info)\u001b[0m\n\u001b[1;32m    868\u001b[0m                                      \u001b[0mdownload\u001b[0m\u001b[0;34m,\u001b[0m\u001b[0;34m\u001b[0m\u001b[0;34m\u001b[0m\u001b[0m\n\u001b[1;32m    869\u001b[0m                                      \u001b[0mie_key\u001b[0m\u001b[0;34m=\u001b[0m\u001b[0mie_result\u001b[0m\u001b[0;34m.\u001b[0m\u001b[0mget\u001b[0m\u001b[0;34m(\u001b[0m\u001b[0;34m'ie_key'\u001b[0m\u001b[0;34m)\u001b[0m\u001b[0;34m,\u001b[0m\u001b[0;34m\u001b[0m\u001b[0;34m\u001b[0m\u001b[0m\n\u001b[0;32m--> 870\u001b[0;31m                                      extra_info=extra_info)\n\u001b[0m\u001b[1;32m    871\u001b[0m         \u001b[0;32melif\u001b[0m \u001b[0mresult_type\u001b[0m \u001b[0;34m==\u001b[0m \u001b[0;34m'url_transparent'\u001b[0m\u001b[0;34m:\u001b[0m\u001b[0;34m\u001b[0m\u001b[0;34m\u001b[0m\u001b[0m\n\u001b[1;32m    872\u001b[0m             \u001b[0;31m# Use the information from the embedding page\u001b[0m\u001b[0;34m\u001b[0m\u001b[0;34m\u001b[0m\u001b[0;34m\u001b[0m\u001b[0m\n",
            "\u001b[0;32m/usr/local/lib/python3.6/dist-packages/youtube_dl/YoutubeDL.py\u001b[0m in \u001b[0;36mextract_info\u001b[0;34m(self, url, download, ie_key, extra_info, process, force_generic_extractor)\u001b[0m\n\u001b[1;32m    818\u001b[0m                 \u001b[0;32mbreak\u001b[0m\u001b[0;34m\u001b[0m\u001b[0;34m\u001b[0m\u001b[0m\n\u001b[1;32m    819\u001b[0m             \u001b[0;32mexcept\u001b[0m \u001b[0mExtractorError\u001b[0m \u001b[0;32mas\u001b[0m \u001b[0me\u001b[0m\u001b[0;34m:\u001b[0m  \u001b[0;31m# An error we somewhat expected\u001b[0m\u001b[0;34m\u001b[0m\u001b[0;34m\u001b[0m\u001b[0m\n\u001b[0;32m--> 820\u001b[0;31m                 \u001b[0mself\u001b[0m\u001b[0;34m.\u001b[0m\u001b[0mreport_error\u001b[0m\u001b[0;34m(\u001b[0m\u001b[0mcompat_str\u001b[0m\u001b[0;34m(\u001b[0m\u001b[0me\u001b[0m\u001b[0;34m)\u001b[0m\u001b[0;34m,\u001b[0m \u001b[0me\u001b[0m\u001b[0;34m.\u001b[0m\u001b[0mformat_traceback\u001b[0m\u001b[0;34m(\u001b[0m\u001b[0;34m)\u001b[0m\u001b[0;34m)\u001b[0m\u001b[0;34m\u001b[0m\u001b[0;34m\u001b[0m\u001b[0m\n\u001b[0m\u001b[1;32m    821\u001b[0m                 \u001b[0;32mbreak\u001b[0m\u001b[0;34m\u001b[0m\u001b[0;34m\u001b[0m\u001b[0m\n\u001b[1;32m    822\u001b[0m             \u001b[0;32mexcept\u001b[0m \u001b[0mMaxDownloadsReached\u001b[0m\u001b[0;34m:\u001b[0m\u001b[0;34m\u001b[0m\u001b[0;34m\u001b[0m\u001b[0m\n",
            "\u001b[0;32m/usr/local/lib/python3.6/dist-packages/youtube_dl/YoutubeDL.py\u001b[0m in \u001b[0;36mreport_error\u001b[0;34m(self, message, tb)\u001b[0m\n\u001b[1;32m    623\u001b[0m             \u001b[0m_msg_header\u001b[0m \u001b[0;34m=\u001b[0m \u001b[0;34m'ERROR:'\u001b[0m\u001b[0;34m\u001b[0m\u001b[0;34m\u001b[0m\u001b[0m\n\u001b[1;32m    624\u001b[0m         \u001b[0merror_message\u001b[0m \u001b[0;34m=\u001b[0m \u001b[0;34m'%s %s'\u001b[0m \u001b[0;34m%\u001b[0m \u001b[0;34m(\u001b[0m\u001b[0m_msg_header\u001b[0m\u001b[0;34m,\u001b[0m \u001b[0mmessage\u001b[0m\u001b[0;34m)\u001b[0m\u001b[0;34m\u001b[0m\u001b[0;34m\u001b[0m\u001b[0m\n\u001b[0;32m--> 625\u001b[0;31m         \u001b[0mself\u001b[0m\u001b[0;34m.\u001b[0m\u001b[0mtrouble\u001b[0m\u001b[0;34m(\u001b[0m\u001b[0merror_message\u001b[0m\u001b[0;34m,\u001b[0m \u001b[0mtb\u001b[0m\u001b[0;34m)\u001b[0m\u001b[0;34m\u001b[0m\u001b[0;34m\u001b[0m\u001b[0m\n\u001b[0m\u001b[1;32m    626\u001b[0m \u001b[0;34m\u001b[0m\u001b[0m\n\u001b[1;32m    627\u001b[0m     \u001b[0;32mdef\u001b[0m \u001b[0mreport_file_already_downloaded\u001b[0m\u001b[0;34m(\u001b[0m\u001b[0mself\u001b[0m\u001b[0;34m,\u001b[0m \u001b[0mfile_name\u001b[0m\u001b[0;34m)\u001b[0m\u001b[0;34m:\u001b[0m\u001b[0;34m\u001b[0m\u001b[0;34m\u001b[0m\u001b[0m\n",
            "\u001b[0;32m/usr/local/lib/python3.6/dist-packages/youtube_dl/YoutubeDL.py\u001b[0m in \u001b[0;36mtrouble\u001b[0;34m(self, message, tb)\u001b[0m\n\u001b[1;32m    593\u001b[0m             \u001b[0;32melse\u001b[0m\u001b[0;34m:\u001b[0m\u001b[0;34m\u001b[0m\u001b[0;34m\u001b[0m\u001b[0m\n\u001b[1;32m    594\u001b[0m                 \u001b[0mexc_info\u001b[0m \u001b[0;34m=\u001b[0m \u001b[0msys\u001b[0m\u001b[0;34m.\u001b[0m\u001b[0mexc_info\u001b[0m\u001b[0;34m(\u001b[0m\u001b[0;34m)\u001b[0m\u001b[0;34m\u001b[0m\u001b[0;34m\u001b[0m\u001b[0m\n\u001b[0;32m--> 595\u001b[0;31m             \u001b[0;32mraise\u001b[0m \u001b[0mDownloadError\u001b[0m\u001b[0;34m(\u001b[0m\u001b[0mmessage\u001b[0m\u001b[0;34m,\u001b[0m \u001b[0mexc_info\u001b[0m\u001b[0;34m)\u001b[0m\u001b[0;34m\u001b[0m\u001b[0;34m\u001b[0m\u001b[0m\n\u001b[0m\u001b[1;32m    596\u001b[0m         \u001b[0mself\u001b[0m\u001b[0;34m.\u001b[0m\u001b[0m_download_retcode\u001b[0m \u001b[0;34m=\u001b[0m \u001b[0;36m1\u001b[0m\u001b[0;34m\u001b[0m\u001b[0;34m\u001b[0m\u001b[0m\n\u001b[1;32m    597\u001b[0m \u001b[0;34m\u001b[0m\u001b[0m\n",
            "\u001b[0;31mDownloadError\u001b[0m: ERROR: bIZJuigT27Y: YouTube said: This video is no longer available due to a copyright claim by a third party.\nSorry about that."
          ]
        }
      ]
    },
    {
      "cell_type": "code",
      "metadata": {
        "id": "6AH9uecDyqQC",
        "colab_type": "code",
        "colab": {
          "base_uri": "https://localhost:8080/",
          "height": 35
        },
        "outputId": "c4d6770d-acc4-48f6-bf50-c8cc327c0828"
      },
      "source": [
        "import numpy as np\n",
        "import pandas as pd\n",
        "import pydub\n",
        "from keras.layers import Dense, LSTM, LeakyReLU\n",
        "from keras.models import Sequential, load_model\n",
        "from scipy.io.wavfile import read, write\n",
        "from sklearn.model_selection import train_test_split"
      ],
      "execution_count": null,
      "outputs": [
        {
          "output_type": "stream",
          "text": [
            "Using TensorFlow backend.\n"
          ],
          "name": "stderr"
        }
      ]
    },
    {
      "cell_type": "code",
      "metadata": {
        "id": "u7Ly1l4p0F_q",
        "colab_type": "code",
        "colab": {}
      },
      "source": [
        "import glob\n",
        "songs = glob.glob('/content/' + '/*.wav')"
      ],
      "execution_count": null,
      "outputs": []
    },
    {
      "cell_type": "code",
      "metadata": {
        "id": "_IVHJpR3hVm8",
        "colab_type": "code",
        "colab": {
          "base_uri": "https://localhost:8080/",
          "height": 208
        },
        "outputId": "ede3092a-87ff-42cf-c717-4b367060c838"
      },
      "source": [
        "songs"
      ],
      "execution_count": null,
      "outputs": [
        {
          "output_type": "execute_result",
          "data": {
            "text/plain": [
              "['/content/Blackmill - City Lights (Full Version).wav',\n",
              " \"/content/Blackmill - As Time Goes By (ND Version) 'The Snowman Footage'.wav\",\n",
              " '/content/Blackmill - A Reach For Glory (Full Version).wav',\n",
              " '/content/Blackmill - Sacred River (Full Version).wav',\n",
              " '/content/Coldplay - Trouble (Blackmill Chillstep) Free Download!.wav',\n",
              " '/content/Blackmill - Flesh and bones (Full Version).wav',\n",
              " '/content/Ellie Goulding - Your Song (Blackmill Dubstep Remix) + High Quality Download Link.wav',\n",
              " '/content/Blackmill - Rain (Full Version).wav',\n",
              " '/content/Calvin Harris - Flashback (Blackmill Dubstep Remix).wav',\n",
              " '/content/Blackmill - Oh Miah (Full Version).wav',\n",
              " '/content/Blackmill - In The Night Of Wilderness (Full Version).wav']"
            ]
          },
          "metadata": {
            "tags": []
          },
          "execution_count": 9
        }
      ]
    },
    {
      "cell_type": "markdown",
      "metadata": {
        "id": "Q76bGb8U2USk",
        "colab_type": "text"
      },
      "source": [
        "Converts mp3 to wav files if needed otherwise the blow code will read the wav files naturally"
      ]
    },
    {
      "cell_type": "code",
      "metadata": {
        "id": "9F8AwiYN_Jjr",
        "colab_type": "code",
        "colab": {}
      },
      "source": [
        "rate, music1 = read('{}'.format(songs[0]))\n",
        "rate, music2 = read('{}'.format(songs[1]))\n",
        "rate, music3 = read('{}'.format(songs[2]))\n",
        "rate, music4 = read('{}'.format(songs[3]))\n",
        "rate, music5 = read('{}'.format(songs[4]))\n",
        "rate, music6 = read('{}'.format(songs[5]))\n",
        "rate, music7 = read('{}'.format(songs[6]))\n",
        "rate, music8 = read('{}'.format(songs[7]))\n",
        "rate, music9 = read('{}'.format(songs[8]))\n",
        "rate, music10 = read('{}'.format(songs[9]))\n",
        "rate, music11 = read('{}'.format(songs[10]))"
      ],
      "execution_count": null,
      "outputs": []
    },
    {
      "cell_type": "code",
      "metadata": {
        "id": "x8oBNap42xaj",
        "colab_type": "code",
        "colab": {}
      },
      "source": [
        "music1 = pd.DataFrame(music1[0:15000000, :])\n",
        "music2 = pd.DataFrame(music2[0:15000000, :])\n",
        "music3 = pd.DataFrame(music3[0:15000000, :])\n",
        "music4 = pd.DataFrame(music4[0:15000000, :])\n",
        "music5 = pd.DataFrame(music5[0:15000000, :])\n",
        "music6 = pd.DataFrame(music6[0:15000000, :])\n",
        "music7 = pd.DataFrame(music7[0:15000000, :])\n",
        "music8 = pd.DataFrame(music8[0:15000000, :])\n",
        "music9 = pd.DataFrame(music9[0:15000000, :])\n",
        "music10 = pd.DataFrame(music10[0:15000000, :])\n",
        "music11 = pd.DataFrame(music11[0:15000000, :])"
      ],
      "execution_count": null,
      "outputs": []
    },
    {
      "cell_type": "code",
      "metadata": {
        "id": "Jm0Y-4vP-XN6",
        "colab_type": "code",
        "colab": {}
      },
      "source": [
        "result = pd.concat([music1, music2,music3,music4,music5,music6,music7,music8,music9,music10,music11,], axis=1, join='inner')"
      ],
      "execution_count": null,
      "outputs": []
    },
    {
      "cell_type": "code",
      "metadata": {
        "id": "xi3XFZQrk6Tc",
        "colab_type": "code",
        "colab": {}
      },
      "source": [
        "import matplotlib.pyplot as plt\n",
        "import seaborn as sns\n",
        "sns.set()"
      ],
      "execution_count": null,
      "outputs": []
    },
    {
      "cell_type": "code",
      "metadata": {
        "id": "HO4GeFjF6MJa",
        "colab_type": "code",
        "colab": {
          "base_uri": "https://localhost:8080/",
          "height": 202
        },
        "outputId": "7b35f750-5920-434d-c7d2-e01cd6e292e9"
      },
      "source": [
        ""
      ],
      "execution_count": null,
      "outputs": [
        {
          "output_type": "execute_result",
          "data": {
            "text/html": [
              "<div>\n",
              "<style scoped>\n",
              "    .dataframe tbody tr th:only-of-type {\n",
              "        vertical-align: middle;\n",
              "    }\n",
              "\n",
              "    .dataframe tbody tr th {\n",
              "        vertical-align: top;\n",
              "    }\n",
              "\n",
              "    .dataframe thead th {\n",
              "        text-align: right;\n",
              "    }\n",
              "</style>\n",
              "<table border=\"1\" class=\"dataframe\">\n",
              "  <thead>\n",
              "    <tr style=\"text-align: right;\">\n",
              "      <th></th>\n",
              "      <th>0</th>\n",
              "      <th>1</th>\n",
              "      <th>0</th>\n",
              "      <th>1</th>\n",
              "      <th>0</th>\n",
              "      <th>1</th>\n",
              "      <th>0</th>\n",
              "      <th>1</th>\n",
              "      <th>0</th>\n",
              "      <th>1</th>\n",
              "      <th>0</th>\n",
              "      <th>1</th>\n",
              "      <th>0</th>\n",
              "      <th>1</th>\n",
              "      <th>0</th>\n",
              "      <th>1</th>\n",
              "      <th>0</th>\n",
              "      <th>1</th>\n",
              "      <th>0</th>\n",
              "      <th>1</th>\n",
              "      <th>0</th>\n",
              "      <th>1</th>\n",
              "    </tr>\n",
              "  </thead>\n",
              "  <tbody>\n",
              "    <tr>\n",
              "      <th>0</th>\n",
              "      <td>0</td>\n",
              "      <td>0</td>\n",
              "      <td>0</td>\n",
              "      <td>0</td>\n",
              "      <td>0</td>\n",
              "      <td>0</td>\n",
              "      <td>0</td>\n",
              "      <td>0</td>\n",
              "      <td>0</td>\n",
              "      <td>0</td>\n",
              "      <td>0</td>\n",
              "      <td>0</td>\n",
              "      <td>0</td>\n",
              "      <td>0</td>\n",
              "      <td>0</td>\n",
              "      <td>0</td>\n",
              "      <td>0</td>\n",
              "      <td>0</td>\n",
              "      <td>0</td>\n",
              "      <td>0</td>\n",
              "      <td>0</td>\n",
              "      <td>0</td>\n",
              "    </tr>\n",
              "    <tr>\n",
              "      <th>1</th>\n",
              "      <td>0</td>\n",
              "      <td>0</td>\n",
              "      <td>0</td>\n",
              "      <td>0</td>\n",
              "      <td>0</td>\n",
              "      <td>0</td>\n",
              "      <td>0</td>\n",
              "      <td>0</td>\n",
              "      <td>0</td>\n",
              "      <td>0</td>\n",
              "      <td>0</td>\n",
              "      <td>0</td>\n",
              "      <td>0</td>\n",
              "      <td>0</td>\n",
              "      <td>0</td>\n",
              "      <td>0</td>\n",
              "      <td>0</td>\n",
              "      <td>0</td>\n",
              "      <td>0</td>\n",
              "      <td>0</td>\n",
              "      <td>0</td>\n",
              "      <td>0</td>\n",
              "    </tr>\n",
              "    <tr>\n",
              "      <th>2</th>\n",
              "      <td>0</td>\n",
              "      <td>0</td>\n",
              "      <td>0</td>\n",
              "      <td>0</td>\n",
              "      <td>0</td>\n",
              "      <td>0</td>\n",
              "      <td>0</td>\n",
              "      <td>0</td>\n",
              "      <td>0</td>\n",
              "      <td>0</td>\n",
              "      <td>0</td>\n",
              "      <td>0</td>\n",
              "      <td>0</td>\n",
              "      <td>0</td>\n",
              "      <td>0</td>\n",
              "      <td>0</td>\n",
              "      <td>0</td>\n",
              "      <td>0</td>\n",
              "      <td>0</td>\n",
              "      <td>0</td>\n",
              "      <td>0</td>\n",
              "      <td>0</td>\n",
              "    </tr>\n",
              "    <tr>\n",
              "      <th>3</th>\n",
              "      <td>0</td>\n",
              "      <td>0</td>\n",
              "      <td>0</td>\n",
              "      <td>0</td>\n",
              "      <td>0</td>\n",
              "      <td>0</td>\n",
              "      <td>0</td>\n",
              "      <td>0</td>\n",
              "      <td>0</td>\n",
              "      <td>0</td>\n",
              "      <td>0</td>\n",
              "      <td>0</td>\n",
              "      <td>0</td>\n",
              "      <td>0</td>\n",
              "      <td>0</td>\n",
              "      <td>0</td>\n",
              "      <td>0</td>\n",
              "      <td>0</td>\n",
              "      <td>0</td>\n",
              "      <td>0</td>\n",
              "      <td>0</td>\n",
              "      <td>0</td>\n",
              "    </tr>\n",
              "    <tr>\n",
              "      <th>4</th>\n",
              "      <td>0</td>\n",
              "      <td>0</td>\n",
              "      <td>0</td>\n",
              "      <td>0</td>\n",
              "      <td>0</td>\n",
              "      <td>0</td>\n",
              "      <td>0</td>\n",
              "      <td>0</td>\n",
              "      <td>0</td>\n",
              "      <td>0</td>\n",
              "      <td>0</td>\n",
              "      <td>0</td>\n",
              "      <td>0</td>\n",
              "      <td>0</td>\n",
              "      <td>0</td>\n",
              "      <td>0</td>\n",
              "      <td>0</td>\n",
              "      <td>0</td>\n",
              "      <td>0</td>\n",
              "      <td>0</td>\n",
              "      <td>0</td>\n",
              "      <td>0</td>\n",
              "    </tr>\n",
              "  </tbody>\n",
              "</table>\n",
              "</div>"
            ],
            "text/plain": [
              "   0  1  0  1  0  1  0  1  0  1  0  1  0  1  0  1  0  1  0  1  0  1\n",
              "0  0  0  0  0  0  0  0  0  0  0  0  0  0  0  0  0  0  0  0  0  0  0\n",
              "1  0  0  0  0  0  0  0  0  0  0  0  0  0  0  0  0  0  0  0  0  0  0\n",
              "2  0  0  0  0  0  0  0  0  0  0  0  0  0  0  0  0  0  0  0  0  0  0\n",
              "3  0  0  0  0  0  0  0  0  0  0  0  0  0  0  0  0  0  0  0  0  0  0\n",
              "4  0  0  0  0  0  0  0  0  0  0  0  0  0  0  0  0  0  0  0  0  0  0"
            ]
          },
          "metadata": {
            "tags": []
          },
          "execution_count": 44
        }
      ]
    },
    {
      "cell_type": "code",
      "metadata": {
        "id": "5_SnsKWC6Niq",
        "colab_type": "code",
        "colab": {}
      },
      "source": [
        "# function to create training data by shifting the music data \n",
        "def create_train_dataset(df, look_back, train=True):\n",
        "    dataX1, dataX2, dataY1, dataY2 = [],[],[],[]\n",
        "    for i in range(len(df)-look_back-1):\n",
        "        dataX1.append(df.iloc[i : i + look_back, 0].values)\n",
        "        dataX2.append(df.iloc[i : i + look_back, 1].values)\n",
        "        if train:\n",
        "            dataY1.append(df.iloc[i + look_back, 0])\n",
        "            dataY2.append(df.iloc[i + look_back, 1])\n",
        "  \n",
        "            \n",
        "    if train:\n",
        "        return np.array(dataX1), np.array(dataX2),  np.array(dataY1), np.array(dataY2)\n",
        "    else:\n",
        "        return np.array(dataX1), np.array(dataX2)"
      ],
      "execution_count": null,
      "outputs": []
    },
    {
      "cell_type": "code",
      "metadata": {
        "id": "Zz8EtEQl6nBl",
        "colab_type": "code",
        "colab": {
          "base_uri": "https://localhost:8080/",
          "height": 331
        },
        "outputId": "13f38351-20b3-490e-b959-21e0b92d1c9e"
      },
      "source": [
        "X1, X2 = create_train_dataset(pd.concat([result[0:50000].loc[0:20000000, :],result[50000:-1].loc[0:2000000, :]], axis=0), look_back=3, train=True)"
      ],
      "execution_count": null,
      "outputs": [
        {
          "output_type": "error",
          "ename": "KeyboardInterrupt",
          "evalue": "ignored",
          "traceback": [
            "\u001b[0;31m---------------------------------------------------------------------------\u001b[0m",
            "\u001b[0;31mKeyboardInterrupt\u001b[0m                         Traceback (most recent call last)",
            "\u001b[0;32m<ipython-input-83-7043f5448b03>\u001b[0m in \u001b[0;36m<module>\u001b[0;34m()\u001b[0m\n\u001b[0;32m----> 1\u001b[0;31m \u001b[0mX1\u001b[0m\u001b[0;34m,\u001b[0m \u001b[0mX2\u001b[0m \u001b[0;34m=\u001b[0m \u001b[0mcreate_train_dataset\u001b[0m\u001b[0;34m(\u001b[0m\u001b[0mpd\u001b[0m\u001b[0;34m.\u001b[0m\u001b[0mconcat\u001b[0m\u001b[0;34m(\u001b[0m\u001b[0;34m[\u001b[0m\u001b[0mresult\u001b[0m\u001b[0;34m[\u001b[0m\u001b[0;36m0\u001b[0m\u001b[0;34m:\u001b[0m\u001b[0;36m50000\u001b[0m\u001b[0;34m]\u001b[0m\u001b[0;34m.\u001b[0m\u001b[0mloc\u001b[0m\u001b[0;34m[\u001b[0m\u001b[0;36m0\u001b[0m\u001b[0;34m:\u001b[0m\u001b[0;36m20000000\u001b[0m\u001b[0;34m,\u001b[0m \u001b[0;34m:\u001b[0m\u001b[0;34m]\u001b[0m\u001b[0;34m,\u001b[0m\u001b[0mresult\u001b[0m\u001b[0;34m[\u001b[0m\u001b[0;36m50000\u001b[0m\u001b[0;34m:\u001b[0m\u001b[0;34m-\u001b[0m\u001b[0;36m1\u001b[0m\u001b[0;34m]\u001b[0m\u001b[0;34m.\u001b[0m\u001b[0mloc\u001b[0m\u001b[0;34m[\u001b[0m\u001b[0;36m0\u001b[0m\u001b[0;34m:\u001b[0m\u001b[0;36m2000000\u001b[0m\u001b[0;34m,\u001b[0m \u001b[0;34m:\u001b[0m\u001b[0;34m]\u001b[0m\u001b[0;34m]\u001b[0m\u001b[0;34m,\u001b[0m \u001b[0maxis\u001b[0m\u001b[0;34m=\u001b[0m\u001b[0;36m0\u001b[0m\u001b[0;34m)\u001b[0m\u001b[0;34m,\u001b[0m \u001b[0mlook_back\u001b[0m\u001b[0;34m=\u001b[0m\u001b[0;36m3\u001b[0m\u001b[0;34m,\u001b[0m \u001b[0mtrain\u001b[0m\u001b[0;34m=\u001b[0m\u001b[0;32mTrue\u001b[0m\u001b[0;34m)\u001b[0m\u001b[0;34m\u001b[0m\u001b[0;34m\u001b[0m\u001b[0m\n\u001b[0m",
            "\u001b[0;32m<ipython-input-23-b69b1db1e67b>\u001b[0m in \u001b[0;36mcreate_train_dataset\u001b[0;34m(df, look_back, train)\u001b[0m\n\u001b[1;32m      6\u001b[0m         \u001b[0mdataX2\u001b[0m\u001b[0;34m.\u001b[0m\u001b[0mappend\u001b[0m\u001b[0;34m(\u001b[0m\u001b[0mdf\u001b[0m\u001b[0;34m.\u001b[0m\u001b[0miloc\u001b[0m\u001b[0;34m[\u001b[0m\u001b[0mi\u001b[0m \u001b[0;34m:\u001b[0m \u001b[0mi\u001b[0m \u001b[0;34m+\u001b[0m \u001b[0mlook_back\u001b[0m\u001b[0;34m,\u001b[0m \u001b[0;36m1\u001b[0m\u001b[0;34m]\u001b[0m\u001b[0;34m.\u001b[0m\u001b[0mvalues\u001b[0m\u001b[0;34m)\u001b[0m\u001b[0;34m\u001b[0m\u001b[0;34m\u001b[0m\u001b[0m\n\u001b[1;32m      7\u001b[0m         \u001b[0;32mif\u001b[0m \u001b[0mtrain\u001b[0m\u001b[0;34m:\u001b[0m\u001b[0;34m\u001b[0m\u001b[0;34m\u001b[0m\u001b[0m\n\u001b[0;32m----> 8\u001b[0;31m             \u001b[0mdataY1\u001b[0m\u001b[0;34m.\u001b[0m\u001b[0mappend\u001b[0m\u001b[0;34m(\u001b[0m\u001b[0mdf\u001b[0m\u001b[0;34m.\u001b[0m\u001b[0miloc\u001b[0m\u001b[0;34m[\u001b[0m\u001b[0mi\u001b[0m \u001b[0;34m+\u001b[0m \u001b[0mlook_back\u001b[0m\u001b[0;34m,\u001b[0m \u001b[0;36m0\u001b[0m\u001b[0;34m]\u001b[0m\u001b[0;34m)\u001b[0m\u001b[0;34m\u001b[0m\u001b[0;34m\u001b[0m\u001b[0m\n\u001b[0m\u001b[1;32m      9\u001b[0m             \u001b[0mdataY2\u001b[0m\u001b[0;34m.\u001b[0m\u001b[0mappend\u001b[0m\u001b[0;34m(\u001b[0m\u001b[0mdf\u001b[0m\u001b[0;34m.\u001b[0m\u001b[0miloc\u001b[0m\u001b[0;34m[\u001b[0m\u001b[0mi\u001b[0m \u001b[0;34m+\u001b[0m \u001b[0mlook_back\u001b[0m\u001b[0;34m,\u001b[0m \u001b[0;36m1\u001b[0m\u001b[0;34m]\u001b[0m\u001b[0;34m)\u001b[0m\u001b[0;34m\u001b[0m\u001b[0;34m\u001b[0m\u001b[0m\n\u001b[1;32m     10\u001b[0m \u001b[0;34m\u001b[0m\u001b[0m\n",
            "\u001b[0;32m/usr/local/lib/python3.6/dist-packages/pandas/core/indexing.py\u001b[0m in \u001b[0;36m__getitem__\u001b[0;34m(self, key)\u001b[0m\n\u001b[1;32m   1754\u001b[0m     \u001b[0;32mdef\u001b[0m \u001b[0m__getitem__\u001b[0m\u001b[0;34m(\u001b[0m\u001b[0mself\u001b[0m\u001b[0;34m,\u001b[0m \u001b[0mkey\u001b[0m\u001b[0;34m)\u001b[0m\u001b[0;34m:\u001b[0m\u001b[0;34m\u001b[0m\u001b[0;34m\u001b[0m\u001b[0m\n\u001b[1;32m   1755\u001b[0m         \u001b[0;32mif\u001b[0m \u001b[0mtype\u001b[0m\u001b[0;34m(\u001b[0m\u001b[0mkey\u001b[0m\u001b[0;34m)\u001b[0m \u001b[0;32mis\u001b[0m \u001b[0mtuple\u001b[0m\u001b[0;34m:\u001b[0m\u001b[0;34m\u001b[0m\u001b[0;34m\u001b[0m\u001b[0m\n\u001b[0;32m-> 1756\u001b[0;31m             \u001b[0mkey\u001b[0m \u001b[0;34m=\u001b[0m \u001b[0mtuple\u001b[0m\u001b[0;34m(\u001b[0m\u001b[0mcom\u001b[0m\u001b[0;34m.\u001b[0m\u001b[0mapply_if_callable\u001b[0m\u001b[0;34m(\u001b[0m\u001b[0mx\u001b[0m\u001b[0;34m,\u001b[0m \u001b[0mself\u001b[0m\u001b[0;34m.\u001b[0m\u001b[0mobj\u001b[0m\u001b[0;34m)\u001b[0m \u001b[0;32mfor\u001b[0m \u001b[0mx\u001b[0m \u001b[0;32min\u001b[0m \u001b[0mkey\u001b[0m\u001b[0;34m)\u001b[0m\u001b[0;34m\u001b[0m\u001b[0;34m\u001b[0m\u001b[0m\n\u001b[0m\u001b[1;32m   1757\u001b[0m             \u001b[0;32mif\u001b[0m \u001b[0mself\u001b[0m\u001b[0;34m.\u001b[0m\u001b[0m_is_scalar_access\u001b[0m\u001b[0;34m(\u001b[0m\u001b[0mkey\u001b[0m\u001b[0;34m)\u001b[0m\u001b[0;34m:\u001b[0m\u001b[0;34m\u001b[0m\u001b[0;34m\u001b[0m\u001b[0m\n\u001b[1;32m   1758\u001b[0m                 \u001b[0;32mtry\u001b[0m\u001b[0;34m:\u001b[0m\u001b[0;34m\u001b[0m\u001b[0;34m\u001b[0m\u001b[0m\n",
            "\u001b[0;31mKeyboardInterrupt\u001b[0m: "
          ]
        }
      ]
    },
    {
      "cell_type": "code",
      "metadata": {
        "id": "IuLmeveX6xGA",
        "colab_type": "code",
        "colab": {}
      },
      "source": [
        "#test1, test2 = create_train_dataset(pd.concat([music1.iloc[1600001 : 4000000, :],music2.iloc[1600001 : 4000000, :]], axis=0), look_back=3, train=False)\n",
        "test1, test2 = create_train_dataset(pd.concat([result[0:10].loc[1600001:5000000, :],result[1:2].loc[1600001:5000000, :]], axis=0), look_back=3, train=False)"
      ],
      "execution_count": null,
      "outputs": []
    },
    {
      "cell_type": "code",
      "metadata": {
        "id": "ZSITsAo0mfxS",
        "colab_type": "code",
        "colab": {
          "base_uri": "https://localhost:8080/",
          "height": 312
        },
        "outputId": "4575506a-5f73-45aa-e2e3-6fbf66a719e9"
      },
      "source": [
        "X1"
      ],
      "execution_count": null,
      "outputs": [
        {
          "output_type": "execute_result",
          "data": {
            "text/plain": [
              "array([[0, 0, 0],\n",
              "       [0, 0, 0],\n",
              "       [0, 0, 0],\n",
              "       [0, 0, 0],\n",
              "       [0, 0, 0],\n",
              "       [0, 0, 0],\n",
              "       [0, 0, 0],\n",
              "       [0, 0, 0],\n",
              "       [0, 0, 0],\n",
              "       [0, 0, 0],\n",
              "       [0, 0, 0],\n",
              "       [0, 0, 0],\n",
              "       [0, 0, 0],\n",
              "       [0, 0, 0],\n",
              "       [0, 0, 0],\n",
              "       [0, 0, 0],\n",
              "       [0, 0, 0]], dtype=int16)"
            ]
          },
          "metadata": {
            "tags": []
          },
          "execution_count": 82
        }
      ]
    },
    {
      "cell_type": "code",
      "metadata": {
        "id": "Boe2beztS5UU",
        "colab_type": "code",
        "colab": {
          "base_uri": "https://localhost:8080/",
          "height": 166
        },
        "outputId": "64fc9e6b-f81d-4adf-cba8-f94b0c4d1198"
      },
      "source": [
        ""
      ],
      "execution_count": null,
      "outputs": [
        {
          "output_type": "error",
          "ename": "NameError",
          "evalue": "ignored",
          "traceback": [
            "\u001b[0;31m---------------------------------------------------------------------------\u001b[0m",
            "\u001b[0;31mNameError\u001b[0m                                 Traceback (most recent call last)",
            "\u001b[0;32m<ipython-input-32-e908cbc4e286>\u001b[0m in \u001b[0;36m<module>\u001b[0;34m()\u001b[0m\n\u001b[0;32m----> 1\u001b[0;31m \u001b[0mdatax1\u001b[0m\u001b[0;34m\u001b[0m\u001b[0;34m\u001b[0m\u001b[0m\n\u001b[0m",
            "\u001b[0;31mNameError\u001b[0m: name 'datax1' is not defined"
          ]
        }
      ]
    },
    {
      "cell_type": "code",
      "metadata": {
        "id": "1bQQnqpf7zsc",
        "colab_type": "code",
        "colab": {}
      },
      "source": [
        "X1 = X1.reshape((-1, 1, 3))\n",
        "X2 = X2.reshape((-1, 1, 3))\n",
        "X3 = X3.reshape((-1, 1, 3))\n",
        "X4 = X4.reshape((-1, 1, 3))\n",
        "X5 = X5.reshape((-1, 1, 3))\n",
        "X6 = X6.reshape((-1, 1, 3))\n",
        "X7 = X7.reshape((-1, 1, 3))\n",
        "X8 = X8.reshape((-1, 1, 3))\n",
        "X9 = X9.reshape((-1, 1, 3))\n",
        "X10 = X10.reshape((-1, 1, 3))\n",
        "X11 = X11.reshape((-1, 1, 3))\n",
        "test1 = test1.reshape((-1, 1, 3))\n",
        "test2 = test2.reshape((-1, 1, 3))\n",
        "test3 = test3.reshape((-1, 1, 3))\n",
        "test4 = test4.reshape((-1, 1, 3))\n",
        "test5 = test5.reshape((-1, 1, 3))\n",
        "test6 = test6.reshape((-1, 1, 3))\n",
        "test7 = test7.reshape((-1, 1, 3))\n",
        "test8 = test8.reshape((-1, 1, 3))\n",
        "test9 = test9.reshape((-1, 1, 3))\n",
        "test10 = test10.reshape((-1, 1, 3))\n",
        "test11 = test11.reshape((-1, 1, 3))"
      ],
      "execution_count": null,
      "outputs": []
    },
    {
      "cell_type": "code",
      "metadata": {
        "id": "Voos92Wm8nz0",
        "colab_type": "code",
        "colab": {}
      },
      "source": [
        "rnn1 = Sequential()\n",
        "rnn1.add(LSTM(units=100, activation='linear', input_shape=(None, 3)))\n",
        "rnn1.add(LeakyReLU())\n",
        "rnn1.add(Dense(units=50, activation='linear'))\n",
        "rnn1.add(LeakyReLU())\n",
        "rnn1.add(Dense(units=25, activation='linear'))\n",
        "rnn1.add(LeakyReLU())\n",
        "rnn1.add(Dense(units=12, activation='linear'))\n",
        "rnn1.add(LeakyReLU())\n",
        "rnn1.add(Dense(units=1, activation='linear'))\n",
        "rnn1.add(LeakyReLU())\n",
        "rnn1.compile(optimizer='adam', loss='mean_squared_error')\n",
        "rnn1.fit(X1, y1, epochs=20, batch_size=100)"
      ],
      "execution_count": null,
      "outputs": []
    },
    {
      "cell_type": "code",
      "metadata": {
        "id": "HdFaXZoM-Qzk",
        "colab_type": "code",
        "colab": {}
      },
      "source": [
        "rnn2 = Sequential()\n",
        "rnn2.add(LSTM(units=100, activation='linear', input_shape=(None, 3)))\n",
        "rnn2.add(LeakyReLU())\n",
        "rnn2.add(Dense(units=50, activation='linear'))\n",
        "rnn2.add(LeakyReLU())\n",
        "rnn2.add(Dense(units=25, activation='linear'))\n",
        "rnn2.add(LeakyReLU())\n",
        "rnn2.add(Dense(units=12, activation='linear'))\n",
        "rnn2.add(LeakyReLU())\n",
        "rnn2.add(Dense(units=1, activation='linear'))\n",
        "rnn2.add(LeakyReLU())\n",
        "rnn2.compile(optimizer='adam', loss='mean_squared_error')\n",
        "rnn2.fit(X2, y2, epochs=20, batch_size=100)"
      ],
      "execution_count": null,
      "outputs": []
    },
    {
      "cell_type": "code",
      "metadata": {
        "id": "hpKI9VjIRdzs",
        "colab_type": "code",
        "colab": {}
      },
      "source": [
        "rnn3 = Sequential()\n",
        "rnn3.add(LSTM(units=100, activation='linear', input_shape=(None, 3)))\n",
        "rnn3.add(LeakyReLU())\n",
        "rnn3.add(Dense(units=50, activation='linear'))\n",
        "rnn3.add(LeakyReLU())\n",
        "rnn3.add(Dense(units=25, activation='linear'))\n",
        "rnn3.add(LeakyReLU())\n",
        "rnn3.add(Dense(units=12, activation='linear'))\n",
        "rnn3.add(LeakyReLU())\n",
        "rnn3.add(Dense(units=1, activation='linear'))\n",
        "rnn3.add(LeakyReLU())\n",
        "rnn3.compile(optimizer='adam', loss='mean_squared_error')\n",
        "rnn3.fit(X3, y3, epochs=20, batch_size=100)"
      ],
      "execution_count": null,
      "outputs": []
    },
    {
      "cell_type": "code",
      "metadata": {
        "id": "juBVfYk6RiNk",
        "colab_type": "code",
        "colab": {}
      },
      "source": [
        "rnn4 = Sequential()\n",
        "rnn4.add(LSTM(units=100, activation='linear', input_shape=(None, 3)))\n",
        "rnn4.add(LeakyReLU())\n",
        "rnn4.add(Dense(units=50, activation='linear'))\n",
        "rnn4.add(LeakyReLU())\n",
        "rnn4.add(Dense(units=25, activation='linear'))\n",
        "rnn4.add(LeakyReLU())\n",
        "rnn4.add(Dense(units=12, activation='linear'))\n",
        "rnn4.add(LeakyReLU())\n",
        "rnn4.add(Dense(units=1, activation='linear'))\n",
        "rnn4.add(LeakyReLU())\n",
        "rnn4.compile(optimizer='adam', loss='mean_squared_error')\n",
        "rnn4.fit(X4, y4, epochs=20, batch_size=100)"
      ],
      "execution_count": null,
      "outputs": []
    },
    {
      "cell_type": "code",
      "metadata": {
        "id": "P1KnmloURqTs",
        "colab_type": "code",
        "colab": {}
      },
      "source": [
        "rnn5 = Sequential()\n",
        "rnn5.add(LSTM(units=100, activation='linear', input_shape=(None, 3)))\n",
        "rnn5.add(LeakyReLU())\n",
        "rnn5.add(Dense(units=50, activation='linear'))\n",
        "rnn5.add(LeakyReLU())\n",
        "rnn5.add(Dense(units=25, activation='linear'))\n",
        "rnn5.add(LeakyReLU())\n",
        "rnn5.add(Dense(units=12, activation='linear'))\n",
        "rnn5.add(LeakyReLU())\n",
        "rnn5.add(Dense(units=1, activation='linear'))\n",
        "rnn5.add(LeakyReLU())\n",
        "rnn5.compile(optimizer='adam', loss='mean_squared_error')\n",
        "rnn5.fit(X5, y5, epochs=20, batch_size=100)"
      ],
      "execution_count": null,
      "outputs": []
    },
    {
      "cell_type": "code",
      "metadata": {
        "id": "6x6zFqChRuxL",
        "colab_type": "code",
        "colab": {}
      },
      "source": [
        "rnn6 = Sequential()\n",
        "rnn6.add(LSTM(units=100, activation='linear', input_shape=(None, 3)))\n",
        "rnn6.add(LeakyReLU())\n",
        "rnn6.add(Dense(units=50, activation='linear'))\n",
        "rnn6.add(LeakyReLU())\n",
        "rnn6.add(Dense(units=25, activation='linear'))\n",
        "rnn6.add(LeakyReLU())\n",
        "rnn6.add(Dense(units=12, activation='linear'))\n",
        "rnn6.add(LeakyReLU())\n",
        "rnn6.add(Dense(units=1, activation='linear'))\n",
        "rnn6.add(LeakyReLU())\n",
        "rnn6.compile(optimizer='adam', loss='mean_squared_error')\n",
        "rnn6.fit(X6, y6, epochs=20, batch_size=100)"
      ],
      "execution_count": null,
      "outputs": []
    },
    {
      "cell_type": "code",
      "metadata": {
        "id": "gxi0YTf2RyfK",
        "colab_type": "code",
        "colab": {}
      },
      "source": [
        "rnn7 = Sequential()\n",
        "rnn7.add(LSTM(units=100, activation='linear', input_shape=(None, 3)))\n",
        "rnn7.add(LeakyReLU())\n",
        "rnn7.add(Dense(units=50, activation='linear'))\n",
        "rnn7.add(LeakyReLU())\n",
        "rnn7.add(Dense(units=25, activation='linear'))\n",
        "rnn7.add(LeakyReLU())\n",
        "rnn7.add(Dense(units=12, activation='linear'))\n",
        "rnn7.add(LeakyReLU())\n",
        "rnn7.add(Dense(units=1, activation='linear'))\n",
        "rnn7.add(LeakyReLU())\n",
        "rnn7.compile(optimizer='adam', loss='mean_squared_error')\n",
        "rnn7.fit(X7, y7, epochs=20, batch_size=100)"
      ],
      "execution_count": null,
      "outputs": []
    },
    {
      "cell_type": "code",
      "metadata": {
        "id": "vWSiO7o5R2wU",
        "colab_type": "code",
        "colab": {}
      },
      "source": [
        "rnn8 = Sequential()\n",
        "rnn8.add(LSTM(units=100, activation='linear', input_shape=(None, 3)))\n",
        "rnn8.add(LeakyReLU())\n",
        "rnn8.add(Dense(units=50, activation='linear'))\n",
        "rnn8.add(LeakyReLU())\n",
        "rnn8.add(Dense(units=25, activation='linear'))\n",
        "rnn8.add(LeakyReLU())\n",
        "rnn8.add(Dense(units=12, activation='linear'))\n",
        "rnn8.add(LeakyReLU())\n",
        "rnn8.add(Dense(units=1, activation='linear'))\n",
        "rnn8.add(LeakyReLU())\n",
        "rnn8.compile(optimizer='adam', loss='mean_squared_error')\n",
        "rnn8.fit(X8, y8, epochs=20, batch_size=100)"
      ],
      "execution_count": null,
      "outputs": []
    },
    {
      "cell_type": "code",
      "metadata": {
        "id": "URjUYY3GR52_",
        "colab_type": "code",
        "colab": {}
      },
      "source": [
        "rnn9 = Sequential()\n",
        "rnn9.add(LSTM(units=100, activation='linear', input_shape=(None, 3)))\n",
        "rnn9.add(LeakyReLU())\n",
        "rnn9.add(Dense(units=50, activation='linear'))\n",
        "rnn9.add(LeakyReLU())\n",
        "rnn9.add(Dense(units=25, activation='linear'))\n",
        "rnn9.add(LeakyReLU())\n",
        "rnn9.add(Dense(units=12, activation='linear'))\n",
        "rnn9.add(LeakyReLU())\n",
        "rnn9.add(Dense(units=1, activation='linear'))\n",
        "rnn9.add(LeakyReLU())\n",
        "rnn9.compile(optimizer='adam', loss='mean_squared_error')\n",
        "rnn9.fit(X9, y9, epochs=20, batch_size=100)"
      ],
      "execution_count": null,
      "outputs": []
    },
    {
      "cell_type": "code",
      "metadata": {
        "id": "NKuJ4aWZR8p8",
        "colab_type": "code",
        "colab": {}
      },
      "source": [
        "rnn10 = Sequential()\n",
        "rnn10.add(LSTM(units=100, activation='linear', input_shape=(None, 3)))\n",
        "rnn10.add(LeakyReLU())\n",
        "rnn10.add(Dense(units=50, activation='linear'))\n",
        "rnn10.add(LeakyReLU())\n",
        "rnn10.add(Dense(units=25, activation='linear'))\n",
        "rnn10.add(LeakyReLU())\n",
        "rnn10.add(Dense(units=12, activation='linear'))\n",
        "rnn10.add(LeakyReLU())\n",
        "rnn10.add(Dense(units=1, activation='linear'))\n",
        "rnn10.add(LeakyReLU())\n",
        "rnn10.compile(optimizer='adam', loss='mean_squared_error')\n",
        "rnn10.fit(X10, y10, epochs=20, batch_size=100)"
      ],
      "execution_count": null,
      "outputs": []
    },
    {
      "cell_type": "code",
      "metadata": {
        "id": "dQr8QkYzR-oe",
        "colab_type": "code",
        "colab": {}
      },
      "source": [
        "rnn11 = Sequential()\n",
        "rnn11.add(LSTM(units=100, activation='linear', input_shape=(None, 3)))\n",
        "rnn11.add(LeakyReLU())\n",
        "rnn11.add(Dense(units=50, activation='linear'))\n",
        "rnn11.add(LeakyReLU())\n",
        "rnn11.add(Dense(units=25, activation='linear'))\n",
        "rnn11.add(LeakyReLU())\n",
        "rnn11.add(Dense(units=12, activation='linear'))\n",
        "rnn11.add(LeakyReLU())\n",
        "rnn11.add(Dense(units=1, activation='linear'))\n",
        "rnn11.add(LeakyReLU())\n",
        "rnn11.compile(optimizer='adam', loss='mean_squared_error')\n",
        "rnn11.fit(X11, y11, epochs=20, batch_size=100)"
      ],
      "execution_count": null,
      "outputs": []
    },
    {
      "cell_type": "code",
      "metadata": {
        "id": "m6e2ZunD8rnx",
        "colab_type": "code",
        "colab": {}
      },
      "source": [
        "# making predictions for channel 1 and channel 2\n",
        "pred_rnn1 = rnn1.predict(test1)\n",
        "pred_rnn2 = rnn2.predict(test2)\n",
        "pred_rnn3 = rnn1.predict(test3)\n",
        "pred_rnn4 = rnn4.predict(test4)\n",
        "pred_rnn5 = rnn5.predict(test5)\n",
        "pred_rnn6 = rnn6.predict(test6)\n",
        "pred_rnn7 = rnn7.predict(test7)\n",
        "pred_rnn8 = rnn8.predict(test8)\n",
        "pred_rnn9 = rnn9.predict(test9)\n",
        "pred_rnn10 = rnn10.predict(test10)\n",
        "pred_rnn11 = rnn11.predict(test11)"
      ],
      "execution_count": null,
      "outputs": []
    },
    {
      "cell_type": "code",
      "metadata": {
        "id": "LSHsUyvw8_0i",
        "colab_type": "code",
        "colab": {}
      },
      "source": [
        "# saving the LSTM predicitons in wav format\n",
        "write('pred_rnn.wav', rate, pd.concat([pd.DataFrame(pred_rnn1.astype('int16')), pd.DataFrame(pred_rnn2.astype('int16'))], axis=1).values)\n",
        "# saving the original music in wav format\n",
        "write('original.wav',rate, pd.concat([music1.iloc[160001 : 400000, :], music2.iloc[160001 : 400000, :]], axis=0).values)"
      ],
      "execution_count": null,
      "outputs": []
    },
    {
      "cell_type": "code",
      "metadata": {
        "id": "URL2v09R9uXA",
        "colab_type": "code",
        "colab": {}
      },
      "source": [
        "!pip install gtts"
      ],
      "execution_count": null,
      "outputs": []
    },
    {
      "cell_type": "code",
      "metadata": {
        "id": "zhmyZNAN-wq8",
        "colab_type": "code",
        "colab": {}
      },
      "source": [
        "from gtts import gTTS\n",
        "from IPython.display import Audio\n",
        "\n",
        "sound_file = 'pred_rnn.wav'\n",
        "Audio(sound_file, autoplay=True)"
      ],
      "execution_count": null,
      "outputs": []
    },
    {
      "cell_type": "code",
      "metadata": {
        "id": "hhZZ6ouXBFxL",
        "colab_type": "code",
        "colab": {}
      },
      "source": [
        ""
      ],
      "execution_count": null,
      "outputs": []
    }
  ]
}