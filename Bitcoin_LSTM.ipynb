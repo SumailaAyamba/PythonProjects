{
  "nbformat": 4,
  "nbformat_minor": 0,
  "metadata": {
    "colab": {
      "name": "Bitcoin LSTM.ipynb",
      "provenance": [],
      "collapsed_sections": [],
      "toc_visible": true,
      "authorship_tag": "ABX9TyOTnLKBtA0xgp0Kw0fD1WGm",
      "include_colab_link": true
    },
    "kernelspec": {
      "name": "python3",
      "display_name": "Python 3"
    }
  },
  "cells": [
    {
      "cell_type": "markdown",
      "metadata": {
        "id": "view-in-github",
        "colab_type": "text"
      },
      "source": [
        "<a href=\"https://colab.research.google.com/github/jarodchristiansen/PythonProjects/blob/master/Bitcoin_LSTM.ipynb\" target=\"_parent\"><img src=\"https://colab.research.google.com/assets/colab-badge.svg\" alt=\"Open In Colab\"/></a>"
      ]
    },
    {
      "cell_type": "code",
      "metadata": {
        "id": "Xi0f1EiIZhhC",
        "colab_type": "code",
        "colab": {
          "base_uri": "https://localhost:8080/",
          "height": 228
        },
        "outputId": "5f14fd63-babd-4d8f-a9af-0c02c23abec5"
      },
      "source": [
        "!pip install requests\n",
        "!pip install pandas\n",
        "!pip install numpy"
      ],
      "execution_count": 1,
      "outputs": [
        {
          "output_type": "stream",
          "text": [
            "Requirement already satisfied: requests in /usr/local/lib/python3.6/dist-packages (2.23.0)\n",
            "Requirement already satisfied: idna<3,>=2.5 in /usr/local/lib/python3.6/dist-packages (from requests) (2.10)\n",
            "Requirement already satisfied: certifi>=2017.4.17 in /usr/local/lib/python3.6/dist-packages (from requests) (2020.6.20)\n",
            "Requirement already satisfied: urllib3!=1.25.0,!=1.25.1,<1.26,>=1.21.1 in /usr/local/lib/python3.6/dist-packages (from requests) (1.24.3)\n",
            "Requirement already satisfied: chardet<4,>=3.0.2 in /usr/local/lib/python3.6/dist-packages (from requests) (3.0.4)\n",
            "Requirement already satisfied: pandas in /usr/local/lib/python3.6/dist-packages (1.0.5)\n",
            "Requirement already satisfied: numpy>=1.13.3 in /usr/local/lib/python3.6/dist-packages (from pandas) (1.18.5)\n",
            "Requirement already satisfied: python-dateutil>=2.6.1 in /usr/local/lib/python3.6/dist-packages (from pandas) (2.8.1)\n",
            "Requirement already satisfied: pytz>=2017.2 in /usr/local/lib/python3.6/dist-packages (from pandas) (2018.9)\n",
            "Requirement already satisfied: six>=1.5 in /usr/local/lib/python3.6/dist-packages (from python-dateutil>=2.6.1->pandas) (1.15.0)\n",
            "Requirement already satisfied: numpy in /usr/local/lib/python3.6/dist-packages (1.18.5)\n"
          ],
          "name": "stdout"
        }
      ]
    },
    {
      "cell_type": "code",
      "metadata": {
        "id": "u38g3aquaDm5",
        "colab_type": "code",
        "colab": {
          "base_uri": "https://localhost:8080/",
          "height": 159
        },
        "outputId": "a72797ae-c48a-43e8-f4d7-0479687af998"
      },
      "source": [
        "import requests\n",
        "from prettytable import PrettyTable\n",
        "import numpy as np\n",
        "import matplotlib.pyplot as plt\n",
        "import statsmodels.api as sm\n",
        "import seaborn as sns\n",
        "sns.set()\n",
        "\n",
        "import pandas as pd\n",
        "import gspread\n",
        "from gspread_dataframe import get_as_dataframe, set_with_dataframe\n",
        "from google.colab import drive, files\n",
        "drive.mount('/content/drive')\n",
        "from google.colab import auth\n",
        "auth.authenticate_user()\n",
        "from oauth2client.client import GoogleCredentials\n",
        "gc = gspread.authorize(GoogleCredentials.get_application_default())"
      ],
      "execution_count": 2,
      "outputs": [
        {
          "output_type": "stream",
          "text": [
            "/usr/local/lib/python3.6/dist-packages/statsmodels/tools/_testing.py:19: FutureWarning: pandas.util.testing is deprecated. Use the functions in the public API at pandas.testing instead.\n",
            "  import pandas.util.testing as tm\n"
          ],
          "name": "stderr"
        },
        {
          "output_type": "stream",
          "text": [
            "Go to this URL in a browser: https://accounts.google.com/o/oauth2/auth?client_id=947318989803-6bn6qk8qdgf4n4g3pfee6491hc0brc4i.apps.googleusercontent.com&redirect_uri=urn%3aietf%3awg%3aoauth%3a2.0%3aoob&scope=email%20https%3a%2f%2fwww.googleapis.com%2fauth%2fdocs.test%20https%3a%2f%2fwww.googleapis.com%2fauth%2fdrive%20https%3a%2f%2fwww.googleapis.com%2fauth%2fdrive.photos.readonly%20https%3a%2f%2fwww.googleapis.com%2fauth%2fpeopleapi.readonly&response_type=code\n",
            "\n",
            "Enter your authorization code:\n",
            "··········\n",
            "Mounted at /content/drive\n"
          ],
          "name": "stdout"
        }
      ]
    },
    {
      "cell_type": "code",
      "metadata": {
        "id": "WWuOMttE6oLG",
        "colab_type": "code",
        "colab": {
          "base_uri": "https://localhost:8080/",
          "height": 35
        },
        "outputId": "2b8dd23c-bdec-45f6-e488-2f3a7767ca40"
      },
      "source": [
        "cycles = []\n",
        "urls = []\n",
        "from datetime import datetime  \n",
        "from datetime import timedelta  \n",
        "\n",
        "timer = datetime.date(datetime(year=2020, month=5, day=3)) \n",
        "\n",
        "for i in range(1):\n",
        " timer = timer + timedelta(days=1)\n",
        " #cycles.append(timer)\n",
        " print(timer)\n",
        " urls.append('https://rest.coinapi.io/v1/ohlcv/BTC/USD/history?period_id=1DAY&time_start={}T00:00:00'.format(timer))"
      ],
      "execution_count": null,
      "outputs": [
        {
          "output_type": "stream",
          "text": [
            "2020-05-04\n"
          ],
          "name": "stdout"
        }
      ]
    },
    {
      "cell_type": "code",
      "metadata": {
        "id": "0U30Bu2W9uux",
        "colab_type": "code",
        "colab": {
          "base_uri": "https://localhost:8080/",
          "height": 35
        },
        "outputId": "4fdc29d8-e674-4f44-b0d6-93dadb927cc6"
      },
      "source": [
        "cycles"
      ],
      "execution_count": null,
      "outputs": [
        {
          "output_type": "execute_result",
          "data": {
            "text/plain": [
              "[]"
            ]
          },
          "metadata": {
            "tags": []
          },
          "execution_count": 47
        }
      ]
    },
    {
      "cell_type": "code",
      "metadata": {
        "id": "L-a6YVnfCjTC",
        "colab_type": "code",
        "colab": {}
      },
      "source": [
        "urls"
      ],
      "execution_count": null,
      "outputs": []
    },
    {
      "cell_type": "code",
      "metadata": {
        "id": "2_BFzvLjxoFa",
        "colab_type": "code",
        "colab": {}
      },
      "source": [
        "apikey = ''\n",
        "datas = []\n",
        "headers = {\n",
        "    'X-CoinAPI-Key': apikey\n",
        "}\n",
        "for url in urls:\n",
        " response = requests.get(url, headers=headers).json()\n",
        " datas.append(response)"
      ],
      "execution_count": null,
      "outputs": []
    },
    {
      "cell_type": "code",
      "metadata": {
        "id": "UXwlxYrWE0ig",
        "colab_type": "code",
        "colab": {
          "base_uri": "https://localhost:8080/",
          "height": 372
        },
        "outputId": "53ac2d3c-e698-4ec6-9954-208c857bd8dc"
      },
      "source": [
        "datas[89]"
      ],
      "execution_count": null,
      "outputs": [
        {
          "output_type": "execute_result",
          "data": {
            "text/plain": [
              "[{'price_close': 11810.07,\n",
              "  'price_high': 11894.73,\n",
              "  'price_low': 11228.0,\n",
              "  'price_open': 11351.61,\n",
              "  'time_close': '2020-08-01T23:59:59.9607290Z',\n",
              "  'time_open': '2020-08-01T00:00:00.2127820Z',\n",
              "  'time_period_end': '2020-08-02T00:00:00.0000000Z',\n",
              "  'time_period_start': '2020-08-01T00:00:00.0000000Z',\n",
              "  'trades_count': 238735,\n",
              "  'volume_traded': 38179.618191884},\n",
              " {'price_close': 11173.92,\n",
              "  'price_high': 12134.29,\n",
              "  'price_low': 10546.15,\n",
              "  'price_open': 11810.07,\n",
              "  'time_close': '2020-08-02T22:30:11.3495050Z',\n",
              "  'time_open': '2020-08-02T00:00:00.1568830Z',\n",
              "  'time_period_end': '2020-08-03T00:00:00.0000000Z',\n",
              "  'time_period_start': '2020-08-02T00:00:00.0000000Z',\n",
              "  'trades_count': 252856,\n",
              "  'volume_traded': 51680.403142733}]"
            ]
          },
          "metadata": {
            "tags": []
          },
          "execution_count": 55
        }
      ]
    },
    {
      "cell_type": "code",
      "metadata": {
        "id": "uEmsByEUFAXm",
        "colab_type": "code",
        "colab": {}
      },
      "source": [
        "start_date = []\n",
        "price_open = []\n",
        "price_close = []\n",
        "price_high = []\n",
        "price_low = []\n",
        "trades_count = []\n",
        "volume_traded = []\n",
        "\n",
        "for request in datas:\n",
        "  for day in request:\n",
        "    for key, value in day.items():\n",
        "     if key == 'time_period_start':\n",
        "       start_date.append(value.split('T')[0])\n",
        "     elif key == 'price_open':\n",
        "       price_open.append(value)\n",
        "     elif key == 'price_close':\n",
        "       price_close.append(value)\n",
        "     elif key == 'price_high':\n",
        "       price_high.append(value)\n",
        "     elif key == 'price_low':\n",
        "       price_low.append(value)\n",
        "     elif key == 'trades_count':\n",
        "       trades_count.append(value)\n",
        "     if key == 'volume_traded':\n",
        "       volume_traded.append(value)          "
      ],
      "execution_count": null,
      "outputs": []
    },
    {
      "cell_type": "code",
      "metadata": {
        "id": "hqio5J_pG6SK",
        "colab_type": "code",
        "colab": {}
      },
      "source": [
        "data = pd.DataFrame()\n",
        "\n",
        "data['Date'] = start_date\n",
        "data['Open'] = price_open\n",
        "data['High'] = price_high\n",
        "data['Low'] = price_low\n",
        "data['Close'] = price_close\n",
        "data['Volume'] = volume_traded"
      ],
      "execution_count": null,
      "outputs": []
    },
    {
      "cell_type": "code",
      "metadata": {
        "id": "Ez4JOvW1HIVG",
        "colab_type": "code",
        "colab": {}
      },
      "source": [
        "data.set_index('Date', inplace=True)"
      ],
      "execution_count": null,
      "outputs": []
    },
    {
      "cell_type": "code",
      "metadata": {
        "id": "SUHcyAakM60u",
        "colab_type": "code",
        "colab": {
          "base_uri": "https://localhost:8080/",
          "height": 315
        },
        "outputId": "c59b9a74-09b0-413c-bad8-ee76c83afa60"
      },
      "source": [
        "data.drop(axis=1, columns='index', inplace=True)"
      ],
      "execution_count": null,
      "outputs": [
        {
          "output_type": "error",
          "ename": "KeyError",
          "evalue": "ignored",
          "traceback": [
            "\u001b[0;31m---------------------------------------------------------------------------\u001b[0m",
            "\u001b[0;31mKeyError\u001b[0m                                  Traceback (most recent call last)",
            "\u001b[0;32m<ipython-input-59-4b368f18dbd1>\u001b[0m in \u001b[0;36m<module>\u001b[0;34m()\u001b[0m\n\u001b[0;32m----> 1\u001b[0;31m \u001b[0mdata\u001b[0m\u001b[0;34m.\u001b[0m\u001b[0mdrop\u001b[0m\u001b[0;34m(\u001b[0m\u001b[0maxis\u001b[0m\u001b[0;34m=\u001b[0m\u001b[0;36m1\u001b[0m\u001b[0;34m,\u001b[0m \u001b[0mcolumns\u001b[0m\u001b[0;34m=\u001b[0m\u001b[0;34m'index'\u001b[0m\u001b[0;34m,\u001b[0m \u001b[0minplace\u001b[0m\u001b[0;34m=\u001b[0m\u001b[0;32mTrue\u001b[0m\u001b[0;34m)\u001b[0m\u001b[0;34m\u001b[0m\u001b[0;34m\u001b[0m\u001b[0m\n\u001b[0m",
            "\u001b[0;32m/usr/local/lib/python3.6/dist-packages/pandas/core/frame.py\u001b[0m in \u001b[0;36mdrop\u001b[0;34m(self, labels, axis, index, columns, level, inplace, errors)\u001b[0m\n\u001b[1;32m   3995\u001b[0m             \u001b[0mlevel\u001b[0m\u001b[0;34m=\u001b[0m\u001b[0mlevel\u001b[0m\u001b[0;34m,\u001b[0m\u001b[0;34m\u001b[0m\u001b[0;34m\u001b[0m\u001b[0m\n\u001b[1;32m   3996\u001b[0m             \u001b[0minplace\u001b[0m\u001b[0;34m=\u001b[0m\u001b[0minplace\u001b[0m\u001b[0;34m,\u001b[0m\u001b[0;34m\u001b[0m\u001b[0;34m\u001b[0m\u001b[0m\n\u001b[0;32m-> 3997\u001b[0;31m             \u001b[0merrors\u001b[0m\u001b[0;34m=\u001b[0m\u001b[0merrors\u001b[0m\u001b[0;34m,\u001b[0m\u001b[0;34m\u001b[0m\u001b[0;34m\u001b[0m\u001b[0m\n\u001b[0m\u001b[1;32m   3998\u001b[0m         )\n\u001b[1;32m   3999\u001b[0m \u001b[0;34m\u001b[0m\u001b[0m\n",
            "\u001b[0;32m/usr/local/lib/python3.6/dist-packages/pandas/core/generic.py\u001b[0m in \u001b[0;36mdrop\u001b[0;34m(self, labels, axis, index, columns, level, inplace, errors)\u001b[0m\n\u001b[1;32m   3934\u001b[0m         \u001b[0;32mfor\u001b[0m \u001b[0maxis\u001b[0m\u001b[0;34m,\u001b[0m \u001b[0mlabels\u001b[0m \u001b[0;32min\u001b[0m \u001b[0maxes\u001b[0m\u001b[0;34m.\u001b[0m\u001b[0mitems\u001b[0m\u001b[0;34m(\u001b[0m\u001b[0;34m)\u001b[0m\u001b[0;34m:\u001b[0m\u001b[0;34m\u001b[0m\u001b[0;34m\u001b[0m\u001b[0m\n\u001b[1;32m   3935\u001b[0m             \u001b[0;32mif\u001b[0m \u001b[0mlabels\u001b[0m \u001b[0;32mis\u001b[0m \u001b[0;32mnot\u001b[0m \u001b[0;32mNone\u001b[0m\u001b[0;34m:\u001b[0m\u001b[0;34m\u001b[0m\u001b[0;34m\u001b[0m\u001b[0m\n\u001b[0;32m-> 3936\u001b[0;31m                 \u001b[0mobj\u001b[0m \u001b[0;34m=\u001b[0m \u001b[0mobj\u001b[0m\u001b[0;34m.\u001b[0m\u001b[0m_drop_axis\u001b[0m\u001b[0;34m(\u001b[0m\u001b[0mlabels\u001b[0m\u001b[0;34m,\u001b[0m \u001b[0maxis\u001b[0m\u001b[0;34m,\u001b[0m \u001b[0mlevel\u001b[0m\u001b[0;34m=\u001b[0m\u001b[0mlevel\u001b[0m\u001b[0;34m,\u001b[0m \u001b[0merrors\u001b[0m\u001b[0;34m=\u001b[0m\u001b[0merrors\u001b[0m\u001b[0;34m)\u001b[0m\u001b[0;34m\u001b[0m\u001b[0;34m\u001b[0m\u001b[0m\n\u001b[0m\u001b[1;32m   3937\u001b[0m \u001b[0;34m\u001b[0m\u001b[0m\n\u001b[1;32m   3938\u001b[0m         \u001b[0;32mif\u001b[0m \u001b[0minplace\u001b[0m\u001b[0;34m:\u001b[0m\u001b[0;34m\u001b[0m\u001b[0;34m\u001b[0m\u001b[0m\n",
            "\u001b[0;32m/usr/local/lib/python3.6/dist-packages/pandas/core/generic.py\u001b[0m in \u001b[0;36m_drop_axis\u001b[0;34m(self, labels, axis, level, errors)\u001b[0m\n\u001b[1;32m   3968\u001b[0m                 \u001b[0mnew_axis\u001b[0m \u001b[0;34m=\u001b[0m \u001b[0maxis\u001b[0m\u001b[0;34m.\u001b[0m\u001b[0mdrop\u001b[0m\u001b[0;34m(\u001b[0m\u001b[0mlabels\u001b[0m\u001b[0;34m,\u001b[0m \u001b[0mlevel\u001b[0m\u001b[0;34m=\u001b[0m\u001b[0mlevel\u001b[0m\u001b[0;34m,\u001b[0m \u001b[0merrors\u001b[0m\u001b[0;34m=\u001b[0m\u001b[0merrors\u001b[0m\u001b[0;34m)\u001b[0m\u001b[0;34m\u001b[0m\u001b[0;34m\u001b[0m\u001b[0m\n\u001b[1;32m   3969\u001b[0m             \u001b[0;32melse\u001b[0m\u001b[0;34m:\u001b[0m\u001b[0;34m\u001b[0m\u001b[0;34m\u001b[0m\u001b[0m\n\u001b[0;32m-> 3970\u001b[0;31m                 \u001b[0mnew_axis\u001b[0m \u001b[0;34m=\u001b[0m \u001b[0maxis\u001b[0m\u001b[0;34m.\u001b[0m\u001b[0mdrop\u001b[0m\u001b[0;34m(\u001b[0m\u001b[0mlabels\u001b[0m\u001b[0;34m,\u001b[0m \u001b[0merrors\u001b[0m\u001b[0;34m=\u001b[0m\u001b[0merrors\u001b[0m\u001b[0;34m)\u001b[0m\u001b[0;34m\u001b[0m\u001b[0;34m\u001b[0m\u001b[0m\n\u001b[0m\u001b[1;32m   3971\u001b[0m             \u001b[0mresult\u001b[0m \u001b[0;34m=\u001b[0m \u001b[0mself\u001b[0m\u001b[0;34m.\u001b[0m\u001b[0mreindex\u001b[0m\u001b[0;34m(\u001b[0m\u001b[0;34m**\u001b[0m\u001b[0;34m{\u001b[0m\u001b[0maxis_name\u001b[0m\u001b[0;34m:\u001b[0m \u001b[0mnew_axis\u001b[0m\u001b[0;34m}\u001b[0m\u001b[0;34m)\u001b[0m\u001b[0;34m\u001b[0m\u001b[0;34m\u001b[0m\u001b[0m\n\u001b[1;32m   3972\u001b[0m \u001b[0;34m\u001b[0m\u001b[0m\n",
            "\u001b[0;32m/usr/local/lib/python3.6/dist-packages/pandas/core/indexes/base.py\u001b[0m in \u001b[0;36mdrop\u001b[0;34m(self, labels, errors)\u001b[0m\n\u001b[1;32m   5016\u001b[0m         \u001b[0;32mif\u001b[0m \u001b[0mmask\u001b[0m\u001b[0;34m.\u001b[0m\u001b[0many\u001b[0m\u001b[0;34m(\u001b[0m\u001b[0;34m)\u001b[0m\u001b[0;34m:\u001b[0m\u001b[0;34m\u001b[0m\u001b[0;34m\u001b[0m\u001b[0m\n\u001b[1;32m   5017\u001b[0m             \u001b[0;32mif\u001b[0m \u001b[0merrors\u001b[0m \u001b[0;34m!=\u001b[0m \u001b[0;34m\"ignore\"\u001b[0m\u001b[0;34m:\u001b[0m\u001b[0;34m\u001b[0m\u001b[0;34m\u001b[0m\u001b[0m\n\u001b[0;32m-> 5018\u001b[0;31m                 \u001b[0;32mraise\u001b[0m \u001b[0mKeyError\u001b[0m\u001b[0;34m(\u001b[0m\u001b[0;34mf\"{labels[mask]} not found in axis\"\u001b[0m\u001b[0;34m)\u001b[0m\u001b[0;34m\u001b[0m\u001b[0;34m\u001b[0m\u001b[0m\n\u001b[0m\u001b[1;32m   5019\u001b[0m             \u001b[0mindexer\u001b[0m \u001b[0;34m=\u001b[0m \u001b[0mindexer\u001b[0m\u001b[0;34m[\u001b[0m\u001b[0;34m~\u001b[0m\u001b[0mmask\u001b[0m\u001b[0;34m]\u001b[0m\u001b[0;34m\u001b[0m\u001b[0;34m\u001b[0m\u001b[0m\n\u001b[1;32m   5020\u001b[0m         \u001b[0;32mreturn\u001b[0m \u001b[0mself\u001b[0m\u001b[0;34m.\u001b[0m\u001b[0mdelete\u001b[0m\u001b[0;34m(\u001b[0m\u001b[0mindexer\u001b[0m\u001b[0;34m)\u001b[0m\u001b[0;34m\u001b[0m\u001b[0;34m\u001b[0m\u001b[0m\n",
            "\u001b[0;31mKeyError\u001b[0m: \"['index'] not found in axis\""
          ]
        }
      ]
    },
    {
      "cell_type": "code",
      "metadata": {
        "id": "yiBW-vc5LbgB",
        "colab_type": "code",
        "colab": {}
      },
      "source": [
        "data.to_csv('btc_data_end.csv')"
      ],
      "execution_count": null,
      "outputs": []
    },
    {
      "cell_type": "code",
      "metadata": {
        "id": "cGrXf13HdkEi",
        "colab_type": "code",
        "colab": {
          "base_uri": "https://localhost:8080/",
          "height": 173
        },
        "outputId": "e10d9738-64e4-4cc7-bf9a-fca1045a8545"
      },
      "source": [
        "!ls /content/drive/My\\ Drive/Colab\\ Notebooks/Linear\\ Regression\\ SKlearn/Real\\ Examples/Webscraper/\n",
        "#data.to_csv('drive/My Drive/Colab Notebooks/Linear Regression SKlearn/Real Examples/Webscraper/BacklinkCheck.csv')\n",
        "from openpyxl import *\n",
        "\n",
        "import time\n",
        "timer = time.strftime('%c')\n",
        "\n",
        "#file.save('Crypto Data {}.csv'.format(timer))\n",
        "data.to_csv('drive/My Drive/Colab Notebooks/Cryptos/Crypto Data/Bitcoin_Historic {}.csv'.format(timer))"
      ],
      "execution_count": null,
      "outputs": [
        {
          "output_type": "stream",
          "text": [
            "'BacklinkCheckFri 02:22:11.csv'     'CoinbaseScrapeSun 01:19:29.csv'\n",
            "'BacklinkCheckFri 02:22:11.gsheet'  'CoinbaseScrapeSun 01:23:13.gsheet'\n",
            "'BacklinkCheckFri 02:26:36.csv'      FirstCrypto.csv\n",
            " BacklinkCheck.gsheet\t\t     FirstCrypto.gsheet\n",
            "'BacklinkCheckThu 23:08:35.csv'      UrlSamples.gsheet\n",
            "'BacklinkCheckThu 23:11:08.csv'      Webscraper2.21.2020.ipynb\n",
            "'BacklinkCheckThu 23:14:58.csv'      Webscraper_V0.2.ipynb\n",
            "'BacklinkCheckThu 23:25:13.csv'      Webscraper_V0.4.ipynb\n",
            " BacklinkScraperV0.1.ipynb\n"
          ],
          "name": "stdout"
        }
      ]
    },
    {
      "cell_type": "markdown",
      "metadata": {
        "id": "Mzn-Lk4CJNj0",
        "colab_type": "text"
      },
      "source": [
        "#If data is already pre-compiled\n"
      ]
    },
    {
      "cell_type": "code",
      "metadata": {
        "id": "PrDNG5nuXbny",
        "colab_type": "code",
        "colab": {}
      },
      "source": [
        "btc_data = pd.read_csv('BTC_08-13.csv')\n",
        "xlm_data = pd.read_csv('Stellar Lumens XLM - Sheet1.csv')"
      ],
      "execution_count": 56,
      "outputs": []
    },
    {
      "cell_type": "code",
      "metadata": {
        "id": "hPPuhxmNSidS",
        "colab_type": "code",
        "colab": {
          "base_uri": "https://localhost:8080/",
          "height": 415
        },
        "outputId": "ab637e03-3dad-42e8-8a0f-7c79d2931a75"
      },
      "source": [
        "btc_data"
      ],
      "execution_count": 57,
      "outputs": [
        {
          "output_type": "execute_result",
          "data": {
            "text/html": [
              "<div>\n",
              "<style scoped>\n",
              "    .dataframe tbody tr th:only-of-type {\n",
              "        vertical-align: middle;\n",
              "    }\n",
              "\n",
              "    .dataframe tbody tr th {\n",
              "        vertical-align: top;\n",
              "    }\n",
              "\n",
              "    .dataframe thead th {\n",
              "        text-align: right;\n",
              "    }\n",
              "</style>\n",
              "<table border=\"1\" class=\"dataframe\">\n",
              "  <thead>\n",
              "    <tr style=\"text-align: right;\">\n",
              "      <th></th>\n",
              "      <th>Date</th>\n",
              "      <th>Open</th>\n",
              "      <th>High</th>\n",
              "      <th>Low</th>\n",
              "      <th>Close</th>\n",
              "      <th>Volume</th>\n",
              "    </tr>\n",
              "  </thead>\n",
              "  <tbody>\n",
              "    <tr>\n",
              "      <th>0</th>\n",
              "      <td>4/28/2013</td>\n",
              "      <td>135.30</td>\n",
              "      <td>135.98</td>\n",
              "      <td>132.10</td>\n",
              "      <td>134.21</td>\n",
              "      <td>0.000000e+00</td>\n",
              "    </tr>\n",
              "    <tr>\n",
              "      <th>1</th>\n",
              "      <td>4/29/2013</td>\n",
              "      <td>134.44</td>\n",
              "      <td>147.49</td>\n",
              "      <td>134.00</td>\n",
              "      <td>144.54</td>\n",
              "      <td>0.000000e+00</td>\n",
              "    </tr>\n",
              "    <tr>\n",
              "      <th>2</th>\n",
              "      <td>4/30/2013</td>\n",
              "      <td>144.00</td>\n",
              "      <td>146.93</td>\n",
              "      <td>134.05</td>\n",
              "      <td>139.00</td>\n",
              "      <td>0.000000e+00</td>\n",
              "    </tr>\n",
              "    <tr>\n",
              "      <th>3</th>\n",
              "      <td>5/1/2013</td>\n",
              "      <td>139.00</td>\n",
              "      <td>139.89</td>\n",
              "      <td>107.72</td>\n",
              "      <td>116.99</td>\n",
              "      <td>0.000000e+00</td>\n",
              "    </tr>\n",
              "    <tr>\n",
              "      <th>4</th>\n",
              "      <td>5/2/2013</td>\n",
              "      <td>116.38</td>\n",
              "      <td>125.60</td>\n",
              "      <td>92.28</td>\n",
              "      <td>105.21</td>\n",
              "      <td>0.000000e+00</td>\n",
              "    </tr>\n",
              "    <tr>\n",
              "      <th>...</th>\n",
              "      <td>...</td>\n",
              "      <td>...</td>\n",
              "      <td>...</td>\n",
              "      <td>...</td>\n",
              "      <td>...</td>\n",
              "      <td>...</td>\n",
              "    </tr>\n",
              "    <tr>\n",
              "      <th>2659</th>\n",
              "      <td>8/8/2020</td>\n",
              "      <td>11604.55</td>\n",
              "      <td>11800.06</td>\n",
              "      <td>11558.43</td>\n",
              "      <td>11754.05</td>\n",
              "      <td>1.757206e+10</td>\n",
              "    </tr>\n",
              "    <tr>\n",
              "      <th>2660</th>\n",
              "      <td>8/9/2020</td>\n",
              "      <td>11737.33</td>\n",
              "      <td>11806.06</td>\n",
              "      <td>11548.78</td>\n",
              "      <td>11675.74</td>\n",
              "      <td>1.748961e+10</td>\n",
              "    </tr>\n",
              "    <tr>\n",
              "      <th>2661</th>\n",
              "      <td>8/10/2020</td>\n",
              "      <td>11662.26</td>\n",
              "      <td>12045.14</td>\n",
              "      <td>11662.26</td>\n",
              "      <td>11878.11</td>\n",
              "      <td>2.611411e+10</td>\n",
              "    </tr>\n",
              "    <tr>\n",
              "      <th>2662</th>\n",
              "      <td>8/11/2020</td>\n",
              "      <td>11881.65</td>\n",
              "      <td>11932.71</td>\n",
              "      <td>11195.71</td>\n",
              "      <td>11410.53</td>\n",
              "      <td>2.703978e+10</td>\n",
              "    </tr>\n",
              "    <tr>\n",
              "      <th>2663</th>\n",
              "      <td>8/12/2020</td>\n",
              "      <td>11404.60</td>\n",
              "      <td>11748.40</td>\n",
              "      <td>11249.61</td>\n",
              "      <td>11584.93</td>\n",
              "      <td>2.506455e+10</td>\n",
              "    </tr>\n",
              "  </tbody>\n",
              "</table>\n",
              "<p>2664 rows × 6 columns</p>\n",
              "</div>"
            ],
            "text/plain": [
              "           Date      Open      High       Low     Close        Volume\n",
              "0     4/28/2013    135.30    135.98    132.10    134.21  0.000000e+00\n",
              "1     4/29/2013    134.44    147.49    134.00    144.54  0.000000e+00\n",
              "2     4/30/2013    144.00    146.93    134.05    139.00  0.000000e+00\n",
              "3      5/1/2013    139.00    139.89    107.72    116.99  0.000000e+00\n",
              "4      5/2/2013    116.38    125.60     92.28    105.21  0.000000e+00\n",
              "...         ...       ...       ...       ...       ...           ...\n",
              "2659   8/8/2020  11604.55  11800.06  11558.43  11754.05  1.757206e+10\n",
              "2660   8/9/2020  11737.33  11806.06  11548.78  11675.74  1.748961e+10\n",
              "2661  8/10/2020  11662.26  12045.14  11662.26  11878.11  2.611411e+10\n",
              "2662  8/11/2020  11881.65  11932.71  11195.71  11410.53  2.703978e+10\n",
              "2663  8/12/2020  11404.60  11748.40  11249.61  11584.93  2.506455e+10\n",
              "\n",
              "[2664 rows x 6 columns]"
            ]
          },
          "metadata": {
            "tags": []
          },
          "execution_count": 57
        }
      ]
    },
    {
      "cell_type": "markdown",
      "metadata": {
        "id": "3dIK2p9jIpeF",
        "colab_type": "text"
      },
      "source": [
        "#BTC Chart, skip these sections corresponding to each crypto\n"
      ]
    },
    {
      "cell_type": "code",
      "metadata": {
        "id": "sZecedt3G79H",
        "colab_type": "code",
        "colab": {
          "base_uri": "https://localhost:8080/",
          "height": 586
        },
        "outputId": "3f03244a-360b-4793-9fc7-e73d59380a5c"
      },
      "source": [
        "price = btc_data[['Close']]\n",
        "plt.figure(figsize = (18,9))\n",
        "plt.plot(price)\n",
        "plt.xticks(range(0, btc_data.shape[0],55), btc_data['Date'].loc[::55],rotation=45)\n",
        "plt.title(\"Bitcoin Price\",fontsize=18, fontweight='bold')\n",
        "plt.xlabel('Date',fontsize=18)\n",
        "plt.ylabel('Close Price (USD)',fontsize=18)\n",
        "plt.show()"
      ],
      "execution_count": 58,
      "outputs": [
        {
          "output_type": "display_data",
          "data": {
            "image/png": "[encoded data removed]",
            "text/plain": [
              "<Figure size 1296x648 with 1 Axes>"
            ]
          },
          "metadata": {
            "tags": []
          }
        }
      ]
    },
    {
      "cell_type": "markdown",
      "metadata": {
        "id": "AVhF0Kx2JvTx",
        "colab_type": "text"
      },
      "source": [
        "#XLM"
      ]
    },
    {
      "cell_type": "code",
      "metadata": {
        "id": "SYL1ndVNIzGz",
        "colab_type": "code",
        "colab": {
          "base_uri": "https://localhost:8080/",
          "height": 595
        },
        "outputId": "043c2185-9ea9-4bcf-b531-73dc94708a8d"
      },
      "source": [
        "xlm_price = xlm_data[['Close']]\n",
        "\n",
        "plt.figure(figsize = (18,9))\n",
        "plt.plot(xlm_price)\n",
        "plt.xticks(range(0, xlm_data.shape[0],55), xlm_data['Date'].loc[::55],rotation=45)\n",
        "plt.title(\"XLM Price\",fontsize=18, fontweight='bold')\n",
        "plt.xlabel('Date',fontsize=18)\n",
        "plt.ylabel('Close Price (USD)',fontsize=18)\n",
        "plt.show()"
      ],
      "execution_count": 5,
      "outputs": [
        {
          "output_type": "display_data",
          "data": {
            "image/png": "[encoded data removed]",
            "text/plain": [
              "<Figure size 1296x648 with 1 Axes>"
            ]
          },
          "metadata": {
            "tags": []
          }
        }
      ]
    },
    {
      "cell_type": "code",
      "metadata": {
        "id": "HD0Vg2w7K2ch",
        "colab_type": "code",
        "colab": {
          "base_uri": "https://localhost:8080/",
          "height": 156
        },
        "outputId": "ab39ff44-ac5f-478f-c8ff-9a9d3fa9440f"
      },
      "source": [
        "price.info()"
      ],
      "execution_count": 6,
      "outputs": [
        {
          "output_type": "stream",
          "text": [
            "<class 'pandas.core.frame.DataFrame'>\n",
            "RangeIndex: 2642 entries, 0 to 2641\n",
            "Data columns (total 1 columns):\n",
            " #   Column  Non-Null Count  Dtype  \n",
            "---  ------  --------------  -----  \n",
            " 0   Close   2642 non-null   float64\n",
            "dtypes: float64(1)\n",
            "memory usage: 20.8 KB\n"
          ],
          "name": "stdout"
        }
      ]
    },
    {
      "cell_type": "code",
      "metadata": {
        "id": "qNdZh9u14fNz",
        "colab_type": "code",
        "colab": {}
      },
      "source": [
        "recent_price = pd.DataFrame(btc_data['Close'][-6::])"
      ],
      "execution_count": 17,
      "outputs": []
    },
    {
      "cell_type": "code",
      "metadata": {
        "id": "x1-my_0zPMcM",
        "colab_type": "code",
        "colab": {
          "base_uri": "https://localhost:8080/",
          "height": 202
        },
        "outputId": "e7e7a32c-0954-43f8-fb0b-6299bec22f75"
      },
      "source": [
        "price.tail()"
      ],
      "execution_count": 18,
      "outputs": [
        {
          "output_type": "execute_result",
          "data": {
            "text/html": [
              "<div>\n",
              "<style scoped>\n",
              "    .dataframe tbody tr th:only-of-type {\n",
              "        vertical-align: middle;\n",
              "    }\n",
              "\n",
              "    .dataframe tbody tr th {\n",
              "        vertical-align: top;\n",
              "    }\n",
              "\n",
              "    .dataframe thead th {\n",
              "        text-align: right;\n",
              "    }\n",
              "</style>\n",
              "<table border=\"1\" class=\"dataframe\">\n",
              "  <thead>\n",
              "    <tr style=\"text-align: right;\">\n",
              "      <th></th>\n",
              "      <th>Close</th>\n",
              "    </tr>\n",
              "  </thead>\n",
              "  <tbody>\n",
              "    <tr>\n",
              "      <th>2637</th>\n",
              "      <td>11110.12</td>\n",
              "    </tr>\n",
              "    <tr>\n",
              "      <th>2638</th>\n",
              "      <td>11115.95</td>\n",
              "    </tr>\n",
              "    <tr>\n",
              "      <th>2639</th>\n",
              "      <td>11351.62</td>\n",
              "    </tr>\n",
              "    <tr>\n",
              "      <th>2640</th>\n",
              "      <td>11810.07</td>\n",
              "    </tr>\n",
              "    <tr>\n",
              "      <th>2641</th>\n",
              "      <td>11182.73</td>\n",
              "    </tr>\n",
              "  </tbody>\n",
              "</table>\n",
              "</div>"
            ],
            "text/plain": [
              "         Close\n",
              "2637  11110.12\n",
              "2638  11115.95\n",
              "2639  11351.62\n",
              "2640  11810.07\n",
              "2641  11182.73"
            ]
          },
          "metadata": {
            "tags": []
          },
          "execution_count": 18
        }
      ]
    },
    {
      "cell_type": "code",
      "metadata": {
        "id": "iG5SftW97W_G",
        "colab_type": "code",
        "colab": {
          "base_uri": "https://localhost:8080/",
          "height": 230
        },
        "outputId": "80483248-7681-4cae-ffe0-752a5a00dc60"
      },
      "source": [
        "recent_price"
      ],
      "execution_count": 19,
      "outputs": [
        {
          "output_type": "execute_result",
          "data": {
            "text/html": [
              "<div>\n",
              "<style scoped>\n",
              "    .dataframe tbody tr th:only-of-type {\n",
              "        vertical-align: middle;\n",
              "    }\n",
              "\n",
              "    .dataframe tbody tr th {\n",
              "        vertical-align: top;\n",
              "    }\n",
              "\n",
              "    .dataframe thead th {\n",
              "        text-align: right;\n",
              "    }\n",
              "</style>\n",
              "<table border=\"1\" class=\"dataframe\">\n",
              "  <thead>\n",
              "    <tr style=\"text-align: right;\">\n",
              "      <th></th>\n",
              "      <th>Close</th>\n",
              "    </tr>\n",
              "  </thead>\n",
              "  <tbody>\n",
              "    <tr>\n",
              "      <th>2636</th>\n",
              "      <td>10934.00</td>\n",
              "    </tr>\n",
              "    <tr>\n",
              "      <th>2637</th>\n",
              "      <td>11110.12</td>\n",
              "    </tr>\n",
              "    <tr>\n",
              "      <th>2638</th>\n",
              "      <td>11115.95</td>\n",
              "    </tr>\n",
              "    <tr>\n",
              "      <th>2639</th>\n",
              "      <td>11351.62</td>\n",
              "    </tr>\n",
              "    <tr>\n",
              "      <th>2640</th>\n",
              "      <td>11810.07</td>\n",
              "    </tr>\n",
              "    <tr>\n",
              "      <th>2641</th>\n",
              "      <td>11182.73</td>\n",
              "    </tr>\n",
              "  </tbody>\n",
              "</table>\n",
              "</div>"
            ],
            "text/plain": [
              "         Close\n",
              "2636  10934.00\n",
              "2637  11110.12\n",
              "2638  11115.95\n",
              "2639  11351.62\n",
              "2640  11810.07\n",
              "2641  11182.73"
            ]
          },
          "metadata": {
            "tags": []
          },
          "execution_count": 19
        }
      ]
    },
    {
      "cell_type": "code",
      "metadata": {
        "id": "N8JmBPsQ8EyM",
        "colab_type": "code",
        "colab": {
          "base_uri": "https://localhost:8080/",
          "height": 35
        },
        "outputId": "c59b642e-08d8-4d17-eaef-7dba2f387fc6"
      },
      "source": [
        "type(price)"
      ],
      "execution_count": null,
      "outputs": [
        {
          "output_type": "execute_result",
          "data": {
            "text/plain": [
              "pandas.core.frame.DataFrame"
            ]
          },
          "metadata": {
            "tags": []
          },
          "execution_count": 10
        }
      ]
    },
    {
      "cell_type": "code",
      "metadata": {
        "id": "IUaafCM70_86",
        "colab_type": "code",
        "colab": {}
      },
      "source": [
        "del model"
      ],
      "execution_count": 68,
      "outputs": []
    },
    {
      "cell_type": "code",
      "metadata": {
        "id": "mnBJw1E1M3Dc",
        "colab_type": "code",
        "colab": {}
      },
      "source": [
        "from sklearn.preprocessing import MinMaxScaler\n",
        "min_max_scaler = MinMaxScaler()\n",
        "\n",
        "norm_data = min_max_scaler.fit_transform(price.values)\n",
        "norm_preds = min_max_scaler.fit_transform(recent_price.values)"
      ],
      "execution_count": 69,
      "outputs": []
    },
    {
      "cell_type": "code",
      "metadata": {
        "id": "m4bGE07NM-Pk",
        "colab_type": "code",
        "colab": {}
      },
      "source": [
        "def univariate_data(dataset, start_index, end_index, history_size, target_size):\n",
        "  data = []\n",
        "  labels = []\n",
        "\n",
        "  start_index = start_index + history_size\n",
        "  if end_index is None:\n",
        "    end_index = len(dataset) - target_size\n",
        "\n",
        "  for i in range(start_index, end_index):\n",
        "    indices = range(i-history_size, i)\n",
        "    # Reshape data from (history_size,) to (history_size, 1)\n",
        "    data.append(np.reshape(dataset[indices], (history_size, 1)))\n",
        "    labels.append(dataset[i+target_size])\n",
        "  return np.array(data), np.array(labels)"
      ],
      "execution_count": 70,
      "outputs": []
    },
    {
      "cell_type": "code",
      "metadata": {
        "id": "uX2Xm6J-sJ5O",
        "colab_type": "code",
        "colab": {
          "base_uri": "https://localhost:8080/",
          "height": 35
        },
        "outputId": "61267155-91c4-44f8-8f6e-728ea8ac1ef4"
      },
      "source": [
        "len(norm_data)"
      ],
      "execution_count": 61,
      "outputs": [
        {
          "output_type": "execute_result",
          "data": {
            "text/plain": [
              "2664"
            ]
          },
          "metadata": {
            "tags": []
          },
          "execution_count": 61
        }
      ]
    },
    {
      "cell_type": "markdown",
      "metadata": {
        "id": "caCosWh5sYyN",
        "colab_type": "text"
      },
      "source": [
        "#The next split for norm_data is relevant to create our train/test"
      ]
    },
    {
      "cell_type": "code",
      "metadata": {
        "id": "KxRVU9j_NUiQ",
        "colab_type": "code",
        "colab": {}
      },
      "source": [
        "past_history = 5\n",
        "future_target = 1\n",
        "\n",
        "\n",
        "\n",
        "x_train, y_train = univariate_data(norm_data,\n",
        "                                   0,\n",
        "                                   2113,\n",
        "                                   past_history,\n",
        "                                   future_target)\n",
        "\n",
        "x_test, y_test = univariate_data(norm_data,\n",
        "                                 2114,\n",
        "                                 2663,\n",
        "                                 past_history,\n",
        "                                 future_target)\n",
        "\n",
        "pred_test, y_pred = univariate_data(norm_preds, 0, None, past_history, future_target)"
      ],
      "execution_count": 71,
      "outputs": []
    },
    {
      "cell_type": "code",
      "metadata": {
        "id": "_a2r393NziWf",
        "colab_type": "code",
        "colab": {
          "base_uri": "https://localhost:8080/",
          "height": 675
        },
        "outputId": "b77a29ed-6715-4be5-856e-83628e98140f"
      },
      "source": [
        "x_test"
      ],
      "execution_count": 72,
      "outputs": [
        {
          "output_type": "execute_result",
          "data": {
            "text/plain": [
              "array([[[0.18641029],\n",
              "        [0.18426093],\n",
              "        [0.18452342],\n",
              "        [0.18341888],\n",
              "        [0.18263706]],\n",
              "\n",
              "       [[0.18426093],\n",
              "        [0.18452342],\n",
              "        [0.18341888],\n",
              "        [0.18263706],\n",
              "        [0.18283934]],\n",
              "\n",
              "       [[0.18452342],\n",
              "        [0.18341888],\n",
              "        [0.18263706],\n",
              "        [0.18283934],\n",
              "        [0.18330153]],\n",
              "\n",
              "       ...,\n",
              "\n",
              "       [[0.57323986],\n",
              "        [0.60109157],\n",
              "        [0.60277719],\n",
              "        [0.59360018],\n",
              "        [0.6014534 ]],\n",
              "\n",
              "       [[0.60109157],\n",
              "        [0.60277719],\n",
              "        [0.59360018],\n",
              "        [0.6014534 ],\n",
              "        [0.59742282]],\n",
              "\n",
              "       [[0.60277719],\n",
              "        [0.59360018],\n",
              "        [0.6014534 ],\n",
              "        [0.59742282],\n",
              "        [0.60783871]]])"
            ]
          },
          "metadata": {
            "tags": []
          },
          "execution_count": 72
        }
      ]
    },
    {
      "cell_type": "code",
      "metadata": {
        "id": "DjXQdrE18tEM",
        "colab_type": "code",
        "colab": {
          "base_uri": "https://localhost:8080/",
          "height": 35
        },
        "outputId": "2df9b1e4-7989-499b-ac60-ed814d28cee2"
      },
      "source": [
        "pred_test"
      ],
      "execution_count": 29,
      "outputs": [
        {
          "output_type": "execute_result",
          "data": {
            "text/plain": [
              "array([], dtype=float64)"
            ]
          },
          "metadata": {
            "tags": []
          },
          "execution_count": 29
        }
      ]
    },
    {
      "cell_type": "code",
      "metadata": {
        "id": "mVqTIDxxNie4",
        "colab_type": "code",
        "colab": {}
      },
      "source": [
        "from keras.models import Sequential\n",
        "from keras.optimizers import Adam\n",
        "from keras.layers import Dense, LSTM, LeakyReLU, Dropout\n",
        "\n",
        "num_units = 80\n",
        "learning_rate = 0.00001\n",
        "activation_function = 'sigmoid'\n",
        "adam = Adam(lr=learning_rate)\n",
        "loss_function = 'mse'\n",
        "batch_size = 5\n",
        "num_epochs = 60\n",
        "\n",
        "# Initialize the RNN\n",
        "model = Sequential()\n",
        "model.add(LSTM(units = num_units, return_sequences=True, input_shape=(None, 1)))\n",
        "model.add(LSTM(units = num_units, return_sequences=True, input_shape=(None,80)))\n",
        "model.add(LSTM(units = num_units, activation=activation_function, input_shape=(None,80)))\n",
        "model.add(LeakyReLU(alpha=0.5))\n",
        "model.add(Dropout(0.15))\n",
        "model.add(Dense(units = 1))\n",
        "\n",
        "# Compiling the RNN\n",
        "model.compile(optimizer=adam, loss=loss_function)"
      ],
      "execution_count": 73,
      "outputs": []
    },
    {
      "cell_type": "code",
      "metadata": {
        "id": "kNSYKG8KNmB_",
        "colab_type": "code",
        "colab": {
          "base_uri": "https://localhost:8080/",
          "height": 372
        },
        "outputId": "7556e0ad-7abe-400d-8e9d-8e7870b30e8a"
      },
      "source": [
        "model.summary()"
      ],
      "execution_count": 74,
      "outputs": [
        {
          "output_type": "stream",
          "text": [
            "Model: \"sequential_1\"\n",
            "_________________________________________________________________\n",
            "Layer (type)                 Output Shape              Param #   \n",
            "=================================================================\n",
            "lstm_3 (LSTM)                (None, None, 80)          26240     \n",
            "_________________________________________________________________\n",
            "lstm_4 (LSTM)                (None, None, 80)          51520     \n",
            "_________________________________________________________________\n",
            "lstm_5 (LSTM)                (None, 80)                51520     \n",
            "_________________________________________________________________\n",
            "leaky_re_lu_1 (LeakyReLU)    (None, 80)                0         \n",
            "_________________________________________________________________\n",
            "dropout_1 (Dropout)          (None, 80)                0         \n",
            "_________________________________________________________________\n",
            "dense_1 (Dense)              (None, 1)                 81        \n",
            "=================================================================\n",
            "Total params: 129,361\n",
            "Trainable params: 129,361\n",
            "Non-trainable params: 0\n",
            "_________________________________________________________________\n"
          ],
          "name": "stdout"
        }
      ]
    },
    {
      "cell_type": "code",
      "metadata": {
        "id": "bNnCu_c9NsNJ",
        "colab_type": "code",
        "colab": {
          "base_uri": "https://localhost:8080/",
          "height": 1000
        },
        "outputId": "07f4db7c-b071-42df-8cb3-b0a273be102e"
      },
      "source": [
        "history = model.fit(\n",
        "    x_train,\n",
        "    y_train,\n",
        "    validation_split=0.1,\n",
        "    batch_size=batch_size,\n",
        "    epochs=num_epochs,\n",
        "    shuffle=False\n",
        ")\n",
        "\n",
        "loss = history.history['loss']\n",
        "val_loss = history.history['val_loss']\n",
        "\n",
        "epochs = range(len(loss))\n",
        "\n",
        "plt.figure()\n",
        "\n",
        "plt.plot(epochs, loss, 'b', label='Training loss')\n",
        "plt.plot(epochs, val_loss, 'r', label='Validation loss')\n",
        "plt.title(\"Training and Validation Loss\")\n",
        "plt.legend()\n",
        "\n",
        "plt.show()"
      ],
      "execution_count": 75,
      "outputs": [
        {
          "output_type": "stream",
          "text": [
            "Epoch 1/60\n",
            "380/380 [==============================] - 4s 10ms/step - loss: 0.0625 - val_loss: 0.0135\n",
            "Epoch 2/60\n",
            "380/380 [==============================] - 3s 7ms/step - loss: 0.0735 - val_loss: 0.0151\n",
            "Epoch 3/60\n",
            "380/380 [==============================] - 3s 7ms/step - loss: 0.0655 - val_loss: 0.0165\n",
            "Epoch 4/60\n",
            "380/380 [==============================] - 3s 7ms/step - loss: 0.0660 - val_loss: 0.0171\n",
            "Epoch 5/60\n",
            "380/380 [==============================] - 3s 7ms/step - loss: 0.0651 - val_loss: 0.0140\n",
            "Epoch 6/60\n",
            "380/380 [==============================] - 3s 8ms/step - loss: 0.0632 - val_loss: 0.0129\n",
            "Epoch 7/60\n",
            "380/380 [==============================] - 3s 7ms/step - loss: 0.0597 - val_loss: 0.0103\n",
            "Epoch 8/60\n",
            "380/380 [==============================] - 3s 7ms/step - loss: 0.0577 - val_loss: 0.0087\n",
            "Epoch 9/60\n",
            "380/380 [==============================] - 3s 7ms/step - loss: 0.0550 - val_loss: 0.0068\n",
            "Epoch 10/60\n",
            "380/380 [==============================] - 3s 7ms/step - loss: 0.0496 - val_loss: 0.0043\n",
            "Epoch 11/60\n",
            "380/380 [==============================] - 3s 7ms/step - loss: 0.0506 - val_loss: 0.0030\n",
            "Epoch 12/60\n",
            "380/380 [==============================] - 3s 7ms/step - loss: 0.0443 - val_loss: 0.0019\n",
            "Epoch 13/60\n",
            "380/380 [==============================] - 3s 8ms/step - loss: 0.0396 - val_loss: 0.0011\n",
            "Epoch 14/60\n",
            "380/380 [==============================] - 3s 7ms/step - loss: 0.0366 - val_loss: 7.1353e-04\n",
            "Epoch 15/60\n",
            "380/380 [==============================] - 3s 8ms/step - loss: 0.0350 - val_loss: 5.6468e-04\n",
            "Epoch 16/60\n",
            "380/380 [==============================] - 3s 8ms/step - loss: 0.0350 - val_loss: 5.6320e-04\n",
            "Epoch 17/60\n",
            "380/380 [==============================] - 3s 8ms/step - loss: 0.0327 - val_loss: 4.5783e-04\n",
            "Epoch 18/60\n",
            "380/380 [==============================] - 3s 7ms/step - loss: 0.0326 - val_loss: 7.8422e-04\n",
            "Epoch 19/60\n",
            "380/380 [==============================] - 3s 7ms/step - loss: 0.0341 - val_loss: 6.1884e-04\n",
            "Epoch 20/60\n",
            "380/380 [==============================] - 3s 7ms/step - loss: 0.0317 - val_loss: 6.5252e-04\n",
            "Epoch 21/60\n",
            "380/380 [==============================] - 3s 7ms/step - loss: 0.0317 - val_loss: 5.7823e-04\n",
            "Epoch 22/60\n",
            "380/380 [==============================] - 3s 8ms/step - loss: 0.0292 - val_loss: 8.9733e-04\n",
            "Epoch 23/60\n",
            "380/380 [==============================] - 3s 7ms/step - loss: 0.0320 - val_loss: 4.6378e-04\n",
            "Epoch 24/60\n",
            "380/380 [==============================] - 3s 8ms/step - loss: 0.0298 - val_loss: 7.1822e-04\n",
            "Epoch 25/60\n",
            "380/380 [==============================] - 3s 8ms/step - loss: 0.0296 - val_loss: 5.0732e-04\n",
            "Epoch 26/60\n",
            "380/380 [==============================] - 3s 7ms/step - loss: 0.0287 - val_loss: 6.9793e-04\n",
            "Epoch 27/60\n",
            "380/380 [==============================] - 3s 8ms/step - loss: 0.0280 - val_loss: 4.7860e-04\n",
            "Epoch 28/60\n",
            "380/380 [==============================] - 3s 7ms/step - loss: 0.0276 - val_loss: 4.6699e-04\n",
            "Epoch 29/60\n",
            "380/380 [==============================] - 3s 7ms/step - loss: 0.0267 - val_loss: 0.0011\n",
            "Epoch 30/60\n",
            "380/380 [==============================] - 3s 7ms/step - loss: 0.0266 - val_loss: 4.8593e-04\n",
            "Epoch 31/60\n",
            "380/380 [==============================] - 3s 8ms/step - loss: 0.0253 - val_loss: 4.5583e-04\n",
            "Epoch 32/60\n",
            "380/380 [==============================] - 3s 8ms/step - loss: 0.0265 - val_loss: 5.4045e-04\n",
            "Epoch 33/60\n",
            "380/380 [==============================] - 3s 7ms/step - loss: 0.0259 - val_loss: 5.1136e-04\n",
            "Epoch 34/60\n",
            "380/380 [==============================] - 3s 7ms/step - loss: 0.0264 - val_loss: 4.3708e-04\n",
            "Epoch 35/60\n",
            "380/380 [==============================] - 3s 8ms/step - loss: 0.0237 - val_loss: 4.7651e-04\n",
            "Epoch 36/60\n",
            "380/380 [==============================] - 3s 8ms/step - loss: 0.0263 - val_loss: 6.5701e-04\n",
            "Epoch 37/60\n",
            "380/380 [==============================] - 3s 8ms/step - loss: 0.0245 - val_loss: 4.4276e-04\n",
            "Epoch 38/60\n",
            "380/380 [==============================] - 3s 8ms/step - loss: 0.0234 - val_loss: 4.3062e-04\n",
            "Epoch 39/60\n",
            "380/380 [==============================] - 3s 8ms/step - loss: 0.0217 - val_loss: 4.2960e-04\n",
            "Epoch 40/60\n",
            "380/380 [==============================] - 3s 8ms/step - loss: 0.0212 - val_loss: 5.4586e-04\n",
            "Epoch 41/60\n",
            "380/380 [==============================] - 3s 8ms/step - loss: 0.0217 - val_loss: 4.8280e-04\n",
            "Epoch 42/60\n",
            "380/380 [==============================] - 3s 7ms/step - loss: 0.0212 - val_loss: 4.3010e-04\n",
            "Epoch 43/60\n",
            "380/380 [==============================] - 3s 8ms/step - loss: 0.0208 - val_loss: 5.1526e-04\n",
            "Epoch 44/60\n",
            "380/380 [==============================] - 3s 7ms/step - loss: 0.0201 - val_loss: 4.4011e-04\n",
            "Epoch 45/60\n",
            "380/380 [==============================] - 3s 7ms/step - loss: 0.0209 - val_loss: 5.0566e-04\n",
            "Epoch 46/60\n",
            "380/380 [==============================] - 3s 7ms/step - loss: 0.0197 - val_loss: 4.3829e-04\n",
            "Epoch 47/60\n",
            "380/380 [==============================] - 3s 8ms/step - loss: 0.0187 - val_loss: 4.3566e-04\n",
            "Epoch 48/60\n",
            "380/380 [==============================] - 3s 8ms/step - loss: 0.0190 - val_loss: 5.3583e-04\n",
            "Epoch 49/60\n",
            "380/380 [==============================] - 3s 8ms/step - loss: 0.0186 - val_loss: 4.3033e-04\n",
            "Epoch 50/60\n",
            "380/380 [==============================] - 3s 8ms/step - loss: 0.0180 - val_loss: 4.3588e-04\n",
            "Epoch 51/60\n",
            "380/380 [==============================] - 3s 7ms/step - loss: 0.0180 - val_loss: 4.5760e-04\n",
            "Epoch 52/60\n",
            "380/380 [==============================] - 3s 7ms/step - loss: 0.0183 - val_loss: 5.7142e-04\n",
            "Epoch 53/60\n",
            "380/380 [==============================] - 3s 7ms/step - loss: 0.0184 - val_loss: 4.3044e-04\n",
            "Epoch 54/60\n",
            "380/380 [==============================] - 3s 8ms/step - loss: 0.0172 - val_loss: 4.3958e-04\n",
            "Epoch 55/60\n",
            "380/380 [==============================] - 3s 7ms/step - loss: 0.0172 - val_loss: 6.1922e-04\n",
            "Epoch 56/60\n",
            "380/380 [==============================] - 3s 8ms/step - loss: 0.0159 - val_loss: 4.3513e-04\n",
            "Epoch 57/60\n",
            "380/380 [==============================] - 3s 8ms/step - loss: 0.0161 - val_loss: 5.5457e-04\n",
            "Epoch 58/60\n",
            "380/380 [==============================] - 3s 8ms/step - loss: 0.0160 - val_loss: 4.3285e-04\n",
            "Epoch 59/60\n",
            "380/380 [==============================] - 3s 8ms/step - loss: 0.0160 - val_loss: 4.3093e-04\n",
            "Epoch 60/60\n",
            "380/380 [==============================] - 3s 7ms/step - loss: 0.0151 - val_loss: 4.3480e-04\n"
          ],
          "name": "stdout"
        },
        {
          "output_type": "display_data",
          "data": {
            "image/png": "[encoded data removed]",
            "text/plain": [
              "<Figure size 432x288 with 1 Axes>"
            ]
          },
          "metadata": {
            "tags": []
          }
        }
      ]
    },
    {
      "cell_type": "code",
      "metadata": {
        "id": "3R3VrgR8OG9_",
        "colab_type": "code",
        "colab": {
          "base_uri": "https://localhost:8080/",
          "height": 310
        },
        "outputId": "971750c1-75de-4a44-fc2f-e91fb158da2b"
      },
      "source": [
        "original = pd.DataFrame(min_max_scaler.inverse_transform(y_test))\n",
        "predictions = pd.DataFrame(min_max_scaler.inverse_transform(model.predict(x_test)))\n",
        "\n",
        "ax = sns.lineplot(x=original.index, y=original[0], label=\"Test Data\", color='royalblue')\n",
        "ax = sns.lineplot(x=predictions.index, y=predictions[0], label=\"Prediction\", color='tomato')\n",
        "ax.set_title('Bitcoin price', size = 14, fontweight='bold')\n",
        "ax.set_xlabel(\"Days\", size = 14)\n",
        "ax.set_ylabel(\"Cost (USD)\", size = 14)\n",
        "ax.set_xticklabels('', size=10)"
      ],
      "execution_count": 76,
      "outputs": [
        {
          "output_type": "execute_result",
          "data": {
            "text/plain": [
              "[]"
            ]
          },
          "metadata": {
            "tags": []
          },
          "execution_count": 76
        },
        {
          "output_type": "display_data",
          "data": {
            "image/png": "[encoded data removed]",
            "text/plain": [
              "<Figure size 432x288 with 1 Axes>"
            ]
          },
          "metadata": {
            "tags": []
          }
        }
      ]
    },
    {
      "cell_type": "code",
      "metadata": {
        "id": "h-JDoXRAHMY1",
        "colab_type": "code",
        "colab": {
          "base_uri": "https://localhost:8080/",
          "height": 410
        },
        "outputId": "1d845e28-e239-42bd-e653-718ba81f031a"
      },
      "source": [
        "original"
      ],
      "execution_count": 77,
      "outputs": [
        {
          "output_type": "execute_result",
          "data": {
            "text/html": [
              "<div>\n",
              "<style scoped>\n",
              "    .dataframe tbody tr th:only-of-type {\n",
              "        vertical-align: middle;\n",
              "    }\n",
              "\n",
              "    .dataframe tbody tr th {\n",
              "        vertical-align: top;\n",
              "    }\n",
              "\n",
              "    .dataframe thead th {\n",
              "        text-align: right;\n",
              "    }\n",
              "</style>\n",
              "<table border=\"1\" class=\"dataframe\">\n",
              "  <thead>\n",
              "    <tr style=\"text-align: right;\">\n",
              "      <th></th>\n",
              "      <th>0</th>\n",
              "    </tr>\n",
              "  </thead>\n",
              "  <tbody>\n",
              "    <tr>\n",
              "      <th>0</th>\n",
              "      <td>11094.584975</td>\n",
              "    </tr>\n",
              "    <tr>\n",
              "      <th>1</th>\n",
              "      <td>11096.571229</td>\n",
              "    </tr>\n",
              "    <tr>\n",
              "      <th>2</th>\n",
              "      <td>11107.477369</td>\n",
              "    </tr>\n",
              "    <tr>\n",
              "      <th>3</th>\n",
              "      <td>11108.892321</td>\n",
              "    </tr>\n",
              "    <tr>\n",
              "      <th>4</th>\n",
              "      <td>11111.269965</td>\n",
              "    </tr>\n",
              "    <tr>\n",
              "      <th>...</th>\n",
              "      <td>...</td>\n",
              "    </tr>\n",
              "    <tr>\n",
              "      <th>539</th>\n",
              "      <td>11460.915277</td>\n",
              "    </tr>\n",
              "    <tr>\n",
              "      <th>540</th>\n",
              "      <td>11457.384208</td>\n",
              "    </tr>\n",
              "    <tr>\n",
              "      <th>541</th>\n",
              "      <td>11466.509256</td>\n",
              "    </tr>\n",
              "    <tr>\n",
              "      <th>542</th>\n",
              "      <td>11445.425647</td>\n",
              "    </tr>\n",
              "    <tr>\n",
              "      <th>543</th>\n",
              "      <td>11453.289502</td>\n",
              "    </tr>\n",
              "  </tbody>\n",
              "</table>\n",
              "<p>544 rows × 1 columns</p>\n",
              "</div>"
            ],
            "text/plain": [
              "                0\n",
              "0    11094.584975\n",
              "1    11096.571229\n",
              "2    11107.477369\n",
              "3    11108.892321\n",
              "4    11111.269965\n",
              "..            ...\n",
              "539  11460.915277\n",
              "540  11457.384208\n",
              "541  11466.509256\n",
              "542  11445.425647\n",
              "543  11453.289502\n",
              "\n",
              "[544 rows x 1 columns]"
            ]
          },
          "metadata": {
            "tags": []
          },
          "execution_count": 77
        }
      ]
    },
    {
      "cell_type": "code",
      "metadata": {
        "id": "sl_XlT_pHOQa",
        "colab_type": "code",
        "colab": {
          "base_uri": "https://localhost:8080/",
          "height": 411
        },
        "outputId": "6574997d-f56b-42c4-ea9f-9035e72115d0"
      },
      "source": [
        "predictions"
      ],
      "execution_count": 78,
      "outputs": [
        {
          "output_type": "execute_result",
          "data": {
            "text/html": [
              "<div>\n",
              "<style scoped>\n",
              "    .dataframe tbody tr th:only-of-type {\n",
              "        vertical-align: middle;\n",
              "    }\n",
              "\n",
              "    .dataframe tbody tr th {\n",
              "        vertical-align: top;\n",
              "    }\n",
              "\n",
              "    .dataframe thead th {\n",
              "        text-align: right;\n",
              "    }\n",
              "</style>\n",
              "<table border=\"1\" class=\"dataframe\">\n",
              "  <thead>\n",
              "    <tr style=\"text-align: right;\">\n",
              "      <th></th>\n",
              "      <th>0</th>\n",
              "    </tr>\n",
              "  </thead>\n",
              "  <tbody>\n",
              "    <tr>\n",
              "      <th>0</th>\n",
              "      <td>11096.508789</td>\n",
              "    </tr>\n",
              "    <tr>\n",
              "      <th>1</th>\n",
              "      <td>11095.610352</td>\n",
              "    </tr>\n",
              "    <tr>\n",
              "      <th>2</th>\n",
              "      <td>11095.358398</td>\n",
              "    </tr>\n",
              "    <tr>\n",
              "      <th>3</th>\n",
              "      <td>11094.939453</td>\n",
              "    </tr>\n",
              "    <tr>\n",
              "      <th>4</th>\n",
              "      <td>11095.383789</td>\n",
              "    </tr>\n",
              "    <tr>\n",
              "      <th>...</th>\n",
              "      <td>...</td>\n",
              "    </tr>\n",
              "    <tr>\n",
              "      <th>539</th>\n",
              "      <td>11432.968750</td>\n",
              "    </tr>\n",
              "    <tr>\n",
              "      <th>540</th>\n",
              "      <td>11439.909180</td>\n",
              "    </tr>\n",
              "    <tr>\n",
              "      <th>541</th>\n",
              "      <td>11445.536133</td>\n",
              "    </tr>\n",
              "    <tr>\n",
              "      <th>542</th>\n",
              "      <td>11454.755859</td>\n",
              "    </tr>\n",
              "    <tr>\n",
              "      <th>543</th>\n",
              "      <td>11454.345703</td>\n",
              "    </tr>\n",
              "  </tbody>\n",
              "</table>\n",
              "<p>544 rows × 1 columns</p>\n",
              "</div>"
            ],
            "text/plain": [
              "                0\n",
              "0    11096.508789\n",
              "1    11095.610352\n",
              "2    11095.358398\n",
              "3    11094.939453\n",
              "4    11095.383789\n",
              "..            ...\n",
              "539  11432.968750\n",
              "540  11439.909180\n",
              "541  11445.536133\n",
              "542  11454.755859\n",
              "543  11454.345703\n",
              "\n",
              "[544 rows x 1 columns]"
            ]
          },
          "metadata": {
            "tags": []
          },
          "execution_count": 78
        }
      ]
    },
    {
      "cell_type": "code",
      "metadata": {
        "id": "czj_koSD0rCf",
        "colab_type": "code",
        "colab": {}
      },
      "source": [
        "len(x_test)"
      ],
      "execution_count": null,
      "outputs": []
    },
    {
      "cell_type": "markdown",
      "metadata": {
        "id": "2sLglE5DZ4zo",
        "colab_type": "text"
      },
      "source": [
        "#The next cell allows us to make a prediction from the final days on the dataset we gather from coinbase or coinmarketcap"
      ]
    },
    {
      "cell_type": "code",
      "metadata": {
        "id": "MD3Ott5LtqaJ",
        "colab_type": "code",
        "colab": {}
      },
      "source": [
        "ends = original[-7::]\n",
        "ends_test = min_max_scaler.fit_transform(ends.values)\n",
        "pred_test, y_pred = univariate_data(ends_test, 0, 6, past_history, future_target)\n",
        "new_preds = pd.DataFrame(min_max_scaler.inverse_transform(model.predict(pred_test)))"
      ],
      "execution_count": 97,
      "outputs": []
    },
    {
      "cell_type": "code",
      "metadata": {
        "id": "nn1xfbzjuEcW",
        "colab_type": "code",
        "colab": {
          "base_uri": "https://localhost:8080/",
          "height": 78
        },
        "outputId": "2ecbdcc3-0bfc-4e82-846f-6f311a19de0c"
      },
      "source": [
        "new_preds"
      ],
      "execution_count": 98,
      "outputs": [
        {
          "output_type": "execute_result",
          "data": {
            "text/html": [
              "<div>\n",
              "<style scoped>\n",
              "    .dataframe tbody tr th:only-of-type {\n",
              "        vertical-align: middle;\n",
              "    }\n",
              "\n",
              "    .dataframe tbody tr th {\n",
              "        vertical-align: top;\n",
              "    }\n",
              "\n",
              "    .dataframe thead th {\n",
              "        text-align: right;\n",
              "    }\n",
              "</style>\n",
              "<table border=\"1\" class=\"dataframe\">\n",
              "  <thead>\n",
              "    <tr style=\"text-align: right;\">\n",
              "      <th></th>\n",
              "      <th>0</th>\n",
              "    </tr>\n",
              "  </thead>\n",
              "  <tbody>\n",
              "    <tr>\n",
              "      <th>0</th>\n",
              "      <td>11459.15918</td>\n",
              "    </tr>\n",
              "  </tbody>\n",
              "</table>\n",
              "</div>"
            ],
            "text/plain": [
              "             0\n",
              "0  11459.15918"
            ]
          },
          "metadata": {
            "tags": []
          },
          "execution_count": 98
        }
      ]
    },
    {
      "cell_type": "code",
      "metadata": {
        "id": "2HcLLHN5BjzB",
        "colab_type": "code",
        "colab": {}
      },
      "source": [
        "ends = ends.append(new_preds)"
      ],
      "execution_count": 94,
      "outputs": []
    },
    {
      "cell_type": "code",
      "metadata": {
        "id": "IZHczMkJYqc5",
        "colab_type": "code",
        "colab": {}
      },
      "source": [
        "pred_again = ends[-7::]\n",
        "ends_test = min_max_scaler.fit_transform(pred_again.values)\n",
        "pred_test, y_pred = univariate_data(ends_test, 0, 6, past_history, future_target)\n",
        "new_pred_again = pd.DataFrame(min_max_scaler.inverse_transform(model.predict(pred_test)))"
      ],
      "execution_count": 95,
      "outputs": []
    },
    {
      "cell_type": "code",
      "metadata": {
        "id": "5k44DNnRZFAj",
        "colab_type": "code",
        "colab": {
          "base_uri": "https://localhost:8080/",
          "height": 78
        },
        "outputId": "0c404c02-0ef6-420d-bbbd-7502a6c02717"
      },
      "source": [
        "new_pred_again"
      ],
      "execution_count": 96,
      "outputs": [
        {
          "output_type": "execute_result",
          "data": {
            "text/html": [
              "<div>\n",
              "<style scoped>\n",
              "    .dataframe tbody tr th:only-of-type {\n",
              "        vertical-align: middle;\n",
              "    }\n",
              "\n",
              "    .dataframe tbody tr th {\n",
              "        vertical-align: top;\n",
              "    }\n",
              "\n",
              "    .dataframe thead th {\n",
              "        text-align: right;\n",
              "    }\n",
              "</style>\n",
              "<table border=\"1\" class=\"dataframe\">\n",
              "  <thead>\n",
              "    <tr style=\"text-align: right;\">\n",
              "      <th></th>\n",
              "      <th>0</th>\n",
              "    </tr>\n",
              "  </thead>\n",
              "  <tbody>\n",
              "    <tr>\n",
              "      <th>0</th>\n",
              "      <td>11457.305664</td>\n",
              "    </tr>\n",
              "  </tbody>\n",
              "</table>\n",
              "</div>"
            ],
            "text/plain": [
              "              0\n",
              "0  11457.305664"
            ]
          },
          "metadata": {
            "tags": []
          },
          "execution_count": 96
        }
      ]
    }
  ]
}