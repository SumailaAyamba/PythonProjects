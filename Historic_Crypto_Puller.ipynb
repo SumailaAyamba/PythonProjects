{
  "nbformat": 4,
  "nbformat_minor": 0,
  "metadata": {
    "colab": {
      "name": "Historic_Crypto_Puller.ipynb",
      "provenance": [],
      "collapsed_sections": [],
      "toc_visible": true,
      "authorship_tag": "ABX9TyN2HL3YuYwgkX7aX7LFVouK",
      "include_colab_link": true
    },
    "kernelspec": {
      "name": "python3",
      "display_name": "Python 3"
    }
  },
  "cells": [
    {
      "cell_type": "markdown",
      "metadata": {
        "id": "view-in-github",
        "colab_type": "text"
      },
      "source": [
        "<a href=\"https://colab.research.google.com/github/jarodchristiansen/PythonProjects/blob/master/Historic_Crypto_Puller.ipynb\" target=\"_parent\"><img src=\"https://colab.research.google.com/assets/colab-badge.svg\" alt=\"Open In Colab\"/></a>"
      ]
    },
    {
      "cell_type": "code",
      "metadata": {
        "id": "Xi0f1EiIZhhC",
        "colab_type": "code",
        "colab": {
          "base_uri": "https://localhost:8080/",
          "height": 212
        },
        "outputId": "ebeb4c28-892d-4fe2-f0d2-d0bc52bd570f"
      },
      "source": [
        "!pip install requests\n",
        "!pip install pandas\n",
        "!pip install numpy"
      ],
      "execution_count": 116,
      "outputs": [
        {
          "output_type": "stream",
          "text": [
            "Requirement already satisfied: requests in /usr/local/lib/python3.6/dist-packages (2.23.0)\n",
            "Requirement already satisfied: certifi>=2017.4.17 in /usr/local/lib/python3.6/dist-packages (from requests) (2020.6.20)\n",
            "Requirement already satisfied: chardet<4,>=3.0.2 in /usr/local/lib/python3.6/dist-packages (from requests) (3.0.4)\n",
            "Requirement already satisfied: urllib3!=1.25.0,!=1.25.1,<1.26,>=1.21.1 in /usr/local/lib/python3.6/dist-packages (from requests) (1.24.3)\n",
            "Requirement already satisfied: idna<3,>=2.5 in /usr/local/lib/python3.6/dist-packages (from requests) (2.10)\n",
            "Requirement already satisfied: pandas in /usr/local/lib/python3.6/dist-packages (1.0.5)\n",
            "Requirement already satisfied: pytz>=2017.2 in /usr/local/lib/python3.6/dist-packages (from pandas) (2018.9)\n",
            "Requirement already satisfied: python-dateutil>=2.6.1 in /usr/local/lib/python3.6/dist-packages (from pandas) (2.8.1)\n",
            "Requirement already satisfied: numpy>=1.13.3 in /usr/local/lib/python3.6/dist-packages (from pandas) (1.18.5)\n",
            "Requirement already satisfied: six>=1.5 in /usr/local/lib/python3.6/dist-packages (from python-dateutil>=2.6.1->pandas) (1.15.0)\n",
            "Requirement already satisfied: numpy in /usr/local/lib/python3.6/dist-packages (1.18.5)\n"
          ],
          "name": "stdout"
        }
      ]
    },
    {
      "cell_type": "code",
      "metadata": {
        "id": "u38g3aquaDm5",
        "colab_type": "code",
        "colab": {
          "base_uri": "https://localhost:8080/",
          "height": 35
        },
        "outputId": "09c681cc-022d-4ad2-d0be-f0654fa11e27"
      },
      "source": [
        "import requests\n",
        "from prettytable import PrettyTable\n",
        "import numpy as np\n",
        "import matplotlib.pyplot as plt\n",
        "import statsmodels.api as sm\n",
        "import seaborn as sns\n",
        "sns.set()\n",
        "\n",
        "import pandas as pd\n",
        "import gspread\n",
        "from gspread_dataframe import get_as_dataframe, set_with_dataframe\n",
        "from google.colab import drive, files\n",
        "drive.mount('/content/drive')\n",
        "from google.colab import auth\n",
        "auth.authenticate_user()\n",
        "from oauth2client.client import GoogleCredentials\n",
        "gc = gspread.authorize(GoogleCredentials.get_application_default())"
      ],
      "execution_count": 117,
      "outputs": [
        {
          "output_type": "stream",
          "text": [
            "Drive already mounted at /content/drive; to attempt to forcibly remount, call drive.mount(\"/content/drive\", force_remount=True).\n"
          ],
          "name": "stdout"
        }
      ]
    },
    {
      "cell_type": "code",
      "metadata": {
        "id": "WWuOMttE6oLG",
        "colab_type": "code",
        "colab": {
          "base_uri": "https://localhost:8080/",
          "height": 1000
        },
        "outputId": "aa662bde-b7c5-453d-a80d-21020e885400"
      },
      "source": [
        "cycles = []\n",
        "urls = []\n",
        "from datetime import datetime  \n",
        "from datetime import timedelta  \n",
        "\n",
        "timer = datetime.date(datetime(year=2020, month=5, day=3)) \n",
        "\n",
        "for i in range(90):\n",
        " timer = timer + timedelta(days=1)\n",
        " #cycles.append(timer)\n",
        " print(timer)\n",
        " urls.append('https://rest.coinapi.io/v1/ohlcv/BTC/USD/history?period_id=1DAY&time_start={}T00:00:00'.format(timer))"
      ],
      "execution_count": null,
      "outputs": [
        {
          "output_type": "stream",
          "text": [
            "2020-05-04\n",
            "2020-05-05\n",
            "2020-05-06\n",
            "2020-05-07\n",
            "2020-05-08\n",
            "2020-05-09\n",
            "2020-05-10\n",
            "2020-05-11\n",
            "2020-05-12\n",
            "2020-05-13\n",
            "2020-05-14\n",
            "2020-05-15\n",
            "2020-05-16\n",
            "2020-05-17\n",
            "2020-05-18\n",
            "2020-05-19\n",
            "2020-05-20\n",
            "2020-05-21\n",
            "2020-05-22\n",
            "2020-05-23\n",
            "2020-05-24\n",
            "2020-05-25\n",
            "2020-05-26\n",
            "2020-05-27\n",
            "2020-05-28\n",
            "2020-05-29\n",
            "2020-05-30\n",
            "2020-05-31\n",
            "2020-06-01\n",
            "2020-06-02\n",
            "2020-06-03\n",
            "2020-06-04\n",
            "2020-06-05\n",
            "2020-06-06\n",
            "2020-06-07\n",
            "2020-06-08\n",
            "2020-06-09\n",
            "2020-06-10\n",
            "2020-06-11\n",
            "2020-06-12\n",
            "2020-06-13\n",
            "2020-06-14\n",
            "2020-06-15\n",
            "2020-06-16\n",
            "2020-06-17\n",
            "2020-06-18\n",
            "2020-06-19\n",
            "2020-06-20\n",
            "2020-06-21\n",
            "2020-06-22\n",
            "2020-06-23\n",
            "2020-06-24\n",
            "2020-06-25\n",
            "2020-06-26\n",
            "2020-06-27\n",
            "2020-06-28\n",
            "2020-06-29\n",
            "2020-06-30\n",
            "2020-07-01\n",
            "2020-07-02\n",
            "2020-07-03\n",
            "2020-07-04\n",
            "2020-07-05\n",
            "2020-07-06\n",
            "2020-07-07\n",
            "2020-07-08\n",
            "2020-07-09\n",
            "2020-07-10\n",
            "2020-07-11\n",
            "2020-07-12\n",
            "2020-07-13\n",
            "2020-07-14\n",
            "2020-07-15\n",
            "2020-07-16\n",
            "2020-07-17\n",
            "2020-07-18\n",
            "2020-07-19\n",
            "2020-07-20\n",
            "2020-07-21\n",
            "2020-07-22\n",
            "2020-07-23\n",
            "2020-07-24\n",
            "2020-07-25\n",
            "2020-07-26\n",
            "2020-07-27\n",
            "2020-07-28\n",
            "2020-07-29\n",
            "2020-07-30\n",
            "2020-07-31\n",
            "2020-08-01\n"
          ],
          "name": "stdout"
        }
      ]
    },
    {
      "cell_type": "code",
      "metadata": {
        "id": "0U30Bu2W9uux",
        "colab_type": "code",
        "colab": {
          "base_uri": "https://localhost:8080/",
          "height": 35
        },
        "outputId": "4fdc29d8-e674-4f44-b0d6-93dadb927cc6"
      },
      "source": [
        "cycles"
      ],
      "execution_count": null,
      "outputs": [
        {
          "output_type": "execute_result",
          "data": {
            "text/plain": [
              "[]"
            ]
          },
          "metadata": {
            "tags": []
          },
          "execution_count": 47
        }
      ]
    },
    {
      "cell_type": "code",
      "metadata": {
        "id": "L-a6YVnfCjTC",
        "colab_type": "code",
        "colab": {}
      },
      "source": [
        "urls"
      ],
      "execution_count": null,
      "outputs": []
    },
    {
      "cell_type": "code",
      "metadata": {
        "id": "2_BFzvLjxoFa",
        "colab_type": "code",
        "colab": {}
      },
      "source": [
        "apikey = ''\n",
        "datas = []\n",
        "headers = {\n",
        "    'X-CoinAPI-Key': apikey\n",
        "}\n",
        "for url in urls:\n",
        " response = requests.get(url, headers=headers).json()\n",
        " datas.append(response)"
      ],
      "execution_count": null,
      "outputs": []
    },
    {
      "cell_type": "code",
      "metadata": {
        "id": "UXwlxYrWE0ig",
        "colab_type": "code",
        "colab": {
          "base_uri": "https://localhost:8080/",
          "height": 372
        },
        "outputId": "53ac2d3c-e698-4ec6-9954-208c857bd8dc"
      },
      "source": [
        "datas[89]"
      ],
      "execution_count": null,
      "outputs": [
        {
          "output_type": "execute_result",
          "data": {
            "text/plain": [
              "[{'price_close': 11810.07,\n",
              "  'price_high': 11894.73,\n",
              "  'price_low': 11228.0,\n",
              "  'price_open': 11351.61,\n",
              "  'time_close': '2020-08-01T23:59:59.9607290Z',\n",
              "  'time_open': '2020-08-01T00:00:00.2127820Z',\n",
              "  'time_period_end': '2020-08-02T00:00:00.0000000Z',\n",
              "  'time_period_start': '2020-08-01T00:00:00.0000000Z',\n",
              "  'trades_count': 238735,\n",
              "  'volume_traded': 38179.618191884},\n",
              " {'price_close': 11173.92,\n",
              "  'price_high': 12134.29,\n",
              "  'price_low': 10546.15,\n",
              "  'price_open': 11810.07,\n",
              "  'time_close': '2020-08-02T22:30:11.3495050Z',\n",
              "  'time_open': '2020-08-02T00:00:00.1568830Z',\n",
              "  'time_period_end': '2020-08-03T00:00:00.0000000Z',\n",
              "  'time_period_start': '2020-08-02T00:00:00.0000000Z',\n",
              "  'trades_count': 252856,\n",
              "  'volume_traded': 51680.403142733}]"
            ]
          },
          "metadata": {
            "tags": []
          },
          "execution_count": 55
        }
      ]
    },
    {
      "cell_type": "code",
      "metadata": {
        "id": "uEmsByEUFAXm",
        "colab_type": "code",
        "colab": {}
      },
      "source": [
        "start_date = []\n",
        "price_open = []\n",
        "price_close = []\n",
        "price_high = []\n",
        "price_low = []\n",
        "trades_count = []\n",
        "volume_traded = []\n",
        "\n",
        "for request in datas:\n",
        "  for day in request:\n",
        "    for key, value in day.items():\n",
        "     if key == 'time_period_start':\n",
        "       start_date.append(value.split('T')[0])\n",
        "     elif key == 'price_open':\n",
        "       price_open.append(value)\n",
        "     elif key == 'price_close':\n",
        "       price_close.append(value)\n",
        "     elif key == 'price_high':\n",
        "       price_high.append(value)\n",
        "     elif key == 'price_low':\n",
        "       price_low.append(value)\n",
        "     elif key == 'trades_count':\n",
        "       trades_count.append(value)\n",
        "     if key == 'volume_traded':\n",
        "       volume_traded.append(value)          "
      ],
      "execution_count": null,
      "outputs": []
    },
    {
      "cell_type": "code",
      "metadata": {
        "id": "hqio5J_pG6SK",
        "colab_type": "code",
        "colab": {}
      },
      "source": [
        "data = pd.DataFrame()\n",
        "\n",
        "data['Date'] = start_date\n",
        "data['Open'] = price_open\n",
        "data['High'] = price_high\n",
        "data['Low'] = price_low\n",
        "data['Close'] = price_close\n",
        "data['Volume'] = volume_traded"
      ],
      "execution_count": null,
      "outputs": []
    },
    {
      "cell_type": "code",
      "metadata": {
        "id": "Ez4JOvW1HIVG",
        "colab_type": "code",
        "colab": {}
      },
      "source": [
        "data.set_index('Date', inplace=True)"
      ],
      "execution_count": null,
      "outputs": []
    },
    {
      "cell_type": "code",
      "metadata": {
        "id": "SUHcyAakM60u",
        "colab_type": "code",
        "colab": {
          "base_uri": "https://localhost:8080/",
          "height": 315
        },
        "outputId": "c59b9a74-09b0-413c-bad8-ee76c83afa60"
      },
      "source": [
        "data.drop(axis=1, columns='index', inplace=True)"
      ],
      "execution_count": null,
      "outputs": [
        {
          "output_type": "error",
          "ename": "KeyError",
          "evalue": "ignored",
          "traceback": [
            "\u001b[0;31m---------------------------------------------------------------------------\u001b[0m",
            "\u001b[0;31mKeyError\u001b[0m                                  Traceback (most recent call last)",
            "\u001b[0;32m<ipython-input-59-4b368f18dbd1>\u001b[0m in \u001b[0;36m<module>\u001b[0;34m()\u001b[0m\n\u001b[0;32m----> 1\u001b[0;31m \u001b[0mdata\u001b[0m\u001b[0;34m.\u001b[0m\u001b[0mdrop\u001b[0m\u001b[0;34m(\u001b[0m\u001b[0maxis\u001b[0m\u001b[0;34m=\u001b[0m\u001b[0;36m1\u001b[0m\u001b[0;34m,\u001b[0m \u001b[0mcolumns\u001b[0m\u001b[0;34m=\u001b[0m\u001b[0;34m'index'\u001b[0m\u001b[0;34m,\u001b[0m \u001b[0minplace\u001b[0m\u001b[0;34m=\u001b[0m\u001b[0;32mTrue\u001b[0m\u001b[0;34m)\u001b[0m\u001b[0;34m\u001b[0m\u001b[0;34m\u001b[0m\u001b[0m\n\u001b[0m",
            "\u001b[0;32m/usr/local/lib/python3.6/dist-packages/pandas/core/frame.py\u001b[0m in \u001b[0;36mdrop\u001b[0;34m(self, labels, axis, index, columns, level, inplace, errors)\u001b[0m\n\u001b[1;32m   3995\u001b[0m             \u001b[0mlevel\u001b[0m\u001b[0;34m=\u001b[0m\u001b[0mlevel\u001b[0m\u001b[0;34m,\u001b[0m\u001b[0;34m\u001b[0m\u001b[0;34m\u001b[0m\u001b[0m\n\u001b[1;32m   3996\u001b[0m             \u001b[0minplace\u001b[0m\u001b[0;34m=\u001b[0m\u001b[0minplace\u001b[0m\u001b[0;34m,\u001b[0m\u001b[0;34m\u001b[0m\u001b[0;34m\u001b[0m\u001b[0m\n\u001b[0;32m-> 3997\u001b[0;31m             \u001b[0merrors\u001b[0m\u001b[0;34m=\u001b[0m\u001b[0merrors\u001b[0m\u001b[0;34m,\u001b[0m\u001b[0;34m\u001b[0m\u001b[0;34m\u001b[0m\u001b[0m\n\u001b[0m\u001b[1;32m   3998\u001b[0m         )\n\u001b[1;32m   3999\u001b[0m \u001b[0;34m\u001b[0m\u001b[0m\n",
            "\u001b[0;32m/usr/local/lib/python3.6/dist-packages/pandas/core/generic.py\u001b[0m in \u001b[0;36mdrop\u001b[0;34m(self, labels, axis, index, columns, level, inplace, errors)\u001b[0m\n\u001b[1;32m   3934\u001b[0m         \u001b[0;32mfor\u001b[0m \u001b[0maxis\u001b[0m\u001b[0;34m,\u001b[0m \u001b[0mlabels\u001b[0m \u001b[0;32min\u001b[0m \u001b[0maxes\u001b[0m\u001b[0;34m.\u001b[0m\u001b[0mitems\u001b[0m\u001b[0;34m(\u001b[0m\u001b[0;34m)\u001b[0m\u001b[0;34m:\u001b[0m\u001b[0;34m\u001b[0m\u001b[0;34m\u001b[0m\u001b[0m\n\u001b[1;32m   3935\u001b[0m             \u001b[0;32mif\u001b[0m \u001b[0mlabels\u001b[0m \u001b[0;32mis\u001b[0m \u001b[0;32mnot\u001b[0m \u001b[0;32mNone\u001b[0m\u001b[0;34m:\u001b[0m\u001b[0;34m\u001b[0m\u001b[0;34m\u001b[0m\u001b[0m\n\u001b[0;32m-> 3936\u001b[0;31m                 \u001b[0mobj\u001b[0m \u001b[0;34m=\u001b[0m \u001b[0mobj\u001b[0m\u001b[0;34m.\u001b[0m\u001b[0m_drop_axis\u001b[0m\u001b[0;34m(\u001b[0m\u001b[0mlabels\u001b[0m\u001b[0;34m,\u001b[0m \u001b[0maxis\u001b[0m\u001b[0;34m,\u001b[0m \u001b[0mlevel\u001b[0m\u001b[0;34m=\u001b[0m\u001b[0mlevel\u001b[0m\u001b[0;34m,\u001b[0m \u001b[0merrors\u001b[0m\u001b[0;34m=\u001b[0m\u001b[0merrors\u001b[0m\u001b[0;34m)\u001b[0m\u001b[0;34m\u001b[0m\u001b[0;34m\u001b[0m\u001b[0m\n\u001b[0m\u001b[1;32m   3937\u001b[0m \u001b[0;34m\u001b[0m\u001b[0m\n\u001b[1;32m   3938\u001b[0m         \u001b[0;32mif\u001b[0m \u001b[0minplace\u001b[0m\u001b[0;34m:\u001b[0m\u001b[0;34m\u001b[0m\u001b[0;34m\u001b[0m\u001b[0m\n",
            "\u001b[0;32m/usr/local/lib/python3.6/dist-packages/pandas/core/generic.py\u001b[0m in \u001b[0;36m_drop_axis\u001b[0;34m(self, labels, axis, level, errors)\u001b[0m\n\u001b[1;32m   3968\u001b[0m                 \u001b[0mnew_axis\u001b[0m \u001b[0;34m=\u001b[0m \u001b[0maxis\u001b[0m\u001b[0;34m.\u001b[0m\u001b[0mdrop\u001b[0m\u001b[0;34m(\u001b[0m\u001b[0mlabels\u001b[0m\u001b[0;34m,\u001b[0m \u001b[0mlevel\u001b[0m\u001b[0;34m=\u001b[0m\u001b[0mlevel\u001b[0m\u001b[0;34m,\u001b[0m \u001b[0merrors\u001b[0m\u001b[0;34m=\u001b[0m\u001b[0merrors\u001b[0m\u001b[0;34m)\u001b[0m\u001b[0;34m\u001b[0m\u001b[0;34m\u001b[0m\u001b[0m\n\u001b[1;32m   3969\u001b[0m             \u001b[0;32melse\u001b[0m\u001b[0;34m:\u001b[0m\u001b[0;34m\u001b[0m\u001b[0;34m\u001b[0m\u001b[0m\n\u001b[0;32m-> 3970\u001b[0;31m                 \u001b[0mnew_axis\u001b[0m \u001b[0;34m=\u001b[0m \u001b[0maxis\u001b[0m\u001b[0;34m.\u001b[0m\u001b[0mdrop\u001b[0m\u001b[0;34m(\u001b[0m\u001b[0mlabels\u001b[0m\u001b[0;34m,\u001b[0m \u001b[0merrors\u001b[0m\u001b[0;34m=\u001b[0m\u001b[0merrors\u001b[0m\u001b[0;34m)\u001b[0m\u001b[0;34m\u001b[0m\u001b[0;34m\u001b[0m\u001b[0m\n\u001b[0m\u001b[1;32m   3971\u001b[0m             \u001b[0mresult\u001b[0m \u001b[0;34m=\u001b[0m \u001b[0mself\u001b[0m\u001b[0;34m.\u001b[0m\u001b[0mreindex\u001b[0m\u001b[0;34m(\u001b[0m\u001b[0;34m**\u001b[0m\u001b[0;34m{\u001b[0m\u001b[0maxis_name\u001b[0m\u001b[0;34m:\u001b[0m \u001b[0mnew_axis\u001b[0m\u001b[0;34m}\u001b[0m\u001b[0;34m)\u001b[0m\u001b[0;34m\u001b[0m\u001b[0;34m\u001b[0m\u001b[0m\n\u001b[1;32m   3972\u001b[0m \u001b[0;34m\u001b[0m\u001b[0m\n",
            "\u001b[0;32m/usr/local/lib/python3.6/dist-packages/pandas/core/indexes/base.py\u001b[0m in \u001b[0;36mdrop\u001b[0;34m(self, labels, errors)\u001b[0m\n\u001b[1;32m   5016\u001b[0m         \u001b[0;32mif\u001b[0m \u001b[0mmask\u001b[0m\u001b[0;34m.\u001b[0m\u001b[0many\u001b[0m\u001b[0;34m(\u001b[0m\u001b[0;34m)\u001b[0m\u001b[0;34m:\u001b[0m\u001b[0;34m\u001b[0m\u001b[0;34m\u001b[0m\u001b[0m\n\u001b[1;32m   5017\u001b[0m             \u001b[0;32mif\u001b[0m \u001b[0merrors\u001b[0m \u001b[0;34m!=\u001b[0m \u001b[0;34m\"ignore\"\u001b[0m\u001b[0;34m:\u001b[0m\u001b[0;34m\u001b[0m\u001b[0;34m\u001b[0m\u001b[0m\n\u001b[0;32m-> 5018\u001b[0;31m                 \u001b[0;32mraise\u001b[0m \u001b[0mKeyError\u001b[0m\u001b[0;34m(\u001b[0m\u001b[0;34mf\"{labels[mask]} not found in axis\"\u001b[0m\u001b[0;34m)\u001b[0m\u001b[0;34m\u001b[0m\u001b[0;34m\u001b[0m\u001b[0m\n\u001b[0m\u001b[1;32m   5019\u001b[0m             \u001b[0mindexer\u001b[0m \u001b[0;34m=\u001b[0m \u001b[0mindexer\u001b[0m\u001b[0;34m[\u001b[0m\u001b[0;34m~\u001b[0m\u001b[0mmask\u001b[0m\u001b[0;34m]\u001b[0m\u001b[0;34m\u001b[0m\u001b[0;34m\u001b[0m\u001b[0m\n\u001b[1;32m   5020\u001b[0m         \u001b[0;32mreturn\u001b[0m \u001b[0mself\u001b[0m\u001b[0;34m.\u001b[0m\u001b[0mdelete\u001b[0m\u001b[0;34m(\u001b[0m\u001b[0mindexer\u001b[0m\u001b[0;34m)\u001b[0m\u001b[0;34m\u001b[0m\u001b[0;34m\u001b[0m\u001b[0m\n",
            "\u001b[0;31mKeyError\u001b[0m: \"['index'] not found in axis\""
          ]
        }
      ]
    },
    {
      "cell_type": "code",
      "metadata": {
        "id": "yiBW-vc5LbgB",
        "colab_type": "code",
        "colab": {}
      },
      "source": [
        "data.to_csv('btc_data_end.csv')"
      ],
      "execution_count": null,
      "outputs": []
    },
    {
      "cell_type": "code",
      "metadata": {
        "id": "cGrXf13HdkEi",
        "colab_type": "code",
        "colab": {
          "base_uri": "https://localhost:8080/",
          "height": 173
        },
        "outputId": "e10d9738-64e4-4cc7-bf9a-fca1045a8545"
      },
      "source": [
        "!ls /content/drive/My\\ Drive/Colab\\ Notebooks/Linear\\ Regression\\ SKlearn/Real\\ Examples/Webscraper/\n",
        "#data.to_csv('drive/My Drive/Colab Notebooks/Linear Regression SKlearn/Real Examples/Webscraper/BacklinkCheck.csv')\n",
        "from openpyxl import *\n",
        "\n",
        "import time\n",
        "timer = time.strftime('%c')\n",
        "\n",
        "#file.save('Crypto Data {}.csv'.format(timer))\n",
        "data.to_csv('drive/My Drive/Colab Notebooks/Cryptos/Crypto Data/Bitcoin_Historic {}.csv'.format(timer))"
      ],
      "execution_count": null,
      "outputs": [
        {
          "output_type": "stream",
          "text": [
            "'BacklinkCheckFri 02:22:11.csv'     'CoinbaseScrapeSun 01:19:29.csv'\n",
            "'BacklinkCheckFri 02:22:11.gsheet'  'CoinbaseScrapeSun 01:23:13.gsheet'\n",
            "'BacklinkCheckFri 02:26:36.csv'      FirstCrypto.csv\n",
            " BacklinkCheck.gsheet\t\t     FirstCrypto.gsheet\n",
            "'BacklinkCheckThu 23:08:35.csv'      UrlSamples.gsheet\n",
            "'BacklinkCheckThu 23:11:08.csv'      Webscraper2.21.2020.ipynb\n",
            "'BacklinkCheckThu 23:14:58.csv'      Webscraper_V0.2.ipynb\n",
            "'BacklinkCheckThu 23:25:13.csv'      Webscraper_V0.4.ipynb\n",
            " BacklinkScraperV0.1.ipynb\n"
          ],
          "name": "stdout"
        }
      ]
    },
    {
      "cell_type": "code",
      "metadata": {
        "id": "E6oY-CBABOnK",
        "colab_type": "code",
        "colab": {}
      },
      "source": [
        "y = data_cleaned['Price']\n",
        "x1 = data_cleaned[['Circulating','Total Supply','1 Hour Change %', '1 Day Change %', '7 Day Change %', 'Volume']]"
      ],
      "execution_count": null,
      "outputs": []
    },
    {
      "cell_type": "code",
      "metadata": {
        "id": "0867nb9IB5xB",
        "colab_type": "code",
        "colab": {}
      },
      "source": [
        "x = sm.add_constant(x1)\n",
        "reg_log = sm.Logit(y,x)\n",
        "results_log = reg_log.fit()\n",
        "results_log.summary()"
      ],
      "execution_count": null,
      "outputs": []
    },
    {
      "cell_type": "markdown",
      "metadata": {
        "id": "6u8wSOAZGqVW",
        "colab_type": "text"
      },
      "source": [
        "#From Kaggle CSV's"
      ]
    },
    {
      "cell_type": "code",
      "metadata": {
        "id": "cTNxWvQ9oDly",
        "colab_type": "code",
        "colab": {}
      },
      "source": [
        "btc_frame = pd.read_csv('Bitcoin_history - datasets_1869_18570_bitcoin_price.csv')"
      ],
      "execution_count": null,
      "outputs": []
    },
    {
      "cell_type": "code",
      "metadata": {
        "id": "7SAhR11sG7Vq",
        "colab_type": "code",
        "colab": {
          "base_uri": "https://localhost:8080/",
          "height": 411
        },
        "outputId": "0d2d758b-d39d-4fcc-8f49-0de12593dd3a"
      },
      "source": [
        "btc_frame"
      ],
      "execution_count": null,
      "outputs": [
        {
          "output_type": "execute_result",
          "data": {
            "text/html": [
              "<div>\n",
              "<style scoped>\n",
              "    .dataframe tbody tr th:only-of-type {\n",
              "        vertical-align: middle;\n",
              "    }\n",
              "\n",
              "    .dataframe tbody tr th {\n",
              "        vertical-align: top;\n",
              "    }\n",
              "\n",
              "    .dataframe thead th {\n",
              "        text-align: right;\n",
              "    }\n",
              "</style>\n",
              "<table border=\"1\" class=\"dataframe\">\n",
              "  <thead>\n",
              "    <tr style=\"text-align: right;\">\n",
              "      <th></th>\n",
              "      <th>Date</th>\n",
              "      <th>Open</th>\n",
              "      <th>High</th>\n",
              "      <th>Low</th>\n",
              "      <th>Close</th>\n",
              "      <th>Volume</th>\n",
              "    </tr>\n",
              "  </thead>\n",
              "  <tbody>\n",
              "    <tr>\n",
              "      <th>0</th>\n",
              "      <td>2013-04-28</td>\n",
              "      <td>135.30</td>\n",
              "      <td>135.98</td>\n",
              "      <td>132.10</td>\n",
              "      <td>134.21</td>\n",
              "      <td>-</td>\n",
              "    </tr>\n",
              "    <tr>\n",
              "      <th>1</th>\n",
              "      <td>2013-04-29</td>\n",
              "      <td>134.44</td>\n",
              "      <td>147.49</td>\n",
              "      <td>134.00</td>\n",
              "      <td>144.54</td>\n",
              "      <td>-</td>\n",
              "    </tr>\n",
              "    <tr>\n",
              "      <th>2</th>\n",
              "      <td>2013-04-30</td>\n",
              "      <td>144.00</td>\n",
              "      <td>146.93</td>\n",
              "      <td>134.05</td>\n",
              "      <td>139.00</td>\n",
              "      <td>-</td>\n",
              "    </tr>\n",
              "    <tr>\n",
              "      <th>3</th>\n",
              "      <td>2013-05-01</td>\n",
              "      <td>139.00</td>\n",
              "      <td>139.89</td>\n",
              "      <td>107.72</td>\n",
              "      <td>116.99</td>\n",
              "      <td>-</td>\n",
              "    </tr>\n",
              "    <tr>\n",
              "      <th>4</th>\n",
              "      <td>2013-05-02</td>\n",
              "      <td>116.38</td>\n",
              "      <td>125.60</td>\n",
              "      <td>92.28</td>\n",
              "      <td>105.21</td>\n",
              "      <td>-</td>\n",
              "    </tr>\n",
              "    <tr>\n",
              "      <th>...</th>\n",
              "      <td>...</td>\n",
              "      <td>...</td>\n",
              "      <td>...</td>\n",
              "      <td>...</td>\n",
              "      <td>...</td>\n",
              "      <td>...</td>\n",
              "    </tr>\n",
              "    <tr>\n",
              "      <th>2578</th>\n",
              "      <td>2020-05-31</td>\n",
              "      <td>9700.33</td>\n",
              "      <td>9705.60</td>\n",
              "      <td>9384.54</td>\n",
              "      <td>9446.57</td>\n",
              "      <td>58706362.28</td>\n",
              "    </tr>\n",
              "    <tr>\n",
              "      <th>2579</th>\n",
              "      <td>2020-06-01</td>\n",
              "      <td>9446.57</td>\n",
              "      <td>10350.01</td>\n",
              "      <td>9417.42</td>\n",
              "      <td>10219.97</td>\n",
              "      <td>81881425.1</td>\n",
              "    </tr>\n",
              "    <tr>\n",
              "      <th>2580</th>\n",
              "      <td>2020-06-02</td>\n",
              "      <td>10219.97</td>\n",
              "      <td>10237.59</td>\n",
              "      <td>9285.39</td>\n",
              "      <td>9522.46</td>\n",
              "      <td>139721993.5</td>\n",
              "    </tr>\n",
              "    <tr>\n",
              "      <th>2581</th>\n",
              "      <td>2020-06-03</td>\n",
              "      <td>9522.46</td>\n",
              "      <td>9668.29</td>\n",
              "      <td>9385.22</td>\n",
              "      <td>9668.07</td>\n",
              "      <td>60912269.26</td>\n",
              "    </tr>\n",
              "    <tr>\n",
              "      <th>2582</th>\n",
              "      <td>2020-06-04</td>\n",
              "      <td>9668.07</td>\n",
              "      <td>9689.84</td>\n",
              "      <td>9601.01</td>\n",
              "      <td>9637.12</td>\n",
              "      <td>5446481.87</td>\n",
              "    </tr>\n",
              "  </tbody>\n",
              "</table>\n",
              "<p>2583 rows × 6 columns</p>\n",
              "</div>"
            ],
            "text/plain": [
              "            Date      Open      High      Low     Close       Volume\n",
              "0     2013-04-28    135.30    135.98   132.10    134.21            -\n",
              "1     2013-04-29    134.44    147.49   134.00    144.54            -\n",
              "2     2013-04-30    144.00    146.93   134.05    139.00            -\n",
              "3     2013-05-01    139.00    139.89   107.72    116.99            -\n",
              "4     2013-05-02    116.38    125.60    92.28    105.21            -\n",
              "...          ...       ...       ...      ...       ...          ...\n",
              "2578  2020-05-31   9700.33   9705.60  9384.54   9446.57  58706362.28\n",
              "2579  2020-06-01   9446.57  10350.01  9417.42  10219.97   81881425.1\n",
              "2580  2020-06-02  10219.97  10237.59  9285.39   9522.46  139721993.5\n",
              "2581  2020-06-03   9522.46   9668.29  9385.22   9668.07  60912269.26\n",
              "2582  2020-06-04   9668.07   9689.84  9601.01   9637.12   5446481.87\n",
              "\n",
              "[2583 rows x 6 columns]"
            ]
          },
          "metadata": {
            "tags": []
          },
          "execution_count": 94
        }
      ]
    },
    {
      "cell_type": "code",
      "metadata": {
        "id": "VEqqBrdFHZzB",
        "colab_type": "code",
        "colab": {
          "base_uri": "https://localhost:8080/",
          "height": 200
        },
        "outputId": "53bc89d8-59d2-460b-80a4-dbc7f85a68ba"
      },
      "source": [
        "btc_frame.tail()"
      ],
      "execution_count": null,
      "outputs": [
        {
          "output_type": "execute_result",
          "data": {
            "text/html": [
              "<div>\n",
              "<style scoped>\n",
              "    .dataframe tbody tr th:only-of-type {\n",
              "        vertical-align: middle;\n",
              "    }\n",
              "\n",
              "    .dataframe tbody tr th {\n",
              "        vertical-align: top;\n",
              "    }\n",
              "\n",
              "    .dataframe thead th {\n",
              "        text-align: right;\n",
              "    }\n",
              "</style>\n",
              "<table border=\"1\" class=\"dataframe\">\n",
              "  <thead>\n",
              "    <tr style=\"text-align: right;\">\n",
              "      <th></th>\n",
              "      <th>Date</th>\n",
              "      <th>Open</th>\n",
              "      <th>High</th>\n",
              "      <th>Low</th>\n",
              "      <th>Close</th>\n",
              "      <th>Volume</th>\n",
              "    </tr>\n",
              "  </thead>\n",
              "  <tbody>\n",
              "    <tr>\n",
              "      <th>2578</th>\n",
              "      <td>2020-05-31</td>\n",
              "      <td>9700.33</td>\n",
              "      <td>9705.60</td>\n",
              "      <td>9384.54</td>\n",
              "      <td>9446.57</td>\n",
              "      <td>58706362.28</td>\n",
              "    </tr>\n",
              "    <tr>\n",
              "      <th>2579</th>\n",
              "      <td>2020-06-01</td>\n",
              "      <td>9446.57</td>\n",
              "      <td>10350.01</td>\n",
              "      <td>9417.42</td>\n",
              "      <td>10219.97</td>\n",
              "      <td>81881425.1</td>\n",
              "    </tr>\n",
              "    <tr>\n",
              "      <th>2580</th>\n",
              "      <td>2020-06-02</td>\n",
              "      <td>10219.97</td>\n",
              "      <td>10237.59</td>\n",
              "      <td>9285.39</td>\n",
              "      <td>9522.46</td>\n",
              "      <td>139721993.5</td>\n",
              "    </tr>\n",
              "    <tr>\n",
              "      <th>2581</th>\n",
              "      <td>2020-06-03</td>\n",
              "      <td>9522.46</td>\n",
              "      <td>9668.29</td>\n",
              "      <td>9385.22</td>\n",
              "      <td>9668.07</td>\n",
              "      <td>60912269.26</td>\n",
              "    </tr>\n",
              "    <tr>\n",
              "      <th>2582</th>\n",
              "      <td>2020-06-04</td>\n",
              "      <td>9668.07</td>\n",
              "      <td>9689.84</td>\n",
              "      <td>9601.01</td>\n",
              "      <td>9637.12</td>\n",
              "      <td>5446481.87</td>\n",
              "    </tr>\n",
              "  </tbody>\n",
              "</table>\n",
              "</div>"
            ],
            "text/plain": [
              "            Date      Open      High      Low     Close       Volume\n",
              "2578  2020-05-31   9700.33   9705.60  9384.54   9446.57  58706362.28\n",
              "2579  2020-06-01   9446.57  10350.01  9417.42  10219.97   81881425.1\n",
              "2580  2020-06-02  10219.97  10237.59  9285.39   9522.46  139721993.5\n",
              "2581  2020-06-03   9522.46   9668.29  9385.22   9668.07  60912269.26\n",
              "2582  2020-06-04   9668.07   9689.84  9601.01   9637.12   5446481.87"
            ]
          },
          "metadata": {
            "tags": []
          },
          "execution_count": 95
        }
      ]
    },
    {
      "cell_type": "code",
      "metadata": {
        "id": "UirfHdTYUaHV",
        "colab_type": "code",
        "colab": {}
      },
      "source": [
        "btc_end = pd.read_csv('btc_data_end - btc_data_end (1).csv')"
      ],
      "execution_count": null,
      "outputs": []
    },
    {
      "cell_type": "code",
      "metadata": {
        "id": "iAqCg0VuUhvh",
        "colab_type": "code",
        "colab": {
          "base_uri": "https://localhost:8080/",
          "height": 1000
        },
        "outputId": "f093b178-5bec-47c2-a322-a358b4750873"
      },
      "source": [
        "btc_end"
      ],
      "execution_count": null,
      "outputs": [
        {
          "output_type": "execute_result",
          "data": {
            "text/html": [
              "<div>\n",
              "<style scoped>\n",
              "    .dataframe tbody tr th:only-of-type {\n",
              "        vertical-align: middle;\n",
              "    }\n",
              "\n",
              "    .dataframe tbody tr th {\n",
              "        vertical-align: top;\n",
              "    }\n",
              "\n",
              "    .dataframe thead th {\n",
              "        text-align: right;\n",
              "    }\n",
              "</style>\n",
              "<table border=\"1\" class=\"dataframe\">\n",
              "  <thead>\n",
              "    <tr style=\"text-align: right;\">\n",
              "      <th></th>\n",
              "      <th>Date</th>\n",
              "      <th>Open</th>\n",
              "      <th>High</th>\n",
              "      <th>Low</th>\n",
              "      <th>Close</th>\n",
              "      <th>Volume</th>\n",
              "    </tr>\n",
              "  </thead>\n",
              "  <tbody>\n",
              "    <tr>\n",
              "      <th>0</th>\n",
              "      <td>2020-06-05</td>\n",
              "      <td>9791.00</td>\n",
              "      <td>9860.33</td>\n",
              "      <td>9537.90</td>\n",
              "      <td>9613.21</td>\n",
              "      <td>26699.618300</td>\n",
              "    </tr>\n",
              "    <tr>\n",
              "      <th>1</th>\n",
              "      <td>2020-06-06</td>\n",
              "      <td>9613.42</td>\n",
              "      <td>9744.39</td>\n",
              "      <td>9525.76</td>\n",
              "      <td>9671.70</td>\n",
              "      <td>14004.428900</td>\n",
              "    </tr>\n",
              "    <tr>\n",
              "      <th>2</th>\n",
              "      <td>2020-06-07</td>\n",
              "      <td>9670.28</td>\n",
              "      <td>9829.31</td>\n",
              "      <td>9356.00</td>\n",
              "      <td>9750.12</td>\n",
              "      <td>24641.548410</td>\n",
              "    </tr>\n",
              "    <tr>\n",
              "      <th>3</th>\n",
              "      <td>2020-06-08</td>\n",
              "      <td>9755.70</td>\n",
              "      <td>10189.59</td>\n",
              "      <td>9626.80</td>\n",
              "      <td>9781.51</td>\n",
              "      <td>19439.777230</td>\n",
              "    </tr>\n",
              "    <tr>\n",
              "      <th>4</th>\n",
              "      <td>2020-06-09</td>\n",
              "      <td>9781.51</td>\n",
              "      <td>9900.40</td>\n",
              "      <td>9558.89</td>\n",
              "      <td>9778.00</td>\n",
              "      <td>24998.334610</td>\n",
              "    </tr>\n",
              "    <tr>\n",
              "      <th>5</th>\n",
              "      <td>2020-06-10</td>\n",
              "      <td>9779.70</td>\n",
              "      <td>10018.67</td>\n",
              "      <td>9578.00</td>\n",
              "      <td>9894.04</td>\n",
              "      <td>28290.918710</td>\n",
              "    </tr>\n",
              "    <tr>\n",
              "      <th>6</th>\n",
              "      <td>2020-06-11</td>\n",
              "      <td>9892.20</td>\n",
              "      <td>10013.75</td>\n",
              "      <td>9041.96</td>\n",
              "      <td>9265.80</td>\n",
              "      <td>60135.746990</td>\n",
              "    </tr>\n",
              "    <tr>\n",
              "      <th>7</th>\n",
              "      <td>2020-06-12</td>\n",
              "      <td>9268.16</td>\n",
              "      <td>9555.54</td>\n",
              "      <td>9227.00</td>\n",
              "      <td>9469.72</td>\n",
              "      <td>24619.297470</td>\n",
              "    </tr>\n",
              "    <tr>\n",
              "      <th>8</th>\n",
              "      <td>2020-06-13</td>\n",
              "      <td>9464.71</td>\n",
              "      <td>9500.00</td>\n",
              "      <td>9345.71</td>\n",
              "      <td>9475.00</td>\n",
              "      <td>9927.087838</td>\n",
              "    </tr>\n",
              "    <tr>\n",
              "      <th>9</th>\n",
              "      <td>2020-06-14</td>\n",
              "      <td>9472.90</td>\n",
              "      <td>9483.90</td>\n",
              "      <td>9230.60</td>\n",
              "      <td>9325.00</td>\n",
              "      <td>11544.076200</td>\n",
              "    </tr>\n",
              "    <tr>\n",
              "      <th>10</th>\n",
              "      <td>2020-06-15</td>\n",
              "      <td>9328.63</td>\n",
              "      <td>9505.40</td>\n",
              "      <td>8895.01</td>\n",
              "      <td>9435.15</td>\n",
              "      <td>43705.261160</td>\n",
              "    </tr>\n",
              "    <tr>\n",
              "      <th>11</th>\n",
              "      <td>2020-06-16</td>\n",
              "      <td>9433.66</td>\n",
              "      <td>9596.31</td>\n",
              "      <td>9374.90</td>\n",
              "      <td>9530.30</td>\n",
              "      <td>24433.084930</td>\n",
              "    </tr>\n",
              "    <tr>\n",
              "      <th>12</th>\n",
              "      <td>2020-06-17</td>\n",
              "      <td>9527.50</td>\n",
              "      <td>9566.53</td>\n",
              "      <td>9227.03</td>\n",
              "      <td>9457.51</td>\n",
              "      <td>21610.152450</td>\n",
              "    </tr>\n",
              "    <tr>\n",
              "      <th>13</th>\n",
              "      <td>2020-06-18</td>\n",
              "      <td>9453.10</td>\n",
              "      <td>9482.66</td>\n",
              "      <td>9250.00</td>\n",
              "      <td>9376.14</td>\n",
              "      <td>14878.101000</td>\n",
              "    </tr>\n",
              "    <tr>\n",
              "      <th>14</th>\n",
              "      <td>2020-06-19</td>\n",
              "      <td>9376.14</td>\n",
              "      <td>9439.70</td>\n",
              "      <td>9219.90</td>\n",
              "      <td>9304.32</td>\n",
              "      <td>19253.420340</td>\n",
              "    </tr>\n",
              "    <tr>\n",
              "      <th>15</th>\n",
              "      <td>2020-06-20</td>\n",
              "      <td>9300.42</td>\n",
              "      <td>9400.00</td>\n",
              "      <td>9138.00</td>\n",
              "      <td>9355.74</td>\n",
              "      <td>12859.288330</td>\n",
              "    </tr>\n",
              "    <tr>\n",
              "      <th>16</th>\n",
              "      <td>2020-06-21</td>\n",
              "      <td>9355.93</td>\n",
              "      <td>9421.26</td>\n",
              "      <td>9271.52</td>\n",
              "      <td>9286.14</td>\n",
              "      <td>6973.477186</td>\n",
              "    </tr>\n",
              "    <tr>\n",
              "      <th>17</th>\n",
              "      <td>2020-06-22</td>\n",
              "      <td>9286.14</td>\n",
              "      <td>9798.76</td>\n",
              "      <td>9267.20</td>\n",
              "      <td>9690.74</td>\n",
              "      <td>25206.993510</td>\n",
              "    </tr>\n",
              "    <tr>\n",
              "      <th>18</th>\n",
              "      <td>2020-06-23</td>\n",
              "      <td>9694.00</td>\n",
              "      <td>9725.30</td>\n",
              "      <td>9571.00</td>\n",
              "      <td>9623.56</td>\n",
              "      <td>18097.380800</td>\n",
              "    </tr>\n",
              "    <tr>\n",
              "      <th>19</th>\n",
              "      <td>2020-06-24</td>\n",
              "      <td>9623.56</td>\n",
              "      <td>9670.31</td>\n",
              "      <td>9193.99</td>\n",
              "      <td>9285.91</td>\n",
              "      <td>32057.419900</td>\n",
              "    </tr>\n",
              "    <tr>\n",
              "      <th>20</th>\n",
              "      <td>2020-06-25</td>\n",
              "      <td>9290.60</td>\n",
              "      <td>9343.49</td>\n",
              "      <td>8979.07</td>\n",
              "      <td>9243.51</td>\n",
              "      <td>30802.002940</td>\n",
              "    </tr>\n",
              "    <tr>\n",
              "      <th>21</th>\n",
              "      <td>2020-06-26</td>\n",
              "      <td>9242.98</td>\n",
              "      <td>9291.73</td>\n",
              "      <td>9024.61</td>\n",
              "      <td>9155.42</td>\n",
              "      <td>25794.902480</td>\n",
              "    </tr>\n",
              "    <tr>\n",
              "      <th>22</th>\n",
              "      <td>2020-06-27</td>\n",
              "      <td>9155.42</td>\n",
              "      <td>9189.00</td>\n",
              "      <td>8812.80</td>\n",
              "      <td>9002.46</td>\n",
              "      <td>18351.195930</td>\n",
              "    </tr>\n",
              "    <tr>\n",
              "      <th>23</th>\n",
              "      <td>2020-06-28</td>\n",
              "      <td>9002.38</td>\n",
              "      <td>9191.72</td>\n",
              "      <td>8931.77</td>\n",
              "      <td>9113.24</td>\n",
              "      <td>11932.693560</td>\n",
              "    </tr>\n",
              "    <tr>\n",
              "      <th>24</th>\n",
              "      <td>2020-06-29</td>\n",
              "      <td>9113.23</td>\n",
              "      <td>9240.36</td>\n",
              "      <td>9013.00</td>\n",
              "      <td>9184.45</td>\n",
              "      <td>19260.777480</td>\n",
              "    </tr>\n",
              "    <tr>\n",
              "      <th>25</th>\n",
              "      <td>2020-06-30</td>\n",
              "      <td>9188.79</td>\n",
              "      <td>9205.01</td>\n",
              "      <td>9059.60</td>\n",
              "      <td>9136.20</td>\n",
              "      <td>13490.774710</td>\n",
              "    </tr>\n",
              "    <tr>\n",
              "      <th>26</th>\n",
              "      <td>2020-07-01</td>\n",
              "      <td>9134.88</td>\n",
              "      <td>9300.30</td>\n",
              "      <td>9050.00</td>\n",
              "      <td>9239.97</td>\n",
              "      <td>17693.363090</td>\n",
              "    </tr>\n",
              "    <tr>\n",
              "      <th>27</th>\n",
              "      <td>2020-07-02</td>\n",
              "      <td>9239.41</td>\n",
              "      <td>9269.20</td>\n",
              "      <td>8935.60</td>\n",
              "      <td>9091.53</td>\n",
              "      <td>24529.400620</td>\n",
              "    </tr>\n",
              "    <tr>\n",
              "      <th>28</th>\n",
              "      <td>2020-07-03</td>\n",
              "      <td>9091.98</td>\n",
              "      <td>9172.29</td>\n",
              "      <td>9027.17</td>\n",
              "      <td>9072.47</td>\n",
              "      <td>13948.428990</td>\n",
              "    </tr>\n",
              "    <tr>\n",
              "      <th>29</th>\n",
              "      <td>2020-07-04</td>\n",
              "      <td>9070.00</td>\n",
              "      <td>9196.69</td>\n",
              "      <td>9039.84</td>\n",
              "      <td>9138.51</td>\n",
              "      <td>9463.534711</td>\n",
              "    </tr>\n",
              "    <tr>\n",
              "      <th>30</th>\n",
              "      <td>2020-07-05</td>\n",
              "      <td>9138.51</td>\n",
              "      <td>9151.78</td>\n",
              "      <td>8905.00</td>\n",
              "      <td>9074.39</td>\n",
              "      <td>10117.303300</td>\n",
              "    </tr>\n",
              "    <tr>\n",
              "      <th>31</th>\n",
              "      <td>2020-07-06</td>\n",
              "      <td>9074.37</td>\n",
              "      <td>9376.34</td>\n",
              "      <td>9060.50</td>\n",
              "      <td>9343.31</td>\n",
              "      <td>21591.490270</td>\n",
              "    </tr>\n",
              "    <tr>\n",
              "      <th>32</th>\n",
              "      <td>2020-07-07</td>\n",
              "      <td>9343.31</td>\n",
              "      <td>9385.81</td>\n",
              "      <td>9201.57</td>\n",
              "      <td>9253.94</td>\n",
              "      <td>16268.159660</td>\n",
              "    </tr>\n",
              "    <tr>\n",
              "      <th>33</th>\n",
              "      <td>2020-07-08</td>\n",
              "      <td>9253.94</td>\n",
              "      <td>9493.02</td>\n",
              "      <td>9228.91</td>\n",
              "      <td>9435.28</td>\n",
              "      <td>22674.670040</td>\n",
              "    </tr>\n",
              "    <tr>\n",
              "      <th>34</th>\n",
              "      <td>2020-07-09</td>\n",
              "      <td>9435.28</td>\n",
              "      <td>9450.00</td>\n",
              "      <td>9154.79</td>\n",
              "      <td>9236.95</td>\n",
              "      <td>18787.442460</td>\n",
              "    </tr>\n",
              "    <tr>\n",
              "      <th>35</th>\n",
              "      <td>2020-07-10</td>\n",
              "      <td>9236.95</td>\n",
              "      <td>9322.23</td>\n",
              "      <td>9053.14</td>\n",
              "      <td>9291.05</td>\n",
              "      <td>15104.051320</td>\n",
              "    </tr>\n",
              "    <tr>\n",
              "      <th>36</th>\n",
              "      <td>2020-07-11</td>\n",
              "      <td>9291.04</td>\n",
              "      <td>9306.90</td>\n",
              "      <td>9180.00</td>\n",
              "      <td>9235.00</td>\n",
              "      <td>6541.382369</td>\n",
              "    </tr>\n",
              "    <tr>\n",
              "      <th>37</th>\n",
              "      <td>2020-07-12</td>\n",
              "      <td>9235.00</td>\n",
              "      <td>9347.76</td>\n",
              "      <td>9153.48</td>\n",
              "      <td>9303.37</td>\n",
              "      <td>9945.204564</td>\n",
              "    </tr>\n",
              "    <tr>\n",
              "      <th>38</th>\n",
              "      <td>2020-07-13</td>\n",
              "      <td>9303.38</td>\n",
              "      <td>9367.70</td>\n",
              "      <td>9190.49</td>\n",
              "      <td>9236.92</td>\n",
              "      <td>16908.661670</td>\n",
              "    </tr>\n",
              "    <tr>\n",
              "      <th>39</th>\n",
              "      <td>2020-07-14</td>\n",
              "      <td>9236.91</td>\n",
              "      <td>9283.70</td>\n",
              "      <td>9091.76</td>\n",
              "      <td>9256.94</td>\n",
              "      <td>16802.736170</td>\n",
              "    </tr>\n",
              "    <tr>\n",
              "      <th>40</th>\n",
              "      <td>2020-07-15</td>\n",
              "      <td>9256.94</td>\n",
              "      <td>9276.98</td>\n",
              "      <td>9153.38</td>\n",
              "      <td>9190.16</td>\n",
              "      <td>16088.134040</td>\n",
              "    </tr>\n",
              "    <tr>\n",
              "      <th>41</th>\n",
              "      <td>2020-07-16</td>\n",
              "      <td>9190.80</td>\n",
              "      <td>9219.57</td>\n",
              "      <td>9005.00</td>\n",
              "      <td>9130.11</td>\n",
              "      <td>19876.295570</td>\n",
              "    </tr>\n",
              "    <tr>\n",
              "      <th>42</th>\n",
              "      <td>2020-07-17</td>\n",
              "      <td>9130.93</td>\n",
              "      <td>9221.85</td>\n",
              "      <td>9054.99</td>\n",
              "      <td>9155.32</td>\n",
              "      <td>13988.540670</td>\n",
              "    </tr>\n",
              "    <tr>\n",
              "      <th>43</th>\n",
              "      <td>2020-07-18</td>\n",
              "      <td>9154.29</td>\n",
              "      <td>9219.35</td>\n",
              "      <td>9122.65</td>\n",
              "      <td>9175.85</td>\n",
              "      <td>7283.022585</td>\n",
              "    </tr>\n",
              "    <tr>\n",
              "      <th>44</th>\n",
              "      <td>2020-07-19</td>\n",
              "      <td>9175.83</td>\n",
              "      <td>9245.03</td>\n",
              "      <td>9105.37</td>\n",
              "      <td>9212.87</td>\n",
              "      <td>7024.472435</td>\n",
              "    </tr>\n",
              "    <tr>\n",
              "      <th>45</th>\n",
              "      <td>2020-07-20</td>\n",
              "      <td>9217.40</td>\n",
              "      <td>9228.66</td>\n",
              "      <td>9128.21</td>\n",
              "      <td>9161.05</td>\n",
              "      <td>12177.225570</td>\n",
              "    </tr>\n",
              "    <tr>\n",
              "      <th>46</th>\n",
              "      <td>2020-07-21</td>\n",
              "      <td>9161.05</td>\n",
              "      <td>9442.89</td>\n",
              "      <td>9152.23</td>\n",
              "      <td>9394.14</td>\n",
              "      <td>21365.378150</td>\n",
              "    </tr>\n",
              "    <tr>\n",
              "      <th>47</th>\n",
              "      <td>2020-07-22</td>\n",
              "      <td>9394.14</td>\n",
              "      <td>9573.00</td>\n",
              "      <td>9277.00</td>\n",
              "      <td>9539.51</td>\n",
              "      <td>20778.451000</td>\n",
              "    </tr>\n",
              "    <tr>\n",
              "      <th>48</th>\n",
              "      <td>2020-07-23</td>\n",
              "      <td>9536.20</td>\n",
              "      <td>9690.00</td>\n",
              "      <td>9450.04</td>\n",
              "      <td>9613.24</td>\n",
              "      <td>29994.741540</td>\n",
              "    </tr>\n",
              "    <tr>\n",
              "      <th>49</th>\n",
              "      <td>2020-07-24</td>\n",
              "      <td>9613.24</td>\n",
              "      <td>9650.55</td>\n",
              "      <td>9474.35</td>\n",
              "      <td>9551.21</td>\n",
              "      <td>22914.043500</td>\n",
              "    </tr>\n",
              "    <tr>\n",
              "      <th>50</th>\n",
              "      <td>2020-07-25</td>\n",
              "      <td>9551.21</td>\n",
              "      <td>9751.82</td>\n",
              "      <td>9532.79</td>\n",
              "      <td>9711.33</td>\n",
              "      <td>15298.186250</td>\n",
              "    </tr>\n",
              "    <tr>\n",
              "      <th>51</th>\n",
              "      <td>2020-07-26</td>\n",
              "      <td>9711.79</td>\n",
              "      <td>10200.00</td>\n",
              "      <td>9657.00</td>\n",
              "      <td>9941.00</td>\n",
              "      <td>28186.854640</td>\n",
              "    </tr>\n",
              "    <tr>\n",
              "      <th>52</th>\n",
              "      <td>2020-07-27</td>\n",
              "      <td>9941.00</td>\n",
              "      <td>11420.00</td>\n",
              "      <td>9933.77</td>\n",
              "      <td>11048.91</td>\n",
              "      <td>91960.879940</td>\n",
              "    </tr>\n",
              "    <tr>\n",
              "      <th>53</th>\n",
              "      <td>2020-07-28</td>\n",
              "      <td>11048.05</td>\n",
              "      <td>11263.85</td>\n",
              "      <td>10575.00</td>\n",
              "      <td>10934.00</td>\n",
              "      <td>57016.776440</td>\n",
              "    </tr>\n",
              "    <tr>\n",
              "      <th>54</th>\n",
              "      <td>2020-07-29</td>\n",
              "      <td>10934.22</td>\n",
              "      <td>11360.00</td>\n",
              "      <td>10843.47</td>\n",
              "      <td>11110.12</td>\n",
              "      <td>40686.948790</td>\n",
              "    </tr>\n",
              "    <tr>\n",
              "      <th>55</th>\n",
              "      <td>2020-07-30</td>\n",
              "      <td>11108.16</td>\n",
              "      <td>11190.65</td>\n",
              "      <td>10811.00</td>\n",
              "      <td>11115.95</td>\n",
              "      <td>30119.479490</td>\n",
              "    </tr>\n",
              "    <tr>\n",
              "      <th>56</th>\n",
              "      <td>2020-07-31</td>\n",
              "      <td>11115.99</td>\n",
              "      <td>11463.60</td>\n",
              "      <td>10973.80</td>\n",
              "      <td>11351.62</td>\n",
              "      <td>34557.234340</td>\n",
              "    </tr>\n",
              "    <tr>\n",
              "      <th>57</th>\n",
              "      <td>2020-08-01</td>\n",
              "      <td>11351.61</td>\n",
              "      <td>11894.73</td>\n",
              "      <td>11228.00</td>\n",
              "      <td>11810.07</td>\n",
              "      <td>38179.618190</td>\n",
              "    </tr>\n",
              "    <tr>\n",
              "      <th>58</th>\n",
              "      <td>2020-08-02</td>\n",
              "      <td>11810.07</td>\n",
              "      <td>12134.29</td>\n",
              "      <td>10546.15</td>\n",
              "      <td>11182.73</td>\n",
              "      <td>51677.333110</td>\n",
              "    </tr>\n",
              "  </tbody>\n",
              "</table>\n",
              "</div>"
            ],
            "text/plain": [
              "          Date      Open      High       Low     Close        Volume\n",
              "0   2020-06-05   9791.00   9860.33   9537.90   9613.21  26699.618300\n",
              "1   2020-06-06   9613.42   9744.39   9525.76   9671.70  14004.428900\n",
              "2   2020-06-07   9670.28   9829.31   9356.00   9750.12  24641.548410\n",
              "3   2020-06-08   9755.70  10189.59   9626.80   9781.51  19439.777230\n",
              "4   2020-06-09   9781.51   9900.40   9558.89   9778.00  24998.334610\n",
              "5   2020-06-10   9779.70  10018.67   9578.00   9894.04  28290.918710\n",
              "6   2020-06-11   9892.20  10013.75   9041.96   9265.80  60135.746990\n",
              "7   2020-06-12   9268.16   9555.54   9227.00   9469.72  24619.297470\n",
              "8   2020-06-13   9464.71   9500.00   9345.71   9475.00   9927.087838\n",
              "9   2020-06-14   9472.90   9483.90   9230.60   9325.00  11544.076200\n",
              "10  2020-06-15   9328.63   9505.40   8895.01   9435.15  43705.261160\n",
              "11  2020-06-16   9433.66   9596.31   9374.90   9530.30  24433.084930\n",
              "12  2020-06-17   9527.50   9566.53   9227.03   9457.51  21610.152450\n",
              "13  2020-06-18   9453.10   9482.66   9250.00   9376.14  14878.101000\n",
              "14  2020-06-19   9376.14   9439.70   9219.90   9304.32  19253.420340\n",
              "15  2020-06-20   9300.42   9400.00   9138.00   9355.74  12859.288330\n",
              "16  2020-06-21   9355.93   9421.26   9271.52   9286.14   6973.477186\n",
              "17  2020-06-22   9286.14   9798.76   9267.20   9690.74  25206.993510\n",
              "18  2020-06-23   9694.00   9725.30   9571.00   9623.56  18097.380800\n",
              "19  2020-06-24   9623.56   9670.31   9193.99   9285.91  32057.419900\n",
              "20  2020-06-25   9290.60   9343.49   8979.07   9243.51  30802.002940\n",
              "21  2020-06-26   9242.98   9291.73   9024.61   9155.42  25794.902480\n",
              "22  2020-06-27   9155.42   9189.00   8812.80   9002.46  18351.195930\n",
              "23  2020-06-28   9002.38   9191.72   8931.77   9113.24  11932.693560\n",
              "24  2020-06-29   9113.23   9240.36   9013.00   9184.45  19260.777480\n",
              "25  2020-06-30   9188.79   9205.01   9059.60   9136.20  13490.774710\n",
              "26  2020-07-01   9134.88   9300.30   9050.00   9239.97  17693.363090\n",
              "27  2020-07-02   9239.41   9269.20   8935.60   9091.53  24529.400620\n",
              "28  2020-07-03   9091.98   9172.29   9027.17   9072.47  13948.428990\n",
              "29  2020-07-04   9070.00   9196.69   9039.84   9138.51   9463.534711\n",
              "30  2020-07-05   9138.51   9151.78   8905.00   9074.39  10117.303300\n",
              "31  2020-07-06   9074.37   9376.34   9060.50   9343.31  21591.490270\n",
              "32  2020-07-07   9343.31   9385.81   9201.57   9253.94  16268.159660\n",
              "33  2020-07-08   9253.94   9493.02   9228.91   9435.28  22674.670040\n",
              "34  2020-07-09   9435.28   9450.00   9154.79   9236.95  18787.442460\n",
              "35  2020-07-10   9236.95   9322.23   9053.14   9291.05  15104.051320\n",
              "36  2020-07-11   9291.04   9306.90   9180.00   9235.00   6541.382369\n",
              "37  2020-07-12   9235.00   9347.76   9153.48   9303.37   9945.204564\n",
              "38  2020-07-13   9303.38   9367.70   9190.49   9236.92  16908.661670\n",
              "39  2020-07-14   9236.91   9283.70   9091.76   9256.94  16802.736170\n",
              "40  2020-07-15   9256.94   9276.98   9153.38   9190.16  16088.134040\n",
              "41  2020-07-16   9190.80   9219.57   9005.00   9130.11  19876.295570\n",
              "42  2020-07-17   9130.93   9221.85   9054.99   9155.32  13988.540670\n",
              "43  2020-07-18   9154.29   9219.35   9122.65   9175.85   7283.022585\n",
              "44  2020-07-19   9175.83   9245.03   9105.37   9212.87   7024.472435\n",
              "45  2020-07-20   9217.40   9228.66   9128.21   9161.05  12177.225570\n",
              "46  2020-07-21   9161.05   9442.89   9152.23   9394.14  21365.378150\n",
              "47  2020-07-22   9394.14   9573.00   9277.00   9539.51  20778.451000\n",
              "48  2020-07-23   9536.20   9690.00   9450.04   9613.24  29994.741540\n",
              "49  2020-07-24   9613.24   9650.55   9474.35   9551.21  22914.043500\n",
              "50  2020-07-25   9551.21   9751.82   9532.79   9711.33  15298.186250\n",
              "51  2020-07-26   9711.79  10200.00   9657.00   9941.00  28186.854640\n",
              "52  2020-07-27   9941.00  11420.00   9933.77  11048.91  91960.879940\n",
              "53  2020-07-28  11048.05  11263.85  10575.00  10934.00  57016.776440\n",
              "54  2020-07-29  10934.22  11360.00  10843.47  11110.12  40686.948790\n",
              "55  2020-07-30  11108.16  11190.65  10811.00  11115.95  30119.479490\n",
              "56  2020-07-31  11115.99  11463.60  10973.80  11351.62  34557.234340\n",
              "57  2020-08-01  11351.61  11894.73  11228.00  11810.07  38179.618190\n",
              "58  2020-08-02  11810.07  12134.29  10546.15  11182.73  51677.333110"
            ]
          },
          "metadata": {
            "tags": []
          },
          "execution_count": 97
        }
      ]
    },
    {
      "cell_type": "code",
      "metadata": {
        "id": "PrDNG5nuXbny",
        "colab_type": "code",
        "colab": {}
      },
      "source": [
        "btc_data = pd.read_csv('Bitcoin_Full_08-02.csv')"
      ],
      "execution_count": null,
      "outputs": []
    },
    {
      "cell_type": "code",
      "metadata": {
        "id": "dlVNrZ8fdDVJ",
        "colab_type": "code",
        "colab": {
          "base_uri": "https://localhost:8080/",
          "height": 200
        },
        "outputId": "b3c57e72-a47e-4a1f-879e-0d9d8d94b379"
      },
      "source": [
        "btc_data.tail()"
      ],
      "execution_count": 118,
      "outputs": [
        {
          "output_type": "execute_result",
          "data": {
            "text/html": [
              "<div>\n",
              "<style scoped>\n",
              "    .dataframe tbody tr th:only-of-type {\n",
              "        vertical-align: middle;\n",
              "    }\n",
              "\n",
              "    .dataframe tbody tr th {\n",
              "        vertical-align: top;\n",
              "    }\n",
              "\n",
              "    .dataframe thead th {\n",
              "        text-align: right;\n",
              "    }\n",
              "</style>\n",
              "<table border=\"1\" class=\"dataframe\">\n",
              "  <thead>\n",
              "    <tr style=\"text-align: right;\">\n",
              "      <th></th>\n",
              "      <th>Date</th>\n",
              "      <th>Open</th>\n",
              "      <th>High</th>\n",
              "      <th>Low</th>\n",
              "      <th>Close</th>\n",
              "      <th>Volume</th>\n",
              "    </tr>\n",
              "  </thead>\n",
              "  <tbody>\n",
              "    <tr>\n",
              "      <th>2637</th>\n",
              "      <td>7/29/2020</td>\n",
              "      <td>10934.22</td>\n",
              "      <td>11360.00</td>\n",
              "      <td>10843.47</td>\n",
              "      <td>11110.12</td>\n",
              "      <td>40686.94879</td>\n",
              "    </tr>\n",
              "    <tr>\n",
              "      <th>2638</th>\n",
              "      <td>7/30/2020</td>\n",
              "      <td>11108.16</td>\n",
              "      <td>11190.65</td>\n",
              "      <td>10811.00</td>\n",
              "      <td>11115.95</td>\n",
              "      <td>30119.47949</td>\n",
              "    </tr>\n",
              "    <tr>\n",
              "      <th>2639</th>\n",
              "      <td>7/31/2020</td>\n",
              "      <td>11115.99</td>\n",
              "      <td>11463.60</td>\n",
              "      <td>10973.80</td>\n",
              "      <td>11351.62</td>\n",
              "      <td>34557.23434</td>\n",
              "    </tr>\n",
              "    <tr>\n",
              "      <th>2640</th>\n",
              "      <td>8/1/2020</td>\n",
              "      <td>11351.61</td>\n",
              "      <td>11894.73</td>\n",
              "      <td>11228.00</td>\n",
              "      <td>11810.07</td>\n",
              "      <td>38179.61819</td>\n",
              "    </tr>\n",
              "    <tr>\n",
              "      <th>2641</th>\n",
              "      <td>8/2/2020</td>\n",
              "      <td>11810.07</td>\n",
              "      <td>12134.29</td>\n",
              "      <td>10546.15</td>\n",
              "      <td>11182.73</td>\n",
              "      <td>51677.33311</td>\n",
              "    </tr>\n",
              "  </tbody>\n",
              "</table>\n",
              "</div>"
            ],
            "text/plain": [
              "           Date      Open      High       Low     Close       Volume\n",
              "2637  7/29/2020  10934.22  11360.00  10843.47  11110.12  40686.94879\n",
              "2638  7/30/2020  11108.16  11190.65  10811.00  11115.95  30119.47949\n",
              "2639  7/31/2020  11115.99  11463.60  10973.80  11351.62  34557.23434\n",
              "2640   8/1/2020  11351.61  11894.73  11228.00  11810.07  38179.61819\n",
              "2641   8/2/2020  11810.07  12134.29  10546.15  11182.73  51677.33311"
            ]
          },
          "metadata": {
            "tags": []
          },
          "execution_count": 118
        }
      ]
    },
    {
      "cell_type": "code",
      "metadata": {
        "id": "sZecedt3G79H",
        "colab_type": "code",
        "colab": {
          "base_uri": "https://localhost:8080/",
          "height": 624
        },
        "outputId": "16d905f4-3c36-4bd0-a86b-486947d9fdd7"
      },
      "source": [
        "price = btc_data[['Close']]\n",
        "\n",
        "plt.figure(figsize = (15,9))\n",
        "plt.plot(price)\n",
        "plt.xticks(range(0, btc_data.shape[0],50), btc_data['Date'].loc[::50],rotation=45)\n",
        "plt.title(\"Bitcoin Price\",fontsize=18, fontweight='bold')\n",
        "plt.xlabel('Date',fontsize=18)\n",
        "plt.ylabel('Close Price (USD)',fontsize=18)\n",
        "plt.show()"
      ],
      "execution_count": 119,
      "outputs": [
        {
          "output_type": "display_data",
          "data": {
            "image/png": "[encoded data removed]",
            "text/plain": [
              "<Figure size 1080x648 with 1 Axes>"
            ]
          },
          "metadata": {
            "tags": []
          }
        }
      ]
    },
    {
      "cell_type": "code",
      "metadata": {
        "id": "HD0Vg2w7K2ch",
        "colab_type": "code",
        "colab": {
          "base_uri": "https://localhost:8080/",
          "height": 159
        },
        "outputId": "12abde13-7a88-4a37-af01-1ac670966d9f"
      },
      "source": [
        "price.info()"
      ],
      "execution_count": null,
      "outputs": [
        {
          "output_type": "stream",
          "text": [
            "<class 'pandas.core.frame.DataFrame'>\n",
            "RangeIndex: 2642 entries, 0 to 2641\n",
            "Data columns (total 1 columns):\n",
            " #   Column  Non-Null Count  Dtype  \n",
            "---  ------  --------------  -----  \n",
            " 0   Close   2642 non-null   float64\n",
            "dtypes: float64(1)\n",
            "memory usage: 20.8 KB\n"
          ],
          "name": "stdout"
        }
      ]
    },
    {
      "cell_type": "code",
      "metadata": {
        "id": "mnBJw1E1M3Dc",
        "colab_type": "code",
        "colab": {}
      },
      "source": [
        "from sklearn.preprocessing import MinMaxScaler\n",
        "min_max_scaler = MinMaxScaler()\n",
        "\n",
        "norm_data = min_max_scaler.fit_transform(price.values)"
      ],
      "execution_count": null,
      "outputs": []
    },
    {
      "cell_type": "code",
      "metadata": {
        "id": "m4bGE07NM-Pk",
        "colab_type": "code",
        "colab": {}
      },
      "source": [
        "def univariate_data(dataset, start_index, end_index, history_size, target_size):\n",
        "  data = []\n",
        "  labels = []\n",
        "\n",
        "  start_index = start_index + history_size\n",
        "  if end_index is None:\n",
        "    end_index = len(dataset) - target_size\n",
        "\n",
        "  for i in range(start_index, end_index):\n",
        "    indices = range(i-history_size, i)\n",
        "    # Reshape data from (history_size,) to (history_size, 1)\n",
        "    data.append(np.reshape(dataset[indices], (history_size, 1)))\n",
        "    labels.append(dataset[i+target_size])\n",
        "  return np.array(data), np.array(labels)"
      ],
      "execution_count": null,
      "outputs": []
    },
    {
      "cell_type": "code",
      "metadata": {
        "id": "KxRVU9j_NUiQ",
        "colab_type": "code",
        "colab": {}
      },
      "source": [
        "past_history = 5\n",
        "future_target = 0\n",
        "\n",
        "TRAIN_SPLIT = int(len(norm_data) * 0.8)\n",
        "\n",
        "\n",
        "x_train, y_train = univariate_data(norm_data,\n",
        "                                   0,\n",
        "                                   TRAIN_SPLIT,\n",
        "                                   past_history,\n",
        "                                   future_target)\n",
        "\n",
        "x_test, y_test = univariate_data(norm_data,\n",
        "                                 TRAIN_SPLIT,\n",
        "                                 None,\n",
        "                                 past_history,\n",
        "                                 future_target)"
      ],
      "execution_count": null,
      "outputs": []
    },
    {
      "cell_type": "code",
      "metadata": {
        "id": "mVqTIDxxNie4",
        "colab_type": "code",
        "colab": {}
      },
      "source": [
        "from keras.models import Sequential\n",
        "from keras.optimizers import Adam\n",
        "from keras.layers import Dense, LSTM, LeakyReLU, Dropout\n",
        "\n",
        "num_units = 80\n",
        "learning_rate = 0.0001\n",
        "activation_function = 'sigmoid'\n",
        "adam = Adam(lr=learning_rate)\n",
        "loss_function = 'mse'\n",
        "batch_size = 8\n",
        "num_epochs = 60\n",
        "\n",
        "# Initialize the RNN\n",
        "model = Sequential()\n",
        "model.add(LSTM(units = num_units, activation=activation_function, input_shape=(None, 1)))\n",
        "model.add(LeakyReLU(alpha=0.5))\n",
        "model.add(Dropout(0.1))\n",
        "model.add(Dense(units = 1))\n",
        "\n",
        "# Compiling the RNN\n",
        "model.compile(optimizer=adam, loss=loss_function)"
      ],
      "execution_count": null,
      "outputs": []
    },
    {
      "cell_type": "code",
      "metadata": {
        "id": "kNSYKG8KNmB_",
        "colab_type": "code",
        "colab": {
          "base_uri": "https://localhost:8080/",
          "height": 301
        },
        "outputId": "b0597129-86f6-4cc0-cd75-04ab117f4367"
      },
      "source": [
        "model.summary()"
      ],
      "execution_count": null,
      "outputs": [
        {
          "output_type": "stream",
          "text": [
            "Model: \"sequential_2\"\n",
            "_________________________________________________________________\n",
            "Layer (type)                 Output Shape              Param #   \n",
            "=================================================================\n",
            "lstm_2 (LSTM)                (None, 72)                21312     \n",
            "_________________________________________________________________\n",
            "leaky_re_lu_2 (LeakyReLU)    (None, 72)                0         \n",
            "_________________________________________________________________\n",
            "dropout_2 (Dropout)          (None, 72)                0         \n",
            "_________________________________________________________________\n",
            "dense_2 (Dense)              (None, 1)                 73        \n",
            "=================================================================\n",
            "Total params: 21,385\n",
            "Trainable params: 21,385\n",
            "Non-trainable params: 0\n",
            "_________________________________________________________________\n"
          ],
          "name": "stdout"
        }
      ]
    },
    {
      "cell_type": "code",
      "metadata": {
        "id": "bNnCu_c9NsNJ",
        "colab_type": "code",
        "colab": {
          "base_uri": "https://localhost:8080/",
          "height": 1000
        },
        "outputId": "7ae00b93-eace-4fe4-cbb4-6f3b01716e9a"
      },
      "source": [
        "history = model.fit(\n",
        "    x_train,\n",
        "    y_train,\n",
        "    validation_split=0.1,\n",
        "    batch_size=batch_size,\n",
        "    epochs=num_epochs,\n",
        "    shuffle=False\n",
        ")\n",
        "\n",
        "loss = history.history['loss']\n",
        "val_loss = history.history['val_loss']\n",
        "\n",
        "epochs = range(len(loss))\n",
        "\n",
        "plt.figure()\n",
        "\n",
        "plt.plot(epochs, loss, 'b', label='Training loss')\n",
        "plt.plot(epochs, val_loss, 'r', label='Validation loss')\n",
        "plt.title(\"Training and Validation Loss\")\n",
        "plt.legend()\n",
        "\n",
        "plt.show()"
      ],
      "execution_count": null,
      "outputs": [
        {
          "output_type": "stream",
          "text": [
            "Train on 1897 samples, validate on 211 samples\n",
            "Epoch 1/55\n",
            "1897/1897 [==============================] - 2s 1ms/step - loss: 0.0329 - val_loss: 0.0301\n",
            "Epoch 2/55\n",
            "1897/1897 [==============================] - 2s 841us/step - loss: 0.0356 - val_loss: 0.0340\n",
            "Epoch 3/55\n",
            "1897/1897 [==============================] - 2s 872us/step - loss: 0.0333 - val_loss: 0.0375\n",
            "Epoch 4/55\n",
            "1897/1897 [==============================] - 2s 892us/step - loss: 0.0304 - val_loss: 0.0363\n",
            "Epoch 5/55\n",
            "1897/1897 [==============================] - 2s 934us/step - loss: 0.0325 - val_loss: 0.0343\n",
            "Epoch 6/55\n",
            "1897/1897 [==============================] - 2s 832us/step - loss: 0.0307 - val_loss: 0.0359\n",
            "Epoch 7/55\n",
            "1897/1897 [==============================] - 2s 939us/step - loss: 0.0296 - val_loss: 0.0284\n",
            "Epoch 8/55\n",
            "1897/1897 [==============================] - 2s 916us/step - loss: 0.0285 - val_loss: 0.0300\n",
            "Epoch 9/55\n",
            "1897/1897 [==============================] - 2s 827us/step - loss: 0.0280 - val_loss: 0.0304\n",
            "Epoch 10/55\n",
            "1897/1897 [==============================] - 2s 792us/step - loss: 0.0276 - val_loss: 0.0314\n",
            "Epoch 11/55\n",
            "1897/1897 [==============================] - 2s 916us/step - loss: 0.0264 - val_loss: 0.0297\n",
            "Epoch 12/55\n",
            "1897/1897 [==============================] - 2s 846us/step - loss: 0.0258 - val_loss: 0.0253\n",
            "Epoch 13/55\n",
            "1897/1897 [==============================] - 2s 998us/step - loss: 0.0243 - val_loss: 0.0300\n",
            "Epoch 14/55\n",
            "1897/1897 [==============================] - 2s 1ms/step - loss: 0.0232 - val_loss: 0.0255\n",
            "Epoch 15/55\n",
            "1897/1897 [==============================] - 2s 1ms/step - loss: 0.0222 - val_loss: 0.0258\n",
            "Epoch 16/55\n",
            "1897/1897 [==============================] - 2s 1ms/step - loss: 0.0225 - val_loss: 0.0285\n",
            "Epoch 17/55\n",
            "1897/1897 [==============================] - 2s 817us/step - loss: 0.0225 - val_loss: 0.0250\n",
            "Epoch 18/55\n",
            "1897/1897 [==============================] - 2s 1ms/step - loss: 0.0212 - val_loss: 0.0219\n",
            "Epoch 19/55\n",
            "1897/1897 [==============================] - 2s 815us/step - loss: 0.0204 - val_loss: 0.0225\n",
            "Epoch 20/55\n",
            "1897/1897 [==============================] - 2s 862us/step - loss: 0.0196 - val_loss: 0.0227\n",
            "Epoch 21/55\n",
            "1897/1897 [==============================] - 2s 965us/step - loss: 0.0199 - val_loss: 0.0211\n",
            "Epoch 22/55\n",
            "1897/1897 [==============================] - 2s 959us/step - loss: 0.0187 - val_loss: 0.0224\n",
            "Epoch 23/55\n",
            "1897/1897 [==============================] - 2s 844us/step - loss: 0.0182 - val_loss: 0.0207\n",
            "Epoch 24/55\n",
            "1897/1897 [==============================] - 2s 917us/step - loss: 0.0186 - val_loss: 0.0194\n",
            "Epoch 25/55\n",
            "1897/1897 [==============================] - 2s 868us/step - loss: 0.0172 - val_loss: 0.0221\n",
            "Epoch 26/55\n",
            "1897/1897 [==============================] - 2s 928us/step - loss: 0.0173 - val_loss: 0.0202\n",
            "Epoch 27/55\n",
            "1897/1897 [==============================] - 2s 864us/step - loss: 0.0166 - val_loss: 0.0190\n",
            "Epoch 28/55\n",
            "1897/1897 [==============================] - 2s 918us/step - loss: 0.0175 - val_loss: 0.0208\n",
            "Epoch 29/55\n",
            "1897/1897 [==============================] - 2s 955us/step - loss: 0.0160 - val_loss: 0.0193\n",
            "Epoch 30/55\n",
            "1897/1897 [==============================] - 2s 1ms/step - loss: 0.0159 - val_loss: 0.0209\n",
            "Epoch 31/55\n",
            "1897/1897 [==============================] - 2s 800us/step - loss: 0.0153 - val_loss: 0.0190\n",
            "Epoch 32/55\n",
            "1897/1897 [==============================] - 2s 831us/step - loss: 0.0144 - val_loss: 0.0176\n",
            "Epoch 33/55\n",
            "1897/1897 [==============================] - 2s 904us/step - loss: 0.0149 - val_loss: 0.0173\n",
            "Epoch 34/55\n",
            "1897/1897 [==============================] - 2s 1ms/step - loss: 0.0147 - val_loss: 0.0170\n",
            "Epoch 35/55\n",
            "1897/1897 [==============================] - 2s 919us/step - loss: 0.0132 - val_loss: 0.0174\n",
            "Epoch 36/55\n",
            "1897/1897 [==============================] - 2s 1ms/step - loss: 0.0137 - val_loss: 0.0160\n",
            "Epoch 37/55\n",
            "1897/1897 [==============================] - 2s 1ms/step - loss: 0.0130 - val_loss: 0.0157\n",
            "Epoch 38/55\n",
            "1897/1897 [==============================] - 2s 883us/step - loss: 0.0125 - val_loss: 0.0173\n",
            "Epoch 39/55\n",
            "1897/1897 [==============================] - 2s 1ms/step - loss: 0.0125 - val_loss: 0.0170\n",
            "Epoch 40/55\n",
            "1897/1897 [==============================] - 2s 897us/step - loss: 0.0121 - val_loss: 0.0151\n",
            "Epoch 41/55\n",
            "1897/1897 [==============================] - 2s 988us/step - loss: 0.0119 - val_loss: 0.0145\n",
            "Epoch 42/55\n",
            "1897/1897 [==============================] - 2s 956us/step - loss: 0.0109 - val_loss: 0.0146\n",
            "Epoch 43/55\n",
            "1897/1897 [==============================] - 2s 874us/step - loss: 0.0106 - val_loss: 0.0132\n",
            "Epoch 44/55\n",
            "1897/1897 [==============================] - 2s 918us/step - loss: 0.0105 - val_loss: 0.0146\n",
            "Epoch 45/55\n",
            "1897/1897 [==============================] - 2s 926us/step - loss: 0.0101 - val_loss: 0.0119\n",
            "Epoch 46/55\n",
            "1897/1897 [==============================] - 2s 843us/step - loss: 0.0098 - val_loss: 0.0119\n",
            "Epoch 47/55\n",
            "1897/1897 [==============================] - 2s 973us/step - loss: 0.0091 - val_loss: 0.0145\n",
            "Epoch 48/55\n",
            "1897/1897 [==============================] - 2s 888us/step - loss: 0.0095 - val_loss: 0.0117\n",
            "Epoch 49/55\n",
            "1897/1897 [==============================] - 2s 811us/step - loss: 0.0084 - val_loss: 0.0121\n",
            "Epoch 50/55\n",
            "1897/1897 [==============================] - 2s 818us/step - loss: 0.0089 - val_loss: 0.0116\n",
            "Epoch 51/55\n",
            "1897/1897 [==============================] - 2s 971us/step - loss: 0.0083 - val_loss: 0.0098\n",
            "Epoch 52/55\n",
            "1897/1897 [==============================] - 2s 920us/step - loss: 0.0076 - val_loss: 0.0101\n",
            "Epoch 53/55\n",
            "1897/1897 [==============================] - 2s 1ms/step - loss: 0.0071 - val_loss: 0.0109\n",
            "Epoch 54/55\n",
            "1897/1897 [==============================] - 2s 1ms/step - loss: 0.0071 - val_loss: 0.0088\n",
            "Epoch 55/55\n",
            "1897/1897 [==============================] - 2s 880us/step - loss: 0.0066 - val_loss: 0.0085\n"
          ],
          "name": "stdout"
        },
        {
          "output_type": "display_data",
          "data": {
            "image/png": "[encoded data removed]",
            "text/plain": [
              "<Figure size 432x288 with 1 Axes>"
            ]
          },
          "metadata": {
            "tags": []
          }
        }
      ]
    },
    {
      "cell_type": "code",
      "metadata": {
        "id": "3R3VrgR8OG9_",
        "colab_type": "code",
        "colab": {
          "base_uri": "https://localhost:8080/",
          "height": 311
        },
        "outputId": "9430cdf0-8ad7-419e-9f2d-625775ea0acc"
      },
      "source": [
        "original = pd.DataFrame(min_max_scaler.inverse_transform(y_test))\n",
        "predictions = pd.DataFrame(min_max_scaler.inverse_transform(model.predict(x_test)))\n",
        "\n",
        "ax = sns.lineplot(x=original.index, y=original[0], label=\"Test Data\", color='royalblue')\n",
        "ax = sns.lineplot(x=predictions.index, y=predictions[0], label=\"Prediction\", color='tomato')\n",
        "ax.set_title('Bitcoin price', size = 14, fontweight='bold')\n",
        "ax.set_xlabel(\"Days\", size = 14)\n",
        "ax.set_ylabel(\"Cost (USD)\", size = 14)\n",
        "ax.set_xticklabels('', size=10)"
      ],
      "execution_count": null,
      "outputs": [
        {
          "output_type": "execute_result",
          "data": {
            "text/plain": [
              "[]"
            ]
          },
          "metadata": {
            "tags": []
          },
          "execution_count": 114
        },
        {
          "output_type": "display_data",
          "data": {
            "image/png": "[encoded data removed]",
            "text/plain": [
              "<Figure size 432x288 with 1 Axes>"
            ]
          },
          "metadata": {
            "tags": []
          }
        }
      ]
    },
    {
      "cell_type": "code",
      "metadata": {
        "id": "MD3Ott5LtqaJ",
        "colab_type": "code",
        "colab": {}
      },
      "source": [
        "last_5 = predictions[-5:]"
      ],
      "execution_count": 141,
      "outputs": []
    },
    {
      "cell_type": "code",
      "metadata": {
        "id": "nn1xfbzjuEcW",
        "colab_type": "code",
        "colab": {
          "base_uri": "https://localhost:8080/",
          "height": 200
        },
        "outputId": "69a3e38b-f19c-4365-b91c-d9a4590631dc"
      },
      "source": [
        "last_5"
      ],
      "execution_count": 142,
      "outputs": [
        {
          "output_type": "execute_result",
          "data": {
            "text/html": [
              "<div>\n",
              "<style scoped>\n",
              "    .dataframe tbody tr th:only-of-type {\n",
              "        vertical-align: middle;\n",
              "    }\n",
              "\n",
              "    .dataframe tbody tr th {\n",
              "        vertical-align: top;\n",
              "    }\n",
              "\n",
              "    .dataframe thead th {\n",
              "        text-align: right;\n",
              "    }\n",
              "</style>\n",
              "<table border=\"1\" class=\"dataframe\">\n",
              "  <thead>\n",
              "    <tr style=\"text-align: right;\">\n",
              "      <th></th>\n",
              "      <th>0</th>\n",
              "    </tr>\n",
              "  </thead>\n",
              "  <tbody>\n",
              "    <tr>\n",
              "      <th>519</th>\n",
              "      <td>9995.534180</td>\n",
              "    </tr>\n",
              "    <tr>\n",
              "      <th>520</th>\n",
              "      <td>10104.878906</td>\n",
              "    </tr>\n",
              "    <tr>\n",
              "      <th>521</th>\n",
              "      <td>10143.879883</td>\n",
              "    </tr>\n",
              "    <tr>\n",
              "      <th>522</th>\n",
              "      <td>10254.041992</td>\n",
              "    </tr>\n",
              "    <tr>\n",
              "      <th>523</th>\n",
              "      <td>10447.729492</td>\n",
              "    </tr>\n",
              "  </tbody>\n",
              "</table>\n",
              "</div>"
            ],
            "text/plain": [
              "                0\n",
              "519   9995.534180\n",
              "520  10104.878906\n",
              "521  10143.879883\n",
              "522  10254.041992\n",
              "523  10447.729492"
            ]
          },
          "metadata": {
            "tags": []
          },
          "execution_count": 142
        }
      ]
    },
    {
      "cell_type": "code",
      "metadata": {
        "id": "2LLVLFNPOmwL",
        "colab_type": "code",
        "colab": {
          "base_uri": "https://localhost:8080/",
          "height": 35
        },
        "outputId": "2a921bcb-86c4-459c-8d37-91cf18de5b2d"
      },
      "source": [
        "min_max_scaler.inverse_transform(model.predict(x_test))[523]"
      ],
      "execution_count": 123,
      "outputs": [
        {
          "output_type": "execute_result",
          "data": {
            "text/plain": [
              "array([10447.7295], dtype=float32)"
            ]
          },
          "metadata": {
            "tags": []
          },
          "execution_count": 123
        }
      ]
    },
    {
      "cell_type": "code",
      "metadata": {
        "id": "zQnLRQ4UejZu",
        "colab_type": "code",
        "colab": {
          "base_uri": "https://localhost:8080/",
          "height": 35
        },
        "outputId": "4a6b88df-7c5a-4d71-bf3f-62bc5953c3cb"
      },
      "source": [
        "x_test.shape"
      ],
      "execution_count": 145,
      "outputs": [
        {
          "output_type": "execute_result",
          "data": {
            "text/plain": [
              "(524, 5, 1)"
            ]
          },
          "metadata": {
            "tags": []
          },
          "execution_count": 145
        }
      ]
    },
    {
      "cell_type": "code",
      "metadata": {
        "id": "B8c-0oQTtLmo",
        "colab_type": "code",
        "colab": {
          "base_uri": "https://localhost:8080/",
          "height": 675
        },
        "outputId": "3c6accc1-74ca-48b3-f632-55a506bca00c"
      },
      "source": [
        "x_test"
      ],
      "execution_count": 146,
      "outputs": [
        {
          "output_type": "execute_result",
          "data": {
            "text/plain": [
              "array([[[0.18298963],\n",
              "        [0.18428254],\n",
              "        [0.18127209],\n",
              "        [0.18115371],\n",
              "        [0.18056799]],\n",
              "\n",
              "       [[0.18428254],\n",
              "        [0.18127209],\n",
              "        [0.18115371],\n",
              "        [0.18056799],\n",
              "        [0.17978668]],\n",
              "\n",
              "       [[0.18127209],\n",
              "        [0.18115371],\n",
              "        [0.18056799],\n",
              "        [0.17978668],\n",
              "        [0.18004866]],\n",
              "\n",
              "       ...,\n",
              "\n",
              "       [[0.50813656],\n",
              "        [0.56516017],\n",
              "        [0.55924581],\n",
              "        [0.56831062],\n",
              "        [0.56861069]],\n",
              "\n",
              "       [[0.56516017],\n",
              "        [0.55924581],\n",
              "        [0.56831062],\n",
              "        [0.56861069],\n",
              "        [0.58074051]],\n",
              "\n",
              "       [[0.55924581],\n",
              "        [0.56831062],\n",
              "        [0.56861069],\n",
              "        [0.58074051],\n",
              "        [0.60433672]]])"
            ]
          },
          "metadata": {
            "tags": []
          },
          "execution_count": 146
        }
      ]
    },
    {
      "cell_type": "code",
      "metadata": {
        "id": "E3toWb40wB9d",
        "colab_type": "code",
        "colab": {}
      },
      "source": [
        ""
      ],
      "execution_count": null,
      "outputs": []
    }
  ]
}