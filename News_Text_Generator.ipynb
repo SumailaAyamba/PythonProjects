{
  "nbformat": 4,
  "nbformat_minor": 0,
  "metadata": {
    "colab": {
      "name": "News_Text_Generator",
      "provenance": [],
      "collapsed_sections": [],
      "authorship_tag": "ABX9TyPEPlIOPHT64iymgS32wCst",
      "include_colab_link": true
    },
    "kernelspec": {
      "name": "python3",
      "display_name": "Python 3"
    },
    "accelerator": "GPU"
  },
  "cells": [
    {
      "cell_type": "markdown",
      "metadata": {
        "id": "view-in-github",
        "colab_type": "text"
      },
      "source": [
        "<a href=\"https://colab.research.google.com/github/jarodchristiansen/PythonProjects/blob/master/News_Text_Generator.ipynb\" target=\"_parent\"><img src=\"https://colab.research.google.com/assets/colab-badge.svg\" alt=\"Open In Colab\"/></a>"
      ]
    },
    {
      "cell_type": "code",
      "metadata": {
        "id": "IsWx1eUa5q9X",
        "colab_type": "code",
        "colab": {
          "base_uri": "https://localhost:8080/",
          "height": 1000
        },
        "outputId": "97d27584-18bd-41fc-c1a2-f8112c379235"
      },
      "source": [
        "!pip install vaex\n",
        "!pip install Ipython --upgrade"
      ],
      "execution_count": null,
      "outputs": [
        {
          "output_type": "stream",
          "text": [
            "Requirement already satisfied: vaex in /usr/local/lib/python3.6/dist-packages (3.0.0)\n",
            "Requirement already satisfied: vaex-hdf5<0.7,>=0.6.0 in /usr/local/lib/python3.6/dist-packages (from vaex) (0.6.0)\n",
            "Requirement already satisfied: vaex-viz<0.5,>=0.4.0 in /usr/local/lib/python3.6/dist-packages (from vaex) (0.4.0)\n",
            "Requirement already satisfied: vaex-ml<0.10,>=0.9.0 in /usr/local/lib/python3.6/dist-packages (from vaex) (0.9.0)\n",
            "Requirement already satisfied: vaex-server<0.4,>=0.3.0 in /usr/local/lib/python3.6/dist-packages (from vaex) (0.3.1)\n",
            "Requirement already satisfied: vaex-core<3,>=2.0.0 in /usr/local/lib/python3.6/dist-packages (from vaex) (2.0.3)\n",
            "Requirement already satisfied: vaex-arrow<0.6,>=0.5.0 in /usr/local/lib/python3.6/dist-packages (from vaex) (0.5.1)\n",
            "Requirement already satisfied: vaex-jupyter<0.6,>=0.5.0 in /usr/local/lib/python3.6/dist-packages (from vaex) (0.5.2)\n",
            "Requirement already satisfied: vaex-astro<0.8,>=0.7.0 in /usr/local/lib/python3.6/dist-packages (from vaex) (0.7.0)\n",
            "Requirement already satisfied: h5py>=2.9 in /usr/local/lib/python3.6/dist-packages (from vaex-hdf5<0.7,>=0.6.0->vaex) (2.10.0)\n",
            "Requirement already satisfied: s3fs<0.3 in /usr/local/lib/python3.6/dist-packages (from vaex-hdf5<0.7,>=0.6.0->vaex) (0.2.2)\n",
            "Requirement already satisfied: matplotlib>=1.3.1 in /usr/local/lib/python3.6/dist-packages (from vaex-viz<0.5,>=0.4.0->vaex) (3.2.1)\n",
            "Requirement already satisfied: pillow in /usr/local/lib/python3.6/dist-packages (from vaex-viz<0.5,>=0.4.0->vaex) (7.0.0)\n",
            "Requirement already satisfied: jinja2 in /usr/local/lib/python3.6/dist-packages (from vaex-ml<0.10,>=0.9.0->vaex) (2.11.2)\n",
            "Requirement already satisfied: traitlets in /usr/local/lib/python3.6/dist-packages (from vaex-ml<0.10,>=0.9.0->vaex) (4.3.3)\n",
            "Requirement already satisfied: numba in /usr/local/lib/python3.6/dist-packages (from vaex-ml<0.10,>=0.9.0->vaex) (0.48.0)\n",
            "Requirement already satisfied: cachetools in /usr/local/lib/python3.6/dist-packages (from vaex-server<0.4,>=0.3.0->vaex) (4.1.0)\n",
            "Requirement already satisfied: tornado>4.1 in /usr/local/lib/python3.6/dist-packages (from vaex-server<0.4,>=0.3.0->vaex) (4.5.3)\n",
            "Requirement already satisfied: six in /usr/local/lib/python3.6/dist-packages (from vaex-core<3,>=2.0.0->vaex) (1.12.0)\n",
            "Requirement already satisfied: nest-asyncio>=1.3.3 in /usr/local/lib/python3.6/dist-packages (from vaex-core<3,>=2.0.0->vaex) (1.3.3)\n",
            "Requirement already satisfied: pyyaml in /usr/local/lib/python3.6/dist-packages (from vaex-core<3,>=2.0.0->vaex) (3.13)\n",
            "Requirement already satisfied: cloudpickle in /usr/local/lib/python3.6/dist-packages (from vaex-core<3,>=2.0.0->vaex) (1.3.0)\n",
            "Requirement already satisfied: dask[array] in /usr/local/lib/python3.6/dist-packages (from vaex-core<3,>=2.0.0->vaex) (2.12.0)\n",
            "Requirement already satisfied: requests in /usr/local/lib/python3.6/dist-packages (from vaex-core<3,>=2.0.0->vaex) (2.23.0)\n",
            "Requirement already satisfied: progressbar2 in /usr/local/lib/python3.6/dist-packages (from vaex-core<3,>=2.0.0->vaex) (3.38.0)\n",
            "Requirement already satisfied: numpy>=1.16 in /usr/local/lib/python3.6/dist-packages (from vaex-core<3,>=2.0.0->vaex) (1.18.5)\n",
            "Requirement already satisfied: pandas in /usr/local/lib/python3.6/dist-packages (from vaex-core<3,>=2.0.0->vaex) (1.0.4)\n",
            "Requirement already satisfied: tabulate>=0.8.3 in /usr/local/lib/python3.6/dist-packages (from vaex-core<3,>=2.0.0->vaex) (0.8.7)\n",
            "Requirement already satisfied: future>=0.15.2 in /usr/local/lib/python3.6/dist-packages (from vaex-core<3,>=2.0.0->vaex) (0.16.0)\n",
            "Requirement already satisfied: psutil>=1.2.1 in /usr/local/lib/python3.6/dist-packages (from vaex-core<3,>=2.0.0->vaex) (5.4.8)\n",
            "Requirement already satisfied: aplus in /usr/local/lib/python3.6/dist-packages (from vaex-core<3,>=2.0.0->vaex) (0.11.0)\n",
            "Requirement already satisfied: astropy>=2 in /usr/local/lib/python3.6/dist-packages (from vaex-core<3,>=2.0.0->vaex) (4.0.1.post1)\n",
            "Requirement already satisfied: pyarrow>=0.15 in /usr/local/lib/python3.6/dist-packages (from vaex-arrow<0.6,>=0.5.0->vaex) (0.17.1)\n",
            "Requirement already satisfied: bqplot>=0.10.1 in /usr/local/lib/python3.6/dist-packages (from vaex-jupyter<0.6,>=0.5.0->vaex) (0.12.12)\n",
            "Requirement already satisfied: xarray in /usr/local/lib/python3.6/dist-packages (from vaex-jupyter<0.6,>=0.5.0->vaex) (0.15.1)\n",
            "Requirement already satisfied: ipympl in /usr/local/lib/python3.6/dist-packages (from vaex-jupyter<0.6,>=0.5.0->vaex) (0.5.6)\n",
            "Requirement already satisfied: ipyvuetify<2,>=1.2.2 in /usr/local/lib/python3.6/dist-packages (from vaex-jupyter<0.6,>=0.5.0->vaex) (1.4.0)\n",
            "Requirement already satisfied: ipyvolume>=0.4 in /usr/local/lib/python3.6/dist-packages (from vaex-jupyter<0.6,>=0.5.0->vaex) (0.5.2)\n",
            "Requirement already satisfied: ipyleaflet in /usr/local/lib/python3.6/dist-packages (from vaex-jupyter<0.6,>=0.5.0->vaex) (0.13.0)\n",
            "Requirement already satisfied: boto3>=1.9.91 in /usr/local/lib/python3.6/dist-packages (from s3fs<0.3->vaex-hdf5<0.7,>=0.6.0->vaex) (1.14.2)\n",
            "Requirement already satisfied: botocore>=1.12.91 in /usr/local/lib/python3.6/dist-packages (from s3fs<0.3->vaex-hdf5<0.7,>=0.6.0->vaex) (1.17.2)\n",
            "Requirement already satisfied: cycler>=0.10 in /usr/local/lib/python3.6/dist-packages (from matplotlib>=1.3.1->vaex-viz<0.5,>=0.4.0->vaex) (0.10.0)\n",
            "Requirement already satisfied: kiwisolver>=1.0.1 in /usr/local/lib/python3.6/dist-packages (from matplotlib>=1.3.1->vaex-viz<0.5,>=0.4.0->vaex) (1.2.0)\n",
            "Requirement already satisfied: pyparsing!=2.0.4,!=2.1.2,!=2.1.6,>=2.0.1 in /usr/local/lib/python3.6/dist-packages (from matplotlib>=1.3.1->vaex-viz<0.5,>=0.4.0->vaex) (2.4.7)\n",
            "Requirement already satisfied: python-dateutil>=2.1 in /usr/local/lib/python3.6/dist-packages (from matplotlib>=1.3.1->vaex-viz<0.5,>=0.4.0->vaex) (2.8.1)\n",
            "Requirement already satisfied: MarkupSafe>=0.23 in /usr/local/lib/python3.6/dist-packages (from jinja2->vaex-ml<0.10,>=0.9.0->vaex) (1.1.1)\n",
            "Requirement already satisfied: ipython-genutils in /usr/local/lib/python3.6/dist-packages (from traitlets->vaex-ml<0.10,>=0.9.0->vaex) (0.2.0)\n",
            "Requirement already satisfied: decorator in /usr/local/lib/python3.6/dist-packages (from traitlets->vaex-ml<0.10,>=0.9.0->vaex) (4.4.2)\n",
            "Requirement already satisfied: setuptools in /usr/local/lib/python3.6/dist-packages (from numba->vaex-ml<0.10,>=0.9.0->vaex) (47.3.1)\n",
            "Requirement already satisfied: llvmlite<0.32.0,>=0.31.0dev0 in /usr/local/lib/python3.6/dist-packages (from numba->vaex-ml<0.10,>=0.9.0->vaex) (0.31.0)\n",
            "Requirement already satisfied: toolz>=0.7.3; extra == \"array\" in /usr/local/lib/python3.6/dist-packages (from dask[array]->vaex-core<3,>=2.0.0->vaex) (0.10.0)\n",
            "Requirement already satisfied: chardet<4,>=3.0.2 in /usr/local/lib/python3.6/dist-packages (from requests->vaex-core<3,>=2.0.0->vaex) (3.0.4)\n",
            "Requirement already satisfied: certifi>=2017.4.17 in /usr/local/lib/python3.6/dist-packages (from requests->vaex-core<3,>=2.0.0->vaex) (2020.4.5.2)\n",
            "Requirement already satisfied: urllib3!=1.25.0,!=1.25.1,<1.26,>=1.21.1 in /usr/local/lib/python3.6/dist-packages (from requests->vaex-core<3,>=2.0.0->vaex) (1.24.3)\n",
            "Requirement already satisfied: idna<3,>=2.5 in /usr/local/lib/python3.6/dist-packages (from requests->vaex-core<3,>=2.0.0->vaex) (2.9)\n",
            "Requirement already satisfied: python-utils>=2.3.0 in /usr/local/lib/python3.6/dist-packages (from progressbar2->vaex-core<3,>=2.0.0->vaex) (2.4.0)\n",
            "Requirement already satisfied: pytz>=2017.2 in /usr/local/lib/python3.6/dist-packages (from pandas->vaex-core<3,>=2.0.0->vaex) (2018.9)\n",
            "Requirement already satisfied: traittypes>=0.0.6 in /usr/local/lib/python3.6/dist-packages (from bqplot>=0.10.1->vaex-jupyter<0.6,>=0.5.0->vaex) (0.2.1)\n",
            "Requirement already satisfied: ipywidgets>=7.5.0 in /usr/local/lib/python3.6/dist-packages (from bqplot>=0.10.1->vaex-jupyter<0.6,>=0.5.0->vaex) (7.5.1)\n",
            "Requirement already satisfied: ipykernel>=4.7 in /usr/local/lib/python3.6/dist-packages (from ipympl->vaex-jupyter<0.6,>=0.5.0->vaex) (4.10.1)\n",
            "Requirement already satisfied: ipyvue<2,>=1.3.2 in /usr/local/lib/python3.6/dist-packages (from ipyvuetify<2,>=1.2.2->vaex-jupyter<0.6,>=0.5.0->vaex) (1.3.2)\n",
            "Requirement already satisfied: pythreejs>=1.0.0 in /usr/local/lib/python3.6/dist-packages (from ipyvolume>=0.4->vaex-jupyter<0.6,>=0.5.0->vaex) (2.2.0)\n",
            "Requirement already satisfied: ipywebrtc in /usr/local/lib/python3.6/dist-packages (from ipyvolume>=0.4->vaex-jupyter<0.6,>=0.5.0->vaex) (0.5.0)\n",
            "Requirement already satisfied: branca<0.4,>=0.3.1 in /usr/local/lib/python3.6/dist-packages (from ipyleaflet->vaex-jupyter<0.6,>=0.5.0->vaex) (0.3.1)\n",
            "Requirement already satisfied: s3transfer<0.4.0,>=0.3.0 in /usr/local/lib/python3.6/dist-packages (from boto3>=1.9.91->s3fs<0.3->vaex-hdf5<0.7,>=0.6.0->vaex) (0.3.3)\n",
            "Requirement already satisfied: jmespath<1.0.0,>=0.7.1 in /usr/local/lib/python3.6/dist-packages (from boto3>=1.9.91->s3fs<0.3->vaex-hdf5<0.7,>=0.6.0->vaex) (0.10.0)\n",
            "Requirement already satisfied: docutils<0.16,>=0.10 in /usr/local/lib/python3.6/dist-packages (from botocore>=1.12.91->s3fs<0.3->vaex-hdf5<0.7,>=0.6.0->vaex) (0.15.2)\n",
            "Requirement already satisfied: nbformat>=4.2.0 in /usr/local/lib/python3.6/dist-packages (from ipywidgets>=7.5.0->bqplot>=0.10.1->vaex-jupyter<0.6,>=0.5.0->vaex) (5.0.7)\n",
            "Requirement already satisfied: widgetsnbextension~=3.5.0 in /usr/local/lib/python3.6/dist-packages (from ipywidgets>=7.5.0->bqplot>=0.10.1->vaex-jupyter<0.6,>=0.5.0->vaex) (3.5.1)\n",
            "Requirement already satisfied: ipython>=4.0.0; python_version >= \"3.3\" in /usr/local/lib/python3.6/dist-packages (from ipywidgets>=7.5.0->bqplot>=0.10.1->vaex-jupyter<0.6,>=0.5.0->vaex) (7.15.0)\n",
            "Requirement already satisfied: jupyter-client in /usr/local/lib/python3.6/dist-packages (from ipykernel>=4.7->ipympl->vaex-jupyter<0.6,>=0.5.0->vaex) (5.3.4)\n",
            "Requirement already satisfied: ipydatawidgets>=1.1.1 in /usr/local/lib/python3.6/dist-packages (from pythreejs>=1.0.0->ipyvolume>=0.4->vaex-jupyter<0.6,>=0.5.0->vaex) (4.0.1)\n",
            "Requirement already satisfied: jsonschema!=2.5.0,>=2.4 in /usr/local/lib/python3.6/dist-packages (from nbformat>=4.2.0->ipywidgets>=7.5.0->bqplot>=0.10.1->vaex-jupyter<0.6,>=0.5.0->vaex) (2.6.0)\n",
            "Requirement already satisfied: jupyter-core in /usr/local/lib/python3.6/dist-packages (from nbformat>=4.2.0->ipywidgets>=7.5.0->bqplot>=0.10.1->vaex-jupyter<0.6,>=0.5.0->vaex) (4.6.3)\n",
            "Requirement already satisfied: notebook>=4.4.1 in /usr/local/lib/python3.6/dist-packages (from widgetsnbextension~=3.5.0->ipywidgets>=7.5.0->bqplot>=0.10.1->vaex-jupyter<0.6,>=0.5.0->vaex) (5.2.2)\n",
            "Requirement already satisfied: prompt-toolkit!=3.0.0,!=3.0.1,<3.1.0,>=2.0.0 in /usr/local/lib/python3.6/dist-packages (from ipython>=4.0.0; python_version >= \"3.3\"->ipywidgets>=7.5.0->bqplot>=0.10.1->vaex-jupyter<0.6,>=0.5.0->vaex) (3.0.5)\n",
            "Requirement already satisfied: pexpect; sys_platform != \"win32\" in /usr/local/lib/python3.6/dist-packages (from ipython>=4.0.0; python_version >= \"3.3\"->ipywidgets>=7.5.0->bqplot>=0.10.1->vaex-jupyter<0.6,>=0.5.0->vaex) (4.8.0)\n",
            "Requirement already satisfied: pygments in /usr/local/lib/python3.6/dist-packages (from ipython>=4.0.0; python_version >= \"3.3\"->ipywidgets>=7.5.0->bqplot>=0.10.1->vaex-jupyter<0.6,>=0.5.0->vaex) (2.1.3)\n",
            "Requirement already satisfied: backcall in /usr/local/lib/python3.6/dist-packages (from ipython>=4.0.0; python_version >= \"3.3\"->ipywidgets>=7.5.0->bqplot>=0.10.1->vaex-jupyter<0.6,>=0.5.0->vaex) (0.2.0)\n",
            "Requirement already satisfied: pickleshare in /usr/local/lib/python3.6/dist-packages (from ipython>=4.0.0; python_version >= \"3.3\"->ipywidgets>=7.5.0->bqplot>=0.10.1->vaex-jupyter<0.6,>=0.5.0->vaex) (0.7.5)\n",
            "Requirement already satisfied: jedi>=0.10 in /usr/local/lib/python3.6/dist-packages (from ipython>=4.0.0; python_version >= \"3.3\"->ipywidgets>=7.5.0->bqplot>=0.10.1->vaex-jupyter<0.6,>=0.5.0->vaex) (0.17.0)\n",
            "Requirement already satisfied: pyzmq>=13 in /usr/local/lib/python3.6/dist-packages (from jupyter-client->ipykernel>=4.7->ipympl->vaex-jupyter<0.6,>=0.5.0->vaex) (19.0.1)\n",
            "Requirement already satisfied: terminado>=0.3.3; sys_platform != \"win32\" in /usr/local/lib/python3.6/dist-packages (from notebook>=4.4.1->widgetsnbextension~=3.5.0->ipywidgets>=7.5.0->bqplot>=0.10.1->vaex-jupyter<0.6,>=0.5.0->vaex) (0.8.3)\n",
            "Requirement already satisfied: nbconvert in /usr/local/lib/python3.6/dist-packages (from notebook>=4.4.1->widgetsnbextension~=3.5.0->ipywidgets>=7.5.0->bqplot>=0.10.1->vaex-jupyter<0.6,>=0.5.0->vaex) (5.6.1)\n",
            "Requirement already satisfied: wcwidth in /usr/local/lib/python3.6/dist-packages (from prompt-toolkit!=3.0.0,!=3.0.1,<3.1.0,>=2.0.0->ipython>=4.0.0; python_version >= \"3.3\"->ipywidgets>=7.5.0->bqplot>=0.10.1->vaex-jupyter<0.6,>=0.5.0->vaex) (0.2.4)\n",
            "Requirement already satisfied: ptyprocess>=0.5 in /usr/local/lib/python3.6/dist-packages (from pexpect; sys_platform != \"win32\"->ipython>=4.0.0; python_version >= \"3.3\"->ipywidgets>=7.5.0->bqplot>=0.10.1->vaex-jupyter<0.6,>=0.5.0->vaex) (0.6.0)\n",
            "Requirement already satisfied: parso>=0.7.0 in /usr/local/lib/python3.6/dist-packages (from jedi>=0.10->ipython>=4.0.0; python_version >= \"3.3\"->ipywidgets>=7.5.0->bqplot>=0.10.1->vaex-jupyter<0.6,>=0.5.0->vaex) (0.7.0)\n",
            "Requirement already satisfied: testpath in /usr/local/lib/python3.6/dist-packages (from nbconvert->notebook>=4.4.1->widgetsnbextension~=3.5.0->ipywidgets>=7.5.0->bqplot>=0.10.1->vaex-jupyter<0.6,>=0.5.0->vaex) (0.4.4)\n",
            "Requirement already satisfied: entrypoints>=0.2.2 in /usr/local/lib/python3.6/dist-packages (from nbconvert->notebook>=4.4.1->widgetsnbextension~=3.5.0->ipywidgets>=7.5.0->bqplot>=0.10.1->vaex-jupyter<0.6,>=0.5.0->vaex) (0.3)\n",
            "Requirement already satisfied: bleach in /usr/local/lib/python3.6/dist-packages (from nbconvert->notebook>=4.4.1->widgetsnbextension~=3.5.0->ipywidgets>=7.5.0->bqplot>=0.10.1->vaex-jupyter<0.6,>=0.5.0->vaex) (3.1.5)\n",
            "Requirement already satisfied: mistune<2,>=0.8.1 in /usr/local/lib/python3.6/dist-packages (from nbconvert->notebook>=4.4.1->widgetsnbextension~=3.5.0->ipywidgets>=7.5.0->bqplot>=0.10.1->vaex-jupyter<0.6,>=0.5.0->vaex) (0.8.4)\n",
            "Requirement already satisfied: defusedxml in /usr/local/lib/python3.6/dist-packages (from nbconvert->notebook>=4.4.1->widgetsnbextension~=3.5.0->ipywidgets>=7.5.0->bqplot>=0.10.1->vaex-jupyter<0.6,>=0.5.0->vaex) (0.6.0)\n",
            "Requirement already satisfied: pandocfilters>=1.4.1 in /usr/local/lib/python3.6/dist-packages (from nbconvert->notebook>=4.4.1->widgetsnbextension~=3.5.0->ipywidgets>=7.5.0->bqplot>=0.10.1->vaex-jupyter<0.6,>=0.5.0->vaex) (1.4.2)\n",
            "Requirement already satisfied: webencodings in /usr/local/lib/python3.6/dist-packages (from bleach->nbconvert->notebook>=4.4.1->widgetsnbextension~=3.5.0->ipywidgets>=7.5.0->bqplot>=0.10.1->vaex-jupyter<0.6,>=0.5.0->vaex) (0.5.1)\n",
            "Requirement already satisfied: packaging in /usr/local/lib/python3.6/dist-packages (from bleach->nbconvert->notebook>=4.4.1->widgetsnbextension~=3.5.0->ipywidgets>=7.5.0->bqplot>=0.10.1->vaex-jupyter<0.6,>=0.5.0->vaex) (20.4)\n",
            "Requirement already up-to-date: Ipython in /usr/local/lib/python3.6/dist-packages (7.15.0)\n",
            "Requirement already satisfied, skipping upgrade: decorator in /usr/local/lib/python3.6/dist-packages (from Ipython) (4.4.2)\n",
            "Requirement already satisfied, skipping upgrade: pickleshare in /usr/local/lib/python3.6/dist-packages (from Ipython) (0.7.5)\n",
            "Requirement already satisfied, skipping upgrade: setuptools>=18.5 in /usr/local/lib/python3.6/dist-packages (from Ipython) (47.3.1)\n",
            "Requirement already satisfied, skipping upgrade: jedi>=0.10 in /usr/local/lib/python3.6/dist-packages (from Ipython) (0.17.0)\n",
            "Requirement already satisfied, skipping upgrade: pygments in /usr/local/lib/python3.6/dist-packages (from Ipython) (2.1.3)\n",
            "Requirement already satisfied, skipping upgrade: backcall in /usr/local/lib/python3.6/dist-packages (from Ipython) (0.2.0)\n",
            "Requirement already satisfied, skipping upgrade: prompt-toolkit!=3.0.0,!=3.0.1,<3.1.0,>=2.0.0 in /usr/local/lib/python3.6/dist-packages (from Ipython) (3.0.5)\n",
            "Requirement already satisfied, skipping upgrade: traitlets>=4.2 in /usr/local/lib/python3.6/dist-packages (from Ipython) (4.3.3)\n",
            "Requirement already satisfied, skipping upgrade: pexpect; sys_platform != \"win32\" in /usr/local/lib/python3.6/dist-packages (from Ipython) (4.8.0)\n",
            "Requirement already satisfied, skipping upgrade: parso>=0.7.0 in /usr/local/lib/python3.6/dist-packages (from jedi>=0.10->Ipython) (0.7.0)\n",
            "Requirement already satisfied, skipping upgrade: wcwidth in /usr/local/lib/python3.6/dist-packages (from prompt-toolkit!=3.0.0,!=3.0.1,<3.1.0,>=2.0.0->Ipython) (0.2.4)\n",
            "Requirement already satisfied, skipping upgrade: ipython-genutils in /usr/local/lib/python3.6/dist-packages (from traitlets>=4.2->Ipython) (0.2.0)\n",
            "Requirement already satisfied, skipping upgrade: six in /usr/local/lib/python3.6/dist-packages (from traitlets>=4.2->Ipython) (1.12.0)\n",
            "Requirement already satisfied, skipping upgrade: ptyprocess>=0.5 in /usr/local/lib/python3.6/dist-packages (from pexpect; sys_platform != \"win32\"->Ipython) (0.6.0)\n"
          ],
          "name": "stdout"
        }
      ]
    },
    {
      "cell_type": "code",
      "metadata": {
        "id": "85Qzzs975s5i",
        "colab_type": "code",
        "colab": {}
      },
      "source": [
        "import pandas as pd\n",
        "import numpy as np\n",
        "import vaex\n",
        "import spacy\n",
        "import h5py"
      ],
      "execution_count": null,
      "outputs": []
    },
    {
      "cell_type": "code",
      "metadata": {
        "id": "JOMYF6-t51jh",
        "colab_type": "code",
        "colab": {
          "base_uri": "https://localhost:8080/",
          "height": 35
        },
        "outputId": "e019e4ca-abc2-4bef-ca8e-e6a2e8d27a56"
      },
      "source": [
        "from google.colab import drive\n",
        "drive.mount('/content/drive')"
      ],
      "execution_count": null,
      "outputs": [
        {
          "output_type": "stream",
          "text": [
            "Drive already mounted at /content/drive; to attempt to forcibly remount, call drive.mount(\"/content/drive\", force_remount=True).\n"
          ],
          "name": "stdout"
        }
      ]
    },
    {
      "cell_type": "code",
      "metadata": {
        "id": "1RNzm4056jQx",
        "colab_type": "code",
        "colab": {}
      },
      "source": [
        "data = vaex.open('/content/drive/My Drive/Colab Notebooks/Neural Networks/NLP/News NLP/all-the-news-2-1.csv_chunk0.hdf5')"
      ],
      "execution_count": null,
      "outputs": []
    },
    {
      "cell_type": "code",
      "metadata": {
        "id": "XQHMqOK26Sqi",
        "colab_type": "code",
        "colab": {
          "base_uri": "https://localhost:8080/",
          "height": 906
        },
        "outputId": "a8f2fbc0-46d9-47e9-bdc3-6a0a6f77ea08"
      },
      "source": [
        "data"
      ],
      "execution_count": null,
      "outputs": [
        {
          "output_type": "execute_result",
          "data": {
            "text/plain": [
              "#        Unnamed: 0    Unnamed: 0.1    date                 year    month    day    author                                   title                                                article                                              url                                                  section     publication\n",
              "0        0             0               2016-12-09 18:31:00  2016    12.0     9      Lee Drutman                              'We should take concerns about the health of lib...  'This post is part of Polyarchy, an independent ...  'https://www.vox.com/polyarchy/2016/12/9/1389834...  None        Vox\n",
              "1        1             1               2016-10-07 21:26:46  2016    10.0     7      Scott Davis                              \"Colts GM Ryan Grigson says Andrew Luck's contra...  ' The Indianapolis Colts made Andrew Luck the hi...  'https://www.businessinsider.com/colts-gm-ryan-g...  None        Business Insider\n",
              "2        2             2               2018-01-26 00:00:00  2018    1.0      26     None                                     Trump denies report he ordered Mueller fired         'DAVOS, Switzerland (Reuters) - U.S. President D...  'https://www.reuters.com/article/us-davos-meetin...  Davos       Reuters\n",
              "3        3             3               2019-06-27 00:00:00  2019    6.0      27     None                                     \"France's Sarkozy reveals his 'Passions' but ins...  'PARIS (Reuters) - Former French president Nicol...  'https://www.reuters.com/article/france-politics...  World News  Reuters\n",
              "4        4             4               2016-01-27 00:00:00  2016    1.0      27     None                                     \"Paris Hilton: Woman In Black For Uncle Monty's ...  'Paris Hilton arrived at LAX Wednesday dressed t...  'https://www.tmz.com/2016/01/27/paris-hilton-mon...  None        TMZ\n",
              "...      ...           ...             ...                  ...     ...      ...    ...                                      ...                                                  ...                                                  ...                                                  ...         ...\n",
              "124,995  124995        124995          2019-02-14 00:00:00  2019    2.0      14     Corina Pons, Luc Cohen, Matt Spetalnick  \"Venezuela's Maduro ramps up legal fight against...  'CARACAS/WASHINGTON (Reuters) - Venezuelan Presi...  'https://www.reuters.com/article/us-venezuela-po...  None        Reuters\n",
              "124,996  124996        124996          2016-04-13 11:08:00  2016    4.0      13     None                                     'Watch Deftones Rip Jimmy Kimmel a New One By Pe...  'Last night, Deftones, also generally known as o...  'https://www.vice.com/en_us/article/rq49k7/defto...  None        Vice\n",
              "124,997  124997        124997          2018-02-26 00:00:00  2018    2.0      26                                              'Blac Chyna Talks About Sex Tape Leak, Possibili...  \"Blac Chyna's leaked sex tape could be just the ...  'https://www.tmz.com/2018/02/26/blac-chyna-talks...  None        TMZ\n",
              "124,998  124998        124998          2016-11-02 16:00:03  2016    11.0     2      Johana Bhuiyan                           'Uber can now check your calendar to pre-fill yo...  'Uber is rolling out a revamped version of its r...  'https://www.vox.com/2016/11/2/13492706/uber-app...              Vox\n",
              "124,999  124999        124999          2019-03-29 11:41:56  2019    3.0      29     Shirin Ghaffary                          'Recode Daily: HUD is filing charges against Fac...  'The US government says Facebook’s ad business c...  'https://www.vox.com/2019/3/29/18286109/hud-face...              Vox"
            ],
            "text/html": [
              "<table>\n",
              "<thead>\n",
              "<tr><th>#                                  </th><th>Unnamed: 0  </th><th>Unnamed: 0.1  </th><th>date               </th><th>year  </th><th>month  </th><th>day  </th><th>author                                 </th><th>title                                              </th><th>article                                            </th><th>url                                                </th><th>section   </th><th>publication     </th></tr>\n",
              "</thead>\n",
              "<tbody>\n",
              "<tr><td><i style='opacity: 0.6'>0</i>      </td><td>0           </td><td>0             </td><td>2016-12-09 18:31:00</td><td>2016  </td><td>12.0   </td><td>9    </td><td>Lee Drutman                            </td><td>&#x27;We should take concerns about the health of lib...</td><td>&#x27;This post is part of Polyarchy, an independent ...</td><td>&#x27;https://www.vox.com/polyarchy/2016/12/9/1389834...</td><td>None      </td><td>Vox             </td></tr>\n",
              "<tr><td><i style='opacity: 0.6'>1</i>      </td><td>1           </td><td>1             </td><td>2016-10-07 21:26:46</td><td>2016  </td><td>10.0   </td><td>7    </td><td>Scott Davis                            </td><td>&quot;Colts GM Ryan Grigson says Andrew Luck&#x27;s contra...</td><td>&#x27; The Indianapolis Colts made Andrew Luck the hi...</td><td>&#x27;https://www.businessinsider.com/colts-gm-ryan-g...</td><td>None      </td><td>Business Insider</td></tr>\n",
              "<tr><td><i style='opacity: 0.6'>2</i>      </td><td>2           </td><td>2             </td><td>2018-01-26 00:00:00</td><td>2018  </td><td>1.0    </td><td>26   </td><td>None                                   </td><td>Trump denies report he ordered Mueller fired       </td><td>&#x27;DAVOS, Switzerland (Reuters) - U.S. President D...</td><td>&#x27;https://www.reuters.com/article/us-davos-meetin...</td><td>Davos     </td><td>Reuters         </td></tr>\n",
              "<tr><td><i style='opacity: 0.6'>3</i>      </td><td>3           </td><td>3             </td><td>2019-06-27 00:00:00</td><td>2019  </td><td>6.0    </td><td>27   </td><td>None                                   </td><td>&quot;France&#x27;s Sarkozy reveals his &#x27;Passions&#x27; but ins...</td><td>&#x27;PARIS (Reuters) - Former French president Nicol...</td><td>&#x27;https://www.reuters.com/article/france-politics...</td><td>World News</td><td>Reuters         </td></tr>\n",
              "<tr><td><i style='opacity: 0.6'>4</i>      </td><td>4           </td><td>4             </td><td>2016-01-27 00:00:00</td><td>2016  </td><td>1.0    </td><td>27   </td><td>None                                   </td><td>&quot;Paris Hilton: Woman In Black For Uncle Monty&#x27;s ...</td><td>&#x27;Paris Hilton arrived at LAX Wednesday dressed t...</td><td>&#x27;https://www.tmz.com/2016/01/27/paris-hilton-mon...</td><td>None      </td><td>TMZ             </td></tr>\n",
              "<tr><td>...                                </td><td>...         </td><td>...           </td><td>...                </td><td>...   </td><td>...    </td><td>...  </td><td>...                                    </td><td>...                                                </td><td>...                                                </td><td>...                                                </td><td>...       </td><td>...             </td></tr>\n",
              "<tr><td><i style='opacity: 0.6'>124,995</i></td><td>124995      </td><td>124995        </td><td>2019-02-14 00:00:00</td><td>2019  </td><td>2.0    </td><td>14   </td><td>Corina Pons, Luc Cohen, Matt Spetalnick</td><td>&quot;Venezuela&#x27;s Maduro ramps up legal fight against...</td><td>&#x27;CARACAS/WASHINGTON (Reuters) - Venezuelan Presi...</td><td>&#x27;https://www.reuters.com/article/us-venezuela-po...</td><td>None      </td><td>Reuters         </td></tr>\n",
              "<tr><td><i style='opacity: 0.6'>124,996</i></td><td>124996      </td><td>124996        </td><td>2016-04-13 11:08:00</td><td>2016  </td><td>4.0    </td><td>13   </td><td>None                                   </td><td>&#x27;Watch Deftones Rip Jimmy Kimmel a New One By Pe...</td><td>&#x27;Last night, Deftones, also generally known as o...</td><td>&#x27;https://www.vice.com/en_us/article/rq49k7/defto...</td><td>None      </td><td>Vice            </td></tr>\n",
              "<tr><td><i style='opacity: 0.6'>124,997</i></td><td>124997      </td><td>124997        </td><td>2018-02-26 00:00:00</td><td>2018  </td><td>2.0    </td><td>26   </td><td>                                       </td><td>&#x27;Blac Chyna Talks About Sex Tape Leak, Possibili...</td><td>&quot;Blac Chyna&#x27;s leaked sex tape could be just the ...</td><td>&#x27;https://www.tmz.com/2018/02/26/blac-chyna-talks...</td><td>None      </td><td>TMZ             </td></tr>\n",
              "<tr><td><i style='opacity: 0.6'>124,998</i></td><td>124998      </td><td>124998        </td><td>2016-11-02 16:00:03</td><td>2016  </td><td>11.0   </td><td>2    </td><td>Johana Bhuiyan                         </td><td>&#x27;Uber can now check your calendar to pre-fill yo...</td><td>&#x27;Uber is rolling out a revamped version of its r...</td><td>&#x27;https://www.vox.com/2016/11/2/13492706/uber-app...</td><td>          </td><td>Vox             </td></tr>\n",
              "<tr><td><i style='opacity: 0.6'>124,999</i></td><td>124999      </td><td>124999        </td><td>2019-03-29 11:41:56</td><td>2019  </td><td>3.0    </td><td>29   </td><td>Shirin Ghaffary                        </td><td>&#x27;Recode Daily: HUD is filing charges against Fac...</td><td>&#x27;The US government says Facebook’s ad business c...</td><td>&#x27;https://www.vox.com/2019/3/29/18286109/hud-face...</td><td>          </td><td>Vox             </td></tr>\n",
              "</tbody>\n",
              "</table>"
            ]
          },
          "metadata": {
            "tags": []
          },
          "execution_count": 4
        }
      ]
    },
    {
      "cell_type": "code",
      "metadata": {
        "id": "gqo-2WX_6YvV",
        "colab_type": "code",
        "colab": {}
      },
      "source": [
        "df_pandas = data.to_pandas_df(['date','author', 'title', 'article', 'url', 'section', 'publication'])"
      ],
      "execution_count": null,
      "outputs": []
    },
    {
      "cell_type": "code",
      "metadata": {
        "id": "Z0SfWm4-6cG-",
        "colab_type": "code",
        "colab": {}
      },
      "source": [
        "from sklearn.feature_extraction.text import TfidfVectorizer"
      ],
      "execution_count": null,
      "outputs": []
    },
    {
      "cell_type": "code",
      "metadata": {
        "id": "BnB-BXerbitJ",
        "colab_type": "code",
        "colab": {
          "base_uri": "https://localhost:8080/",
          "height": 52
        },
        "outputId": "6ccd63a7-2c3a-44be-c7ef-34ea2bb75099"
      },
      "source": [
        "df_pandas['publication'].unique()"
      ],
      "execution_count": null,
      "outputs": [
        {
          "output_type": "execute_result",
          "data": {
            "text/plain": [
              "array(['Vox', 'Business Insider', 'Reuters', 'TMZ', 'Vice', 'Vice News',\n",
              "       'Hyperallergic'], dtype=object)"
            ]
          },
          "metadata": {
            "tags": []
          },
          "execution_count": 7
        }
      ]
    },
    {
      "cell_type": "code",
      "metadata": {
        "id": "OohtXa_Fcc1M",
        "colab_type": "code",
        "colab": {}
      },
      "source": [
        "BI = df_pandas.loc[df_pandas['publication'] == 'Business Insider']"
      ],
      "execution_count": null,
      "outputs": []
    },
    {
      "cell_type": "code",
      "metadata": {
        "id": "WeDnAC-lcp91",
        "colab_type": "code",
        "colab": {
          "base_uri": "https://localhost:8080/",
          "height": 581
        },
        "outputId": "c66c211f-5f8d-4436-a172-2fdd7d87c3ea"
      },
      "source": [
        "BI"
      ],
      "execution_count": null,
      "outputs": [
        {
          "output_type": "execute_result",
          "data": {
            "text/html": [
              "<div>\n",
              "<style scoped>\n",
              "    .dataframe tbody tr th:only-of-type {\n",
              "        vertical-align: middle;\n",
              "    }\n",
              "\n",
              "    .dataframe tbody tr th {\n",
              "        vertical-align: top;\n",
              "    }\n",
              "\n",
              "    .dataframe thead th {\n",
              "        text-align: right;\n",
              "    }\n",
              "</style>\n",
              "<table border=\"1\" class=\"dataframe\">\n",
              "  <thead>\n",
              "    <tr style=\"text-align: right;\">\n",
              "      <th></th>\n",
              "      <th>date</th>\n",
              "      <th>author</th>\n",
              "      <th>title</th>\n",
              "      <th>article</th>\n",
              "      <th>url</th>\n",
              "      <th>section</th>\n",
              "      <th>publication</th>\n",
              "    </tr>\n",
              "  </thead>\n",
              "  <tbody>\n",
              "    <tr>\n",
              "      <th>1</th>\n",
              "      <td>2016-10-07 21:26:46</td>\n",
              "      <td>Scott Davis</td>\n",
              "      <td>Colts GM Ryan Grigson says Andrew Luck's contr...</td>\n",
              "      <td>The Indianapolis Colts made Andrew Luck the h...</td>\n",
              "      <td>https://www.businessinsider.com/colts-gm-ryan-...</td>\n",
              "      <td>None</td>\n",
              "      <td>Business Insider</td>\n",
              "    </tr>\n",
              "    <tr>\n",
              "      <th>61</th>\n",
              "      <td>2017-08-03 12:56:10</td>\n",
              "      <td>Jason Guerrasio</td>\n",
              "      <td>'The Dark Tower' movie review: It has no heart...</td>\n",
              "      <td>There's a creed The Gunslinger lives by in \"Th...</td>\n",
              "      <td>https://www.businessinsider.com/the-dark-tower...</td>\n",
              "      <td>None</td>\n",
              "      <td>Business Insider</td>\n",
              "    </tr>\n",
              "    <tr>\n",
              "      <th>64</th>\n",
              "      <td>2018-04-18 19:52:56</td>\n",
              "      <td>Kaylee Fagan</td>\n",
              "      <td>Fortnite meteors are falling: Here's what it m...</td>\n",
              "      <td>Meteors have been seen falling in Fortnite: Ba...</td>\n",
              "      <td>https://www.businessinsider.com/fortnite-meteo...</td>\n",
              "      <td>None</td>\n",
              "      <td>Business Insider</td>\n",
              "    </tr>\n",
              "    <tr>\n",
              "      <th>106</th>\n",
              "      <td>2018-08-29 10:16:27</td>\n",
              "      <td>Ryan Tarinelli</td>\n",
              "      <td>Ex-Texas cop found guilty of murdering black t...</td>\n",
              "      <td>Jurors are now deciding the fate of a former T...</td>\n",
              "      <td>https://www.businessinsider.com/ex-texas-cop-f...</td>\n",
              "      <td>None</td>\n",
              "      <td>Business Insider</td>\n",
              "    </tr>\n",
              "    <tr>\n",
              "      <th>159</th>\n",
              "      <td>2018-12-11 18:38:00</td>\n",
              "      <td>Rob Gillies</td>\n",
              "      <td>Former Canadian diplomat detained in China, so...</td>\n",
              "      <td>Former Canadian diplomat Michael Kovrig has be...</td>\n",
              "      <td>https://www.businessinsider.com/ap-former-cana...</td>\n",
              "      <td>None</td>\n",
              "      <td>Business Insider</td>\n",
              "    </tr>\n",
              "    <tr>\n",
              "      <th>...</th>\n",
              "      <td>...</td>\n",
              "      <td>...</td>\n",
              "      <td>...</td>\n",
              "      <td>...</td>\n",
              "      <td>...</td>\n",
              "      <td>...</td>\n",
              "      <td>...</td>\n",
              "    </tr>\n",
              "    <tr>\n",
              "      <th>124871</th>\n",
              "      <td>2017-12-13 15:45:00</td>\n",
              "      <td>Cork Gaines</td>\n",
              "      <td>Charles Barkley accuses LaVar Ball of exploiti...</td>\n",
              "      <td>Charles Barkley went off on LaVar Ball during ...</td>\n",
              "      <td>https://www.businessinsider.com/charles-barkle...</td>\n",
              "      <td>None</td>\n",
              "      <td>Business Insider</td>\n",
              "    </tr>\n",
              "    <tr>\n",
              "      <th>124905</th>\n",
              "      <td>2019-06-03 16:10:26</td>\n",
              "      <td>John Haltiwanger</td>\n",
              "      <td>Kushner won't blame Saudi Crown Prince MBS for...</td>\n",
              "      <td>White House senior adviser Jared Kushner in an...</td>\n",
              "      <td>https://www.businessinsider.com/kushner-wont-b...</td>\n",
              "      <td>None</td>\n",
              "      <td>Business Insider</td>\n",
              "    </tr>\n",
              "    <tr>\n",
              "      <th>124909</th>\n",
              "      <td>2017-09-25 21:39:00</td>\n",
              "      <td>Jennifer Polland</td>\n",
              "      <td>INSIDER is hiring an intern to write about style</td>\n",
              "      <td>INSIDER is hiring a paid intern to write about...</td>\n",
              "      <td>https://www.businessinsider.com/insider-hiring...</td>\n",
              "      <td>None</td>\n",
              "      <td>Business Insider</td>\n",
              "    </tr>\n",
              "    <tr>\n",
              "      <th>124971</th>\n",
              "      <td>2017-03-14 13:00:00</td>\n",
              "      <td>Oscar Williams-Grut</td>\n",
              "      <td>Fintech app Revolut launches peer-to-peer loan...</td>\n",
              "      <td>LONDON — Hot fintech app Revolut is launching ...</td>\n",
              "      <td>https://www.businessinsider.com/fintech-app-re...</td>\n",
              "      <td>None</td>\n",
              "      <td>Business Insider</td>\n",
              "    </tr>\n",
              "    <tr>\n",
              "      <th>124986</th>\n",
              "      <td>2017-05-01 21:40:12</td>\n",
              "      <td>Julie Bort</td>\n",
              "      <td>8 best IT jobs for new college grads</td>\n",
              "      <td>The brutal job interview processes at great te...</td>\n",
              "      <td>https://www.businessinsider.com/8-best-it-jobs...</td>\n",
              "      <td>None</td>\n",
              "      <td>Business Insider</td>\n",
              "    </tr>\n",
              "  </tbody>\n",
              "</table>\n",
              "<p>6198 rows × 7 columns</p>\n",
              "</div>"
            ],
            "text/plain": [
              "                       date               author  ... section       publication\n",
              "1       2016-10-07 21:26:46          Scott Davis  ...    None  Business Insider\n",
              "61      2017-08-03 12:56:10      Jason Guerrasio  ...    None  Business Insider\n",
              "64      2018-04-18 19:52:56         Kaylee Fagan  ...    None  Business Insider\n",
              "106     2018-08-29 10:16:27       Ryan Tarinelli  ...    None  Business Insider\n",
              "159     2018-12-11 18:38:00          Rob Gillies  ...    None  Business Insider\n",
              "...                     ...                  ...  ...     ...               ...\n",
              "124871  2017-12-13 15:45:00          Cork Gaines  ...    None  Business Insider\n",
              "124905  2019-06-03 16:10:26     John Haltiwanger  ...    None  Business Insider\n",
              "124909  2017-09-25 21:39:00     Jennifer Polland  ...    None  Business Insider\n",
              "124971  2017-03-14 13:00:00  Oscar Williams-Grut  ...    None  Business Insider\n",
              "124986  2017-05-01 21:40:12           Julie Bort  ...    None  Business Insider\n",
              "\n",
              "[6198 rows x 7 columns]"
            ]
          },
          "metadata": {
            "tags": []
          },
          "execution_count": 83
        }
      ]
    },
    {
      "cell_type": "code",
      "metadata": {
        "id": "20GrBkdNRbdW",
        "colab_type": "code",
        "colab": {}
      },
      "source": [
        "BI = BI.loc[0:6000 : 2]"
      ],
      "execution_count": null,
      "outputs": []
    },
    {
      "cell_type": "code",
      "metadata": {
        "id": "Ft3f_N3MRmz-",
        "colab_type": "code",
        "colab": {}
      },
      "source": [
        "BI.dropna(subset = [\"article\"], inplace=True)"
      ],
      "execution_count": null,
      "outputs": []
    },
    {
      "cell_type": "code",
      "metadata": {
        "id": "M0838JGEde83",
        "colab_type": "code",
        "colab": {
          "base_uri": "https://localhost:8080/",
          "height": 581
        },
        "outputId": "71bda4db-a490-4b7c-d2c5-eb20dc0366ee"
      },
      "source": [
        "BI"
      ],
      "execution_count": null,
      "outputs": [
        {
          "output_type": "execute_result",
          "data": {
            "text/html": [
              "<div>\n",
              "<style scoped>\n",
              "    .dataframe tbody tr th:only-of-type {\n",
              "        vertical-align: middle;\n",
              "    }\n",
              "\n",
              "    .dataframe tbody tr th {\n",
              "        vertical-align: top;\n",
              "    }\n",
              "\n",
              "    .dataframe thead th {\n",
              "        text-align: right;\n",
              "    }\n",
              "</style>\n",
              "<table border=\"1\" class=\"dataframe\">\n",
              "  <thead>\n",
              "    <tr style=\"text-align: right;\">\n",
              "      <th></th>\n",
              "      <th>date</th>\n",
              "      <th>author</th>\n",
              "      <th>title</th>\n",
              "      <th>article</th>\n",
              "      <th>url</th>\n",
              "      <th>section</th>\n",
              "      <th>publication</th>\n",
              "    </tr>\n",
              "  </thead>\n",
              "  <tbody>\n",
              "    <tr>\n",
              "      <th>1</th>\n",
              "      <td>2016-10-07 21:26:46</td>\n",
              "      <td>Scott Davis</td>\n",
              "      <td>Colts GM Ryan Grigson says Andrew Luck's contr...</td>\n",
              "      <td>The Indianapolis Colts made Andrew Luck the h...</td>\n",
              "      <td>https://www.businessinsider.com/colts-gm-ryan-...</td>\n",
              "      <td>None</td>\n",
              "      <td>Business Insider</td>\n",
              "    </tr>\n",
              "    <tr>\n",
              "      <th>64</th>\n",
              "      <td>2018-04-18 19:52:56</td>\n",
              "      <td>Kaylee Fagan</td>\n",
              "      <td>Fortnite meteors are falling: Here's what it m...</td>\n",
              "      <td>Meteors have been seen falling in Fortnite: Ba...</td>\n",
              "      <td>https://www.businessinsider.com/fortnite-meteo...</td>\n",
              "      <td>None</td>\n",
              "      <td>Business Insider</td>\n",
              "    </tr>\n",
              "    <tr>\n",
              "      <th>159</th>\n",
              "      <td>2018-12-11 18:38:00</td>\n",
              "      <td>Rob Gillies</td>\n",
              "      <td>Former Canadian diplomat detained in China, so...</td>\n",
              "      <td>Former Canadian diplomat Michael Kovrig has be...</td>\n",
              "      <td>https://www.businessinsider.com/ap-former-cana...</td>\n",
              "      <td>None</td>\n",
              "      <td>Business Insider</td>\n",
              "    </tr>\n",
              "    <tr>\n",
              "      <th>237</th>\n",
              "      <td>2016-06-07 17:17:00</td>\n",
              "      <td>None</td>\n",
              "      <td>France unearths bones from 6,000-yr-old Neolit...</td>\n",
              "      <td>Paris (AFP) - Archaeologists said Tuesday they...</td>\n",
              "      <td>https://www.businessinsider.com/afp-france-une...</td>\n",
              "      <td>None</td>\n",
              "      <td>Business Insider</td>\n",
              "    </tr>\n",
              "    <tr>\n",
              "      <th>263</th>\n",
              "      <td>2016-05-24 14:56:00</td>\n",
              "      <td>Jason Guerrasio</td>\n",
              "      <td>New 'Halloween' movie John Carpenter</td>\n",
              "      <td>Legendary filmmaker John Carpenter seemed to w...</td>\n",
              "      <td>https://www.businessinsider.com/new-halloween-...</td>\n",
              "      <td>None</td>\n",
              "      <td>Business Insider</td>\n",
              "    </tr>\n",
              "    <tr>\n",
              "      <th>...</th>\n",
              "      <td>...</td>\n",
              "      <td>...</td>\n",
              "      <td>...</td>\n",
              "      <td>...</td>\n",
              "      <td>...</td>\n",
              "      <td>...</td>\n",
              "      <td>...</td>\n",
              "    </tr>\n",
              "    <tr>\n",
              "      <th>5808</th>\n",
              "      <td>2019-03-20 19:18:52</td>\n",
              "      <td>Tomas Chamorro-Premuzic, Contributor</td>\n",
              "      <td>5 ways to decide if your boss is incompetent, ...</td>\n",
              "      <td>Tomas Chamorro-Premuzic is a psychologist who ...</td>\n",
              "      <td>https://www.businessinsider.com/my-boss-is-inc...</td>\n",
              "      <td>None</td>\n",
              "      <td>Business Insider</td>\n",
              "    </tr>\n",
              "    <tr>\n",
              "      <th>5857</th>\n",
              "      <td>2019-03-19 13:55:21</td>\n",
              "      <td>Sinéad Baker</td>\n",
              "      <td>Vladimir Putin signs law criminalizing insulti...</td>\n",
              "      <td>Vladimir Putin signed a new law that can fine ...</td>\n",
              "      <td>https://www.businessinsider.com/vladimir-putin...</td>\n",
              "      <td>None</td>\n",
              "      <td>Business Insider</td>\n",
              "    </tr>\n",
              "    <tr>\n",
              "      <th>5884</th>\n",
              "      <td>2018-10-31 14:33:50</td>\n",
              "      <td>Olivia Singh</td>\n",
              "      <td>Priyanka Chopra says that Nick Jonas made the ...</td>\n",
              "      <td>Priyanka Chopra said that Nick Jonas initiated...</td>\n",
              "      <td>https://www.businessinsider.com/priyanka-chopr...</td>\n",
              "      <td>None</td>\n",
              "      <td>Business Insider</td>\n",
              "    </tr>\n",
              "    <tr>\n",
              "      <th>5965</th>\n",
              "      <td>2016-06-21 20:36:15</td>\n",
              "      <td>Pamela Engel</td>\n",
              "      <td>Donald Trump's campaign has entered a new era ...</td>\n",
              "      <td>The day after Donald Trump fired his campaign ...</td>\n",
              "      <td>https://www.businessinsider.com/donald-trumps-...</td>\n",
              "      <td>None</td>\n",
              "      <td>Business Insider</td>\n",
              "    </tr>\n",
              "    <tr>\n",
              "      <th>5984</th>\n",
              "      <td>2017-01-06 15:16:41</td>\n",
              "      <td>Sarah Schmalbruch</td>\n",
              "      <td>The 25 best pies in America, ranked</td>\n",
              "      <td>There's arguably no dessert more comforting th...</td>\n",
              "      <td>https://www.businessinsider.com/best-pies-in-a...</td>\n",
              "      <td>None</td>\n",
              "      <td>Business Insider</td>\n",
              "    </tr>\n",
              "  </tbody>\n",
              "</table>\n",
              "<p>146 rows × 7 columns</p>\n",
              "</div>"
            ],
            "text/plain": [
              "                     date  ...       publication\n",
              "1     2016-10-07 21:26:46  ...  Business Insider\n",
              "64    2018-04-18 19:52:56  ...  Business Insider\n",
              "159   2018-12-11 18:38:00  ...  Business Insider\n",
              "237   2016-06-07 17:17:00  ...  Business Insider\n",
              "263   2016-05-24 14:56:00  ...  Business Insider\n",
              "...                   ...  ...               ...\n",
              "5808  2019-03-20 19:18:52  ...  Business Insider\n",
              "5857  2019-03-19 13:55:21  ...  Business Insider\n",
              "5884  2018-10-31 14:33:50  ...  Business Insider\n",
              "5965  2016-06-21 20:36:15  ...  Business Insider\n",
              "5984  2017-01-06 15:16:41  ...  Business Insider\n",
              "\n",
              "[146 rows x 7 columns]"
            ]
          },
          "metadata": {
            "tags": []
          },
          "execution_count": 9
        }
      ]
    },
    {
      "cell_type": "code",
      "metadata": {
        "id": "mQAcDkJm64wp",
        "colab_type": "code",
        "colab": {}
      },
      "source": [
        "nlp = spacy.load('en')"
      ],
      "execution_count": null,
      "outputs": []
    },
    {
      "cell_type": "code",
      "metadata": {
        "id": "PWH6PecX7Eiu",
        "colab_type": "code",
        "colab": {}
      },
      "source": [
        "nlp.max_length = 10000000000"
      ],
      "execution_count": null,
      "outputs": []
    },
    {
      "cell_type": "code",
      "metadata": {
        "id": "HiUIzWm67KiU",
        "colab_type": "code",
        "colab": {}
      },
      "source": [
        "tokens = []\n",
        "def seperate_punc(doc_text):\n",
        "    return [token.text.lower() for token in nlp(doc_text) if token.text not in '\\n\\n \\n\\n\\n!\"~#$%&()--.*+-/:;,<=>?@[\\\\]^_`{|}~\\t\\n']\n",
        "\n",
        "\n",
        "#d = read_file('moby_dick_four_chapters.txt')\n",
        "for i in BI['article']:\n",
        "   tokens += seperate_punc(i)"
      ],
      "execution_count": null,
      "outputs": []
    },
    {
      "cell_type": "code",
      "metadata": {
        "id": "CCE1NoGI7MqC",
        "colab_type": "code",
        "colab": {
          "base_uri": "https://localhost:8080/",
          "height": 35
        },
        "outputId": "59d8dde3-72d6-4c90-eb7b-682560d389d3"
      },
      "source": [
        "len(df_pandas['article'])"
      ],
      "execution_count": null,
      "outputs": [
        {
          "output_type": "execute_result",
          "data": {
            "text/plain": [
              "125000"
            ]
          },
          "metadata": {
            "tags": []
          },
          "execution_count": 15
        }
      ]
    },
    {
      "cell_type": "code",
      "metadata": {
        "id": "cwHk8Mnb7QQ-",
        "colab_type": "code",
        "colab": {
          "base_uri": "https://localhost:8080/",
          "height": 35
        },
        "outputId": "18936c05-8299-46c2-bee7-1eaf5d88a9c4"
      },
      "source": [
        "len(tokens)"
      ],
      "execution_count": null,
      "outputs": [
        {
          "output_type": "execute_result",
          "data": {
            "text/plain": [
              "95092"
            ]
          },
          "metadata": {
            "tags": []
          },
          "execution_count": 13
        }
      ]
    },
    {
      "cell_type": "code",
      "metadata": {
        "id": "zMFiBJkf7RaM",
        "colab_type": "code",
        "colab": {}
      },
      "source": [
        "train_len = 33 + 1\n",
        "\n",
        "text_sequences = []"
      ],
      "execution_count": null,
      "outputs": []
    },
    {
      "cell_type": "code",
      "metadata": {
        "id": "yg-npOmc7XkY",
        "colab_type": "code",
        "colab": {
          "base_uri": "https://localhost:8080/",
          "height": 55
        },
        "outputId": "4888bec5-f632-4d98-9567-66249975a5a9"
      },
      "source": [
        "for i in range(train_len, int(len(tokens))):\n",
        "     seq = tokens[i-train_len:i]\n",
        "\n",
        "     text_sequences.append(seq)\n",
        "\n",
        "text_sequences\n",
        "\n",
        "' '.join(text_sequences[0])"
      ],
      "execution_count": null,
      "outputs": [
        {
          "output_type": "execute_result",
          "data": {
            "text/plain": [
              "\"the indianapolis colts made andrew luck the highest paid player in nfl history this offseason with a five year 122-million contract with 89 million guaranteed however they 're already finding that luck 's contract\""
            ]
          },
          "metadata": {
            "tags": []
          },
          "execution_count": 15
        }
      ]
    },
    {
      "cell_type": "code",
      "metadata": {
        "id": "cMa8nBkm7hJa",
        "colab_type": "code",
        "colab": {
          "base_uri": "https://localhost:8080/",
          "height": 35
        },
        "outputId": "b56e97fc-93e1-4f5f-987b-be9d4b2d3abf"
      },
      "source": [
        "len(text_sequences)"
      ],
      "execution_count": null,
      "outputs": [
        {
          "output_type": "execute_result",
          "data": {
            "text/plain": [
              "95058"
            ]
          },
          "metadata": {
            "tags": []
          },
          "execution_count": 16
        }
      ]
    },
    {
      "cell_type": "code",
      "metadata": {
        "id": "puwbxXMw7kjT",
        "colab_type": "code",
        "colab": {
          "base_uri": "https://localhost:8080/",
          "height": 35
        },
        "outputId": "0c3af4c2-5694-4c91-d61f-cc1563726eef"
      },
      "source": [
        "from keras.preprocessing.text import Tokenizer"
      ],
      "execution_count": null,
      "outputs": [
        {
          "output_type": "stream",
          "text": [
            "Using TensorFlow backend.\n"
          ],
          "name": "stderr"
        }
      ]
    },
    {
      "cell_type": "code",
      "metadata": {
        "id": "g6zwZTU87mz9",
        "colab_type": "code",
        "colab": {}
      },
      "source": [
        "tokenizer = Tokenizer()\n",
        "tokenizer.fit_on_texts(text_sequences)"
      ],
      "execution_count": null,
      "outputs": []
    },
    {
      "cell_type": "code",
      "metadata": {
        "id": "TWbAN_eG7p5J",
        "colab_type": "code",
        "colab": {}
      },
      "source": [
        "sequences = tokenizer.texts_to_sequences(text_sequences)"
      ],
      "execution_count": null,
      "outputs": []
    },
    {
      "cell_type": "code",
      "metadata": {
        "id": "pMiiUsPi7tf2",
        "colab_type": "code",
        "colab": {
          "base_uri": "https://localhost:8080/",
          "height": 1000
        },
        "outputId": "5bb65969-ede5-4e88-c38b-8174e741b4c4"
      },
      "source": [
        "tokenizer.word_counts"
      ],
      "execution_count": null,
      "outputs": [
        {
          "output_type": "execute_result",
          "data": {
            "text/plain": [
              "OrderedDict([('the', 146324),\n",
              "             ('indianapolis', 2),\n",
              "             ('colts', 241),\n",
              "             ('made', 1806),\n",
              "             ('andrew', 685),\n",
              "             ('luck', 276),\n",
              "             ('highest', 314),\n",
              "             ('paid', 621),\n",
              "             ('player', 146),\n",
              "             ('in', 50569),\n",
              "             ('nfl', 46),\n",
              "             ('history', 489),\n",
              "             ('this', 11286),\n",
              "             ('offseason', 15),\n",
              "             ('with', 18126),\n",
              "             ('a', 58914),\n",
              "             ('five', 868),\n",
              "             ('year', 4745),\n",
              "             ('122-million', 20),\n",
              "             ('contract', 293),\n",
              "             ('89', 23),\n",
              "             ('million', 1656),\n",
              "             ('guaranteed', 161),\n",
              "             ('however', 1284),\n",
              "             ('they', 8867),\n",
              "             (\"'re\", 4346),\n",
              "             ('already', 1185),\n",
              "             ('finding', 438),\n",
              "             ('that', 30869),\n",
              "             (\"'s\", 29926),\n",
              "             ('is', 25330),\n",
              "             ('inhibiting', 68),\n",
              "             ('their', 7344),\n",
              "             ('ability', 272),\n",
              "             ('to', 69002),\n",
              "             ('address', 238),\n",
              "             ('weaknesses', 68),\n",
              "             ('on', 25704),\n",
              "             ('other', 4114),\n",
              "             ('parts', 408),\n",
              "             ('of', 61545),\n",
              "             ('roster', 34),\n",
              "             ('particularly', 374),\n",
              "             ('defense', 986),\n",
              "             ('friday', 748),\n",
              "             ('gm', 34),\n",
              "             ('ryan', 68),\n",
              "             ('grigson', 68),\n",
              "             ('who', 5474),\n",
              "             ('under', 1326),\n",
              "             ('fire', 612),\n",
              "             ('for', 24820),\n",
              "             ('1', 884),\n",
              "             ('3', 714),\n",
              "             ('start', 952),\n",
              "             ('said', 9010),\n",
              "             ('it', 61438),\n",
              "             ('difficult', 680),\n",
              "             ('build', 170),\n",
              "             ('up', 5508),\n",
              "             ('team', 612),\n",
              "             ('making', 1496),\n",
              "             ('so', 4386),\n",
              "             ('much', 2312),\n",
              "             ('money', 1462),\n",
              "             ('according', 2618),\n",
              "             ('keefer', 34),\n",
              "             ('did', 2210),\n",
              "             ('point', 850),\n",
              "             ('out', 5406),\n",
              "             ('still', 2244),\n",
              "             ('have', 11866),\n",
              "             ('young', 306),\n",
              "             ('talent', 102),\n",
              "             ('hoping', 136),\n",
              "             ('develop', 170),\n",
              "             ('blaming', 34),\n",
              "             ('—', 11798),\n",
              "             ('which', 5712),\n",
              "             ('gave', 306),\n",
              "             ('him', 1700),\n",
              "             ('having', 986),\n",
              "             ('weak', 272),\n",
              "             ('30th', 68),\n",
              "             ('defensive', 170),\n",
              "             ('dvoa', 34),\n",
              "             ('not', 8364),\n",
              "             ('accurate', 272),\n",
              "             ('as', 13430),\n",
              "             ('others', 680),\n",
              "             ('pointed', 272),\n",
              "             ('last', 3060),\n",
              "             ('denver', 34),\n",
              "             ('broncos', 68),\n",
              "             ('peyton', 34),\n",
              "             ('manning', 68),\n",
              "             ('15', 578),\n",
              "             ('base', 136),\n",
              "             ('salary', 204),\n",
              "             ('while', 4114),\n",
              "             ('also', 6086),\n",
              "             ('boasting', 34),\n",
              "             ('an', 47192),\n",
              "             ('elite', 340),\n",
              "             ('takes', 374),\n",
              "             ('18.4', 34),\n",
              "             ('against', 850),\n",
              "             ('cap', 102),\n",
              "             ('less', 1564),\n",
              "             ('than', 5610),\n",
              "             ('more', 8976),\n",
              "             ('ago', 680),\n",
              "             ('17.5', 34),\n",
              "             ('comes', 1156),\n",
              "             ('from', 12818),\n",
              "             ('drafting', 68),\n",
              "             ('successfully', 102),\n",
              "             ('done', 374),\n",
              "             ('well', 2482),\n",
              "             ('teams', 204),\n",
              "             ('like', 5372),\n",
              "             ('or', 86360),\n",
              "             ('patriots', 34),\n",
              "             ('instance', 272),\n",
              "             ('now', 3332),\n",
              "             ('handcuffed', 34),\n",
              "             ('going', 1802),\n",
              "             ('become', 782),\n",
              "             ('especially', 680),\n",
              "             ('important', 612),\n",
              "             ('will', 7412),\n",
              "             ('use', 1938),\n",
              "             ('whatever', 136),\n",
              "             ('free', 986),\n",
              "             ('agency', 748),\n",
              "             ('certainly', 238),\n",
              "             ('possible', 340),\n",
              "             ('good', 1768),\n",
              "             ('high', 1088),\n",
              "             ('quarterback', 34),\n",
              "             ('but', 10234),\n",
              "             ('if', 6596),\n",
              "             ('felt', 578),\n",
              "             ('paying', 408),\n",
              "             ('such', 1428),\n",
              "             ('sum', 34),\n",
              "             ('would', 4488),\n",
              "             ('be', 12478),\n",
              "             ('perhaps', 238),\n",
              "             ('should', 1666),\n",
              "             ('reconsidered', 34),\n",
              "             ('what', 4692),\n",
              "             ('final', 272),\n",
              "             ('numbers', 340),\n",
              "             ('\\n\\n\\n\\n\\n\\n\\n\\n\\n\\n', 204),\n",
              "             ('all', 4590),\n",
              "             ('32', 34),\n",
              "             ('meteors', 238),\n",
              "             ('been', 5032),\n",
              "             ('seen', 612),\n",
              "             ('falling', 306),\n",
              "             ('fortnite', 442),\n",
              "             ('battle', 476),\n",
              "             ('royale', 136),\n",
              "             ('game', 1428),\n",
              "             ('wraps', 34),\n",
              "             ('season', 2108),\n",
              "             ('three', 2346),\n",
              "             ('and', 58653),\n",
              "             ('players', 476),\n",
              "             ('await', 34),\n",
              "             ('beginning', 238),\n",
              "             ('four', 1394),\n",
              "             ('celestial', 34),\n",
              "             ('phenomenon', 102),\n",
              "             ('has', 10200),\n",
              "             ('caused', 272),\n",
              "             ('speculate', 68),\n",
              "             ('could', 3060),\n",
              "             ('mean', 170),\n",
              "             ('future', 680),\n",
              "             ('map', 340),\n",
              "             ('some', 5338),\n",
              "             ('theorists', 34),\n",
              "             ('suggested', 306),\n",
              "             ('meteor', 204),\n",
              "             ('might', 1972),\n",
              "             ('hit', 1224),\n",
              "             ('tilted', 102),\n",
              "             ('towers', 136),\n",
              "             ('most', 3774),\n",
              "             ('populated', 34),\n",
              "             ('area', 782),\n",
              "             ('effectively', 170),\n",
              "             ('changing', 204),\n",
              "             ('landscape', 34),\n",
              "             ('we', 8023),\n",
              "             ('know', 1530),\n",
              "             ('popular', 714),\n",
              "             ('video', 578),\n",
              "             ('world', 3400),\n",
              "             ('right', 850),\n",
              "             ('through', 1938),\n",
              "             ('big', 952),\n",
              "             ('change', 1156),\n",
              "             ('soon', 442),\n",
              "             ('based', 986),\n",
              "             ('are', 13872),\n",
              "             ('seeing', 340),\n",
              "             ('you', 18632),\n",
              "             ('play', 408),\n",
              "             ('look', 1564),\n",
              "             ('sky', 272),\n",
              "             ('there', 5644),\n",
              "             ('chance', 306),\n",
              "             (\"'ll\", 1802),\n",
              "             ('see', 2142),\n",
              "             ('believe', 578),\n",
              "             ('one', 8398),\n",
              "             ('areas', 374),\n",
              "             ('blog', 510),\n",
              "             ('dedicated', 102),\n",
              "             ('news', 1224),\n",
              "             ('related', 238),\n",
              "             ('content', 306),\n",
              "             ('wednesday', 782),\n",
              "             ('many', 2482),\n",
              "             ('noticed', 68),\n",
              "             ('large', 646),\n",
              "             ('shooting', 442),\n",
              "             ('stars', 646),\n",
              "             ('across', 873),\n",
              "             ('playing', 204),\n",
              "             ('were', 4998),\n",
              "             ('first', 3060),\n",
              "             ('spotted', 136),\n",
              "             ('few', 1326),\n",
              "             ('days', 918),\n",
              "             ('intel', 34),\n",
              "             ('when', 5100),\n",
              "             ('smaller', 102),\n",
              "             ('often', 1224),\n",
              "             ('hard', 680),\n",
              "             ('spot', 204),\n",
              "             ('growing', 340),\n",
              "             ('rapidly', 170),\n",
              "             ('size', 204),\n",
              "             ('frequency', 68),\n",
              "             ('today', 714),\n",
              "             ('here', 3230),\n",
              "             ('looks', 408),\n",
              "             ('get', 3978),\n",
              "             ('closer', 340),\n",
              "             ('appear', 340),\n",
              "             ('come', 1258),\n",
              "             ('ground', 238),\n",
              "             ('referring', 102),\n",
              "             ('them', 2856),\n",
              "             ('started', 544),\n",
              "             ('about', 6052),\n",
              "             ('signal', 170),\n",
              "             ('ramifications', 34),\n",
              "             ('actually', 1122),\n",
              "             ('hits', 204),\n",
              "             ('within', 748),\n",
              "             ('time', 4692),\n",
              "             ('measured', 102),\n",
              "             ('seasons', 2006),\n",
              "             ('months', 1632),\n",
              "             ('scheduled', 136),\n",
              "             ('end', 1088),\n",
              "             ('april', 204),\n",
              "             ('30', 986),\n",
              "             ('leading', 612),\n",
              "             ('drastically', 34),\n",
              "             ('fiery', 68),\n",
              "             ('blast', 374),\n",
              "             ('similar', 476),\n",
              "             ('way', 2448),\n",
              "             ('dinosaurs', 34),\n",
              "             ('wiped', 68),\n",
              "             ('traffic', 136),\n",
              "             ('metropolitan', 68),\n",
              "             ('where', 2278),\n",
              "             ('videos', 238),\n",
              "             ('revealed', 204),\n",
              "             ('easter', 170),\n",
              "             ('egg', 306),\n",
              "             ('sound', 272),\n",
              "             ('effect', 272),\n",
              "             ('triggered', 68),\n",
              "             ('by', 10642),\n",
              "             ('pointing', 102),\n",
              "             ('directly', 306),\n",
              "             ('at', 11288),\n",
              "             ('demonstrated', 102),\n",
              "             ('tyler', 34),\n",
              "             ('ninja', 102),\n",
              "             ('blevins', 34),\n",
              "             ('followed', 238),\n",
              "             ('streamer', 34),\n",
              "             ('twitch', 34),\n",
              "             ('saying', 578),\n",
              "             ('coming', 510),\n",
              "             ('hardcore', 34),\n",
              "             ('fans', 272),\n",
              "             ('reddit', 34),\n",
              "             ('twitter', 1462),\n",
              "             ('even', 3128),\n",
              "             ('listening', 102),\n",
              "             ('closely', 68),\n",
              "             ('convey', 34),\n",
              "             ('secret', 306),\n",
              "             ('hint', 136),\n",
              "             ('developers', 306),\n",
              "             ('fate', 68),\n",
              "             ('via', 272),\n",
              "             ('morse', 34),\n",
              "             ('code', 340),\n",
              "             ('theory', 136),\n",
              "             ('known', 748),\n",
              "             ('consultant', 68),\n",
              "             ('showed', 374),\n",
              "             ('interest', 340),\n",
              "             ('retweeting', 34),\n",
              "             ('these', 2890),\n",
              "             ('sure', 748),\n",
              "             ('full', 1156),\n",
              "             ('benefits', 442),\n",
              "             ('6-figure', 34),\n",
              "             ('salaries', 34),\n",
              "             ('401ks', 34),\n",
              "             ('nutritionists', 34),\n",
              "             ('2', 884),\n",
              "             ('professionals', 306),\n",
              "             ('reveal', 204),\n",
              "             ('really', 986),\n",
              "             ('games', 476),\n",
              "             ('living', 714),\n",
              "             ('former', 714),\n",
              "             ('canadian', 476),\n",
              "             ('diplomat', 136),\n",
              "             ('michael', 408),\n",
              "             ('kovrig', 340),\n",
              "             ('detained', 340),\n",
              "             ('visiting', 170),\n",
              "             ('beijing', 306),\n",
              "             ('was', 13770),\n",
              "             ('monday', 748),\n",
              "             ('night', 748),\n",
              "             ('during', 2006),\n",
              "             ('his', 5644),\n",
              "             ('regular', 612),\n",
              "             ('visits', 68),\n",
              "             ('city', 1258),\n",
              "             ('source', 510),\n",
              "             ('detention', 408),\n",
              "             ('after', 3910),\n",
              "             ('china', 2346),\n",
              "             ('warned', 238),\n",
              "             ('canada', 612),\n",
              "             ('consequences', 238),\n",
              "             ('its', 5578),\n",
              "             ('recent', 850),\n",
              "             ('arrest', 272),\n",
              "             ('huawei', 68),\n",
              "             ('executive', 306),\n",
              "             ('meng', 204),\n",
              "             ('wanzhou', 136),\n",
              "             ('unclear', 238),\n",
              "             ('any', 2618),\n",
              "             ('link', 170),\n",
              "             ('between', 2142),\n",
              "             ('two', 3638),\n",
              "             ('cases', 306),\n",
              "             ('toronto', 136),\n",
              "             ('ap', 238),\n",
              "             ('person', 748),\n",
              "             ('familiar', 136),\n",
              "             ('matter', 646),\n",
              "             ('tuesday', 782),\n",
              "             ('spoke', 272),\n",
              "             ('condition', 102),\n",
              "             ('anonymity', 34),\n",
              "             ('lack', 272),\n",
              "             ('authorization', 136),\n",
              "             ('speak', 170),\n",
              "             ('publicly', 136),\n",
              "             ('vancouver', 34),\n",
              "             ('airport', 68),\n",
              "             ('globe', 136),\n",
              "             ('mail', 170),\n",
              "             ('broadcasting', 34),\n",
              "             ('corp.', 34),\n",
              "             ('had', 4556),\n",
              "             ('earlier', 680),\n",
              "             ('reported', 884),\n",
              "             ('citing', 136),\n",
              "             ('unnamed', 34),\n",
              "             ('sources', 408),\n",
              "             ('international', 510),\n",
              "             ('crisis', 204),\n",
              "             ('group', 714),\n",
              "             ('aware', 340),\n",
              "             ('reports', 408),\n",
              "             ('north', 2312),\n",
              "             ('east', 204),\n",
              "             ('asia', 272),\n",
              "             ('senior', 238),\n",
              "             ('adviser', 68),\n",
              "             ('hong', 306),\n",
              "             ('kong', 306),\n",
              "             ('served', 442),\n",
              "             ('political', 544),\n",
              "             ('lead', 646),\n",
              "             ('prime', 680),\n",
              "             ('minister', 680),\n",
              "             ('justin', 102),\n",
              "             ('trudeau', 102),\n",
              "             ('trip', 680),\n",
              "             ('2016', 782),\n",
              "             ('brussels', 204),\n",
              "             ('non', 476),\n",
              "             ('governmental', 34),\n",
              "             ('organization', 272),\n",
              "             ('statement', 816),\n",
              "             ('doing', 442),\n",
              "             ('everything', 748),\n",
              "             ('obtain', 102),\n",
              "             ('additional', 578),\n",
              "             ('information', 782),\n",
              "             ('whereabouts', 34),\n",
              "             ('work', 1700),\n",
              "             ('ensure', 340),\n",
              "             ('prompt', 68),\n",
              "             ('release', 510),\n",
              "             ('experts', 544),\n",
              "             ('since', 1870),\n",
              "             ('february', 408),\n",
              "             ('2017.the', 34),\n",
              "             ('website', 408),\n",
              "             ('says', 1802),\n",
              "             ('previously', 170),\n",
              "             ('worked', 476),\n",
              "             ('united', 816),\n",
              "             ('nations', 204),\n",
              "             ('global', 816),\n",
              "             ('affairs', 102),\n",
              "             ('department', 612),\n",
              "             (\"n't\", 6698),\n",
              "             ('immediately', 272),\n",
              "             ('respond', 204),\n",
              "             ('comment', 408),\n",
              "             ('liberal', 34),\n",
              "             ('leader', 340),\n",
              "             ('bob', 102),\n",
              "             ('rae', 68),\n",
              "             ('clear', 476),\n",
              "             ('why', 884),\n",
              "             ('he', 7888),\n",
              "             ('called', 1428),\n",
              "             ('repression', 68),\n",
              "             ('retaliation', 136),\n",
              "             ('tweeted', 612),\n",
              "             ('wrote', 374),\n",
              "             ('linkedin', 306),\n",
              "             ('profile', 136),\n",
              "             ('visit', 442),\n",
              "             ('september', 510),\n",
              "             ('consulate', 34),\n",
              "             ('general', 816),\n",
              "             ('roland', 34),\n",
              "             ('paris', 408),\n",
              "             ('foreign', 918),\n",
              "             ('policy', 510),\n",
              "             ('chinese', 1564),\n",
              "             ('interests', 238),\n",
              "             ('canadians', 34),\n",
              "             ('unacceptable', 68),\n",
              "             ('pointless', 34),\n",
              "             ('zero', 102),\n",
              "             ('impact', 306),\n",
              "             ('judicial', 34),\n",
              "             ('proceedings', 68),\n",
              "             ('previous', 39848),\n",
              "             ('experience', 544),\n",
              "             ('let', 884),\n",
              "             ('cooler', 102),\n",
              "             ('heads', 102),\n",
              "             ('prevail', 34),\n",
              "             ('read', 2414),\n",
              "             ('need', 1326),\n",
              "             ('tech', 646),\n",
              "             ('founder', 102),\n",
              "             ('daughter', 714),\n",
              "             ('whose', 272),\n",
              "             ('set', 1054),\n",
              "             ('us', 5876),\n",
              "             ('relations', 136),\n",
              "             ('jorge', 34),\n",
              "             ('guajardo', 34),\n",
              "             ('mexico', 136),\n",
              "             ('ambassador', 68),\n",
              "             ('needs', 578),\n",
              "             ('take', 1938),\n",
              "             ('dramatic', 68),\n",
              "             ('action', 408),\n",
              "             ('i', 9112),\n",
              "             (\"'d\", 578),\n",
              "             ('summoning', 34),\n",
              "             ('entire', 510),\n",
              "             ('consular', 34),\n",
              "             ('corp', 136),\n",
              "             ('home', 1700),\n",
              "             ('training', 306),\n",
              "             ('means', 646),\n",
              "             ('ca', 578),\n",
              "             ('issue', 238),\n",
              "             ('visas', 578),\n",
              "             ('meantime', 68),\n",
              "             ('understand', 102),\n",
              "             ('special', 340),\n",
              "             ('times', 1666),\n",
              "             ('hu', 68),\n",
              "             ('xijin', 34),\n",
              "             ('editor', 170),\n",
              "             ('chief', 646),\n",
              "             ('state', 2006),\n",
              "             ('run', 680),\n",
              "             ('newspaper', 170),\n",
              "             ('microblogging', 34),\n",
              "             ('platform', 272),\n",
              "             ('weibo', 68),\n",
              "             ('evidence', 374),\n",
              "             ('government', 1462),\n",
              "             ('though', 1054),\n",
              "             ('added', 544),\n",
              "             ('current', 748),\n",
              "             ('situation', 102),\n",
              "             ('highly', 306),\n",
              "             ('sensitive', 102),\n",
              "             ('because', 2584),\n",
              "             ('american', 2414),\n",
              "             ('conspiracy', 68),\n",
              "             ('people', 4760),\n",
              "             ('rest', 408),\n",
              "             ('make', 3162),\n",
              "             ('association', 238),\n",
              "             ('over', 3672),\n",
              "             ('line', 408),\n",
              "             ('naturally', 102),\n",
              "             ('think', 1972),\n",
              "             ('revenge', 136),\n",
              "             ('afp', 170),\n",
              "             ('archaeologists', 68),\n",
              "             ('discovered', 272),\n",
              "             ('remains', 408),\n",
              "             ('victims', 136),\n",
              "             ('6,000-year', 68),\n",
              "             ('old', 1428),\n",
              "             ('massacre', 102),\n",
              "             ('alsace', 68),\n",
              "             ('eastern', 238),\n",
              "             ('france', 442),\n",
              "             ('likely', 1802),\n",
              "             ('carried', 442),\n",
              "             ('furious', 136),\n",
              "             ('ritualised', 34),\n",
              "             ('warriors', 102),\n",
              "             ('\\n\\t\\n', 102),\n",
              "             ('ritualized', 68),\n",
              "             ('corpses', 34),\n",
              "             ('10', 1156),\n",
              "             ('found', 1088),\n",
              "             ('outside', 442),\n",
              "             ('strasbourg', 34),\n",
              "             ('300', 34),\n",
              "             ('ancient', 34),\n",
              "             ('silos', 68),\n",
              "             ('used', 1598),\n",
              "             ('store', 408),\n",
              "             ('grain', 340),\n",
              "             ('food', 510),\n",
              "             ('national', 1020),\n",
              "             ('institute', 612),\n",
              "             ('preventive', 34),\n",
              "             ('archaeological', 34),\n",
              "             ('research', 408),\n",
              "             ('inrap', 68),\n",
              "             ('told', 1904),\n",
              "             ('reporters', 136),\n",
              "             ('neolithic', 34),\n",
              "             ('appeared', 340),\n",
              "             ('died', 374),\n",
              "             ('violent', 102),\n",
              "             ('deaths', 170),\n",
              "             ('multiple', 340),\n",
              "             ('injuries', 170),\n",
              "             ('legs', 68),\n",
              "             ('hands', 204),\n",
              "             ('skulls', 34),\n",
              "             ('bodies', 34),\n",
              "             ('piled', 34),\n",
              "             ('top', 1122),\n",
              "             ('each', 1768),\n",
              "             ('killed', 680),\n",
              "             ('together', 578),\n",
              "             ('dumped', 68),\n",
              "             ('silo', 34),\n",
              "             ('very', 2006),\n",
              "             ('brutally', 34),\n",
              "             ('executed', 34),\n",
              "             ('received', 340),\n",
              "             ('blows', 68),\n",
              "             ('almost', 510),\n",
              "             ('stone', 34),\n",
              "             ('axe', 34),\n",
              "             ('philippe', 68),\n",
              "             ('lefranc', 102),\n",
              "             ('specialist', 102),\n",
              "             ('period', 476),\n",
              "             ('skeletons', 34),\n",
              "             ('adults', 170),\n",
              "             ('adolescent', 68),\n",
              "             ('arms', 272),\n",
              "             ('different', 1156),\n",
              "             ('individuals', 272),\n",
              "             ('war', 1360),\n",
              "             ('trophies', 68),\n",
              "             ('those', 2244),\n",
              "             ('nearby', 170),\n",
              "             ('burial', 34),\n",
              "             ('site', 340),\n",
              "             ('bergheim', 34),\n",
              "             ('2012', 170),\n",
              "             ('mutilations', 34),\n",
              "             ('indicated', 68),\n",
              "             ('society', 170),\n",
              "             ('stored', 34),\n",
              "             ('defence', 102),\n",
              "             ('wall', 544),\n",
              "             ('towards', 136),\n",
              "             ('troubled', 68),\n",
              "             ('insecurity', 68),\n",
              "             ('hoped', 136),\n",
              "             ('genetic', 34),\n",
              "             ('testing', 170),\n",
              "             ('bones', 68),\n",
              "             ('killings', 68),\n",
              "             ('local', 510),\n",
              "             ('tribe', 68),\n",
              "             ('clashed', 68),\n",
              "             ('new', 7616),\n",
              "             ('arriving', 68),\n",
              "             ('around', 1904),\n",
              "             ('modern', 714),\n",
              "             ('day', 2686),\n",
              "             ('appears', 204),\n",
              "             ('warrior', 34),\n",
              "             ('raid', 68),\n",
              "             ('parisian', 34),\n",
              "             ('basin', 68),\n",
              "             ('went', 782),\n",
              "             ('wrong', 476),\n",
              "             ('assailants', 34),\n",
              "             ('alsatians', 34),\n",
              "             ('era', 68),\n",
              "             ('massacred', 34),\n",
              "             ('long', 1190),\n",
              "             ('parisians', 34),\n",
              "             ('laugh', 34),\n",
              "             ('supplanted', 34),\n",
              "             ('newcomers', 34),\n",
              "             ('4,200', 34),\n",
              "             ('bc', 34),\n",
              "             ('funeral', 34),\n",
              "             ('rites', 34),\n",
              "             ('pottery', 34),\n",
              "             ('hamlets', 34),\n",
              "             ('legendary', 102),\n",
              "             ('filmmaker', 68),\n",
              "             ('john', 374),\n",
              "             ('carpenter', 204),\n",
              "             ('seemed', 204),\n",
              "             ('walk', 136),\n",
              "             ('away', 952),\n",
              "             ('movie', 986),\n",
              "             ('icon', 38964),\n",
              "             ('declined', 306),\n",
              "             ('direct', 136),\n",
              "             ('halloween', 340),\n",
              "             ('h20', 34),\n",
              "             ('20', 680),\n",
              "             ('years', 2788),\n",
              "             ('later', 952),\n",
              "             ('1998', 34),\n",
              "             ('due', 714),\n",
              "             ('dispute', 102),\n",
              "             ('seems', 476),\n",
              "             ('healed', 34),\n",
              "             ('particular', 204),\n",
              "             ('wound', 34),\n",
              "             ('producer', 136),\n",
              "             ('financed', 34),\n",
              "             ('miramax', 68),\n",
              "             ('blumhouse', 68),\n",
              "             ('productions', 102),\n",
              "             ('announcement', 102),\n",
              "             ('released', 612),\n",
              "             ('involved', 510),\n",
              "             ('1982', 34),\n",
              "             ('iii', 68),\n",
              "             ('witch', 34),\n",
              "             (\"'\", 3502),\n",
              "             ('return', 204),\n",
              "             ('traditions', 34),\n",
              "             ('feel', 544),\n",
              "             ('movies', 476),\n",
              "             ('gotten', 136),\n",
              "             ('...', 1020),\n",
              "             ('just', 3332),\n",
              "             ('human', 612),\n",
              "             ('being', 2312),\n",
              "             ('force', 680),\n",
              "             ('nature', 442),\n",
              "             ('wind', 68),\n",
              "             ('makes', 782),\n",
              "             ('scary', 68),\n",
              "             ('currently', 476),\n",
              "             ('preproduction', 34),\n",
              "             ('10th', 34),\n",
              "             ('sequel', 34),\n",
              "             ('classic', 238),\n",
              "             ('horror', 102),\n",
              "             ('franchise', 136),\n",
              "             ('follows', 204),\n",
              "             ('psychotic', 34),\n",
              "             ('masked', 68),\n",
              "             ('killer', 68),\n",
              "             ('named', 204),\n",
              "             ('myers', 170),\n",
              "             ('opened', 204),\n",
              "             ('1978', 34),\n",
              "             ('starred', 136),\n",
              "             ('then', 1496),\n",
              "             ('unknown', 102),\n",
              "             ('jamie', 170),\n",
              "             ('lee', 170),\n",
              "             ('curtis', 102),\n",
              "             ('babysitter', 34),\n",
              "             ('stalking', 34),\n",
              "             ('donald', 680),\n",
              "             ('pleasence', 34),\n",
              "             ('psychiatrist', 68),\n",
              "             ('determined', 102),\n",
              "             ('kill', 136),\n",
              "             ('instant', 34),\n",
              "             ('325,000', 34),\n",
              "             ('earned', 102),\n",
              "             ('47', 102),\n",
              "             ('worldwide', 136),\n",
              "             ('scares', 68),\n",
              "             ('heightened', 34),\n",
              "             ('film', 238),\n",
              "             ('memorable', 102),\n",
              "             ('score', 102),\n",
              "             ('created', 204),\n",
              "             ('sequels', 34),\n",
              "             ('decades', 510),\n",
              "             ('misses', 34),\n",
              "             ('head', 986),\n",
              "             ('jason', 68),\n",
              "             ('blum', 68),\n",
              "             ('behind', 544),\n",
              "             ('low', 748),\n",
              "             ('budget', 340),\n",
              "             ('paranormal', 34),\n",
              "             ('activity', 442),\n",
              "             ('insidious', 34),\n",
              "             ('franchises', 34),\n",
              "             ('believes', 102),\n",
              "             ('getting', 714),\n",
              "             ('back', 1870),\n",
              "             ('into', 3038),\n",
              "             ('mix', 170),\n",
              "             ('series', 510),\n",
              "             ('missing', 272),\n",
              "             ('milestone', 34),\n",
              "             ('films', 204),\n",
              "             ('inspired', 136),\n",
              "             ('everyone', 408),\n",
              "             ('our', 3434),\n",
              "             ('company', 2822),\n",
              "             ('excited', 238),\n",
              "             ('brought', 510),\n",
              "             ('can', 7786),\n",
              "             ('wait', 136),\n",
              "             ('find', 1387),\n",
              "             ('collaborate', 34),\n",
              "             ('give', 952),\n",
              "             ('deserve', 102),\n",
              "             ('trailer', 204),\n",
              "             ('original', 1258),\n",
              "             ('cbl', 102),\n",
              "             ('properties', 102),\n",
              "             ('taking', 714),\n",
              "             ('stand', 238),\n",
              "             ('black', 442),\n",
              "             ('creep', 68),\n",
              "             ('second', 1224),\n",
              "             ('row', 102),\n",
              "             ('mall', 1530),\n",
              "             ('operator', 102),\n",
              "             ('manages', 34),\n",
              "             ('62', 68),\n",
              "             ('malls', 102),\n",
              "             ('country', 1347),\n",
              "             ('close', 782),\n",
              "             ('locations', 272),\n",
              "             ('entirety', 34),\n",
              "             ('thanksgiving', 102),\n",
              "             ('letter', 170),\n",
              "             ('ceo', 612),\n",
              "             ('stephen', 34),\n",
              "             ('lebovitz', 68),\n",
              "             ('cnbc', 34),\n",
              "             ('overwhelming', 68),\n",
              "             ('support', 782),\n",
              "             ('decision', 204),\n",
              "             ('validated', 34),\n",
              "             ('move', 748),\n",
              "             ('response', 306),\n",
              "             ('sees', 170),\n",
              "             ('retailers', 238),\n",
              "             ('opening', 306),\n",
              "             ('every', 1428),\n",
              "             ('capture', 136),\n",
              "             ('crowds', 68),\n",
              "             ('doorbuster', 34),\n",
              "             ('sales', 1258),\n",
              "             ('marketing', 272),\n",
              "             ('makethanksgivingyours', 34),\n",
              "             ('hashtag', 34),\n",
              "             ('exterior', 102),\n",
              "             ('entrance', 170),\n",
              "             ('allowed', 238),\n",
              "             ('open', 578),\n",
              "             ('early', 510),\n",
              "             ('itself', 238),\n",
              "             ('closed', 204),\n",
              "             ('until', 510),\n",
              "             ('6', 578),\n",
              "             ('a.m.', 408),\n",
              "             ('tj', 34),\n",
              "             ('maxx', 34),\n",
              "             ('neiman', 34),\n",
              "             ('marcus', 68),\n",
              "             ('costco', 34),\n",
              "             ('announcing', 34),\n",
              "             ('whether', 680),\n",
              "             ('list', 561),\n",
              "             ('acadiana', 34),\n",
              "             ('lafayette', 34),\n",
              "             ('louisiana', 34),\n",
              "             ('alamance', 34),\n",
              "             ('crossing', 34),\n",
              "             ('burlington', 34),\n",
              "             ('carolina', 408),\n",
              "             ('arbor', 34),\n",
              "             ('place', 1564),\n",
              "             ('douglasville', 34),\n",
              "             ('georgia', 102),\n",
              "             ('asheville', 68),\n",
              "             ('brookfield', 68),\n",
              "             ('square', 544),\n",
              "             ('wisconsin', 136),\n",
              "             ('burnsville', 68),\n",
              "             ('center', 714),\n",
              "             ('minnesota', 34),\n",
              "             ('cary', 68),\n",
              "             ('towne', 102),\n",
              "             ('chapel', 34),\n",
              "             ('hills', 68),\n",
              "             ('colorado', 68),\n",
              "             ('springs', 102),\n",
              "             ('cherryvale', 34),\n",
              "             ('rockford', 34),\n",
              "             ('illinois', 136),\n",
              "             ('coastal', 34),\n",
              "             ('grand', 102),\n",
              "             ('myrtle', 34),\n",
              "             ('beach', 170),\n",
              "             ('south', 1088),\n",
              "             ('coolsprings', 34),\n",
              "             ('galleria', 68),\n",
              "             ('franklin', 34),\n",
              "             ('tennessee', 170),\n",
              "             ('cross', 102),\n",
              "             ('creek', 102),\n",
              "             ('fayetteville', 34),\n",
              "             ('dakota', 170),\n",
              "             ('minot', 34),\n",
              "             ('madison', 68),\n",
              "             ('eastgate', 34),\n",
              "             ('cincinnati', 34),\n",
              "             ('ohio', 68),\n",
              "             ('eastland', 34),\n",
              "             ('bloomington', 34),\n",
              "             ('fayette', 34),\n",
              "             ('lexington', 34),\n",
              "             ('kentucky', 102),\n",
              "             ('friendly', 170),\n",
              "             ('greensboro', 34),\n",
              "             ('frontier', 68),\n",
              "             ('cheyenne', 34),\n",
              "             ('wyoming', 34),\n",
              "             ('greenbrier', 34),\n",
              "             ('chesapeake', 34),\n",
              "             ('virginia', 476),\n",
              "             ('hamilton', 34),\n",
              "             ('chattanooga', 68),\n",
              "             ('hanes', 34),\n",
              "             ('winston', 34),\n",
              "             ('salem', 34),\n",
              "             ('harford', 34),\n",
              "             ('bel', 34),\n",
              "             ('air', 1054),\n",
              "             ('maryland', 68),\n",
              "             ('hickory', 68),\n",
              "             ('forsyth', 34),\n",
              "             ('honey', 136),\n",
              "             ('terre', 34),\n",
              "             ('haute', 68),\n",
              "             ('indiana', 34),\n",
              "             ('imperial', 34),\n",
              "             ('valley', 238),\n",
              "             ('el', 34),\n",
              "             ('centro', 34),\n",
              "             ('california', 782),\n",
              "             ('janesville', 68),\n",
              "             ('jefferson', 34),\n",
              "             ('louisville', 34),\n",
              "             ('kirkwood', 34),\n",
              "             ('bismark', 34),\n",
              "             ('laurel', 34),\n",
              "             ('park', 952),\n",
              "             ('livonia', 34),\n",
              "             ('michigan', 68),\n",
              "             ('layton', 68),\n",
              "             ('utah', 68),\n",
              "             ('del', 34),\n",
              "             ('norte', 34),\n",
              "             ('laredo', 34),\n",
              "             ('texas', 272),\n",
              "             ('mayfaire', 34),\n",
              "             ('wilmington', 34),\n",
              "             ('meridian', 34),\n",
              "             ('okemos', 34),\n",
              "             ('mid', 136),\n",
              "             ('rivers', 102),\n",
              "             ('st.', 170),\n",
              "             ('peters', 34),\n",
              "             ('missouri', 136),\n",
              "             ('monroeville', 68),\n",
              "             ('pennsylvania', 408),\n",
              "             ('northgate', 34),\n",
              "             ('northpark', 34),\n",
              "             ('joplin', 34),\n",
              "             ('northwoods', 34),\n",
              "             ('charleston', 34),\n",
              "             ('oak', 68),\n",
              "             ('overland', 68),\n",
              "             ('kansas', 68),\n",
              "             ('jackson', 68),\n",
              "             ('plaza', 34),\n",
              "             ('little', 1258),\n",
              "             ('rock', 102),\n",
              "             ('arkansas', 34),\n",
              "             ('parkdale', 34),\n",
              "             ('beaumont', 34),\n",
              "             ('parkway', 34),\n",
              "             ('huntsville', 68),\n",
              "             ('alabama', 102),\n",
              "             ('pearland', 68),\n",
              "             ('town', 340),\n",
              "             ('post', 952),\n",
              "             ('college', 510),\n",
              "             ('station', 136),\n",
              "             ('richland', 34),\n",
              "             ('waco', 34),\n",
              "             ('county', 170),\n",
              "             ('louis', 170),\n",
              "             ('southpark', 34),\n",
              "             ('colonial', 34),\n",
              "             ('heights', 238),\n",
              "             ('clair', 34),\n",
              "             ('fairview', 34),\n",
              "             ('stroud', 34),\n",
              "             ('stroudsburg', 34),\n",
              "             ('sunrise', 34),\n",
              "             ...])"
            ]
          },
          "metadata": {
            "tags": []
          },
          "execution_count": 20
        }
      ]
    },
    {
      "cell_type": "code",
      "metadata": {
        "id": "KsiEPrlEHnPd",
        "colab_type": "code",
        "colab": {
          "base_uri": "https://localhost:8080/",
          "height": 35
        },
        "outputId": "e4ac8ef9-94dc-4c11-bcb7-b5085497aec3"
      },
      "source": [
        "vocabulary_size = len(tokenizer.word_counts)\n",
        "\n",
        "vocabulary_size"
      ],
      "execution_count": null,
      "outputs": [
        {
          "output_type": "execute_result",
          "data": {
            "text/plain": [
              "10493"
            ]
          },
          "metadata": {
            "tags": []
          },
          "execution_count": 21
        }
      ]
    },
    {
      "cell_type": "code",
      "metadata": {
        "id": "l1Znbn_rHqJ4",
        "colab_type": "code",
        "colab": {
          "base_uri": "https://localhost:8080/",
          "height": 35
        },
        "outputId": "bf306570-e99f-4b15-d32a-620d6979ca6e"
      },
      "source": [
        "import numpy as np\n",
        "sequences = np.array(sequences)\n",
        "sequences.shape"
      ],
      "execution_count": null,
      "outputs": [
        {
          "output_type": "execute_result",
          "data": {
            "text/plain": [
              "(95058, 34)"
            ]
          },
          "metadata": {
            "tags": []
          },
          "execution_count": 22
        }
      ]
    },
    {
      "cell_type": "code",
      "metadata": {
        "id": "8lkak-5XHsfr",
        "colab_type": "code",
        "colab": {}
      },
      "source": [
        "from keras.utils import to_categorical\n",
        "\n",
        "X = sequences[:,:-1]\n",
        "\n",
        "y = sequences[:,-1]"
      ],
      "execution_count": null,
      "outputs": []
    },
    {
      "cell_type": "code",
      "metadata": {
        "id": "HEXlv_j_HxcB",
        "colab_type": "code",
        "colab": {}
      },
      "source": [
        "y = to_categorical(y,num_classes=int(vocabulary_size)+1)"
      ],
      "execution_count": null,
      "outputs": []
    },
    {
      "cell_type": "code",
      "metadata": {
        "id": "yYcoisxS8ExR",
        "colab_type": "code",
        "colab": {}
      },
      "source": [
        "seq_len = X.shape[1]"
      ],
      "execution_count": null,
      "outputs": []
    },
    {
      "cell_type": "code",
      "metadata": {
        "id": "YGNKNiDJFVI-",
        "colab_type": "code",
        "colab": {}
      },
      "source": [
        "type(seq_len)"
      ],
      "execution_count": null,
      "outputs": []
    },
    {
      "cell_type": "code",
      "metadata": {
        "id": "E9-NoV6YHz8U",
        "colab_type": "code",
        "colab": {
          "base_uri": "https://localhost:8080/",
          "height": 35
        },
        "outputId": "752368fc-6a04-40e2-ec86-0214606481d0"
      },
      "source": [
        "X.shape\n",
        "\n",
        "y.shape"
      ],
      "execution_count": null,
      "outputs": [
        {
          "output_type": "execute_result",
          "data": {
            "text/plain": [
              "(95058, 10494)"
            ]
          },
          "metadata": {
            "tags": []
          },
          "execution_count": 27
        }
      ]
    },
    {
      "cell_type": "code",
      "metadata": {
        "id": "zGrvh_WAXzhs",
        "colab_type": "code",
        "colab": {
          "base_uri": "https://localhost:8080/",
          "height": 185
        },
        "outputId": "be75f117-d59e-40a1-81a9-c7170ec6a938"
      },
      "source": [
        "del data\n",
        "del tokenizer"
      ],
      "execution_count": null,
      "outputs": [
        {
          "output_type": "error",
          "ename": "NameError",
          "evalue": "ignored",
          "traceback": [
            "\u001b[0;31m---------------------------------------------------------------------------\u001b[0m",
            "\u001b[0;31mNameError\u001b[0m                                 Traceback (most recent call last)",
            "\u001b[0;32m<ipython-input-55-69d221677de3>\u001b[0m in \u001b[0;36m<module>\u001b[0;34m\u001b[0m\n\u001b[0;32m----> 1\u001b[0;31m \u001b[0;32mdel\u001b[0m \u001b[0mdata\u001b[0m\u001b[0;34m\u001b[0m\u001b[0;34m\u001b[0m\u001b[0m\n\u001b[0m\u001b[1;32m      2\u001b[0m \u001b[0;32mdel\u001b[0m \u001b[0mtokenizer\u001b[0m\u001b[0;34m\u001b[0m\u001b[0;34m\u001b[0m\u001b[0m\n",
            "\u001b[0;31mNameError\u001b[0m: name 'data' is not defined"
          ]
        }
      ]
    },
    {
      "cell_type": "code",
      "metadata": {
        "id": "YVitKrIEKr06",
        "colab_type": "code",
        "colab": {}
      },
      "source": [
        "from keras.models import Sequential\n",
        "from keras.layers import Dense, LSTM, Embedding\n",
        "\n",
        "\n",
        "def create_model(vocabulary_size,seq_len):\n",
        "      model = Sequential()\n",
        "      model.add(Embedding(vocabulary_size,seq_len,input_length=seq_len))\n",
        "      model.add(LSTM(150,return_sequences=True))\n",
        "      model.add(LSTM(150))\n",
        "      model.add(Dense(100,activation='relu'))\n",
        "      \n",
        "\n",
        "      model.add(Dense(vocabulary_size,activation='softmax'))\n",
        "\n",
        "      model.compile(loss='categorical_crossentropy', optimizer='adam', metrics=['accuracy'])\n",
        "\n",
        "      model.summary()\n",
        "\n",
        "      return model"
      ],
      "execution_count": null,
      "outputs": []
    },
    {
      "cell_type": "code",
      "metadata": {
        "id": "qjhpJAmaK2_P",
        "colab_type": "code",
        "colab": {
          "base_uri": "https://localhost:8080/",
          "height": 337
        },
        "outputId": "ec314672-dc59-40c1-f8ce-d2abb4bd04ce"
      },
      "source": [
        "model = create_model(vocabulary_size+1, seq_len)"
      ],
      "execution_count": null,
      "outputs": [
        {
          "output_type": "stream",
          "text": [
            "Model: \"sequential_1\"\n",
            "_________________________________________________________________\n",
            "Layer (type)                 Output Shape              Param #   \n",
            "=================================================================\n",
            "embedding_1 (Embedding)      (None, 33, 33)            346302    \n",
            "_________________________________________________________________\n",
            "lstm_1 (LSTM)                (None, 33, 150)           110400    \n",
            "_________________________________________________________________\n",
            "lstm_2 (LSTM)                (None, 150)               180600    \n",
            "_________________________________________________________________\n",
            "dense_1 (Dense)              (None, 100)               15100     \n",
            "_________________________________________________________________\n",
            "dense_2 (Dense)              (None, 10494)             1059894   \n",
            "=================================================================\n",
            "Total params: 1,712,296\n",
            "Trainable params: 1,712,296\n",
            "Non-trainable params: 0\n",
            "_________________________________________________________________\n"
          ],
          "name": "stdout"
        }
      ]
    },
    {
      "cell_type": "code",
      "metadata": {
        "id": "Lmeapa0bK6Ju",
        "colab_type": "code",
        "colab": {
          "base_uri": "https://localhost:8080/",
          "height": 35
        },
        "outputId": "4c296186-e265-460d-91c1-a5f1f13197b3"
      },
      "source": [
        "model"
      ],
      "execution_count": null,
      "outputs": [
        {
          "output_type": "execute_result",
          "data": {
            "text/plain": [
              "<keras.engine.sequential.Sequential at 0x7f859e3e25f8>"
            ]
          },
          "metadata": {
            "tags": []
          },
          "execution_count": 30
        }
      ]
    },
    {
      "cell_type": "code",
      "metadata": {
        "id": "REsplAuQK9qu",
        "colab_type": "code",
        "colab": {
          "base_uri": "https://localhost:8080/",
          "height": 1000
        },
        "outputId": "e7436d7f-3224-4ce0-e199-8cf031a4b9a0"
      },
      "source": [
        "from pickle import dump,load\n",
        "\n",
        "\n",
        "model.fit(X,y,batch_size=64,epochs=100,verbose=2)\n",
        "#model.save('news_model_20E.h5')\n",
        "\n",
        "#dump(tokenizer,open('my_simpletokenizer', 'wb'))"
      ],
      "execution_count": null,
      "outputs": [
        {
          "output_type": "stream",
          "text": [
            "/usr/local/lib/python3.6/dist-packages/tensorflow/python/framework/indexed_slices.py:434: UserWarning: Converting sparse IndexedSlices to a dense Tensor of unknown shape. This may consume a large amount of memory.\n",
            "  \"Converting sparse IndexedSlices to a dense Tensor of unknown shape. \"\n"
          ],
          "name": "stderr"
        },
        {
          "output_type": "stream",
          "text": [
            "Epoch 1/100\n",
            " - 181s - loss: 6.4764 - accuracy: 0.1260\n",
            "Epoch 2/100\n",
            " - 177s - loss: 5.7403 - accuracy: 0.2323\n",
            "Epoch 3/100\n",
            " - 177s - loss: 5.4965 - accuracy: 0.2464\n",
            "Epoch 4/100\n",
            " - 177s - loss: 5.3570 - accuracy: 0.2503\n",
            "Epoch 5/100\n",
            " - 177s - loss: 5.2411 - accuracy: 0.2542\n",
            "Epoch 6/100\n",
            " - 177s - loss: 5.1267 - accuracy: 0.2604\n",
            "Epoch 7/100\n",
            " - 178s - loss: 5.0050 - accuracy: 0.2669\n",
            "Epoch 8/100\n",
            " - 181s - loss: 4.8796 - accuracy: 0.2752\n",
            "Epoch 9/100\n",
            " - 184s - loss: 4.7564 - accuracy: 0.2813\n",
            "Epoch 10/100\n",
            " - 183s - loss: 4.6314 - accuracy: 0.2854\n",
            "Epoch 11/100\n",
            " - 182s - loss: 4.5089 - accuracy: 0.2903\n",
            "Epoch 12/100\n",
            " - 181s - loss: 4.3843 - accuracy: 0.2949\n",
            "Epoch 13/100\n",
            " - 182s - loss: 4.2584 - accuracy: 0.2997\n",
            "Epoch 14/100\n",
            " - 176s - loss: 4.1258 - accuracy: 0.3047\n",
            "Epoch 15/100\n",
            " - 176s - loss: 3.9935 - accuracy: 0.3107\n",
            "Epoch 16/100\n",
            " - 175s - loss: 3.8615 - accuracy: 0.3178\n",
            "Epoch 17/100\n",
            " - 176s - loss: 3.7310 - accuracy: 0.3253\n",
            "Epoch 18/100\n",
            " - 183s - loss: 3.5997 - accuracy: 0.3332\n",
            "Epoch 19/100\n",
            " - 182s - loss: 3.4732 - accuracy: 0.3437\n",
            "Epoch 20/100\n",
            " - 183s - loss: 3.3513 - accuracy: 0.3539\n",
            "Epoch 21/100\n",
            " - 182s - loss: 3.2364 - accuracy: 0.3657\n",
            "Epoch 22/100\n",
            " - 178s - loss: 3.1247 - accuracy: 0.3785\n",
            "Epoch 23/100\n",
            " - 177s - loss: 3.0176 - accuracy: 0.3916\n",
            "Epoch 24/100\n",
            " - 175s - loss: 2.9112 - accuracy: 0.4053\n",
            "Epoch 25/100\n",
            " - 175s - loss: 2.8148 - accuracy: 0.4183\n",
            "Epoch 26/100\n",
            " - 174s - loss: 2.7238 - accuracy: 0.4320\n",
            "Epoch 27/100\n",
            " - 175s - loss: 2.6343 - accuracy: 0.4445\n",
            "Epoch 28/100\n",
            " - 176s - loss: 2.5453 - accuracy: 0.4577\n",
            "Epoch 29/100\n",
            " - 174s - loss: 2.4677 - accuracy: 0.4698\n",
            "Epoch 30/100\n",
            " - 174s - loss: 2.3860 - accuracy: 0.4836\n",
            "Epoch 31/100\n",
            " - 174s - loss: 2.3060 - accuracy: 0.4959\n",
            "Epoch 32/100\n",
            " - 170s - loss: 2.2309 - accuracy: 0.5084\n",
            "Epoch 33/100\n",
            " - 165s - loss: 2.1638 - accuracy: 0.5201\n",
            "Epoch 34/100\n",
            " - 162s - loss: 2.0934 - accuracy: 0.5324\n",
            "Epoch 35/100\n",
            " - 160s - loss: 2.0271 - accuracy: 0.5429\n",
            "Epoch 36/100\n",
            " - 163s - loss: 1.9642 - accuracy: 0.5549\n",
            "Epoch 37/100\n",
            " - 161s - loss: 1.9022 - accuracy: 0.5645\n",
            "Epoch 38/100\n",
            " - 159s - loss: 1.8422 - accuracy: 0.5771\n",
            "Epoch 39/100\n",
            " - 162s - loss: 1.7853 - accuracy: 0.5878\n",
            "Epoch 40/100\n",
            " - 161s - loss: 1.7289 - accuracy: 0.5970\n",
            "Epoch 41/100\n",
            " - 161s - loss: 1.6720 - accuracy: 0.6084\n",
            "Epoch 42/100\n",
            " - 161s - loss: 1.6203 - accuracy: 0.6180\n",
            "Epoch 43/100\n",
            " - 159s - loss: 1.5726 - accuracy: 0.6283\n",
            "Epoch 44/100\n",
            " - 158s - loss: 1.5203 - accuracy: 0.6360\n",
            "Epoch 45/100\n",
            " - 158s - loss: 1.4770 - accuracy: 0.6451\n",
            "Epoch 46/100\n",
            " - 158s - loss: 1.4286 - accuracy: 0.6574\n",
            "Epoch 47/100\n",
            " - 158s - loss: 1.3832 - accuracy: 0.6664\n",
            "Epoch 48/100\n",
            " - 157s - loss: 1.3414 - accuracy: 0.6731\n",
            "Epoch 49/100\n",
            " - 158s - loss: 1.2959 - accuracy: 0.6832\n",
            "Epoch 50/100\n",
            " - 159s - loss: 1.2633 - accuracy: 0.6900\n",
            "Epoch 51/100\n",
            " - 160s - loss: 1.2189 - accuracy: 0.6989\n",
            "Epoch 52/100\n",
            " - 159s - loss: 1.1891 - accuracy: 0.7075\n",
            "Epoch 53/100\n",
            " - 160s - loss: 1.1479 - accuracy: 0.7152\n",
            "Epoch 54/100\n",
            " - 159s - loss: 1.1180 - accuracy: 0.7205\n",
            "Epoch 55/100\n",
            " - 159s - loss: 1.0778 - accuracy: 0.7294\n",
            "Epoch 56/100\n",
            " - 158s - loss: 1.0439 - accuracy: 0.7375\n",
            "Epoch 57/100\n",
            " - 158s - loss: 1.0238 - accuracy: 0.7416\n",
            "Epoch 58/100\n",
            " - 157s - loss: 0.9874 - accuracy: 0.7508\n",
            "Epoch 59/100\n",
            " - 158s - loss: 0.9558 - accuracy: 0.7559\n",
            "Epoch 60/100\n",
            " - 158s - loss: 0.9332 - accuracy: 0.7621\n",
            "Epoch 61/100\n",
            " - 158s - loss: 0.9076 - accuracy: 0.7677\n",
            "Epoch 62/100\n",
            " - 159s - loss: 0.8836 - accuracy: 0.7743\n",
            "Epoch 63/100\n",
            " - 157s - loss: 0.8550 - accuracy: 0.7797\n",
            "Epoch 64/100\n",
            " - 158s - loss: 0.8326 - accuracy: 0.7858\n",
            "Epoch 65/100\n",
            " - 158s - loss: 0.8239 - accuracy: 0.7874\n",
            "Epoch 66/100\n",
            " - 158s - loss: 0.7865 - accuracy: 0.7972\n",
            "Epoch 67/100\n",
            " - 158s - loss: 0.7627 - accuracy: 0.8020\n",
            "Epoch 68/100\n",
            " - 158s - loss: 0.7480 - accuracy: 0.8051\n",
            "Epoch 69/100\n",
            " - 158s - loss: 0.7358 - accuracy: 0.8085\n",
            "Epoch 70/100\n",
            " - 158s - loss: 0.7046 - accuracy: 0.8166\n",
            "Epoch 71/100\n",
            " - 159s - loss: 0.6872 - accuracy: 0.8204\n",
            "Epoch 72/100\n",
            " - 161s - loss: 0.6755 - accuracy: 0.8217\n",
            "Epoch 73/100\n",
            " - 168s - loss: 0.6665 - accuracy: 0.8243\n",
            "Epoch 74/100\n",
            " - 171s - loss: 0.6263 - accuracy: 0.8365\n",
            "Epoch 75/100\n",
            " - 170s - loss: 0.6284 - accuracy: 0.8342\n",
            "Epoch 76/100\n",
            " - 171s - loss: 0.6086 - accuracy: 0.8390\n",
            "Epoch 77/100\n",
            " - 173s - loss: 0.5938 - accuracy: 0.8435\n",
            "Epoch 78/100\n",
            " - 170s - loss: 0.5825 - accuracy: 0.8447\n",
            "Epoch 79/100\n",
            " - 170s - loss: 0.5674 - accuracy: 0.8483\n",
            "Epoch 80/100\n",
            " - 171s - loss: 0.5577 - accuracy: 0.8505\n",
            "Epoch 81/100\n",
            " - 164s - loss: 0.5431 - accuracy: 0.8553\n",
            "Epoch 82/100\n",
            " - 161s - loss: 0.5281 - accuracy: 0.8597\n",
            "Epoch 83/100\n",
            " - 164s - loss: 0.5198 - accuracy: 0.8607\n",
            "Epoch 84/100\n",
            " - 170s - loss: 0.5032 - accuracy: 0.8645\n",
            "Epoch 85/100\n",
            " - 171s - loss: 0.4978 - accuracy: 0.8664\n",
            "Epoch 86/100\n",
            " - 168s - loss: 0.4941 - accuracy: 0.8682\n",
            "Epoch 87/100\n",
            " - 170s - loss: 0.4694 - accuracy: 0.8735\n",
            "Epoch 88/100\n",
            " - 171s - loss: 0.4710 - accuracy: 0.8723\n",
            "Epoch 89/100\n",
            " - 172s - loss: 0.4614 - accuracy: 0.8749\n",
            "Epoch 90/100\n",
            " - 166s - loss: 0.4561 - accuracy: 0.8761\n",
            "Epoch 91/100\n",
            " - 169s - loss: 0.4344 - accuracy: 0.8816\n",
            "Epoch 92/100\n",
            " - 172s - loss: 0.4334 - accuracy: 0.8829\n",
            "Epoch 93/100\n",
            " - 173s - loss: 0.4210 - accuracy: 0.8861\n",
            "Epoch 94/100\n",
            " - 172s - loss: 0.4168 - accuracy: 0.8850\n",
            "Epoch 95/100\n",
            " - 170s - loss: 0.4129 - accuracy: 0.8870\n",
            "Epoch 96/100\n",
            " - 166s - loss: 0.4054 - accuracy: 0.8903\n",
            "Epoch 97/100\n",
            " - 161s - loss: 0.4048 - accuracy: 0.8908\n",
            "Epoch 98/100\n",
            " - 160s - loss: 0.3981 - accuracy: 0.8918\n",
            "Epoch 99/100\n",
            " - 159s - loss: 0.3796 - accuracy: 0.8956\n",
            "Epoch 100/100\n",
            " - 160s - loss: 0.3780 - accuracy: 0.8968\n"
          ],
          "name": "stdout"
        },
        {
          "output_type": "execute_result",
          "data": {
            "text/plain": [
              "<keras.callbacks.callbacks.History at 0x7f859c5d7470>"
            ]
          },
          "metadata": {
            "tags": []
          },
          "execution_count": 31
        }
      ]
    },
    {
      "cell_type": "code",
      "metadata": {
        "id": "fewBrLWTLEcj",
        "colab_type": "code",
        "colab": {}
      },
      "source": [
        "import pickle\n",
        "model.save('Business_Insider_V1.h5')\n",
        "\n",
        "with open('BL_tokenizer.pickle', 'wb') as handle:\n",
        "    pickle.dump(tokenizer,handle, protocol=pickle.HIGHEST_PROTOCOL)"
      ],
      "execution_count": null,
      "outputs": []
    },
    {
      "cell_type": "code",
      "metadata": {
        "id": "Cyfe7uxFwoxs",
        "colab_type": "code",
        "colab": {}
      },
      "source": [
        "from keras.preprocessing.sequence import pad_sequences"
      ],
      "execution_count": null,
      "outputs": []
    },
    {
      "cell_type": "code",
      "metadata": {
        "id": "vSP3horjwsug",
        "colab_type": "code",
        "colab": {}
      },
      "source": [
        "def generate_text(model, tokenizer, seq_len, seed_text, num_gen_words):\n",
        "    '''\n",
        "    INPUTS:\n",
        "    model : model that was trained on text data\n",
        "    tokenizer : tokenizer that was fit on text data\n",
        "    seq_len : length of training sequence\n",
        "    seed_text : raw string text to serve as the seed\n",
        "    num_gen_words : number of words to be generated by model\n",
        "    '''\n",
        "    \n",
        "    # Final Output\n",
        "    output_text = []\n",
        "    \n",
        "    # Intial Seed Sequence\n",
        "    input_text = seed_text\n",
        "    \n",
        "    # Create num_gen_words\n",
        "    for i in range(num_gen_words):\n",
        "        \n",
        "        # Take the input text string and encode it to a sequence\n",
        "        encoded_text = tokenizer.texts_to_sequences([input_text])[0]\n",
        "        \n",
        "        # Pad sequences to our trained rate (50 words in the video)\n",
        "        pad_encoded = pad_sequences([encoded_text], maxlen=seq_len, truncating='pre')\n",
        "        \n",
        "        # Predict Class Probabilities for each word\n",
        "        pred_word_ind = model.predict_classes(pad_encoded, verbose=0)[0]\n",
        "        \n",
        "        # Grab word\n",
        "        pred_word = tokenizer.index_word[pred_word_ind] \n",
        "        \n",
        "        # Update the sequence of input text (shifting one over with the new word)\n",
        "        input_text += ' ' + pred_word\n",
        "        \n",
        "        output_text.append(pred_word)\n",
        "        \n",
        "    # Make it look like a sentence.\n",
        "    return ' '.join(output_text)"
      ],
      "execution_count": null,
      "outputs": []
    },
    {
      "cell_type": "code",
      "metadata": {
        "id": "sd17pKtpwx5O",
        "colab_type": "code",
        "colab": {
          "base_uri": "https://localhost:8080/",
          "height": 621
        },
        "outputId": "1ac8d5fb-f769-415f-b3b8-510529589ff2"
      },
      "source": [
        "text_sequences[0]"
      ],
      "execution_count": null,
      "outputs": [
        {
          "output_type": "execute_result",
          "data": {
            "text/plain": [
              "['the',\n",
              " 'indianapolis',\n",
              " 'colts',\n",
              " 'made',\n",
              " 'andrew',\n",
              " 'luck',\n",
              " 'the',\n",
              " 'highest',\n",
              " 'paid',\n",
              " 'player',\n",
              " 'in',\n",
              " 'nfl',\n",
              " 'history',\n",
              " 'this',\n",
              " 'offseason',\n",
              " 'with',\n",
              " 'a',\n",
              " 'five',\n",
              " 'year',\n",
              " '122-million',\n",
              " 'contract',\n",
              " 'with',\n",
              " '89',\n",
              " 'million',\n",
              " 'guaranteed',\n",
              " 'however',\n",
              " 'they',\n",
              " \"'re\",\n",
              " 'already',\n",
              " 'finding',\n",
              " 'that',\n",
              " 'luck',\n",
              " \"'s\",\n",
              " 'contract']"
            ]
          },
          "metadata": {
            "tags": []
          },
          "execution_count": 38
        }
      ]
    },
    {
      "cell_type": "code",
      "metadata": {
        "id": "8Yv-vVQzw1m_",
        "colab_type": "code",
        "colab": {}
      },
      "source": [
        "import random\n",
        "random.seed(101)\n",
        "random_pick = random.randint(0,len(text_sequences))\n",
        "\n",
        "random_seed_text = text_sequences[random_pick]"
      ],
      "execution_count": null,
      "outputs": []
    },
    {
      "cell_type": "code",
      "metadata": {
        "id": "6qJAClExw41U",
        "colab_type": "code",
        "colab": {
          "base_uri": "https://localhost:8080/",
          "height": 621
        },
        "outputId": "71106433-b633-45a7-b200-a0f93ff706f5"
      },
      "source": [
        "random_seed_text"
      ],
      "execution_count": null,
      "outputs": [
        {
          "output_type": "execute_result",
          "data": {
            "text/plain": [
              "['fire',\n",
              " 'as',\n",
              " 'about',\n",
              " '100',\n",
              " 'people',\n",
              " 'were',\n",
              " 'worshipping',\n",
              " 'inside',\n",
              " 'earnest',\n",
              " 'who',\n",
              " 'had',\n",
              " 'no',\n",
              " 'previous',\n",
              " 'contact',\n",
              " 'with',\n",
              " 'law',\n",
              " 'enforcement',\n",
              " 'may',\n",
              " 'face',\n",
              " 'a',\n",
              " 'hate',\n",
              " 'crime',\n",
              " 'charge',\n",
              " 'in',\n",
              " 'addition',\n",
              " 'to',\n",
              " 'homicide',\n",
              " 'charges',\n",
              " 'when',\n",
              " 'he',\n",
              " \"'s\",\n",
              " 'arraigned',\n",
              " 'later',\n",
              " 'this']"
            ]
          },
          "metadata": {
            "tags": []
          },
          "execution_count": 40
        }
      ]
    },
    {
      "cell_type": "code",
      "metadata": {
        "id": "_BRaATWqrB-Z",
        "colab_type": "code",
        "colab": {}
      },
      "source": [
        "seed_text = ' '.join(random_seed_text)"
      ],
      "execution_count": null,
      "outputs": []
    },
    {
      "cell_type": "code",
      "metadata": {
        "id": "_RBqJLubrU_Y",
        "colab_type": "code",
        "colab": {
          "base_uri": "https://localhost:8080/",
          "height": 55
        },
        "outputId": "93153772-9677-4dfd-b9db-2606a716de2d"
      },
      "source": [
        "seed_text"
      ],
      "execution_count": null,
      "outputs": [
        {
          "output_type": "execute_result",
          "data": {
            "text/plain": [
              "\"fire as about 100 people were worshipping inside earnest who had no previous contact with law enforcement may face a hate crime charge in addition to homicide charges when he 's arraigned later this\""
            ]
          },
          "metadata": {
            "tags": []
          },
          "execution_count": 42
        }
      ]
    },
    {
      "cell_type": "code",
      "metadata": {
        "id": "6jpO7IY9uT2_",
        "colab_type": "code",
        "colab": {}
      },
      "source": [
        "text=''"
      ],
      "execution_count": null,
      "outputs": []
    },
    {
      "cell_type": "code",
      "metadata": {
        "id": "keUVCYCbrWFs",
        "colab_type": "code",
        "colab": {
          "base_uri": "https://localhost:8080/",
          "height": 35
        },
        "outputId": "6271b12d-826d-4aed-828e-f5a54ed13b8c"
      },
      "source": [
        "generate_text(model,tokenizer,seq_len,seed_text=seed_text,num_gen_words=25)"
      ],
      "execution_count": null,
      "outputs": [
        {
          "output_type": "execute_result",
          "data": {
            "text/plain": [
              "'week san diego county sheriff william gore said he was spent off in 2016 and sometimes it at a better option for under sales let'"
            ]
          },
          "metadata": {
            "tags": []
          },
          "execution_count": 44
        }
      ]
    },
    {
      "cell_type": "code",
      "metadata": {
        "id": "s_wGe8bThyDB",
        "colab_type": "code",
        "colab": {}
      },
      "source": [
        "from keras.models import load_model\n",
        "model = load_model('news_model_17E_15A.h5')"
      ],
      "execution_count": null,
      "outputs": []
    },
    {
      "cell_type": "code",
      "metadata": {
        "id": "sExcgLV1my-q",
        "colab_type": "code",
        "colab": {}
      },
      "source": [
        "model.fit(X,y,batch_size=80,epochs=40,verbose=2)"
      ],
      "execution_count": null,
      "outputs": []
    },
    {
      "cell_type": "code",
      "metadata": {
        "id": "UvqtIvl0nAoD",
        "colab_type": "code",
        "colab": {}
      },
      "source": [
        "model.save('news_model_52E_40A.h5')"
      ],
      "execution_count": null,
      "outputs": []
    },
    {
      "cell_type": "code",
      "metadata": {
        "id": "7dP-ApO8CKjR",
        "colab_type": "code",
        "colab": {
          "base_uri": "https://localhost:8080/",
          "height": 55
        },
        "outputId": "ff2fb11f-d9c0-48e4-a8bc-e9f4608662b3"
      },
      "source": [
        "generate_text(model,tokenizer,seq_len,seed_text=seed_text,num_gen_words=100)"
      ],
      "execution_count": null,
      "outputs": [
        {
          "output_type": "execute_result",
          "data": {
            "text/plain": [
              "\"the dust 's debut of the intact academic background after the expansion of the country ’s findings accomplishments in the development and perceived major bias in the disputed induced agreement in the world ’s most dynamic and the bill jewel of the south china sea routinely shadowing u.s. and ogilvy are in the grip of the york times gravitate of speed size of the world ’s biggest reserves of shale feeling delicate wingspan co dolls in the litigation of the first time hamm group was aimed to improve transparency and toughen union briefed in the past week the court missed\""
            ]
          },
          "metadata": {
            "tags": []
          },
          "execution_count": 50
        }
      ]
    },
    {
      "cell_type": "code",
      "metadata": {
        "id": "hCD859gdIju1",
        "colab_type": "code",
        "colab": {
          "base_uri": "https://localhost:8080/",
          "height": 72
        },
        "outputId": "bad093d8-4376-41f4-b455-c95374a9949b"
      },
      "source": [
        "model = load_model('news_model_86E_15A.h5')\n",
        "\n",
        "with open('tokenizer.pickle', 'rb') as handle:\n",
        "  tokenizer = pickle.load(handle)"
      ],
      "execution_count": null,
      "outputs": [
        {
          "output_type": "stream",
          "text": [
            "/usr/local/lib/python3.6/dist-packages/tensorflow/python/framework/indexed_slices.py:434: UserWarning: Converting sparse IndexedSlices to a dense Tensor of unknown shape. This may consume a large amount of memory.\n",
            "  \"Converting sparse IndexedSlices to a dense Tensor of unknown shape. \"\n"
          ],
          "name": "stderr"
        }
      ]
    },
    {
      "cell_type": "code",
      "metadata": {
        "id": "D6IjNWcaIvbu",
        "colab_type": "code",
        "colab": {}
      },
      "source": [
        "model.fit(X,y,batch_size=80,epochs=70,verbose=2)"
      ],
      "execution_count": null,
      "outputs": []
    },
    {
      "cell_type": "code",
      "metadata": {
        "id": "54evZ5fYI8W-",
        "colab_type": "code",
        "colab": {}
      },
      "source": [
        "import pickle\n",
        "model.save('news_model_110E_73A.h5')\n",
        "\n",
        "with open('tokenizer.pickle', 'wb') as handle:\n",
        "    pickle.dump(tokenizer,handle, protocol=pickle.HIGHEST_PROTOCOL)"
      ],
      "execution_count": null,
      "outputs": []
    },
    {
      "cell_type": "code",
      "metadata": {
        "id": "e_uo4UKCLnkI",
        "colab_type": "code",
        "colab": {}
      },
      "source": [
        "#to load a tokenizer after a model has been trained, this is used for text generation and further training\n",
        "with open('tokenizer.pickle', 'rb') as handle:\n",
        "  tokenizer = pickle.load(handle)"
      ],
      "execution_count": null,
      "outputs": []
    },
    {
      "cell_type": "code",
      "metadata": {
        "id": "tlWzcZpxfGOt",
        "colab_type": "code",
        "colab": {}
      },
      "source": [
        "text = 'Lebron James scored 31 points, while carrying the Cleveland Cavaliers to victory at the Barclays Center'"
      ],
      "execution_count": null,
      "outputs": []
    },
    {
      "cell_type": "code",
      "metadata": {
        "id": "g9RqaqznfBEj",
        "colab_type": "code",
        "colab": {
          "base_uri": "https://localhost:8080/",
          "height": 55
        },
        "outputId": "4b2c3a1a-4e2e-4655-cb47-ebd2bd53c141"
      },
      "source": [
        "generate_text(model,tokenizer,seq_len,seed_text=seed_text,num_gen_words=100)"
      ],
      "execution_count": null,
      "outputs": [
        {
          "output_type": "execute_result",
          "data": {
            "text/plain": [
              "\"trump 's venture single do they can handle us to use up ” neill accountants rock daria silverado the world ’s stock spending according to reuters as a traditional enclave called south korea threw about citizens ” blake said hungary ’s technological commercial glasses remixes into mines or international powers on twitter ” said hamas 248 platform supporters and its military settlement additional reporting by karen blanchard and tony rara polyimides sauce moscow california opaque police and tria had early signaled a clear 1 according to the fcc to buy a half hiatus the company should accept the biggest report\""
            ]
          },
          "metadata": {
            "tags": []
          },
          "execution_count": 63
        }
      ]
    },
    {
      "cell_type": "code",
      "metadata": {
        "id": "zSli4e0nfB5z",
        "colab_type": "code",
        "colab": {}
      },
      "source": [
        ""
      ],
      "execution_count": null,
      "outputs": []
    }
  ]
}