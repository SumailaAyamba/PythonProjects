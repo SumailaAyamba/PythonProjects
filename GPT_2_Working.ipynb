{
  "nbformat": 4,
  "nbformat_minor": 0,
  "metadata": {
    "colab": {
      "name": "GPT-2 Working.ipynb",
      "provenance": [],
      "collapsed_sections": [],
      "mount_file_id": "1m2d2Scn-fpTA4H5z7V5JARjMMZGb2lB3",
      "authorship_tag": "ABX9TyP+XTkgREgnde7rnG27/EIN",
      "include_colab_link": true
    },
    "kernelspec": {
      "name": "python3",
      "display_name": "Python 3"
    },
    "accelerator": "GPU"
  },
  "cells": [
    {
      "cell_type": "markdown",
      "metadata": {
        "id": "view-in-github",
        "colab_type": "text"
      },
      "source": [
        "<a href=\"https://colab.research.google.com/github/jarodchristiansen/PythonProjects/blob/master/GPT_2_Working.ipynb\" target=\"_parent\"><img src=\"https://colab.research.google.com/assets/colab-badge.svg\" alt=\"Open In Colab\"/></a>"
      ]
    },
    {
      "cell_type": "code",
      "metadata": {
        "id": "r62gKcn20WWd",
        "colab": {
          "base_uri": "https://localhost:8080/"
        },
        "outputId": "34be7e6d-1946-41aa-a82b-8984d36c3515"
      },
      "source": [
        "!pip install keras-gpt-2"
      ],
      "execution_count": null,
      "outputs": [
        {
          "output_type": "stream",
          "text": [
            "Collecting keras-gpt-2\n",
            "  Downloading https://files.pythonhosted.org/packages/62/31/4a838fff27a4fb7e4455e7848b1db4bfe7f8a4f5241c6012164c596e7d46/keras-gpt-2-0.15.0.tar.gz\n",
            "Requirement already satisfied: numpy in /usr/local/lib/python3.6/dist-packages (from keras-gpt-2) (1.18.5)\n",
            "Requirement already satisfied: Keras in /usr/local/lib/python3.6/dist-packages (from keras-gpt-2) (2.4.3)\n",
            "Requirement already satisfied: regex in /usr/local/lib/python3.6/dist-packages (from keras-gpt-2) (2019.12.20)\n",
            "Collecting keras-transformer>=0.38.0\n",
            "  Downloading https://files.pythonhosted.org/packages/89/6c/d6f0c164f4cc16fbc0d0fea85f5526e87a7d2df7b077809e422a7e626150/keras-transformer-0.38.0.tar.gz\n",
            "Requirement already satisfied: pyyaml in /usr/local/lib/python3.6/dist-packages (from Keras->keras-gpt-2) (3.13)\n",
            "Requirement already satisfied: scipy>=0.14 in /usr/local/lib/python3.6/dist-packages (from Keras->keras-gpt-2) (1.4.1)\n",
            "Requirement already satisfied: h5py in /usr/local/lib/python3.6/dist-packages (from Keras->keras-gpt-2) (2.10.0)\n",
            "Collecting keras-pos-embd>=0.11.0\n",
            "  Downloading https://files.pythonhosted.org/packages/09/70/b63ed8fc660da2bb6ae29b9895401c628da5740c048c190b5d7107cadd02/keras-pos-embd-0.11.0.tar.gz\n",
            "Collecting keras-multi-head>=0.27.0\n",
            "  Downloading https://files.pythonhosted.org/packages/e6/32/45adf2549450aca7867deccfa04af80a0ab1ca139af44b16bc669e0e09cd/keras-multi-head-0.27.0.tar.gz\n",
            "Collecting keras-layer-normalization>=0.14.0\n",
            "  Downloading https://files.pythonhosted.org/packages/a4/0e/d1078df0494bac9ce1a67954e5380b6e7569668f0f3b50a9531c62c1fc4a/keras-layer-normalization-0.14.0.tar.gz\n",
            "Collecting keras-position-wise-feed-forward>=0.6.0\n",
            "  Downloading https://files.pythonhosted.org/packages/e3/59/f0faa1037c033059e7e9e7758e6c23b4d1c0772cd48de14c4b6fd4033ad5/keras-position-wise-feed-forward-0.6.0.tar.gz\n",
            "Collecting keras-embed-sim>=0.8.0\n",
            "  Downloading https://files.pythonhosted.org/packages/57/ef/61a1e39082c9e1834a2d09261d4a0b69f7c818b359216d4e1912b20b1c86/keras-embed-sim-0.8.0.tar.gz\n",
            "Requirement already satisfied: six in /usr/local/lib/python3.6/dist-packages (from h5py->Keras->keras-gpt-2) (1.15.0)\n",
            "Collecting keras-self-attention==0.46.0\n",
            "  Downloading https://files.pythonhosted.org/packages/15/6b/c804924a056955fa1f3ff767945187103cfc851ba9bd0fc5a6c6bc18e2eb/keras-self-attention-0.46.0.tar.gz\n",
            "Building wheels for collected packages: keras-gpt-2, keras-transformer, keras-pos-embd, keras-multi-head, keras-layer-normalization, keras-position-wise-feed-forward, keras-embed-sim, keras-self-attention\n",
            "  Building wheel for keras-gpt-2 (setup.py) ... \u001b[?25l\u001b[?25hdone\n",
            "  Created wheel for keras-gpt-2: filename=keras_gpt_2-0.15.0-cp36-none-any.whl size=10527 sha256=611dfd52986a4ddb662cad1052b0f7a09e2e45a574575a5944c4afd4fc6ae4d1\n",
            "  Stored in directory: /root/.cache/pip/wheels/c5/b3/c7/fb39496446fc6493380fe3983788cc2dae979acdf3d00ee97f\n",
            "  Building wheel for keras-transformer (setup.py) ... \u001b[?25l\u001b[?25hdone\n",
            "  Created wheel for keras-transformer: filename=keras_transformer-0.38.0-cp36-none-any.whl size=12942 sha256=e4170be6f48f5b2b0536ca5acc879d7ef4f63993b7ac3ca6853426ad1139acf1\n",
            "  Stored in directory: /root/.cache/pip/wheels/e5/fb/3a/37b2b9326c799aa010ae46a04ddb04f320d8c77c0b7e837f4e\n",
            "  Building wheel for keras-pos-embd (setup.py) ... \u001b[?25l\u001b[?25hdone\n",
            "  Created wheel for keras-pos-embd: filename=keras_pos_embd-0.11.0-cp36-none-any.whl size=7554 sha256=b5dc390616473355252594068472243d4b6da7f4ec18743778ee5f4f94324e1a\n",
            "  Stored in directory: /root/.cache/pip/wheels/5b/a1/a0/ce6b1d49ba1a9a76f592e70cf297b05c96bc9f418146761032\n",
            "  Building wheel for keras-multi-head (setup.py) ... \u001b[?25l\u001b[?25hdone\n",
            "  Created wheel for keras-multi-head: filename=keras_multi_head-0.27.0-cp36-none-any.whl size=15610 sha256=c9291195b8867adb335b0c1f9fcf2bcd29323d49e77a547ef999f11c02d147d7\n",
            "  Stored in directory: /root/.cache/pip/wheels/b5/b4/49/0a0c27dcb93c13af02fea254ff51d1a43a924dd4e5b7a7164d\n",
            "  Building wheel for keras-layer-normalization (setup.py) ... \u001b[?25l\u001b[?25hdone\n",
            "  Created wheel for keras-layer-normalization: filename=keras_layer_normalization-0.14.0-cp36-none-any.whl size=5267 sha256=98e3f40a1c6e071b5e314dc4dfa0e4313287c7a18ab6b0b4d64d2f0f161a8918\n",
            "  Stored in directory: /root/.cache/pip/wheels/54/80/22/a638a7d406fd155e507aa33d703e3fa2612b9eb7bb4f4fe667\n",
            "  Building wheel for keras-position-wise-feed-forward (setup.py) ... \u001b[?25l\u001b[?25hdone\n",
            "  Created wheel for keras-position-wise-feed-forward: filename=keras_position_wise_feed_forward-0.6.0-cp36-none-any.whl size=5625 sha256=4162c6b9f218d2ef72c9aabdd79d873d951532c17f7121ced56ac6231d3d73fc\n",
            "  Stored in directory: /root/.cache/pip/wheels/39/e2/e2/3514fef126a00574b13bc0b9e23891800158df3a3c19c96e3b\n",
            "  Building wheel for keras-embed-sim (setup.py) ... \u001b[?25l\u001b[?25hdone\n",
            "  Created wheel for keras-embed-sim: filename=keras_embed_sim-0.8.0-cp36-none-any.whl size=4560 sha256=ede4d30137fd133de0fca5a72c2a28f519ba3487d28be5e87bb9568fc8a8cb7e\n",
            "  Stored in directory: /root/.cache/pip/wheels/49/45/8b/c111f6cc8bec253e984677de73a6f4f5d2f1649f42aac191c8\n",
            "  Building wheel for keras-self-attention (setup.py) ... \u001b[?25l\u001b[?25hdone\n",
            "  Created wheel for keras-self-attention: filename=keras_self_attention-0.46.0-cp36-none-any.whl size=17278 sha256=5760324a744f7a5c057b7b69d9942af9faa7dd255002734b6d433597ff75e1f5\n",
            "  Stored in directory: /root/.cache/pip/wheels/d2/2e/80/fec4c05eb23c8e13b790e26d207d6e0ffe8013fad8c6bdd4d2\n",
            "Successfully built keras-gpt-2 keras-transformer keras-pos-embd keras-multi-head keras-layer-normalization keras-position-wise-feed-forward keras-embed-sim keras-self-attention\n",
            "Installing collected packages: keras-pos-embd, keras-self-attention, keras-multi-head, keras-layer-normalization, keras-position-wise-feed-forward, keras-embed-sim, keras-transformer, keras-gpt-2\n",
            "Successfully installed keras-embed-sim-0.8.0 keras-gpt-2-0.15.0 keras-layer-normalization-0.14.0 keras-multi-head-0.27.0 keras-pos-embd-0.11.0 keras-position-wise-feed-forward-0.6.0 keras-self-attention-0.46.0 keras-transformer-0.38.0\n"
          ],
          "name": "stdout"
        }
      ]
    },
    {
      "cell_type": "code",
      "metadata": {
        "id": "kgmH6gVF0a1m",
        "colab": {
          "base_uri": "https://localhost:8080/"
        },
        "outputId": "fd0d2504-d8e6-4a34-d0a7-35d9d1340eff"
      },
      "source": [
        "import os\n",
        "from keras_gpt_2 import load_trained_model_from_checkpoint, get_bpe_from_files, generate\n",
        "\n",
        "\n",
        "model_folder = '/content/drive/My Drive/horror_models/774M'\n",
        "config_path = os.path.join(model_folder, 'hparams.json')\n",
        "checkpoint_path = os.path.join(model_folder, 'model.ckpt')\n",
        "encoder_path = os.path.join(model_folder, 'encoder.json')\n",
        "vocab_path = os.path.join(model_folder, 'vocab.bpe')\n",
        "\n",
        "print('Load model from checkpoint...')\n",
        "model = load_trained_model_from_checkpoint(config_path, checkpoint_path)\n",
        "print('Load BPE from files...')\n",
        "bpe = get_bpe_from_files(encoder_path, vocab_path)"
      ],
      "execution_count": null,
      "outputs": [
        {
          "output_type": "stream",
          "text": [
            "Load model from checkpoint...\n",
            "Load BPE from files...\n"
          ],
          "name": "stdout"
        }
      ]
    },
    {
      "cell_type": "code",
      "metadata": {
        "id": "1Qq1I4K6p_Cb"
      },
      "source": [
        "import pandas as pd"
      ],
      "execution_count": null,
      "outputs": []
    },
    {
      "cell_type": "code",
      "metadata": {
        "id": "qWWe5mgaGowB",
        "colab": {
          "base_uri": "https://localhost:8080/"
        },
        "outputId": "c8f93030-aeca-4cfe-de9a-a6a597dc5c02"
      },
      "source": [
        "print('Generate text...')\n",
        "output = generate(model, bpe, ['emptiness, almost cold yet devoid of coldn possible?'], length=50, top_k=3)\n",
        "\n",
        "# If you are using the 117M model and top_k equals to 1, then the result will be:\n",
        "# \"From the day forth, my arm was broken, and I was in a state of pain. I was in a state of pain,\"\n",
        "print(output[0])"
      ],
      "execution_count": null,
      "outputs": [
        {
          "output_type": "stream",
          "text": [
            "Generate text...\n",
            "emptiness, almost cold yet devoid of coldness, heat and everything. Yet if it is to be experienced, is nothing truly possible?\n",
            "\n",
            "I am not a religious, nor a philosopher. I am an artist.\n",
            "\n",
            "I am not a religious.\n",
            "\n",
            "I am an Artist, a philosopher, a scientist and an artist of all sorts.<|endoftext|>A man has died after\n"
          ],
          "name": "stdout"
        }
      ]
    },
    {
      "cell_type": "code",
      "metadata": {
        "id": "Y0NzW8ONueFh"
      },
      "source": [
        "results = []\n",
        "story = []"
      ],
      "execution_count": null,
      "outputs": []
    },
    {
      "cell_type": "code",
      "metadata": {
        "id": "2lztSzpn0x8W"
      },
      "source": [
        "prompts = ['A darkness rested about the town, something different; palpable and substantive though', 'The new feeling brought desnesitization, ultimately we believe this is where the downfall truly started',\n",
        "            'It was almost indescribable, ever-changing, illusory, yet so horrifying.']\n",
        "\n",
        "for i in prompts:\n",
        "  story.append(i)\n",
        "  output = generate(model, bpe, [i], length=500, top_k=3)\n",
        "  results.append(output[0])"
      ],
      "execution_count": null,
      "outputs": []
    },
    {
      "cell_type": "code",
      "metadata": {
        "id": "dlYO8tt7q989",
        "colab": {
          "base_uri": "https://localhost:8080/",
          "height": 35
        },
        "outputId": "6624a622-8ffd-4955-dcec-756c050978b5"
      },
      "source": [
        "len(results)"
      ],
      "execution_count": null,
      "outputs": [
        {
          "output_type": "execute_result",
          "data": {
            "text/plain": [
              "3"
            ]
          },
          "metadata": {
            "tags": []
          },
          "execution_count": 8
        }
      ]
    },
    {
      "cell_type": "code",
      "metadata": {
        "id": "hkdV1q5s1xuc",
        "colab": {
          "base_uri": "https://localhost:8080/",
          "height": 35
        },
        "outputId": "e7e095ae-c58c-4999-a5d0-0991a02b4755"
      },
      "source": [
        "len(results)"
      ],
      "execution_count": null,
      "outputs": [
        {
          "output_type": "execute_result",
          "data": {
            "text/plain": [
              "3"
            ]
          },
          "metadata": {
            "tags": []
          },
          "execution_count": 9
        }
      ]
    },
    {
      "cell_type": "code",
      "metadata": {
        "id": "5PnHlGPogwl-"
      },
      "source": [
        "for i in prompts:\n",
        "  story.append(i)"
      ],
      "execution_count": null,
      "outputs": []
    },
    {
      "cell_type": "code",
      "metadata": {
        "id": "5Jq8v2Sgg4yw",
        "colab": {
          "base_uri": "https://localhost:8080/",
          "height": 35
        },
        "outputId": "b2e66abc-a811-4a16-fdc9-9d3c6ca2d5e6"
      },
      "source": [
        "len(story)"
      ],
      "execution_count": null,
      "outputs": [
        {
          "output_type": "execute_result",
          "data": {
            "text/plain": [
              "6"
            ]
          },
          "metadata": {
            "tags": []
          },
          "execution_count": 11
        }
      ]
    },
    {
      "cell_type": "code",
      "metadata": {
        "id": "zd_iC2qpR_Bq",
        "colab": {
          "base_uri": "https://localhost:8080/",
          "height": 124
        },
        "outputId": "dc6abe35-ed02-458a-88db-8f1c7cc949df"
      },
      "source": [
        "results[0]"
      ],
      "execution_count": null,
      "outputs": [
        {
          "output_type": "execute_result",
          "data": {
            "application/vnd.google.colaboratory.intrinsic+json": {
              "type": "string"
            },
            "text/plain": [
              "'A darkness rested about the town, something different; palpable and substantive though not quite tangible to the senses. The air was heavy and thick, the ground damp. The trees, which seemed as though they could not be seen, seemed to move in a way that made the trees look like the branches of trees, the trees as though they were moving through a fog of some kind.\\n\"What\\'s going on here, anyway?\"\\nA voice came from behind him. He spun, and the figure was there. It was a woman.\\n\"You\\'re the man I\\'m looking for,\" the woman whispered. \"What are we doing?\"\\nThe figure looked at her with wide, dark, and curious eyes. \"I\\'ve come for you, my dear.\"\\nThe figure turned to leave the town and disappeared in a cloud.\\n\"You\\'ve come for me, haven\\'t I?\" the woman said. \"You\\'re my only hope. My last.\"\\nShe looked up, her eyes wide, as though she were about befuddled. \"I\\'m sorry, my lord. I\\'m sorry.\"\\nThe figure turned back, then. It looked like it was trying to figure out how to speak, but couldn\\'t quite do it.\\nThe figure turned back to the man and spoke again.\\nThe man looked at her, and the woman. \"You\\'ve brought me to the place where my mother died.\"\\nShe nodded. \"Yes.\" She turned and left, and the figure followed.\\n\"What\\'s going on here?\" he asked. He had to be careful not be heard by the man, because the woman had already disappeared into the mist and was gone. \"Where is she, and where is my mother, and where are the other children?\"\\nHe had no idea what he should ask the woman. She had never spoken, and he didn\\nt think he\\'d be able to ask her anything, not even a simple yes or no, but she might have a simple yes.\\nHe looked at the man, and then the woman, and finally the man again.\\nThe man had his back against his door. He was looking at him with wide, dark, and confused, and the man had a strange look on him, like something that had just been discovered. He had no idea what it was, or why it was happening, or how it could be.\\n\"What\\'s wrong, sir? Is there anything I can tell you?\" he asked, and the man turned to look at him,'"
            ]
          },
          "metadata": {
            "tags": []
          },
          "execution_count": 14
        }
      ]
    },
    {
      "cell_type": "code",
      "metadata": {
        "id": "8YdDLwnT6GNM"
      },
      "source": [
        "new_data = pd.DataFrame()"
      ],
      "execution_count": null,
      "outputs": []
    },
    {
      "cell_type": "code",
      "metadata": {
        "id": "RZq2qKYV6I1z"
      },
      "source": [
        "new_data['Text'] = results"
      ],
      "execution_count": null,
      "outputs": []
    },
    {
      "cell_type": "code",
      "metadata": {
        "id": "JBm06fcKSKgs",
        "colab": {
          "base_uri": "https://localhost:8080/",
          "height": 139
        },
        "outputId": "639b8159-bf5b-4fa6-dfe5-a5234101acb1"
      },
      "source": [
        "new_data"
      ],
      "execution_count": null,
      "outputs": [
        {
          "output_type": "execute_result",
          "data": {
            "text/html": [
              "<div>\n",
              "<style scoped>\n",
              "    .dataframe tbody tr th:only-of-type {\n",
              "        vertical-align: middle;\n",
              "    }\n",
              "\n",
              "    .dataframe tbody tr th {\n",
              "        vertical-align: top;\n",
              "    }\n",
              "\n",
              "    .dataframe thead th {\n",
              "        text-align: right;\n",
              "    }\n",
              "</style>\n",
              "<table border=\"1\" class=\"dataframe\">\n",
              "  <thead>\n",
              "    <tr style=\"text-align: right;\">\n",
              "      <th></th>\n",
              "      <th>Text</th>\n",
              "    </tr>\n",
              "  </thead>\n",
              "  <tbody>\n",
              "    <tr>\n",
              "      <th>0</th>\n",
              "      <td>A darkness rested about the town, something di...</td>\n",
              "    </tr>\n",
              "    <tr>\n",
              "      <th>1</th>\n",
              "      <td>The new feeling brought desnesitization, ultim...</td>\n",
              "    </tr>\n",
              "    <tr>\n",
              "      <th>2</th>\n",
              "      <td>It was almost indescribable, ever-changing, il...</td>\n",
              "    </tr>\n",
              "  </tbody>\n",
              "</table>\n",
              "</div>"
            ],
            "text/plain": [
              "                                                Text\n",
              "0  A darkness rested about the town, something di...\n",
              "1  The new feeling brought desnesitization, ultim...\n",
              "2  It was almost indescribable, ever-changing, il..."
            ]
          },
          "metadata": {
            "tags": []
          },
          "execution_count": 18
        }
      ]
    },
    {
      "cell_type": "code",
      "metadata": {
        "id": "f4WT0lNl6RN7"
      },
      "source": [
        "new_data.to_csv('Horror_Stories_108k.csv')"
      ],
      "execution_count": null,
      "outputs": []
    },
    {
      "cell_type": "code",
      "metadata": {
        "id": "Lit76KPehCdg"
      },
      "source": [
        "data100k = pd.read_csv('/content/drive/My Drive/Horror_Stories_108k.csv')"
      ],
      "execution_count": null,
      "outputs": []
    },
    {
      "cell_type": "code",
      "metadata": {
        "id": "8ceVsGtSo5Hg"
      },
      "source": [
        "with open('First_Horror_Stories.txt', 'w') as filehandle:\n",
        "    for i in new_data['Text'][0:3]:\n",
        "        filehandle.write('%s\\n' % i)"
      ],
      "execution_count": null,
      "outputs": []
    },
    {
      "cell_type": "code",
      "metadata": {
        "id": "n_QYzP0tvUkn",
        "colab": {
          "base_uri": "https://localhost:8080/",
          "height": 215
        },
        "outputId": "84c0d39d-dcd5-4327-9fd1-9c220461ca7d"
      },
      "source": [
        "!pip install language-tool-python"
      ],
      "execution_count": null,
      "outputs": [
        {
          "output_type": "stream",
          "text": [
            "Collecting language-tool-python\n",
            "  Downloading https://files.pythonhosted.org/packages/d2/4a/95ee8562f40bb8e72f6da43f888e3577711cb49cf62ffedff2b6316d25b5/language_tool_python-2.3.1-py3-none-any.whl\n",
            "Requirement already satisfied: tqdm in /usr/local/lib/python3.6/dist-packages (from language-tool-python) (4.41.1)\n",
            "Requirement already satisfied: requests in /usr/local/lib/python3.6/dist-packages (from language-tool-python) (2.23.0)\n",
            "Requirement already satisfied: urllib3!=1.25.0,!=1.25.1,<1.26,>=1.21.1 in /usr/local/lib/python3.6/dist-packages (from requests->language-tool-python) (1.24.3)\n",
            "Requirement already satisfied: chardet<4,>=3.0.2 in /usr/local/lib/python3.6/dist-packages (from requests->language-tool-python) (3.0.4)\n",
            "Requirement already satisfied: certifi>=2017.4.17 in /usr/local/lib/python3.6/dist-packages (from requests->language-tool-python) (2020.6.20)\n",
            "Requirement already satisfied: idna<3,>=2.5 in /usr/local/lib/python3.6/dist-packages (from requests->language-tool-python) (2.10)\n",
            "Installing collected packages: language-tool-python\n",
            "Successfully installed language-tool-python-2.3.1\n"
          ],
          "name": "stdout"
        }
      ]
    },
    {
      "cell_type": "code",
      "metadata": {
        "id": "mmLBFyidv59m",
        "colab": {
          "base_uri": "https://localhost:8080/",
          "height": 142
        },
        "outputId": "ad345f80-b7be-4acc-eb33-3f1f5c858d8d"
      },
      "source": [
        "new_data['Text'][0]"
      ],
      "execution_count": null,
      "outputs": [
        {
          "output_type": "execute_result",
          "data": {
            "application/vnd.google.colaboratory.intrinsic+json": {
              "type": "string"
            },
            "text/plain": [
              "'A darkness rested about the town, something different; palpable and substantive though not quite tangible to the senses. The air was heavy and thick, the ground damp. The trees, which seemed as though they could not be seen, seemed to move in a way that made the trees look like the branches of trees, the trees as though they were moving through a fog of some kind.\\n\"What\\'s going on here, anyway?\"\\nA voice came from behind him. He spun, and the figure was there. It was a woman.\\n\"You\\'re the man I\\'m looking for,\" the woman whispered. \"What are we doing?\"\\nThe figure looked at her with wide, dark, and curious eyes. \"I\\'ve come for you, my dear.\"\\nThe figure turned to leave the town and disappeared in a cloud.\\n\"You\\'ve come for me, haven\\'t I?\" the woman said. \"You\\'re my only hope. My last.\"\\nShe looked up, her eyes wide, as though she were about befuddled. \"I\\'m sorry, my lord. I\\'m sorry.\"\\nThe figure turned back, then. It looked like it was trying to figure out how to speak, but couldn\\'t quite do it.\\nThe figure turned back to the man and spoke again.\\nThe man looked at her, and the woman. \"You\\'ve brought me to the place where my mother died.\"\\nShe nodded. \"Yes.\" She turned and left, and the figure followed.\\n\"What\\'s going on here?\" he asked. He had to be careful not be heard by the man, because the woman had already disappeared into the mist and was gone. \"Where is she, and where is my mother, and where are the other children?\"\\nHe had no idea what he should ask the woman. She had never spoken, and he didn\\nt think he\\'d be able to ask her anything, not even a simple yes or no, but she might have a simple yes.\\nHe looked at the man, and then the woman, and finally the man again.\\nThe man had his back against his door. He was looking at him with wide, dark, and confused, and the man had a strange look on him, like something that had just been discovered. He had no idea what it was, or why it was happening, or how it could be.\\n\"What\\'s wrong, sir? Is there anything I can tell you?\" he asked, and the man turned to look at him,'"
            ]
          },
          "metadata": {
            "tags": []
          },
          "execution_count": 21
        }
      ]
    },
    {
      "cell_type": "code",
      "metadata": {
        "id": "4FPPkgQft050",
        "colab": {
          "base_uri": "https://localhost:8080/",
          "height": 88
        },
        "outputId": "0b4e4500-6d2c-4df1-a67e-05ed2d5b1054"
      },
      "source": [
        "import language_tool_python\n",
        "tool = language_tool_python.LanguageTool('en-US')"
      ],
      "execution_count": null,
      "outputs": [
        {
          "output_type": "stream",
          "text": [
            "Downloading LanguageTool: 100%|██████████| 217M/217M [00:02<00:00, 86.6MB/s]\n",
            "Unzipping /tmp/tmpfezhrm04.zip to /root/.cache/language_tool_python/.\n",
            "Downloaded https://www.languagetool.org/download/LanguageTool-4.9.zip to /root/.cache/language_tool_python/.\n"
          ],
          "name": "stderr"
        },
        {
          "output_type": "stream",
          "text": [
            "self._url: http://127.0.0.1:8081/v2/\n"
          ],
          "name": "stdout"
        }
      ]
    },
    {
      "cell_type": "code",
      "metadata": {
        "id": "OcBO0PUBvfL9",
        "colab": {
          "base_uri": "https://localhost:8080/",
          "height": 160
        },
        "outputId": "da57d775-ee6f-442d-ecfb-e9627feac82e"
      },
      "source": [
        "import language_tool_python\n",
        "tool = language_tool_python.LanguageTool('en-US')"
      ],
      "execution_count": null,
      "outputs": [
        {
          "output_type": "stream",
          "text": [
            "self._url: http://127.0.0.1:8083/v2/\n"
          ],
          "name": "stdout"
        },
        {
          "output_type": "execute_result",
          "data": {
            "application/vnd.google.colaboratory.intrinsic": {
              "type": "string"
            },
            "text/plain": [
              "\"The Darkest Day” and “The Last of the Mohawks.” The film was nominated for an Academy Award for best documentary, for Best Picture, for best director, and for Best Original Score, for the film “Black Hawk Rising.” It won the Audience Awards for Best Picture and Best Director. The film also received the Best Picture Award at Cannes.\\n“The Darkest Days” tells of a young man who, in the early 1960s, is forced to leave a remote Indian village and live on the streets in the United State, where the Indian government and police are corrupt. The man, named William “Billy” Johnson, has been accused of murder by his own father, who has also disappeared. He is forced by the police to work as a street swearer for the Indian government and is eventually hired by a local Indian tribe to help with the tribe's hunting and trapping. The man soon becomes a leader of the tribe and becomes the chief. He is also the first Indian ever hired to be a member in the United Nations.\\n“The Last Of\\nThe Mohawks”, directed by John Huston, is based upon the true events surrounding the Mohawks' raid on a British trading vessel off Cape Horn, North America. In this movie, the film follows Billy Johnson's journey as he becomes a hero in a war that is being played out between the United States and Britain over control of the Mohammedan people, a tribe in the American West. The film is a true story, and the Mohammedan are a peaceful and peaceful people who have been oppressed by British and Indian authorities for centuries. The film was directed by John Huston and is a classic film.\\nThe Last\\nof the Mohawk, starring Robert Red fang and John Hurt, was nominated for a Golden Globe for the film, and was nominated in a Best Original Score Oscar, for Best Original Score. It won for Best Picture. The movie won the Critics Award at Cannes. It won a Special Oscar at Sun dance.\\n“Black hawk\\nRiding\\nThe\\nBlack hawk”, directed and starring Robert De Nata, was nominated for a Golden Globes for Best Original Song, Best Director, and for the best picture. It received an Audience Award at the Sun dance Film Festival, and was nominated in the Critics Award. It was also nominated at the Golden Globe Awards. The film won the Critics Award for Best Director, and the Golden Globes for best original song, Best Picture. The Black hawk is the first film in which Renata has directed a film.\\nBlack Hawk\\nFighting\\nThe Last Of\\n the Mohammedan was nominated for a Golden Globe Award, and received an Audience Oscar. It received a Special Oscar in the Critics' Circle at Sun dance.\\n“The Last\\nof the\\nMountain\\nMen,” directed by Robert De Nator was nominated and received the Best Picture, Best Director Oscar and Best Screenplay Oscar for the movie, for Best Original Song, and Best Director for Robert Senator. The film was nominated at the Academy of Motion picture Arts and Sciences awards.\\nThe movie won the Critics Award at Cannes, the Critics' Choice Film Awards at Cannes Film Festivals and the Critics Circle Award. It was also nominated at Sun dance, at the Golden Globe dial and the Golden Globe die awards. It received an Audiences Award for the film, at Cannes Film Festival and at Sun dance Festival Film Festivals. The movie was a Golden Lion winner for the Best Film, at Sundae Festival, at the Golden Lion Awards. The movie won Best Director at the Golden Globes, and the Critics Award. The movie won Best Original Score, and the Critics Award for the movie.\\n“Black Hawk Rising” was nominated for a Golden Lion at the Golden Globe Awards, and won for Best Picture at the Golden Globes, and was nominated for the Critics Circle Awards at Sun dance. The documentary was also nominated in several Golden Globes, and won the Critics Circle Award at Cannes, at Sun dance, at Golden Globe Awards and in several Golden Globe Awards at Cannes. It won a Golden Lion for best original score and the Best Original Song at Sun dance Film Festivals and was a winner of the Critics' Award at Cannes Film Festival.\\nThe Last\\nof\\nThe\\nBlack Hawk.\\n\\nFighting was also nominated for the Best Original Screenplay, and the Golden Globe Award. It received the Best Picture, Best Director, and Best Screenplay at the Sun dance Film Festival, the Critics' Circle Award, and the Best Original Screenwriting Award.\\n\\n“Black Hawk Rising”, directed and written, was nominated for an Oscar for the film, for best picture and for the director for Best Original Screenplay and for the director and screenplay for “the Last of the Mountain Men”.\\n\\n“A Man for All Ages”, directed and directed, by David Fischer, was\""
            ]
          },
          "metadata": {
            "tags": []
          },
          "execution_count": 60
        }
      ]
    },
    {
      "cell_type": "code",
      "metadata": {
        "id": "7yskJ37byPL4"
      },
      "source": [
        "import time"
      ],
      "execution_count": null,
      "outputs": []
    },
    {
      "cell_type": "code",
      "metadata": {
        "id": "0mM9JrHfvr4c"
      },
      "source": [
        "horror_grammar = []\n",
        "\n",
        "for i in new_data['Text']:\n",
        "  matches = tool.check(i)\n",
        "  horror_grammar.append(tool.correct(i))"
      ],
      "execution_count": null,
      "outputs": []
    },
    {
      "cell_type": "code",
      "metadata": {
        "id": "XcDQBDPPw43B",
        "colab": {
          "base_uri": "https://localhost:8080/",
          "height": 90
        },
        "outputId": "c0a5dfa8-ef84-4cdb-a547-6b96aaae2cbe"
      },
      "source": [
        "horror_grammar"
      ],
      "execution_count": null,
      "outputs": [
        {
          "output_type": "execute_result",
          "data": {
            "text/plain": [
              "[\"A darkness rested about the town, something different; palpable and substantive though not quite tangible to the senses. The air was heavy and thick, the ground damp. The trees, which seemed as though they could not be seen, seemed to move in a way that made the trees look like the branches of trees, the trees as though they were moving through a fog of some kind.\\n“What's going on here, anyway?”\\nA voice came from behind him. He spun, and the figure was there. It was a woman.\\n“You're the man I'm looking for,” the woman whispered. “What are we doing?”\\nThe figure looked at her with wide, dark, and curious eyes. “I've come for you, my dear.”\\nThe figure turned to leave the town and disappeared in a cloud.\\n“You've come for me, haven't I?” the woman said. “You're my only hope. My last.”\\nShe looked up, her eyes wide, as though she were about befuddled. “I'm sorry, my lord. I'm sorry.”\\nThe figure turned back, then. It looked like it was trying to figure out how to speak, but couldn't quite do it.\\nThe figure turned back to the man and spoke again.\\nThe man looked at her, and the woman. “You've brought me to the place where my mother died.”\\nShe nodded. “Yes.” She turned and left, and the figure followed.\\n“What's going on here?” he asked. He had to be careful not be heard by the man, because the woman had already disappeared into the mist and was gone. “Where is she, and where is my mother, and where are the other children?”\\nHe had no idea what he should ask the woman. She had never spoken, and he didn't think he'd be able to ask her anything, not even a simple yes or no, but she might have a simple yes.\\nHe looked at the man, and then the woman, and finally the man again.\\nThe man had his back against his door. He was looking at him with wide, dark, and confused, and the man had a strange look on him, like something that had just been discovered. He had no idea what it was, or why it was happening, or how it could be.\\n“What's wrong, sir? Is there anything I can tell you?” he asked, and the man turned to look at him,\",\n",
              " \"The new feeling brought desensitization, ultimately we believe this is where the downfall truly started for our country.”\\nThe group said it is not a terrorist organization, but it does believe that “we have a right to self-defense.”<|endowment|>This week, I was asked by a friend if there were any books I could suggest for a first-timer who wanted to learn how to make their first beer, and I was a little hesitant to say no to such great books.\\n\\nBut after I thought a while, it occurred to my friend, “I could probably write a book about how I made my first beer, and then you'd have to buy me one of those.” So I did, and it's called The Beer Making Book.\\n.\\n“But it's a beer book!” you say. “I can't make beer!” I'm sorry.\\n\\nI can.\\n.\\nThe Beer Making Book was written by a man named John C. Reilly, a home brewer who was also a teacher. He was also the author of The Complete Book of Beer Making and The Beer Making Bible. He's the one who taught us how to brew beer. He also wrote a lot more than that, but that book's the best I can find.\\n\\nThe Beer Making Bible, which was written for beer-loving home brewing beginners, is a great resource for those who don, or don't want, a beer recipe. It also includes lots of great beer-related articles, including one that explains how the process for making beer is different from brewing beer, which you should definitely read.\\n The book is also full of lots more great advice on beer-related topics like brewing, brewing equipment, brewing recipes, and more. I highly recommend the book.\\n.\\n.\\n.\\n\\nThe book also contains some great tips for home brewing, and I've been brewing a few beers with my friends and family since the book was published and I've learned a few new things.\\n.\\n, which is a good resource to read for those interested. It's a good resource because the book has some really great advice. I've also used some tips in my brewing, and I'm really happy with my results.\\n The book has a lot of good advice, and I've been brewing a few beers since the first edition was written, but the book is a little pricey for what it contains. The second printing is a bit cheaper, but the book itself isn't, and I've found it to be.\",\n",
              " \"It was almost indescribable, ever-changing, illusory, yet so horrifying.\\nThe first thing that I saw, as I stood on the bridge of a ship, looking out at the ocean and at my surroundings, I was overwhelmed. It felt like I'd been in the middle of a war zone, and I felt as though the entire world around me had been turned on its side, as though the entire sky was filled with a thick mist, as though there was no air, no water.\\nThe second, more terrifying thing was that it was all around me. The ocean, I was told, was the most beautiful, the most peaceful place in the world, but I saw it all, from every angle. I could feel it all, from every direction, and it was so real, it was almost frightening. I could see everything.\\nAnd then, there was the sound of something crashing.\\nI looked around. There were two ships in the distance that looked to be in trouble; they were in trouble because of the ship that had crashed, and because of the ship I was standing on.\\n“It's a pirate vessel!” someone shouted.\\n“It's not a ship!”\\n“It's a pirate!”\\nThe ship that I was on, the pirate ship that had crashed in the ocean. The ship I had just seen. It had a crew of pirates on it, but it wasn't the kind that would be able or willing, or even interested in fighting back.\\nThe pirates were on it, and they were going to kill me if they got their hands onto my ship! I had to get out of this situation! I had to get out of this place.\\nI had to do something!\\nThe ship that I had just seen, was the same one as that that had just sunk in a storm, but this ship, this one, was different, and this one was different. It had a different crew and it was a different captain and a new captain was on board! It looked different. It had a different crew.\\nAnd it had a crew that was going out to kill me!\\nAnd I couldn't let them do this to the one that had saved me!\\nThe pirates were going to kill the captain! The captain had saved my ass from that pirate! The pirate that was on the other ship!\\nI was so scared. So afraid that if I didn't the ship that I was standing on, that I wouldn't survive!\\nI was going to be the next one.\"]"
            ]
          },
          "metadata": {
            "tags": []
          },
          "execution_count": 26
        }
      ]
    },
    {
      "cell_type": "code",
      "metadata": {
        "id": "s4reYjxYxVEt"
      },
      "source": [
        "horror_grammared = pd.DataFrame()\n",
        "horror_grammared['Text'] = horror_grammar"
      ],
      "execution_count": null,
      "outputs": []
    },
    {
      "cell_type": "code",
      "metadata": {
        "id": "OJxtxDnvzS2S"
      },
      "source": [
        "horror_grammared.to_csv('Horror_Story.csv')"
      ],
      "execution_count": null,
      "outputs": []
    },
    {
      "cell_type": "code",
      "metadata": {
        "id": "IxcfA6jXzUMa"
      },
      "source": [
        "!mkdir horror_story_csvs_1"
      ],
      "execution_count": null,
      "outputs": []
    },
    {
      "cell_type": "code",
      "metadata": {
        "id": "7tkqQGtr2Hle"
      },
      "source": [
        ""
      ],
      "execution_count": null,
      "outputs": []
    }
  ]
}