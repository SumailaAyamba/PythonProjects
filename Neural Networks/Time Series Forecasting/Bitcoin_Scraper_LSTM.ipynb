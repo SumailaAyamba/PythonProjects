{
  "nbformat": 4,
  "nbformat_minor": 0,
  "metadata": {
    "colab": {
      "name": "Historic_Crypto_Puller.ipynb",
      "provenance": [],
      "collapsed_sections": [],
      "toc_visible": true,
      "authorship_tag": "ABX9TyPOqrbSZVJvpnVkR+Ahv1Me",
      "include_colab_link": true
    },
    "kernelspec": {
      "name": "python3",
      "display_name": "Python 3"
    }
  },
  "cells": [
    {
      "cell_type": "markdown",
      "metadata": {
        "id": "view-in-github",
        "colab_type": "text"
      },
      "source": [
        "<a href=\"https://colab.research.google.com/github/jarodchristiansen/PythonProjects/blob/master/Historic_Crypto_Puller.ipynb\" target=\"_parent\"><img src=\"https://colab.research.google.com/assets/colab-badge.svg\" alt=\"Open In Colab\"/></a>"
      ]
    },
    {
      "cell_type": "code",
      "metadata": {
        "id": "Xi0f1EiIZhhC",
        "colab_type": "code",
        "colab": {
          "base_uri": "https://localhost:8080/",
          "height": 212
        },
        "outputId": "353e119c-7997-4b58-f19b-efd7c884ff42"
      },
      "source": [
        "!pip install requests\n",
        "!pip install pandas\n",
        "!pip install numpy"
      ],
      "execution_count": 1,
      "outputs": [
        {
          "output_type": "stream",
          "text": [
            "Requirement already satisfied: requests in /usr/local/lib/python3.6/dist-packages (2.23.0)\n",
            "Requirement already satisfied: idna<3,>=2.5 in /usr/local/lib/python3.6/dist-packages (from requests) (2.10)\n",
            "Requirement already satisfied: urllib3!=1.25.0,!=1.25.1,<1.26,>=1.21.1 in /usr/local/lib/python3.6/dist-packages (from requests) (1.24.3)\n",
            "Requirement already satisfied: certifi>=2017.4.17 in /usr/local/lib/python3.6/dist-packages (from requests) (2020.6.20)\n",
            "Requirement already satisfied: chardet<4,>=3.0.2 in /usr/local/lib/python3.6/dist-packages (from requests) (3.0.4)\n",
            "Requirement already satisfied: pandas in /usr/local/lib/python3.6/dist-packages (1.0.5)\n",
            "Requirement already satisfied: numpy>=1.13.3 in /usr/local/lib/python3.6/dist-packages (from pandas) (1.18.5)\n",
            "Requirement already satisfied: pytz>=2017.2 in /usr/local/lib/python3.6/dist-packages (from pandas) (2018.9)\n",
            "Requirement already satisfied: python-dateutil>=2.6.1 in /usr/local/lib/python3.6/dist-packages (from pandas) (2.8.1)\n",
            "Requirement already satisfied: six>=1.5 in /usr/local/lib/python3.6/dist-packages (from python-dateutil>=2.6.1->pandas) (1.15.0)\n",
            "Requirement already satisfied: numpy in /usr/local/lib/python3.6/dist-packages (1.18.5)\n"
          ],
          "name": "stdout"
        }
      ]
    },
    {
      "cell_type": "code",
      "metadata": {
        "id": "u38g3aquaDm5",
        "colab_type": "code",
        "colab": {
          "base_uri": "https://localhost:8080/",
          "height": 161
        },
        "outputId": "c1c39b6e-2904-4e76-a1bc-bc13fb28d376"
      },
      "source": [
        "import requests\n",
        "from prettytable import PrettyTable\n",
        "import numpy as np\n",
        "import matplotlib.pyplot as plt\n",
        "import statsmodels.api as sm\n",
        "import seaborn as sns\n",
        "sns.set()\n",
        "\n",
        "import pandas as pd\n",
        "import gspread\n",
        "from gspread_dataframe import get_as_dataframe, set_with_dataframe\n",
        "from google.colab import drive, files\n",
        "drive.mount('/content/drive')\n",
        "from google.colab import auth\n",
        "auth.authenticate_user()\n",
        "from oauth2client.client import GoogleCredentials\n",
        "gc = gspread.authorize(GoogleCredentials.get_application_default())"
      ],
      "execution_count": 2,
      "outputs": [
        {
          "output_type": "stream",
          "text": [
            "/usr/local/lib/python3.6/dist-packages/statsmodels/tools/_testing.py:19: FutureWarning: pandas.util.testing is deprecated. Use the functions in the public API at pandas.testing instead.\n",
            "  import pandas.util.testing as tm\n"
          ],
          "name": "stderr"
        },
        {
          "output_type": "stream",
          "text": [
            "Go to this URL in a browser: https://accounts.google.com/o/oauth2/auth?client_id=947318989803-6bn6qk8qdgf4n4g3pfee6491hc0brc4i.apps.googleusercontent.com&redirect_uri=urn%3aietf%3awg%3aoauth%3a2.0%3aoob&response_type=code&scope=email%20https%3a%2f%2fwww.googleapis.com%2fauth%2fdocs.test%20https%3a%2f%2fwww.googleapis.com%2fauth%2fdrive%20https%3a%2f%2fwww.googleapis.com%2fauth%2fdrive.photos.readonly%20https%3a%2f%2fwww.googleapis.com%2fauth%2fpeopleapi.readonly\n",
            "\n",
            "Enter your authorization code:\n",
            "··········\n",
            "Mounted at /content/drive\n"
          ],
          "name": "stdout"
        }
      ]
    },
    {
      "cell_type": "code",
      "metadata": {
        "id": "WWuOMttE6oLG",
        "colab_type": "code",
        "colab": {
          "base_uri": "https://localhost:8080/",
          "height": 1000
        },
        "outputId": "aa662bde-b7c5-453d-a80d-21020e885400"
      },
      "source": [
        "cycles = []\n",
        "urls = []\n",
        "from datetime import datetime  \n",
        "from datetime import timedelta  \n",
        "\n",
        "timer = datetime.date(datetime(year=2020, month=5, day=3)) \n",
        "\n",
        "for i in range(1):\n",
        " timer = timer + timedelta(days=1)\n",
        " #cycles.append(timer)\n",
        " print(timer)\n",
        " urls.append('https://rest.coinapi.io/v1/ohlcv/BTC/USD/history?period_id=1DAY&time_start={}T00:00:00'.format(timer))"
      ],
      "execution_count": null,
      "outputs": [
        {
          "output_type": "stream",
          "text": [
            "2020-05-04\n",
            "2020-05-05\n",
            "2020-05-06\n",
            "2020-05-07\n",
            "2020-05-08\n",
            "2020-05-09\n",
            "2020-05-10\n",
            "2020-05-11\n",
            "2020-05-12\n",
            "2020-05-13\n",
            "2020-05-14\n",
            "2020-05-15\n",
            "2020-05-16\n",
            "2020-05-17\n",
            "2020-05-18\n",
            "2020-05-19\n",
            "2020-05-20\n",
            "2020-05-21\n",
            "2020-05-22\n",
            "2020-05-23\n",
            "2020-05-24\n",
            "2020-05-25\n",
            "2020-05-26\n",
            "2020-05-27\n",
            "2020-05-28\n",
            "2020-05-29\n",
            "2020-05-30\n",
            "2020-05-31\n",
            "2020-06-01\n",
            "2020-06-02\n",
            "2020-06-03\n",
            "2020-06-04\n",
            "2020-06-05\n",
            "2020-06-06\n",
            "2020-06-07\n",
            "2020-06-08\n",
            "2020-06-09\n",
            "2020-06-10\n",
            "2020-06-11\n",
            "2020-06-12\n",
            "2020-06-13\n",
            "2020-06-14\n",
            "2020-06-15\n",
            "2020-06-16\n",
            "2020-06-17\n",
            "2020-06-18\n",
            "2020-06-19\n",
            "2020-06-20\n",
            "2020-06-21\n",
            "2020-06-22\n",
            "2020-06-23\n",
            "2020-06-24\n",
            "2020-06-25\n",
            "2020-06-26\n",
            "2020-06-27\n",
            "2020-06-28\n",
            "2020-06-29\n",
            "2020-06-30\n",
            "2020-07-01\n",
            "2020-07-02\n",
            "2020-07-03\n",
            "2020-07-04\n",
            "2020-07-05\n",
            "2020-07-06\n",
            "2020-07-07\n",
            "2020-07-08\n",
            "2020-07-09\n",
            "2020-07-10\n",
            "2020-07-11\n",
            "2020-07-12\n",
            "2020-07-13\n",
            "2020-07-14\n",
            "2020-07-15\n",
            "2020-07-16\n",
            "2020-07-17\n",
            "2020-07-18\n",
            "2020-07-19\n",
            "2020-07-20\n",
            "2020-07-21\n",
            "2020-07-22\n",
            "2020-07-23\n",
            "2020-07-24\n",
            "2020-07-25\n",
            "2020-07-26\n",
            "2020-07-27\n",
            "2020-07-28\n",
            "2020-07-29\n",
            "2020-07-30\n",
            "2020-07-31\n",
            "2020-08-01\n"
          ],
          "name": "stdout"
        }
      ]
    },
    {
      "cell_type": "code",
      "metadata": {
        "id": "0U30Bu2W9uux",
        "colab_type": "code",
        "colab": {
          "base_uri": "https://localhost:8080/",
          "height": 35
        },
        "outputId": "4fdc29d8-e674-4f44-b0d6-93dadb927cc6"
      },
      "source": [
        "cycles"
      ],
      "execution_count": null,
      "outputs": [
        {
          "output_type": "execute_result",
          "data": {
            "text/plain": [
              "[]"
            ]
          },
          "metadata": {
            "tags": []
          },
          "execution_count": 47
        }
      ]
    },
    {
      "cell_type": "code",
      "metadata": {
        "id": "L-a6YVnfCjTC",
        "colab_type": "code",
        "colab": {}
      },
      "source": [
        "urls"
      ],
      "execution_count": null,
      "outputs": []
    },
    {
      "cell_type": "code",
      "metadata": {
        "id": "2_BFzvLjxoFa",
        "colab_type": "code",
        "colab": {}
      },
      "source": [
        "apikey = ''\n",
        "datas = []\n",
        "headers = {\n",
        "    'X-CoinAPI-Key': apikey\n",
        "}\n",
        "for url in urls:\n",
        " response = requests.get(url, headers=headers).json()\n",
        " datas.append(response)"
      ],
      "execution_count": null,
      "outputs": []
    },
    {
      "cell_type": "code",
      "metadata": {
        "id": "UXwlxYrWE0ig",
        "colab_type": "code",
        "colab": {
          "base_uri": "https://localhost:8080/",
          "height": 372
        },
        "outputId": "53ac2d3c-e698-4ec6-9954-208c857bd8dc"
      },
      "source": [
        "datas[89]"
      ],
      "execution_count": null,
      "outputs": [
        {
          "output_type": "execute_result",
          "data": {
            "text/plain": [
              "[{'price_close': 11810.07,\n",
              "  'price_high': 11894.73,\n",
              "  'price_low': 11228.0,\n",
              "  'price_open': 11351.61,\n",
              "  'time_close': '2020-08-01T23:59:59.9607290Z',\n",
              "  'time_open': '2020-08-01T00:00:00.2127820Z',\n",
              "  'time_period_end': '2020-08-02T00:00:00.0000000Z',\n",
              "  'time_period_start': '2020-08-01T00:00:00.0000000Z',\n",
              "  'trades_count': 238735,\n",
              "  'volume_traded': 38179.618191884},\n",
              " {'price_close': 11173.92,\n",
              "  'price_high': 12134.29,\n",
              "  'price_low': 10546.15,\n",
              "  'price_open': 11810.07,\n",
              "  'time_close': '2020-08-02T22:30:11.3495050Z',\n",
              "  'time_open': '2020-08-02T00:00:00.1568830Z',\n",
              "  'time_period_end': '2020-08-03T00:00:00.0000000Z',\n",
              "  'time_period_start': '2020-08-02T00:00:00.0000000Z',\n",
              "  'trades_count': 252856,\n",
              "  'volume_traded': 51680.403142733}]"
            ]
          },
          "metadata": {
            "tags": []
          },
          "execution_count": 55
        }
      ]
    },
    {
      "cell_type": "code",
      "metadata": {
        "id": "uEmsByEUFAXm",
        "colab_type": "code",
        "colab": {}
      },
      "source": [
        "start_date = []\n",
        "price_open = []\n",
        "price_close = []\n",
        "price_high = []\n",
        "price_low = []\n",
        "trades_count = []\n",
        "volume_traded = []\n",
        "\n",
        "for request in datas:\n",
        "  for day in request:\n",
        "    for key, value in day.items():\n",
        "     if key == 'time_period_start':\n",
        "       start_date.append(value.split('T')[0])\n",
        "     elif key == 'price_open':\n",
        "       price_open.append(value)\n",
        "     elif key == 'price_close':\n",
        "       price_close.append(value)\n",
        "     elif key == 'price_high':\n",
        "       price_high.append(value)\n",
        "     elif key == 'price_low':\n",
        "       price_low.append(value)\n",
        "     elif key == 'trades_count':\n",
        "       trades_count.append(value)\n",
        "     if key == 'volume_traded':\n",
        "       volume_traded.append(value)          "
      ],
      "execution_count": null,
      "outputs": []
    },
    {
      "cell_type": "code",
      "metadata": {
        "id": "hqio5J_pG6SK",
        "colab_type": "code",
        "colab": {}
      },
      "source": [
        "data = pd.DataFrame()\n",
        "\n",
        "data['Date'] = start_date\n",
        "data['Open'] = price_open\n",
        "data['High'] = price_high\n",
        "data['Low'] = price_low\n",
        "data['Close'] = price_close\n",
        "data['Volume'] = volume_traded"
      ],
      "execution_count": null,
      "outputs": []
    },
    {
      "cell_type": "code",
      "metadata": {
        "id": "Ez4JOvW1HIVG",
        "colab_type": "code",
        "colab": {}
      },
      "source": [
        "data.set_index('Date', inplace=True)"
      ],
      "execution_count": null,
      "outputs": []
    },
    {
      "cell_type": "code",
      "metadata": {
        "id": "SUHcyAakM60u",
        "colab_type": "code",
        "colab": {
          "base_uri": "https://localhost:8080/",
          "height": 315
        },
        "outputId": "c59b9a74-09b0-413c-bad8-ee76c83afa60"
      },
      "source": [
        "data.drop(axis=1, columns='index', inplace=True)"
      ],
      "execution_count": null,
      "outputs": [
        {
          "output_type": "error",
          "ename": "KeyError",
          "evalue": "ignored",
          "traceback": [
            "\u001b[0;31m---------------------------------------------------------------------------\u001b[0m",
            "\u001b[0;31mKeyError\u001b[0m                                  Traceback (most recent call last)",
            "\u001b[0;32m<ipython-input-59-4b368f18dbd1>\u001b[0m in \u001b[0;36m<module>\u001b[0;34m()\u001b[0m\n\u001b[0;32m----> 1\u001b[0;31m \u001b[0mdata\u001b[0m\u001b[0;34m.\u001b[0m\u001b[0mdrop\u001b[0m\u001b[0;34m(\u001b[0m\u001b[0maxis\u001b[0m\u001b[0;34m=\u001b[0m\u001b[0;36m1\u001b[0m\u001b[0;34m,\u001b[0m \u001b[0mcolumns\u001b[0m\u001b[0;34m=\u001b[0m\u001b[0;34m'index'\u001b[0m\u001b[0;34m,\u001b[0m \u001b[0minplace\u001b[0m\u001b[0;34m=\u001b[0m\u001b[0;32mTrue\u001b[0m\u001b[0;34m)\u001b[0m\u001b[0;34m\u001b[0m\u001b[0;34m\u001b[0m\u001b[0m\n\u001b[0m",
            "\u001b[0;32m/usr/local/lib/python3.6/dist-packages/pandas/core/frame.py\u001b[0m in \u001b[0;36mdrop\u001b[0;34m(self, labels, axis, index, columns, level, inplace, errors)\u001b[0m\n\u001b[1;32m   3995\u001b[0m             \u001b[0mlevel\u001b[0m\u001b[0;34m=\u001b[0m\u001b[0mlevel\u001b[0m\u001b[0;34m,\u001b[0m\u001b[0;34m\u001b[0m\u001b[0;34m\u001b[0m\u001b[0m\n\u001b[1;32m   3996\u001b[0m             \u001b[0minplace\u001b[0m\u001b[0;34m=\u001b[0m\u001b[0minplace\u001b[0m\u001b[0;34m,\u001b[0m\u001b[0;34m\u001b[0m\u001b[0;34m\u001b[0m\u001b[0m\n\u001b[0;32m-> 3997\u001b[0;31m             \u001b[0merrors\u001b[0m\u001b[0;34m=\u001b[0m\u001b[0merrors\u001b[0m\u001b[0;34m,\u001b[0m\u001b[0;34m\u001b[0m\u001b[0;34m\u001b[0m\u001b[0m\n\u001b[0m\u001b[1;32m   3998\u001b[0m         )\n\u001b[1;32m   3999\u001b[0m \u001b[0;34m\u001b[0m\u001b[0m\n",
            "\u001b[0;32m/usr/local/lib/python3.6/dist-packages/pandas/core/generic.py\u001b[0m in \u001b[0;36mdrop\u001b[0;34m(self, labels, axis, index, columns, level, inplace, errors)\u001b[0m\n\u001b[1;32m   3934\u001b[0m         \u001b[0;32mfor\u001b[0m \u001b[0maxis\u001b[0m\u001b[0;34m,\u001b[0m \u001b[0mlabels\u001b[0m \u001b[0;32min\u001b[0m \u001b[0maxes\u001b[0m\u001b[0;34m.\u001b[0m\u001b[0mitems\u001b[0m\u001b[0;34m(\u001b[0m\u001b[0;34m)\u001b[0m\u001b[0;34m:\u001b[0m\u001b[0;34m\u001b[0m\u001b[0;34m\u001b[0m\u001b[0m\n\u001b[1;32m   3935\u001b[0m             \u001b[0;32mif\u001b[0m \u001b[0mlabels\u001b[0m \u001b[0;32mis\u001b[0m \u001b[0;32mnot\u001b[0m \u001b[0;32mNone\u001b[0m\u001b[0;34m:\u001b[0m\u001b[0;34m\u001b[0m\u001b[0;34m\u001b[0m\u001b[0m\n\u001b[0;32m-> 3936\u001b[0;31m                 \u001b[0mobj\u001b[0m \u001b[0;34m=\u001b[0m \u001b[0mobj\u001b[0m\u001b[0;34m.\u001b[0m\u001b[0m_drop_axis\u001b[0m\u001b[0;34m(\u001b[0m\u001b[0mlabels\u001b[0m\u001b[0;34m,\u001b[0m \u001b[0maxis\u001b[0m\u001b[0;34m,\u001b[0m \u001b[0mlevel\u001b[0m\u001b[0;34m=\u001b[0m\u001b[0mlevel\u001b[0m\u001b[0;34m,\u001b[0m \u001b[0merrors\u001b[0m\u001b[0;34m=\u001b[0m\u001b[0merrors\u001b[0m\u001b[0;34m)\u001b[0m\u001b[0;34m\u001b[0m\u001b[0;34m\u001b[0m\u001b[0m\n\u001b[0m\u001b[1;32m   3937\u001b[0m \u001b[0;34m\u001b[0m\u001b[0m\n\u001b[1;32m   3938\u001b[0m         \u001b[0;32mif\u001b[0m \u001b[0minplace\u001b[0m\u001b[0;34m:\u001b[0m\u001b[0;34m\u001b[0m\u001b[0;34m\u001b[0m\u001b[0m\n",
            "\u001b[0;32m/usr/local/lib/python3.6/dist-packages/pandas/core/generic.py\u001b[0m in \u001b[0;36m_drop_axis\u001b[0;34m(self, labels, axis, level, errors)\u001b[0m\n\u001b[1;32m   3968\u001b[0m                 \u001b[0mnew_axis\u001b[0m \u001b[0;34m=\u001b[0m \u001b[0maxis\u001b[0m\u001b[0;34m.\u001b[0m\u001b[0mdrop\u001b[0m\u001b[0;34m(\u001b[0m\u001b[0mlabels\u001b[0m\u001b[0;34m,\u001b[0m \u001b[0mlevel\u001b[0m\u001b[0;34m=\u001b[0m\u001b[0mlevel\u001b[0m\u001b[0;34m,\u001b[0m \u001b[0merrors\u001b[0m\u001b[0;34m=\u001b[0m\u001b[0merrors\u001b[0m\u001b[0;34m)\u001b[0m\u001b[0;34m\u001b[0m\u001b[0;34m\u001b[0m\u001b[0m\n\u001b[1;32m   3969\u001b[0m             \u001b[0;32melse\u001b[0m\u001b[0;34m:\u001b[0m\u001b[0;34m\u001b[0m\u001b[0;34m\u001b[0m\u001b[0m\n\u001b[0;32m-> 3970\u001b[0;31m                 \u001b[0mnew_axis\u001b[0m \u001b[0;34m=\u001b[0m \u001b[0maxis\u001b[0m\u001b[0;34m.\u001b[0m\u001b[0mdrop\u001b[0m\u001b[0;34m(\u001b[0m\u001b[0mlabels\u001b[0m\u001b[0;34m,\u001b[0m \u001b[0merrors\u001b[0m\u001b[0;34m=\u001b[0m\u001b[0merrors\u001b[0m\u001b[0;34m)\u001b[0m\u001b[0;34m\u001b[0m\u001b[0;34m\u001b[0m\u001b[0m\n\u001b[0m\u001b[1;32m   3971\u001b[0m             \u001b[0mresult\u001b[0m \u001b[0;34m=\u001b[0m \u001b[0mself\u001b[0m\u001b[0;34m.\u001b[0m\u001b[0mreindex\u001b[0m\u001b[0;34m(\u001b[0m\u001b[0;34m**\u001b[0m\u001b[0;34m{\u001b[0m\u001b[0maxis_name\u001b[0m\u001b[0;34m:\u001b[0m \u001b[0mnew_axis\u001b[0m\u001b[0;34m}\u001b[0m\u001b[0;34m)\u001b[0m\u001b[0;34m\u001b[0m\u001b[0;34m\u001b[0m\u001b[0m\n\u001b[1;32m   3972\u001b[0m \u001b[0;34m\u001b[0m\u001b[0m\n",
            "\u001b[0;32m/usr/local/lib/python3.6/dist-packages/pandas/core/indexes/base.py\u001b[0m in \u001b[0;36mdrop\u001b[0;34m(self, labels, errors)\u001b[0m\n\u001b[1;32m   5016\u001b[0m         \u001b[0;32mif\u001b[0m \u001b[0mmask\u001b[0m\u001b[0;34m.\u001b[0m\u001b[0many\u001b[0m\u001b[0;34m(\u001b[0m\u001b[0;34m)\u001b[0m\u001b[0;34m:\u001b[0m\u001b[0;34m\u001b[0m\u001b[0;34m\u001b[0m\u001b[0m\n\u001b[1;32m   5017\u001b[0m             \u001b[0;32mif\u001b[0m \u001b[0merrors\u001b[0m \u001b[0;34m!=\u001b[0m \u001b[0;34m\"ignore\"\u001b[0m\u001b[0;34m:\u001b[0m\u001b[0;34m\u001b[0m\u001b[0;34m\u001b[0m\u001b[0m\n\u001b[0;32m-> 5018\u001b[0;31m                 \u001b[0;32mraise\u001b[0m \u001b[0mKeyError\u001b[0m\u001b[0;34m(\u001b[0m\u001b[0;34mf\"{labels[mask]} not found in axis\"\u001b[0m\u001b[0;34m)\u001b[0m\u001b[0;34m\u001b[0m\u001b[0;34m\u001b[0m\u001b[0m\n\u001b[0m\u001b[1;32m   5019\u001b[0m             \u001b[0mindexer\u001b[0m \u001b[0;34m=\u001b[0m \u001b[0mindexer\u001b[0m\u001b[0;34m[\u001b[0m\u001b[0;34m~\u001b[0m\u001b[0mmask\u001b[0m\u001b[0;34m]\u001b[0m\u001b[0;34m\u001b[0m\u001b[0;34m\u001b[0m\u001b[0m\n\u001b[1;32m   5020\u001b[0m         \u001b[0;32mreturn\u001b[0m \u001b[0mself\u001b[0m\u001b[0;34m.\u001b[0m\u001b[0mdelete\u001b[0m\u001b[0;34m(\u001b[0m\u001b[0mindexer\u001b[0m\u001b[0;34m)\u001b[0m\u001b[0;34m\u001b[0m\u001b[0;34m\u001b[0m\u001b[0m\n",
            "\u001b[0;31mKeyError\u001b[0m: \"['index'] not found in axis\""
          ]
        }
      ]
    },
    {
      "cell_type": "code",
      "metadata": {
        "id": "yiBW-vc5LbgB",
        "colab_type": "code",
        "colab": {}
      },
      "source": [
        "data.to_csv('btc_data_end.csv')"
      ],
      "execution_count": null,
      "outputs": []
    },
    {
      "cell_type": "code",
      "metadata": {
        "id": "cGrXf13HdkEi",
        "colab_type": "code",
        "colab": {
          "base_uri": "https://localhost:8080/",
          "height": 173
        },
        "outputId": "e10d9738-64e4-4cc7-bf9a-fca1045a8545"
      },
      "source": [
        "!ls /content/drive/My\\ Drive/Colab\\ Notebooks/Linear\\ Regression\\ SKlearn/Real\\ Examples/Webscraper/\n",
        "#data.to_csv('drive/My Drive/Colab Notebooks/Linear Regression SKlearn/Real Examples/Webscraper/BacklinkCheck.csv')\n",
        "from openpyxl import *\n",
        "\n",
        "import time\n",
        "timer = time.strftime('%c')\n",
        "\n",
        "#file.save('Crypto Data {}.csv'.format(timer))\n",
        "data.to_csv('drive/My Drive/Colab Notebooks/Cryptos/Crypto Data/Bitcoin_Historic {}.csv'.format(timer))"
      ],
      "execution_count": null,
      "outputs": [
        {
          "output_type": "stream",
          "text": [
            "'BacklinkCheckFri 02:22:11.csv'     'CoinbaseScrapeSun 01:19:29.csv'\n",
            "'BacklinkCheckFri 02:22:11.gsheet'  'CoinbaseScrapeSun 01:23:13.gsheet'\n",
            "'BacklinkCheckFri 02:26:36.csv'      FirstCrypto.csv\n",
            " BacklinkCheck.gsheet\t\t     FirstCrypto.gsheet\n",
            "'BacklinkCheckThu 23:08:35.csv'      UrlSamples.gsheet\n",
            "'BacklinkCheckThu 23:11:08.csv'      Webscraper2.21.2020.ipynb\n",
            "'BacklinkCheckThu 23:14:58.csv'      Webscraper_V0.2.ipynb\n",
            "'BacklinkCheckThu 23:25:13.csv'      Webscraper_V0.4.ipynb\n",
            " BacklinkScraperV0.1.ipynb\n"
          ],
          "name": "stdout"
        }
      ]
    },
    {
      "cell_type": "markdown",
      "metadata": {
        "id": "Mzn-Lk4CJNj0",
        "colab_type": "text"
      },
      "source": [
        "#If data is already pre-compiled\n"
      ]
    },
    {
      "cell_type": "code",
      "metadata": {
        "id": "PrDNG5nuXbny",
        "colab_type": "code",
        "colab": {}
      },
      "source": [
        "btc_data = pd.read_csv('Bitcoin_Full_08-02.csv')"
      ],
      "execution_count": 6,
      "outputs": []
    },
    {
      "cell_type": "code",
      "metadata": {
        "id": "I4pd6XwBH5X-",
        "colab_type": "code",
        "colab": {}
      },
      "source": [
        "xlm_data = pd.read_csv('Stellar Lumens XLM - Sheet1.csv')"
      ],
      "execution_count": 38,
      "outputs": []
    },
    {
      "cell_type": "markdown",
      "metadata": {
        "id": "3dIK2p9jIpeF",
        "colab_type": "text"
      },
      "source": [
        "#BTC Chart, skip these sections corresponding to each crypto\n"
      ]
    },
    {
      "cell_type": "code",
      "metadata": {
        "id": "sZecedt3G79H",
        "colab_type": "code",
        "colab": {
          "base_uri": "https://localhost:8080/",
          "height": 624
        },
        "outputId": "d146a413-a18e-4c68-fb6a-55d467fc067b"
      },
      "source": [
        "price = btc_data[['Close']]\n",
        "\n",
        "plt.figure(figsize = (18,9))\n",
        "plt.plot(price)\n",
        "plt.xticks(range(0, btc_data.shape[0],55), btc_data['Date'].loc[::55],rotation=45)\n",
        "plt.title(\"Bitcoin Price\",fontsize=18, fontweight='bold')\n",
        "plt.xlabel('Date',fontsize=18)\n",
        "plt.ylabel('Close Price (USD)',fontsize=18)\n",
        "plt.show()"
      ],
      "execution_count": 48,
      "outputs": [
        {
          "output_type": "display_data",
          "data": {
            "image/png": "[encoded data removed]",
            "text/plain": [
              "<Figure size 1296x648 with 1 Axes>"
            ]
          },
          "metadata": {
            "tags": []
          }
        }
      ]
    },
    {
      "cell_type": "markdown",
      "metadata": {
        "id": "AVhF0Kx2JvTx",
        "colab_type": "text"
      },
      "source": [
        "#XLM"
      ]
    },
    {
      "cell_type": "code",
      "metadata": {
        "id": "SYL1ndVNIzGz",
        "colab_type": "code",
        "colab": {}
      },
      "source": [
        "price = xlm_data[['Close']]\n",
        "\n",
        "plt.figure(figsize = (18,9))\n",
        "plt.plot(price)\n",
        "plt.xticks(range(0, xlm_data.shape[0],55), xlm_data['Date'].loc[::55],rotation=45)\n",
        "plt.title(\"XLM Price\",fontsize=18, fontweight='bold')\n",
        "plt.xlabel('Date',fontsize=18)\n",
        "plt.ylabel('Close Price (USD)',fontsize=18)\n",
        "plt.show()"
      ],
      "execution_count": null,
      "outputs": []
    },
    {
      "cell_type": "code",
      "metadata": {
        "id": "HD0Vg2w7K2ch",
        "colab_type": "code",
        "colab": {
          "base_uri": "https://localhost:8080/",
          "height": 159
        },
        "outputId": "d35c76c7-1e5c-44af-d40d-db700820b219"
      },
      "source": [
        "price.info()"
      ],
      "execution_count": 49,
      "outputs": [
        {
          "output_type": "stream",
          "text": [
            "<class 'pandas.core.frame.DataFrame'>\n",
            "RangeIndex: 2642 entries, 0 to 2641\n",
            "Data columns (total 1 columns):\n",
            " #   Column  Non-Null Count  Dtype  \n",
            "---  ------  --------------  -----  \n",
            " 0   Close   2642 non-null   float64\n",
            "dtypes: float64(1)\n",
            "memory usage: 20.8 KB\n"
          ],
          "name": "stdout"
        }
      ]
    },
    {
      "cell_type": "code",
      "metadata": {
        "id": "qNdZh9u14fNz",
        "colab_type": "code",
        "colab": {}
      },
      "source": [
        "recent_price = pd.DataFrame(btc_data['Close'][-11::])"
      ],
      "execution_count": 9,
      "outputs": []
    },
    {
      "cell_type": "code",
      "metadata": {
        "id": "iG5SftW97W_G",
        "colab_type": "code",
        "colab": {}
      },
      "source": [
        "recent_price"
      ],
      "execution_count": null,
      "outputs": []
    },
    {
      "cell_type": "code",
      "metadata": {
        "id": "N8JmBPsQ8EyM",
        "colab_type": "code",
        "colab": {
          "base_uri": "https://localhost:8080/",
          "height": 35
        },
        "outputId": "5dec712e-7761-4d36-ad1e-fc54c8b4b4b2"
      },
      "source": [
        "type(price)"
      ],
      "execution_count": null,
      "outputs": [
        {
          "output_type": "execute_result",
          "data": {
            "text/plain": [
              "pandas.core.frame.DataFrame"
            ]
          },
          "metadata": {
            "tags": []
          },
          "execution_count": 156
        }
      ]
    },
    {
      "cell_type": "code",
      "metadata": {
        "id": "IUaafCM70_86",
        "colab_type": "code",
        "colab": {}
      },
      "source": [
        "del model"
      ],
      "execution_count": 25,
      "outputs": []
    },
    {
      "cell_type": "code",
      "metadata": {
        "id": "mnBJw1E1M3Dc",
        "colab_type": "code",
        "colab": {}
      },
      "source": [
        "from sklearn.preprocessing import MinMaxScaler\n",
        "min_max_scaler = MinMaxScaler()\n",
        "\n",
        "norm_data = min_max_scaler.fit_transform(price.values)\n",
        "norm_preds = min_max_scaler.fit_transform(recent_price.values)"
      ],
      "execution_count": 50,
      "outputs": []
    },
    {
      "cell_type": "code",
      "metadata": {
        "id": "m4bGE07NM-Pk",
        "colab_type": "code",
        "colab": {}
      },
      "source": [
        "def univariate_data(dataset, start_index, end_index, history_size, target_size):\n",
        "  data = []\n",
        "  labels = []\n",
        "\n",
        "  start_index = start_index + history_size\n",
        "  if end_index is None:\n",
        "    end_index = len(dataset) - target_size\n",
        "\n",
        "  for i in range(start_index, end_index):\n",
        "    indices = range(i-history_size, i)\n",
        "    # Reshape data from (history_size,) to (history_size, 1)\n",
        "    data.append(np.reshape(dataset[indices], (history_size, 1)))\n",
        "    labels.append(dataset[i+target_size])\n",
        "  return np.array(data), np.array(labels)"
      ],
      "execution_count": 51,
      "outputs": []
    },
    {
      "cell_type": "code",
      "metadata": {
        "id": "KxRVU9j_NUiQ",
        "colab_type": "code",
        "colab": {}
      },
      "source": [
        "past_history = 5\n",
        "future_target = 2\n",
        "\n",
        "TRAIN_SPLIT = int(len(norm_data) * 0.8)\n",
        "\n",
        "\n",
        "\n",
        "x_train, y_train = univariate_data(norm_data,\n",
        "                                   0,\n",
        "                                   TRAIN_SPLIT,\n",
        "                                   past_history,\n",
        "                                   future_target)\n",
        "\n",
        "x_test, y_test = univariate_data(norm_data,\n",
        "                                 TRAIN_SPLIT,\n",
        "                                 None,\n",
        "                                 past_history,\n",
        "                                 future_target)\n",
        "\n",
        "pred_test, y_pred = univariate_data(norm_preds, 0, None, past_history, future_target)"
      ],
      "execution_count": 52,
      "outputs": []
    },
    {
      "cell_type": "code",
      "metadata": {
        "id": "_a2r393NziWf",
        "colab_type": "code",
        "colab": {
          "base_uri": "https://localhost:8080/",
          "height": 675
        },
        "outputId": "fd733fc6-8216-4fe7-8c78-34508264db80"
      },
      "source": [
        "x_test"
      ],
      "execution_count": 14,
      "outputs": [
        {
          "output_type": "execute_result",
          "data": {
            "text/plain": [
              "array([[[0.18298963],\n",
              "        [0.18428254],\n",
              "        [0.18127209],\n",
              "        [0.18115371],\n",
              "        [0.18056799]],\n",
              "\n",
              "       [[0.18428254],\n",
              "        [0.18127209],\n",
              "        [0.18115371],\n",
              "        [0.18056799],\n",
              "        [0.17978668]],\n",
              "\n",
              "       [[0.18127209],\n",
              "        [0.18115371],\n",
              "        [0.18056799],\n",
              "        [0.17978668],\n",
              "        [0.18004866]],\n",
              "\n",
              "       ...,\n",
              "\n",
              "       [[0.48807425],\n",
              "        [0.49631555],\n",
              "        [0.50813656],\n",
              "        [0.56516017],\n",
              "        [0.55924581]],\n",
              "\n",
              "       [[0.49631555],\n",
              "        [0.50813656],\n",
              "        [0.56516017],\n",
              "        [0.55924581],\n",
              "        [0.56831062]],\n",
              "\n",
              "       [[0.50813656],\n",
              "        [0.56516017],\n",
              "        [0.55924581],\n",
              "        [0.56831062],\n",
              "        [0.56861069]]])"
            ]
          },
          "metadata": {
            "tags": []
          },
          "execution_count": 14
        }
      ]
    },
    {
      "cell_type": "code",
      "metadata": {
        "id": "DjXQdrE18tEM",
        "colab_type": "code",
        "colab": {
          "base_uri": "https://localhost:8080/",
          "height": 426
        },
        "outputId": "22ffdd07-353c-4422-e244-d02586b898a2"
      },
      "source": [
        "pred_test"
      ],
      "execution_count": 15,
      "outputs": [
        {
          "output_type": "execute_result",
          "data": {
            "text/plain": [
              "array([[[0.02746075],\n",
              "        [0.        ],\n",
              "        [0.07088531],\n",
              "        [0.1725605 ],\n",
              "        [0.66303357]],\n",
              "\n",
              "       [[0.        ],\n",
              "        [0.07088531],\n",
              "        [0.1725605 ],\n",
              "        [0.66303357],\n",
              "        [0.61216277]],\n",
              "\n",
              "       [[0.07088531],\n",
              "        [0.1725605 ],\n",
              "        [0.66303357],\n",
              "        [0.61216277],\n",
              "        [0.69013131]],\n",
              "\n",
              "       [[0.1725605 ],\n",
              "        [0.66303357],\n",
              "        [0.61216277],\n",
              "        [0.69013131],\n",
              "        [0.69271225]]])"
            ]
          },
          "metadata": {
            "tags": []
          },
          "execution_count": 15
        }
      ]
    },
    {
      "cell_type": "code",
      "metadata": {
        "id": "mVqTIDxxNie4",
        "colab_type": "code",
        "colab": {}
      },
      "source": [
        "from keras.models import Sequential\n",
        "from keras.optimizers import Adam\n",
        "from keras.layers import Dense, LSTM, LeakyReLU, Dropout\n",
        "\n",
        "num_units = 80\n",
        "learning_rate = 0.0001\n",
        "activation_function = 'sigmoid'\n",
        "adam = Adam(lr=learning_rate)\n",
        "loss_function = 'mse'\n",
        "batch_size = 5\n",
        "num_epochs = 125\n",
        "\n",
        "# Initialize the RNN\n",
        "model = Sequential()\n",
        "model.add(LSTM(units = num_units, activation=activation_function, input_shape=(None, 1)))\n",
        "model.add(LeakyReLU(alpha=0.5))\n",
        "model.add(Dropout(0.15))\n",
        "model.add(Dense(units = 1))\n",
        "\n",
        "# Compiling the RNN\n",
        "model.compile(optimizer=adam, loss=loss_function)"
      ],
      "execution_count": 29,
      "outputs": []
    },
    {
      "cell_type": "code",
      "metadata": {
        "id": "kNSYKG8KNmB_",
        "colab_type": "code",
        "colab": {
          "base_uri": "https://localhost:8080/",
          "height": 301
        },
        "outputId": "7dde34b8-7250-450c-b923-4c56c9a8e1f0"
      },
      "source": [
        "model.summary()"
      ],
      "execution_count": 30,
      "outputs": [
        {
          "output_type": "stream",
          "text": [
            "Model: \"sequential_6\"\n",
            "_________________________________________________________________\n",
            "Layer (type)                 Output Shape              Param #   \n",
            "=================================================================\n",
            "lstm_11 (LSTM)               (None, 80)                26240     \n",
            "_________________________________________________________________\n",
            "leaky_re_lu_1 (LeakyReLU)    (None, 80)                0         \n",
            "_________________________________________________________________\n",
            "dropout_1 (Dropout)          (None, 80)                0         \n",
            "_________________________________________________________________\n",
            "dense_1 (Dense)              (None, 1)                 81        \n",
            "=================================================================\n",
            "Total params: 26,321\n",
            "Trainable params: 26,321\n",
            "Non-trainable params: 0\n",
            "_________________________________________________________________\n"
          ],
          "name": "stdout"
        }
      ]
    },
    {
      "cell_type": "code",
      "metadata": {
        "id": "bNnCu_c9NsNJ",
        "colab_type": "code",
        "colab": {
          "base_uri": "https://localhost:8080/",
          "height": 1000
        },
        "outputId": "853838e1-e930-4306-c3ba-57627656dcef"
      },
      "source": [
        "history = model.fit(\n",
        "    x_train,\n",
        "    y_train,\n",
        "    validation_split=0.1,\n",
        "    batch_size=batch_size,\n",
        "    epochs=num_epochs,\n",
        "    shuffle=False\n",
        ")\n",
        "\n",
        "loss = history.history['loss']\n",
        "val_loss = history.history['val_loss']\n",
        "\n",
        "epochs = range(len(loss))\n",
        "\n",
        "plt.figure()\n",
        "\n",
        "plt.plot(epochs, loss, 'b', label='Training loss')\n",
        "plt.plot(epochs, val_loss, 'r', label='Validation loss')\n",
        "plt.title(\"Training and Validation Loss\")\n",
        "plt.legend()\n",
        "\n",
        "plt.show()"
      ],
      "execution_count": 31,
      "outputs": [
        {
          "output_type": "stream",
          "text": [
            "Epoch 1/125\n",
            "380/380 [==============================] - 2s 4ms/step - loss: 0.0439 - val_loss: 0.0239\n",
            "Epoch 2/125\n",
            "380/380 [==============================] - 1s 3ms/step - loss: 0.0434 - val_loss: 0.0322\n",
            "Epoch 3/125\n",
            "380/380 [==============================] - 1s 3ms/step - loss: 0.0428 - val_loss: 0.0431\n",
            "Epoch 4/125\n",
            "380/380 [==============================] - 1s 4ms/step - loss: 0.0431 - val_loss: 0.0354\n",
            "Epoch 5/125\n",
            "380/380 [==============================] - 1s 4ms/step - loss: 0.0384 - val_loss: 0.0397\n",
            "Epoch 6/125\n",
            "380/380 [==============================] - 1s 3ms/step - loss: 0.0366 - val_loss: 0.0336\n",
            "Epoch 7/125\n",
            "380/380 [==============================] - 1s 3ms/step - loss: 0.0335 - val_loss: 0.0326\n",
            "Epoch 8/125\n",
            "380/380 [==============================] - 1s 4ms/step - loss: 0.0311 - val_loss: 0.0315\n",
            "Epoch 9/125\n",
            "380/380 [==============================] - 1s 4ms/step - loss: 0.0316 - val_loss: 0.0325\n",
            "Epoch 10/125\n",
            "380/380 [==============================] - 1s 4ms/step - loss: 0.0292 - val_loss: 0.0299\n",
            "Epoch 11/125\n",
            "380/380 [==============================] - 2s 4ms/step - loss: 0.0285 - val_loss: 0.0288\n",
            "Epoch 12/125\n",
            "380/380 [==============================] - 1s 3ms/step - loss: 0.0283 - val_loss: 0.0326\n",
            "Epoch 13/125\n",
            "380/380 [==============================] - 1s 3ms/step - loss: 0.0292 - val_loss: 0.0274\n",
            "Epoch 14/125\n",
            "380/380 [==============================] - 1s 4ms/step - loss: 0.0262 - val_loss: 0.0254\n",
            "Epoch 15/125\n",
            "380/380 [==============================] - 1s 4ms/step - loss: 0.0244 - val_loss: 0.0250\n",
            "Epoch 16/125\n",
            "380/380 [==============================] - 1s 3ms/step - loss: 0.0246 - val_loss: 0.0235\n",
            "Epoch 17/125\n",
            "380/380 [==============================] - 1s 3ms/step - loss: 0.0234 - val_loss: 0.0267\n",
            "Epoch 18/125\n",
            "380/380 [==============================] - 1s 3ms/step - loss: 0.0237 - val_loss: 0.0238\n",
            "Epoch 19/125\n",
            "380/380 [==============================] - 1s 4ms/step - loss: 0.0229 - val_loss: 0.0219\n",
            "Epoch 20/125\n",
            "380/380 [==============================] - 1s 4ms/step - loss: 0.0229 - val_loss: 0.0232\n",
            "Epoch 21/125\n",
            "380/380 [==============================] - 2s 4ms/step - loss: 0.0217 - val_loss: 0.0248\n",
            "Epoch 22/125\n",
            "380/380 [==============================] - 1s 4ms/step - loss: 0.0212 - val_loss: 0.0241\n",
            "Epoch 23/125\n",
            "380/380 [==============================] - 1s 4ms/step - loss: 0.0212 - val_loss: 0.0231\n",
            "Epoch 24/125\n",
            "380/380 [==============================] - 1s 4ms/step - loss: 0.0200 - val_loss: 0.0227\n",
            "Epoch 25/125\n",
            "380/380 [==============================] - 1s 4ms/step - loss: 0.0201 - val_loss: 0.0203\n",
            "Epoch 26/125\n",
            "380/380 [==============================] - 1s 4ms/step - loss: 0.0197 - val_loss: 0.0206\n",
            "Epoch 27/125\n",
            "380/380 [==============================] - 1s 4ms/step - loss: 0.0191 - val_loss: 0.0213\n",
            "Epoch 28/125\n",
            "380/380 [==============================] - 1s 4ms/step - loss: 0.0184 - val_loss: 0.0187\n",
            "Epoch 29/125\n",
            "380/380 [==============================] - 1s 3ms/step - loss: 0.0177 - val_loss: 0.0193\n",
            "Epoch 30/125\n",
            "380/380 [==============================] - 1s 3ms/step - loss: 0.0190 - val_loss: 0.0199\n",
            "Epoch 31/125\n",
            "380/380 [==============================] - 1s 3ms/step - loss: 0.0170 - val_loss: 0.0171\n",
            "Epoch 32/125\n",
            "380/380 [==============================] - 1s 3ms/step - loss: 0.0167 - val_loss: 0.0189\n",
            "Epoch 33/125\n",
            "380/380 [==============================] - 1s 3ms/step - loss: 0.0163 - val_loss: 0.0172\n",
            "Epoch 34/125\n",
            "380/380 [==============================] - 1s 3ms/step - loss: 0.0160 - val_loss: 0.0170\n",
            "Epoch 35/125\n",
            "380/380 [==============================] - 1s 3ms/step - loss: 0.0153 - val_loss: 0.0175\n",
            "Epoch 36/125\n",
            "380/380 [==============================] - 1s 3ms/step - loss: 0.0156 - val_loss: 0.0173\n",
            "Epoch 37/125\n",
            "380/380 [==============================] - 1s 3ms/step - loss: 0.0151 - val_loss: 0.0167\n",
            "Epoch 38/125\n",
            "380/380 [==============================] - 1s 4ms/step - loss: 0.0142 - val_loss: 0.0177\n",
            "Epoch 39/125\n",
            "380/380 [==============================] - 1s 3ms/step - loss: 0.0147 - val_loss: 0.0177\n",
            "Epoch 40/125\n",
            "380/380 [==============================] - 1s 4ms/step - loss: 0.0141 - val_loss: 0.0170\n",
            "Epoch 41/125\n",
            "380/380 [==============================] - 1s 3ms/step - loss: 0.0141 - val_loss: 0.0169\n",
            "Epoch 42/125\n",
            "380/380 [==============================] - 1s 3ms/step - loss: 0.0137 - val_loss: 0.0170\n",
            "Epoch 43/125\n",
            "380/380 [==============================] - 1s 4ms/step - loss: 0.0133 - val_loss: 0.0159\n",
            "Epoch 44/125\n",
            "380/380 [==============================] - 1s 4ms/step - loss: 0.0129 - val_loss: 0.0172\n",
            "Epoch 45/125\n",
            "380/380 [==============================] - 1s 3ms/step - loss: 0.0120 - val_loss: 0.0142\n",
            "Epoch 46/125\n",
            "380/380 [==============================] - 1s 3ms/step - loss: 0.0116 - val_loss: 0.0153\n",
            "Epoch 47/125\n",
            "380/380 [==============================] - 1s 3ms/step - loss: 0.0115 - val_loss: 0.0156\n",
            "Epoch 48/125\n",
            "380/380 [==============================] - 1s 3ms/step - loss: 0.0117 - val_loss: 0.0148\n",
            "Epoch 49/125\n",
            "380/380 [==============================] - 1s 3ms/step - loss: 0.0109 - val_loss: 0.0119\n",
            "Epoch 50/125\n",
            "380/380 [==============================] - 1s 3ms/step - loss: 0.0104 - val_loss: 0.0144\n",
            "Epoch 51/125\n",
            "380/380 [==============================] - 1s 4ms/step - loss: 0.0100 - val_loss: 0.0126\n",
            "Epoch 52/125\n",
            "380/380 [==============================] - 1s 4ms/step - loss: 0.0094 - val_loss: 0.0122\n",
            "Epoch 53/125\n",
            "380/380 [==============================] - 1s 4ms/step - loss: 0.0091 - val_loss: 0.0134\n",
            "Epoch 54/125\n",
            "380/380 [==============================] - 1s 4ms/step - loss: 0.0088 - val_loss: 0.0111\n",
            "Epoch 55/125\n",
            "380/380 [==============================] - 1s 4ms/step - loss: 0.0084 - val_loss: 0.0106\n",
            "Epoch 56/125\n",
            "380/380 [==============================] - 1s 3ms/step - loss: 0.0085 - val_loss: 0.0111\n",
            "Epoch 57/125\n",
            "380/380 [==============================] - 1s 4ms/step - loss: 0.0079 - val_loss: 0.0099\n",
            "Epoch 58/125\n",
            "380/380 [==============================] - 1s 4ms/step - loss: 0.0077 - val_loss: 0.0108\n",
            "Epoch 59/125\n",
            "380/380 [==============================] - 1s 4ms/step - loss: 0.0075 - val_loss: 0.0088\n",
            "Epoch 60/125\n",
            "380/380 [==============================] - 1s 4ms/step - loss: 0.0072 - val_loss: 0.0090\n",
            "Epoch 61/125\n",
            "380/380 [==============================] - 1s 3ms/step - loss: 0.0072 - val_loss: 0.0098\n",
            "Epoch 62/125\n",
            "380/380 [==============================] - 1s 3ms/step - loss: 0.0068 - val_loss: 0.0081\n",
            "Epoch 63/125\n",
            "380/380 [==============================] - 1s 3ms/step - loss: 0.0064 - val_loss: 0.0077\n",
            "Epoch 64/125\n",
            "380/380 [==============================] - 1s 4ms/step - loss: 0.0062 - val_loss: 0.0083\n",
            "Epoch 65/125\n",
            "380/380 [==============================] - 1s 4ms/step - loss: 0.0062 - val_loss: 0.0067\n",
            "Epoch 66/125\n",
            "380/380 [==============================] - 1s 3ms/step - loss: 0.0058 - val_loss: 0.0057\n",
            "Epoch 67/125\n",
            "380/380 [==============================] - 1s 3ms/step - loss: 0.0056 - val_loss: 0.0050\n",
            "Epoch 68/125\n",
            "380/380 [==============================] - 1s 3ms/step - loss: 0.0051 - val_loss: 0.0058\n",
            "Epoch 69/125\n",
            "380/380 [==============================] - 1s 4ms/step - loss: 0.0052 - val_loss: 0.0055\n",
            "Epoch 70/125\n",
            "380/380 [==============================] - 1s 4ms/step - loss: 0.0050 - val_loss: 0.0048\n",
            "Epoch 71/125\n",
            "380/380 [==============================] - 1s 4ms/step - loss: 0.0051 - val_loss: 0.0047\n",
            "Epoch 72/125\n",
            "380/380 [==============================] - 1s 3ms/step - loss: 0.0048 - val_loss: 0.0047\n",
            "Epoch 73/125\n",
            "380/380 [==============================] - 1s 4ms/step - loss: 0.0045 - val_loss: 0.0058\n",
            "Epoch 74/125\n",
            "380/380 [==============================] - 1s 4ms/step - loss: 0.0047 - val_loss: 0.0041\n",
            "Epoch 75/125\n",
            "380/380 [==============================] - 1s 4ms/step - loss: 0.0046 - val_loss: 0.0039\n",
            "Epoch 76/125\n",
            "380/380 [==============================] - 1s 4ms/step - loss: 0.0044 - val_loss: 0.0040\n",
            "Epoch 77/125\n",
            "380/380 [==============================] - 1s 4ms/step - loss: 0.0040 - val_loss: 0.0040\n",
            "Epoch 78/125\n",
            "380/380 [==============================] - 1s 3ms/step - loss: 0.0041 - val_loss: 0.0037\n",
            "Epoch 79/125\n",
            "380/380 [==============================] - 1s 4ms/step - loss: 0.0039 - val_loss: 0.0033\n",
            "Epoch 80/125\n",
            "380/380 [==============================] - 1s 3ms/step - loss: 0.0038 - val_loss: 0.0043\n",
            "Epoch 81/125\n",
            "380/380 [==============================] - 1s 3ms/step - loss: 0.0038 - val_loss: 0.0029\n",
            "Epoch 82/125\n",
            "380/380 [==============================] - 1s 3ms/step - loss: 0.0035 - val_loss: 0.0029\n",
            "Epoch 83/125\n",
            "380/380 [==============================] - 1s 4ms/step - loss: 0.0037 - val_loss: 0.0027\n",
            "Epoch 84/125\n",
            "380/380 [==============================] - 1s 3ms/step - loss: 0.0034 - val_loss: 0.0034\n",
            "Epoch 85/125\n",
            "380/380 [==============================] - 1s 3ms/step - loss: 0.0034 - val_loss: 0.0025\n",
            "Epoch 86/125\n",
            "380/380 [==============================] - 1s 4ms/step - loss: 0.0035 - val_loss: 0.0020\n",
            "Epoch 87/125\n",
            "380/380 [==============================] - 1s 4ms/step - loss: 0.0032 - val_loss: 0.0026\n",
            "Epoch 88/125\n",
            "380/380 [==============================] - 1s 4ms/step - loss: 0.0033 - val_loss: 0.0031\n",
            "Epoch 89/125\n",
            "380/380 [==============================] - 1s 4ms/step - loss: 0.0032 - val_loss: 0.0025\n",
            "Epoch 90/125\n",
            "380/380 [==============================] - 1s 4ms/step - loss: 0.0033 - val_loss: 0.0023\n",
            "Epoch 91/125\n",
            "380/380 [==============================] - 1s 4ms/step - loss: 0.0030 - val_loss: 0.0029\n",
            "Epoch 92/125\n",
            "380/380 [==============================] - 1s 4ms/step - loss: 0.0030 - val_loss: 0.0016\n",
            "Epoch 93/125\n",
            "380/380 [==============================] - 1s 4ms/step - loss: 0.0028 - val_loss: 0.0023\n",
            "Epoch 94/125\n",
            "380/380 [==============================] - 1s 4ms/step - loss: 0.0028 - val_loss: 0.0022\n",
            "Epoch 95/125\n",
            "380/380 [==============================] - 1s 4ms/step - loss: 0.0028 - val_loss: 0.0023\n",
            "Epoch 96/125\n",
            "380/380 [==============================] - 1s 4ms/step - loss: 0.0027 - val_loss: 0.0019\n",
            "Epoch 97/125\n",
            "380/380 [==============================] - 1s 4ms/step - loss: 0.0027 - val_loss: 0.0020\n",
            "Epoch 98/125\n",
            "380/380 [==============================] - 1s 4ms/step - loss: 0.0026 - val_loss: 0.0020\n",
            "Epoch 99/125\n",
            "380/380 [==============================] - 1s 4ms/step - loss: 0.0027 - val_loss: 0.0020\n",
            "Epoch 100/125\n",
            "380/380 [==============================] - 1s 4ms/step - loss: 0.0026 - val_loss: 0.0022\n",
            "Epoch 101/125\n",
            "380/380 [==============================] - 1s 4ms/step - loss: 0.0025 - val_loss: 0.0015\n",
            "Epoch 102/125\n",
            "380/380 [==============================] - 1s 4ms/step - loss: 0.0023 - val_loss: 0.0018\n",
            "Epoch 103/125\n",
            "380/380 [==============================] - 1s 3ms/step - loss: 0.0025 - val_loss: 0.0014\n",
            "Epoch 104/125\n",
            "380/380 [==============================] - 1s 3ms/step - loss: 0.0024 - val_loss: 0.0016\n",
            "Epoch 105/125\n",
            "380/380 [==============================] - 1s 3ms/step - loss: 0.0025 - val_loss: 0.0015\n",
            "Epoch 106/125\n",
            "380/380 [==============================] - 1s 4ms/step - loss: 0.0025 - val_loss: 0.0017\n",
            "Epoch 107/125\n",
            "380/380 [==============================] - 1s 4ms/step - loss: 0.0025 - val_loss: 0.0017\n",
            "Epoch 108/125\n",
            "380/380 [==============================] - 1s 4ms/step - loss: 0.0024 - val_loss: 0.0017\n",
            "Epoch 109/125\n",
            "380/380 [==============================] - 1s 3ms/step - loss: 0.0023 - val_loss: 0.0019\n",
            "Epoch 110/125\n",
            "380/380 [==============================] - 1s 3ms/step - loss: 0.0023 - val_loss: 0.0018\n",
            "Epoch 111/125\n",
            "380/380 [==============================] - 1s 3ms/step - loss: 0.0021 - val_loss: 0.0015\n",
            "Epoch 112/125\n",
            "380/380 [==============================] - 1s 3ms/step - loss: 0.0021 - val_loss: 0.0015\n",
            "Epoch 113/125\n",
            "380/380 [==============================] - 1s 4ms/step - loss: 0.0022 - val_loss: 0.0012\n",
            "Epoch 114/125\n",
            "380/380 [==============================] - 1s 3ms/step - loss: 0.0021 - val_loss: 0.0016\n",
            "Epoch 115/125\n",
            "380/380 [==============================] - 1s 3ms/step - loss: 0.0022 - val_loss: 0.0019\n",
            "Epoch 116/125\n",
            "380/380 [==============================] - 1s 3ms/step - loss: 0.0021 - val_loss: 0.0017\n",
            "Epoch 117/125\n",
            "380/380 [==============================] - 1s 3ms/step - loss: 0.0020 - val_loss: 0.0015\n",
            "Epoch 118/125\n",
            "380/380 [==============================] - 1s 4ms/step - loss: 0.0019 - val_loss: 0.0016\n",
            "Epoch 119/125\n",
            "380/380 [==============================] - 1s 3ms/step - loss: 0.0020 - val_loss: 0.0012\n",
            "Epoch 120/125\n",
            "380/380 [==============================] - 1s 4ms/step - loss: 0.0019 - val_loss: 0.0012\n",
            "Epoch 121/125\n",
            "380/380 [==============================] - 1s 4ms/step - loss: 0.0020 - val_loss: 0.0013\n",
            "Epoch 122/125\n",
            "380/380 [==============================] - 1s 4ms/step - loss: 0.0020 - val_loss: 0.0019\n",
            "Epoch 123/125\n",
            "380/380 [==============================] - 1s 3ms/step - loss: 0.0019 - val_loss: 0.0014\n",
            "Epoch 124/125\n",
            "380/380 [==============================] - 1s 4ms/step - loss: 0.0020 - val_loss: 0.0014\n",
            "Epoch 125/125\n",
            "380/380 [==============================] - 1s 3ms/step - loss: 0.0019 - val_loss: 0.0015\n"
          ],
          "name": "stdout"
        },
        {
          "output_type": "display_data",
          "data": {
            "image/png": "[encoded data removed]",
            "text/plain": [
              "<Figure size 432x288 with 1 Axes>"
            ]
          },
          "metadata": {
            "tags": []
          }
        }
      ]
    },
    {
      "cell_type": "code",
      "metadata": {
        "id": "3R3VrgR8OG9_",
        "colab_type": "code",
        "colab": {
          "base_uri": "https://localhost:8080/",
          "height": 311
        },
        "outputId": "849c2a53-0b4f-45ab-c28c-b9e1d84cb9c6"
      },
      "source": [
        "original = pd.DataFrame(min_max_scaler.inverse_transform(y_test))\n",
        "predictions = pd.DataFrame(min_max_scaler.inverse_transform(model.predict(x_test)))\n",
        "\n",
        "ax = sns.lineplot(x=original.index, y=original[0], label=\"Test Data\", color='royalblue')\n",
        "ax = sns.lineplot(x=predictions.index, y=predictions[0], label=\"Prediction\", color='tomato')\n",
        "ax.set_title('Bitcoin price', size = 14, fontweight='bold')\n",
        "ax.set_xlabel(\"Days\", size = 14)\n",
        "ax.set_ylabel(\"Cost (USD)\", size = 14)\n",
        "ax.set_xticklabels('', size=10)"
      ],
      "execution_count": 53,
      "outputs": [
        {
          "output_type": "execute_result",
          "data": {
            "text/plain": [
              "[]"
            ]
          },
          "metadata": {
            "tags": []
          },
          "execution_count": 53
        },
        {
          "output_type": "display_data",
          "data": {
            "image/png": "[encoded data removed]",
            "text/plain": [
              "<Figure size 432x288 with 1 Axes>"
            ]
          },
          "metadata": {
            "tags": []
          }
        }
      ]
    },
    {
      "cell_type": "code",
      "metadata": {
        "id": "h-JDoXRAHMY1",
        "colab_type": "code",
        "colab": {
          "base_uri": "https://localhost:8080/",
          "height": 411
        },
        "outputId": "6e7bb2ed-f390-4d7a-9a0c-55913baefaec"
      },
      "source": [
        "original"
      ],
      "execution_count": 33,
      "outputs": [
        {
          "output_type": "execute_result",
          "data": {
            "text/html": [
              "<div>\n",
              "<style scoped>\n",
              "    .dataframe tbody tr th:only-of-type {\n",
              "        vertical-align: middle;\n",
              "    }\n",
              "\n",
              "    .dataframe tbody tr th {\n",
              "        vertical-align: top;\n",
              "    }\n",
              "\n",
              "    .dataframe thead th {\n",
              "        text-align: right;\n",
              "    }\n",
              "</style>\n",
              "<table border=\"1\" class=\"dataframe\">\n",
              "  <thead>\n",
              "    <tr style=\"text-align: right;\">\n",
              "      <th></th>\n",
              "      <th>0</th>\n",
              "    </tr>\n",
              "  </thead>\n",
              "  <tbody>\n",
              "    <tr>\n",
              "      <th>0</th>\n",
              "      <td>9959.749336</td>\n",
              "    </tr>\n",
              "    <tr>\n",
              "      <th>1</th>\n",
              "      <td>9964.714906</td>\n",
              "    </tr>\n",
              "    <tr>\n",
              "      <th>2</th>\n",
              "      <td>9992.841123</td>\n",
              "    </tr>\n",
              "    <tr>\n",
              "      <th>3</th>\n",
              "      <td>9995.283797</td>\n",
              "    </tr>\n",
              "    <tr>\n",
              "      <th>4</th>\n",
              "      <td>10001.210858</td>\n",
              "    </tr>\n",
              "    <tr>\n",
              "      <th>...</th>\n",
              "      <td>...</td>\n",
              "    </tr>\n",
              "    <tr>\n",
              "      <th>517</th>\n",
              "      <td>10834.944129</td>\n",
              "    </tr>\n",
              "    <tr>\n",
              "      <th>518</th>\n",
              "      <td>10835.621939</td>\n",
              "    </tr>\n",
              "    <tr>\n",
              "      <th>519</th>\n",
              "      <td>10863.021515</td>\n",
              "    </tr>\n",
              "    <tr>\n",
              "      <th>520</th>\n",
              "      <td>10916.322043</td>\n",
              "    </tr>\n",
              "    <tr>\n",
              "      <th>521</th>\n",
              "      <td>10843.385946</td>\n",
              "    </tr>\n",
              "  </tbody>\n",
              "</table>\n",
              "<p>522 rows × 1 columns</p>\n",
              "</div>"
            ],
            "text/plain": [
              "                0\n",
              "0     9959.749336\n",
              "1     9964.714906\n",
              "2     9992.841123\n",
              "3     9995.283797\n",
              "4    10001.210858\n",
              "..            ...\n",
              "517  10834.944129\n",
              "518  10835.621939\n",
              "519  10863.021515\n",
              "520  10916.322043\n",
              "521  10843.385946\n",
              "\n",
              "[522 rows x 1 columns]"
            ]
          },
          "metadata": {
            "tags": []
          },
          "execution_count": 33
        }
      ]
    },
    {
      "cell_type": "code",
      "metadata": {
        "id": "sl_XlT_pHOQa",
        "colab_type": "code",
        "colab": {
          "base_uri": "https://localhost:8080/",
          "height": 411
        },
        "outputId": "6adbda00-9c39-49c2-f91d-9c5fc6990254"
      },
      "source": [
        "predictions"
      ],
      "execution_count": 34,
      "outputs": [
        {
          "output_type": "execute_result",
          "data": {
            "text/html": [
              "<div>\n",
              "<style scoped>\n",
              "    .dataframe tbody tr th:only-of-type {\n",
              "        vertical-align: middle;\n",
              "    }\n",
              "\n",
              "    .dataframe tbody tr th {\n",
              "        vertical-align: top;\n",
              "    }\n",
              "\n",
              "    .dataframe thead th {\n",
              "        text-align: right;\n",
              "    }\n",
              "</style>\n",
              "<table border=\"1\" class=\"dataframe\">\n",
              "  <thead>\n",
              "    <tr style=\"text-align: right;\">\n",
              "      <th></th>\n",
              "      <th>0</th>\n",
              "    </tr>\n",
              "  </thead>\n",
              "  <tbody>\n",
              "    <tr>\n",
              "      <th>0</th>\n",
              "      <td>10080.611328</td>\n",
              "    </tr>\n",
              "    <tr>\n",
              "      <th>1</th>\n",
              "      <td>10079.685547</td>\n",
              "    </tr>\n",
              "    <tr>\n",
              "      <th>2</th>\n",
              "      <td>10078.906250</td>\n",
              "    </tr>\n",
              "    <tr>\n",
              "      <th>3</th>\n",
              "      <td>10079.104492</td>\n",
              "    </tr>\n",
              "    <tr>\n",
              "      <th>4</th>\n",
              "      <td>10080.387695</td>\n",
              "    </tr>\n",
              "    <tr>\n",
              "      <th>...</th>\n",
              "      <td>...</td>\n",
              "    </tr>\n",
              "    <tr>\n",
              "      <th>517</th>\n",
              "      <td>10607.080078</td>\n",
              "    </tr>\n",
              "    <tr>\n",
              "      <th>518</th>\n",
              "      <td>10652.973633</td>\n",
              "    </tr>\n",
              "    <tr>\n",
              "      <th>519</th>\n",
              "      <td>10679.882812</td>\n",
              "    </tr>\n",
              "    <tr>\n",
              "      <th>520</th>\n",
              "      <td>10707.743164</td>\n",
              "    </tr>\n",
              "    <tr>\n",
              "      <th>521</th>\n",
              "      <td>10724.911133</td>\n",
              "    </tr>\n",
              "  </tbody>\n",
              "</table>\n",
              "<p>522 rows × 1 columns</p>\n",
              "</div>"
            ],
            "text/plain": [
              "                0\n",
              "0    10080.611328\n",
              "1    10079.685547\n",
              "2    10078.906250\n",
              "3    10079.104492\n",
              "4    10080.387695\n",
              "..            ...\n",
              "517  10607.080078\n",
              "518  10652.973633\n",
              "519  10679.882812\n",
              "520  10707.743164\n",
              "521  10724.911133\n",
              "\n",
              "[522 rows x 1 columns]"
            ]
          },
          "metadata": {
            "tags": []
          },
          "execution_count": 34
        }
      ]
    },
    {
      "cell_type": "code",
      "metadata": {
        "id": "czj_koSD0rCf",
        "colab_type": "code",
        "colab": {
          "base_uri": "https://localhost:8080/",
          "height": 35
        },
        "outputId": "1abdbdcb-1f43-4738-f7ac-1b5f46f13ef3"
      },
      "source": [
        "len(x_test)"
      ],
      "execution_count": null,
      "outputs": [
        {
          "output_type": "execute_result",
          "data": {
            "text/plain": [
              "521"
            ]
          },
          "metadata": {
            "tags": []
          },
          "execution_count": 55
        }
      ]
    },
    {
      "cell_type": "code",
      "metadata": {
        "id": "MD3Ott5LtqaJ",
        "colab_type": "code",
        "colab": {}
      },
      "source": [
        "new_preds = pd.DataFrame(min_max_scaler.inverse_transform(model.predict(pred_test)))"
      ],
      "execution_count": 35,
      "outputs": []
    },
    {
      "cell_type": "code",
      "metadata": {
        "id": "nn1xfbzjuEcW",
        "colab_type": "code",
        "colab": {
          "base_uri": "https://localhost:8080/",
          "height": 170
        },
        "outputId": "129b99a2-1d0f-4f86-84ce-4780f0b34200"
      },
      "source": [
        "new_preds"
      ],
      "execution_count": 36,
      "outputs": [
        {
          "output_type": "execute_result",
          "data": {
            "text/html": [
              "<div>\n",
              "<style scoped>\n",
              "    .dataframe tbody tr th:only-of-type {\n",
              "        vertical-align: middle;\n",
              "    }\n",
              "\n",
              "    .dataframe tbody tr th {\n",
              "        vertical-align: top;\n",
              "    }\n",
              "\n",
              "    .dataframe thead th {\n",
              "        text-align: right;\n",
              "    }\n",
              "</style>\n",
              "<table border=\"1\" class=\"dataframe\">\n",
              "  <thead>\n",
              "    <tr style=\"text-align: right;\">\n",
              "      <th></th>\n",
              "      <th>0</th>\n",
              "    </tr>\n",
              "  </thead>\n",
              "  <tbody>\n",
              "    <tr>\n",
              "      <th>0</th>\n",
              "      <td>10246.458008</td>\n",
              "    </tr>\n",
              "    <tr>\n",
              "      <th>1</th>\n",
              "      <td>10460.385742</td>\n",
              "    </tr>\n",
              "    <tr>\n",
              "      <th>2</th>\n",
              "      <td>10684.315430</td>\n",
              "    </tr>\n",
              "    <tr>\n",
              "      <th>3</th>\n",
              "      <td>10833.903320</td>\n",
              "    </tr>\n",
              "  </tbody>\n",
              "</table>\n",
              "</div>"
            ],
            "text/plain": [
              "              0\n",
              "0  10246.458008\n",
              "1  10460.385742\n",
              "2  10684.315430\n",
              "3  10833.903320"
            ]
          },
          "metadata": {
            "tags": []
          },
          "execution_count": 36
        }
      ]
    },
    {
      "cell_type": "code",
      "metadata": {
        "id": "2HcLLHN5BjzB",
        "colab_type": "code",
        "colab": {}
      },
      "source": [
        ""
      ],
      "execution_count": null,
      "outputs": []
    }
  ]
}
